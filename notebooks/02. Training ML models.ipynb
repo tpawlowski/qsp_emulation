{
 "cells": [
  {
   "cell_type": "markdown",
   "metadata": {},
   "source": [
    "In this notebook we use the `./final/dataset.npz` dataset to train multiple ML models to create a surrogate models. The comparison between models will be presented in the next notebook.\n",
    "\n",
    "During training process dataset is split into train, test and validate sets of sizes `700000`, `150000` and `150000`.\n",
    "\n",
    "List of tested methods (with links to used implementations):\n",
    "1. [Neural Networks](https://scikit-learn.org/stable/modules/generated/sklearn.neural_network.MLPRegressor.html)\n",
    "2. Linear regression model:\n",
    "    1. [Elastic Net](https://scikit-learn.org/stable/modules/generated/sklearn.linear_model.ElasticNet.html#sklearn.linear_model.ElasticNet) L1 and L2 regularization combined\n",
    "3. Decistion Trees models:\n",
    "    1. [Boosting](https://scikit-learn.org/stable/modules/generated/sklearn.ensemble.HistGradientBoostingRegressor.html)\n",
    "    2. [Bagging](https://scikit-learn.org/stable/modules/generated/sklearn.ensemble.BaggingRegressor.html)\n",
    "    3. [Random Forrest](https://scikit-learn.org/stable/modules/generated/sklearn.ensemble.RandomForestRegressor.html)\n",
    "    4. [Extra Trees](https://scikit-learn.org/stable/modules/generated/sklearn.ensemble.ExtraTreesRegressor.html)\n",
    "4. [k-nearest neighbors](https://scikit-learn.org/stable/modules/generated/sklearn.neighbors.KNeighborsRegressor.html)\n",
    "\n",
    "For each ML method we use [Optuna](https://optuna.readthedocs.io) to find best performing set of parameters."
   ]
  },
  {
   "cell_type": "code",
   "execution_count": 2,
   "metadata": {},
   "outputs": [],
   "source": [
    "RUN_ITERATIONS_PERCENT = 100  # runs only X percent of iterations. pick small number to test if notebook is working fine\n",
    "LOWER_LIMIT = -7\n",
    "PCA_COMPONENTS = 12"
   ]
  },
  {
   "cell_type": "code",
   "execution_count": 3,
   "metadata": {
    "scrolled": true
   },
   "outputs": [
    {
     "name": "stdout",
     "output_type": "stream",
     "text": [
      "inputs shape: (1000000, 11) dtype: float64, outputs shape: (1000000, 200), dtype: float64\n"
     ]
    }
   ],
   "source": [
    "# Loading dataset\n",
    "import numpy as np\n",
    "import os\n",
    "from pathlib import Path\n",
    "\n",
    "Path(\"../final/ml_models\").mkdir(parents=True, exist_ok=True)\n",
    "Path(\"../final/pca\").mkdir(parents=True, exist_ok=True)\n",
    "\n",
    "input_and_output = np.load(\"../final/dataset.npz\")\n",
    "inputs  = input_and_output[\"inputs\"].astype(np.float64)\n",
    "outputs = input_and_output[\"outputs\"].astype(np.float64)\n",
    "\n",
    "print(f\"inputs shape: {inputs.shape} dtype: {inputs.dtype}, outputs shape: {outputs.shape}, dtype: {outputs.dtype}\")\n",
    "dataset_size = inputs.shape[0]"
   ]
  },
  {
   "cell_type": "code",
   "execution_count": 4,
   "metadata": {},
   "outputs": [
    {
     "name": "stdout",
     "output_type": "stream",
     "text": [
      "test output [1.e-08 1.e-05 1.e-10 1.e-09 1.e+00 2.e+00 1.e+01 0.e+00]\n",
      "transformed output: [-7.      -5.      -7.      -7.       0.       0.30103  1.      -7.     ]\n",
      "original output is untouched after transform: [1.e-08 1.e-05 1.e-10 1.e-09 1.e+00 2.e+00 1.e+01 0.e+00]\n",
      "transformed and untransformed output: [1.e-07 1.e-05 1.e-07 1.e-07 1.e+00 2.e+00 1.e+01 1.e-07]\n"
     ]
    }
   ],
   "source": [
    "# In this problem we are interrested in order of magnitude rather than absolute value of the tumour size.\n",
    "# To train the models output is first transformed with log_10. When the tumour size is smaller than 10^-7 L, \n",
    "# there is no way to find it, so we can limit the lower bound of tumour size with 10^-7\n",
    "\n",
    "def output_transform(outputs: np.array) -> np.array:\n",
    "    x = np.copy(outputs)\n",
    "    zeros_in_output = x <= 0\n",
    "    x[zeros_in_output] = 1\n",
    "    y = np.log10(x)\n",
    "    y[zeros_in_output] = LOWER_LIMIT\n",
    "    y[y < LOWER_LIMIT] = LOWER_LIMIT\n",
    "    return y\n",
    "    \n",
    "def output_untransform(transformed_outputs: np.array) -> np.array:\n",
    "    lower_limits = transformed_outputs < LOWER_LIMIT\n",
    "    z = 10 ** transformed_outputs\n",
    "    z[lower_limits] = 0\n",
    "    return z\n",
    "\n",
    "def apply_size_limit(outputs: np.array) -> np.array:\n",
    "    x = np.copy(outputs)\n",
    "    x[x < LOWER_LIMIT] = LOWER_LIMIT\n",
    "    return x\n",
    "\n",
    "def apply_absolute_size_limit(outputs: np.array) -> np.array:\n",
    "    limit = 10 ** LOWER_LIMIT\n",
    "    x = np.copy(outputs)\n",
    "    x[x < limit] = 0\n",
    "    return x\n",
    "\n",
    "test_output = np.array([10**(-8), 10**(-5), 10**(-10), 10**(-9),1,2,10,0.0])\n",
    "\n",
    "print(f\"test output {test_output}\")\n",
    "print(f\"transformed output: {output_transform(test_output)}\")\n",
    "print(f\"original output is untouched after transform: {test_output}\")\n",
    "print(f\"transformed and untransformed output: {output_untransform(output_transform(test_output))}\")\n",
    "\n",
    "outputs_order_of_magnitude = output_transform(outputs)"
   ]
  },
  {
   "cell_type": "code",
   "execution_count": 5,
   "metadata": {},
   "outputs": [],
   "source": [
    "# Input data has an extra column with all ones - that we get rid of before training the model\n",
    "\n",
    "def drop_treatment(input_data: np.ndarray) -> np.ndarray:\n",
    "    \"\"\"Drops treatment data from the dataset\"\"\"\n",
    "    if input_data.shape[1] == 11:\n",
    "        return input_data[:, 1:]\n",
    "\n",
    "    return input_data\n",
    "\n",
    "input_without_treatment = drop_treatment(inputs)"
   ]
  },
  {
   "cell_type": "code",
   "execution_count": 6,
   "metadata": {},
   "outputs": [
    {
     "name": "stdout",
     "output_type": "stream",
     "text": [
      "train sizes: (700000, 10), (700000, 200)\n",
      "test sizes: (150000, 10), (150000, 200)\n"
     ]
    }
   ],
   "source": [
    "# Splitting dataset into train, test, validate subsets\n",
    "train_size = int(dataset_size * 0.7)\n",
    "test_size = int(dataset_size * 0.15)\n",
    "\n",
    "X_train = input_without_treatment[:train_size, :]\n",
    "Y_train = outputs_order_of_magnitude[:train_size, :]\n",
    "Y_train_absolute = apply_absolute_size_limit(outputs[:train_size, :])\n",
    "print(f\"train sizes: {X_train.shape}, {Y_train.shape}\")\n",
    "X_test = input_without_treatment[train_size:(train_size + test_size), :]\n",
    "Y_test = outputs_order_of_magnitude[train_size:(train_size + test_size), :]\n",
    "Y_test_absolute = apply_absolute_size_limit(outputs[train_size:(train_size + test_size), :])\n",
    "print(f\"test sizes: {X_test.shape}, {Y_test.shape}\")"
   ]
  },
  {
   "cell_type": "code",
   "execution_count": 7,
   "metadata": {},
   "outputs": [],
   "source": [
    "# scaling inputs\n",
    "from sklearn.preprocessing import MinMaxScaler\n",
    "import pickle\n",
    "from pathlib import Path\n",
    "\n",
    "\n",
    "LOGNORMAL_PARAMETERS = (1, 2)\n",
    "\n",
    "class CustomScaler:\n",
    "    def __init__(self):\n",
    "        super().__init__()\n",
    "        self.scaler = MinMaxScaler()\n",
    "        self.plot_loval = [0.0] * len(LOGNORMAL_PARAMETERS)\n",
    "        self.plot_hival = [1.0] * len(LOGNORMAL_PARAMETERS)\n",
    "\n",
    "    def transform(self, x: np.ndarray, copy=None) -> np.ndarray:\n",
    "        res = self.scaler.transform(x)\n",
    "        for i, parameter_index in enumerate(LOGNORMAL_PARAMETERS):\n",
    "            res[:, parameter_index] = (x[:, parameter_index] - self.plot_loval[i]) / (self.plot_hival[i] - self.plot_loval[i])\n",
    "\n",
    "        return res\n",
    "\n",
    "    def fit(self, x, copy=None):\n",
    "        self.scaler.fit(x)\n",
    "        for i, parameter_index in enumerate(LOGNORMAL_PARAMETERS):\n",
    "            column_values = x[:, parameter_index]\n",
    "\n",
    "            quantile_1, quantile_3 = np.quantile(column_values, [0.25, 0.75], axis=0)\n",
    "            iqr = quantile_3 - quantile_1\n",
    "\n",
    "            loval = quantile_1 - 1.5 * iqr\n",
    "            hival = quantile_3 + 1.5 * iqr\n",
    "\n",
    "            wiskhi = np.compress(column_values <= hival, column_values)\n",
    "            wisklo = np.compress(column_values >= loval, column_values)\n",
    "            actual_hival = np.max(wiskhi)\n",
    "            actual_loval = np.min(wisklo)\n",
    "\n",
    "            self.plot_loval[i] = actual_loval\n",
    "            self.plot_hival[i] = actual_hival\n",
    "\n",
    "        return self\n",
    "\n",
    "    def inverse_transform(self, x, copy=None):\n",
    "        res = self.scaler.inverse_transform(x)\n",
    "        for i, parameter_index in enumerate(LOGNORMAL_PARAMETERS):\n",
    "            res[:, parameter_index] = x[:, parameter_index] * (self.plot_hival[i] - self.plot_loval[i]) + self.plot_loval[i]\n",
    "        return res\n",
    "\n",
    "scaler_path = Path(f\"../final/scaler.pickle\")\n",
    "scaler = None\n",
    "if scaler_path.exists():\n",
    "    with scaler_path.open(\"rb\") as scaler_file:\n",
    "        scaler = pickle.load(scaler_file)\n",
    "else:\n",
    "    scaler = CustomScaler().fit(X_train)\n",
    "    with scaler_path.open(\"wb\") as opened_file:\n",
    "        pickle.dump(scaler, opened_file)\n",
    "\n",
    "X_train_scaled = scaler.transform(X_train)\n",
    "X_test_scaled = scaler.transform(X_test)"
   ]
  },
  {
   "cell_type": "code",
   "execution_count": 8,
   "metadata": {},
   "outputs": [
    {
     "data": {
      "image/png": "[encoded data removed]",
      "text/plain": [
       "<Figure size 640x480 with 1 Axes>"
      ]
     },
     "metadata": {},
     "output_type": "display_data"
    },
    {
     "name": "stdout",
     "output_type": "stream",
     "text": [
      "[1.0, 0.03410384435084102, 0.003106897801798618, 0.000969674948484091, 0.0002765983052562249, 0.00011354673170349986, 5.709448516057331e-05, 3.185061047704866e-05, 1.8415046228805752e-05, 1.1742919633497516e-05, 7.759383996475301e-06, 5.323364604445493e-06, 3.734028192154632e-06]\n"
     ]
    }
   ],
   "source": [
    "# applying pca to outputs\n",
    "from sklearn.decomposition import PCA\n",
    "\n",
    "pca_path = Path(f\"../final/pca/{PCA_COMPONENTS}_{LOWER_LIMIT}.pickle\")\n",
    "\n",
    "if pca_path.exists():\n",
    "    with pca_path.open(\"rb\") as opened_file:\n",
    "        pca = pickle.load(opened_file)\n",
    "    Y_train_pca = pca.transform(Y_train)\n",
    "else: \n",
    "    pca = PCA(n_components=PCA_COMPONENTS)\n",
    "    Y_train_pca = pca.fit_transform(Y_train)\n",
    "    with pca_path.open(\"wb\") as opened_file:\n",
    "        pickle.dump(pca, opened_file)\n",
    "\n",
    "from functools import reduce\n",
    "unexplained_variance = list(reduce(lambda a, b: a + [a[-1] - b], pca.explained_variance_ratio_, [1.0]))\n",
    "\n",
    "from matplotlib import pyplot as plt\n",
    "plt.yscale('log')\n",
    "plt.grid()\n",
    "plt.plot(range(0, len(unexplained_variance)), unexplained_variance)\n",
    "plt.show()\n",
    "print(unexplained_variance)"
   ]
  },
  {
   "cell_type": "code",
   "execution_count": 9,
   "metadata": {},
   "outputs": [
    {
     "name": "stdout",
     "output_type": "stream",
     "text": [
      "1. no exception\n",
      "2. message: timeout (14, <frame at 0x125aa6820, file '/var/folders/jg/gsbj6mcn3ldd9z2krrny7lx80000gq/T/ipykernel_50764/692385139.py', line 35, code <module>>)\n"
     ]
    }
   ],
   "source": [
    "# Example of limitting running time of the loop by scheduling an sigalrm and setting a handler for it.\n",
    "\n",
    "import optuna\n",
    "import time\n",
    "from sklearn.metrics import mean_squared_error\n",
    "from sklearn.preprocessing import PolynomialFeatures\n",
    "from sklearn.pipeline import make_pipeline\n",
    "import psutil\n",
    "import os\n",
    "import signal\n",
    "\n",
    "class TimeoutError(Exception):\n",
    "    pass\n",
    "\n",
    "def timeout_handler(*args):\n",
    "    raise TimeoutError(f\"timeout {args}\")\n",
    "\n",
    "def keyboard_interrupt_handler(*args):\n",
    "    os.kill(os.getpid(), signal.SIGINT)\n",
    "    \n",
    "signal.signal(signal.SIGALRM, timeout_handler)\n",
    "\n",
    "try:\n",
    "    signal.alarm(2)\n",
    "    time.sleep(1)\n",
    "    signal.alarm(0)\n",
    "    print(f\"1. no exception\")\n",
    "except TimeoutError as e:\n",
    "    print(f\"1. message: {e}\") \n",
    "except KeyboardInterrupt as e:\n",
    "    print(f\"1. KEYBOARD: {e}\") \n",
    "\n",
    "try:\n",
    "    signal.alarm(2)\n",
    "    time.sleep(5)\n",
    "    signal.alarm(0)\n",
    "    print(f\"2. no exception\")\n",
    "except TimeoutError as e:\n",
    "    print(f\"2. message: {e}\")\n",
    "except KeyboardInterrupt as e:\n",
    "    print(f\"2. keyboard: {e}\") "
   ]
  },
  {
   "cell_type": "code",
   "execution_count": 17,
   "metadata": {},
   "outputs": [],
   "source": [
    "import time\n",
    "from sklearn.metrics import mean_squared_error\n",
    "from cpuinfo import get_cpu_info\n",
    "import json\n",
    "\n",
    "\n",
    "def save_best_model(model, trial, training_time):\n",
    "    global X_test_scaled, Y_test_absolute, Y_test, Y_train_absolute, X_train_scaled, Y_train, Y_train_absolute, pca, PCA_COMPONENTS, LOWER_LIMIT\n",
    "    try: \n",
    "        best_value = trial.study.best_value\n",
    "    except: \n",
    "        best_value = float('inf')\n",
    "    \n",
    "    start_time = time.time()\n",
    "    test_result_orders   = apply_size_limit(pca.inverse_transform(model.predict(X_test_scaled)))\n",
    "    test_evaluation_s = int(time.time() - start_time)\n",
    "    error_test_orders    = mean_squared_error(Y_test,          test_result_orders)\n",
    "    error = error_test_orders\n",
    "    \n",
    "    if error < best_value:\n",
    "        test_result_absolute = output_untransform(test_result_orders)\n",
    "        error_test_absolute  = mean_squared_error(Y_test_absolute, test_result_absolute)\n",
    "\n",
    "        start_time = time.time()\n",
    "        train_result_orders   = apply_size_limit(pca.inverse_transform(model.predict(X_train_scaled)))\n",
    "        train_evaluation_s = int(time.time() - start_time)\n",
    "        train_result_absolute = output_untransform(train_result_orders)\n",
    "        error_train_orders    = mean_squared_error(Y_train,          train_result_orders)\n",
    "        error_train_absolute  = mean_squared_error(Y_train_absolute, train_result_absolute)\n",
    "        \n",
    "        print(f\"Updating {trial.study.study_name}.pickle\")\n",
    "        with Path(f\"../final/ml_models/{trial.study.study_name}.pickle\").open(\"wb\") as opened_file:\n",
    "            pickle.dump(model, opened_file)\n",
    "        info_filename = f\"../final/ml_models/{trial.study.study_name}_metadata.json\"\n",
    "        with Path(info_filename).open('w') as opened_file:\n",
    "            info = json.dumps({\n",
    "                \"cpu_info\": {key: get_cpu_info()[key] for key in [\"arch\", \"bits\", \"brand_raw\", \"count\", \"l2_cache_size\"]},\n",
    "                \"pca_components\": PCA_COMPONENTS,\n",
    "                \"pca_unexplained_variance_ratio\": reduce(lambda a, b: a - b, pca.explained_variance_ratio_, 1.0),\n",
    "                \"tumour_lower_size_limit_l\": 10 ** LOWER_LIMIT,\n",
    "                \"tumour_lower_size_limit_log10_l\": LOWER_LIMIT,\n",
    "                \"model_params\": trial.user_attrs[\"model_params\"],\n",
    "                \"test_dataset\": \"[700000:850000] of ../final/dataset.npz\",\n",
    "                \"test_error_orders_of_magnitude\": error_test_orders,\n",
    "                \"test_error_absolute\": error_test_absolute,\n",
    "                \"train_dataset\": f\"[:700000] of ../final/dataset.npz\",\n",
    "                \"train_error_orders_of_magnitude\": error_train_orders,\n",
    "                \"train_error_absolute\": error_train_absolute,\n",
    "                \"training_time_s\": int(training_time),\n",
    "                \"train_evaluation_s\": train_evaluation_s,\n",
    "                \"test_evaluation_s\": test_evaluation_s\n",
    "            }, sort_keys=True, indent=4)\n",
    "            print(f\"saving info to file: {info_filename} {info}\")\n",
    "            opened_file.write(info)  \n",
    "    return error"
   ]
  },
  {
   "cell_type": "code",
   "execution_count": 10,
   "metadata": {},
   "outputs": [
    {
     "name": "stderr",
     "output_type": "stream",
     "text": [
      "\u001B[32m[I 2023-05-12 12:45:06,990]\u001B[0m A new study created in RDB with name: MLPRegressor\u001B[0m\n",
      "/Users/tpawlowski/Documents/qsp_emulation/venv/lib/python3.11/site-packages/sklearn/neural_network/_multilayer_perceptron.py:691: UserWarning: Training interrupted by user.\n",
      "  warnings.warn(\"Training interrupted by user.\")\n"
     ]
    },
    {
     "name": "stdout",
     "output_type": "stream",
     "text": [
      "Updating MLPRegressor.pickle\n"
     ]
    },
    {
     "name": "stderr",
     "output_type": "stream",
     "text": [
      "\u001B[32m[I 2023-05-12 13:05:50,898]\u001B[0m Trial 0 finished with value: 0.0008359497511514066 and parameters: {'alpha': 0.1376519897117858, 'learning_rate_init': 0.0005063065739222942, 'layer1/3': 800, 'layer2/3': 250, 'layer3/3': 20}. Best is trial 0 with value: 0.0008359497511514066.\u001B[0m\n"
     ]
    },
    {
     "name": "stdout",
     "output_type": "stream",
     "text": [
      "saving info to file: ../final/ml_models/MLPRegressor_metadata.json {\n",
      "    \"cpu_info\": {\n",
      "        \"arch\": \"X86_64\",\n",
      "        \"bits\": 64,\n",
      "        \"brand_raw\": \"Intel(R) Core(TM) i7-4980HQ CPU @ 2.80GHz\",\n",
      "        \"count\": 8,\n",
      "        \"l2_cache_size\": 262144\n",
      "    },\n",
      "    \"model_params\": {\n",
      "        \"alpha\": 0.1376519897117858,\n",
      "        \"batch_size\": 10000,\n",
      "        \"hidden_layer_sizes\": [\n",
      "            800,\n",
      "            250,\n",
      "            20\n",
      "        ],\n",
      "        \"learning_rate\": \"constant\",\n",
      "        \"learning_rate_init\": 0.0005063065739222942,\n",
      "        \"max_iter\": 1000,\n",
      "        \"n_iter_no_change\": 5,\n",
      "        \"random_state\": 42,\n",
      "        \"tol\": 3e-06,\n",
      "        \"warm_start\": false\n",
      "    },\n",
      "    \"pca_components\": 12,\n",
      "    \"pca_unexplained_variance_ratio\": 3.734028192154632e-06,\n",
      "    \"test_dataset\": \"[700000:850000] of ../final/dataset.npz\",\n",
      "    \"test_error_absolute\": 8.2623109175623e-08,\n",
      "    \"test_error_orders_of_magnitude\": 0.000841513030757973,\n",
      "    \"test_evaluation_s\": 2,\n",
      "    \"train_dataset\": \"[:700000] of ../final/dataset.npz\",\n",
      "    \"train_error_absolute\": 9.526751009607382e-08,\n",
      "    \"train_error_orders_of_magnitude\": 0.0008359497511514066,\n",
      "    \"train_evaluation_s\": 13,\n",
      "    \"training_time_s\": 1200,\n",
      "    \"tumour_lower_size_limit_l\": 1e-07,\n",
      "    \"tumour_lower_size_limit_log10_l\": -7\n",
      "}\n",
      "Updating MLPRegressor.pickle\n"
     ]
    },
    {
     "name": "stderr",
     "output_type": "stream",
     "text": [
      "\u001B[32m[I 2023-05-12 13:19:55,149]\u001B[0m Trial 1 finished with value: 0.0006222190227717262 and parameters: {'alpha': 0.002277703831970186, 'learning_rate_init': 0.020358694596904526, 'layer1/3': 1000, 'layer2/3': 350, 'layer3/3': 15}. Best is trial 1 with value: 0.0006222190227717262.\u001B[0m\n"
     ]
    },
    {
     "name": "stdout",
     "output_type": "stream",
     "text": [
      "saving info to file: ../final/ml_models/MLPRegressor_metadata.json {\n",
      "    \"cpu_info\": {\n",
      "        \"arch\": \"X86_64\",\n",
      "        \"bits\": 64,\n",
      "        \"brand_raw\": \"Intel(R) Core(TM) i7-4980HQ CPU @ 2.80GHz\",\n",
      "        \"count\": 8,\n",
      "        \"l2_cache_size\": 262144\n",
      "    },\n",
      "    \"model_params\": {\n",
      "        \"alpha\": 0.002277703831970186,\n",
      "        \"batch_size\": 10000,\n",
      "        \"hidden_layer_sizes\": [\n",
      "            1000,\n",
      "            350,\n",
      "            15\n",
      "        ],\n",
      "        \"learning_rate\": \"constant\",\n",
      "        \"learning_rate_init\": 0.020358694596904526,\n",
      "        \"max_iter\": 1000,\n",
      "        \"n_iter_no_change\": 5,\n",
      "        \"random_state\": 42,\n",
      "        \"tol\": 3e-06,\n",
      "        \"warm_start\": false\n",
      "    },\n",
      "    \"pca_components\": 12,\n",
      "    \"pca_unexplained_variance_ratio\": 3.734028192154632e-06,\n",
      "    \"test_dataset\": \"[700000:850000] of ../final/dataset.npz\",\n",
      "    \"test_error_absolute\": 6.692848573353866e-08,\n",
      "    \"test_error_orders_of_magnitude\": 0.0006285323391665227,\n",
      "    \"test_evaluation_s\": 2,\n",
      "    \"train_dataset\": \"[:700000] of ../final/dataset.npz\",\n",
      "    \"train_error_absolute\": 8.093757519056748e-08,\n",
      "    \"train_error_orders_of_magnitude\": 0.0006222190227717262,\n",
      "    \"train_evaluation_s\": 14,\n",
      "    \"training_time_s\": 797,\n",
      "    \"tumour_lower_size_limit_l\": 1e-07,\n",
      "    \"tumour_lower_size_limit_log10_l\": -7\n",
      "}\n"
     ]
    },
    {
     "name": "stderr",
     "output_type": "stream",
     "text": [
      "/Users/tpawlowski/Documents/qsp_emulation/venv/lib/python3.11/site-packages/sklearn/neural_network/_multilayer_perceptron.py:691: UserWarning: Training interrupted by user.\n",
      "  warnings.warn(\"Training interrupted by user.\")\n",
      "\u001B[32m[I 2023-05-12 13:40:11,749]\u001B[0m Trial 2 finished with value: 0.0017940493551197162 and parameters: {'alpha': 0.2528175813985304, 'learning_rate_init': 0.00041958212827314086, 'layer1/3': 1000, 'layer2/3': 500, 'layer3/3': 30}. Best is trial 1 with value: 0.0006222190227717262.\u001B[0m\n",
      "\u001B[32m[I 2023-05-12 13:47:42,927]\u001B[0m Trial 3 finished with value: 0.005353923834893775 and parameters: {'alpha': 0.2161155816968103, 'learning_rate_init': 0.03306961416835714, 'layer1/3': 1000, 'layer2/3': 300, 'layer3/3': 30}. Best is trial 1 with value: 0.0006222190227717262.\u001B[0m\n",
      "/Users/tpawlowski/Documents/qsp_emulation/venv/lib/python3.11/site-packages/sklearn/neural_network/_multilayer_perceptron.py:691: UserWarning: Training interrupted by user.\n",
      "  warnings.warn(\"Training interrupted by user.\")\n",
      "\u001B[32m[I 2023-05-12 14:07:53,960]\u001B[0m Trial 4 finished with value: 0.000703188545628121 and parameters: {'alpha': 0.5398697579072192, 'learning_rate_init': 0.0005246177273810501, 'layer1/3': 600, 'layer2/3': 350, 'layer3/3': 15}. Best is trial 1 with value: 0.0006222190227717262.\u001B[0m\n",
      "\u001B[32m[I 2023-05-12 14:16:43,510]\u001B[0m Trial 5 finished with value: 0.0006798226399827128 and parameters: {'alpha': 0.00015161710352290164, 'learning_rate_init': 0.007557134511683026, 'layer1/3': 600, 'layer2/3': 300, 'layer3/3': 10}. Best is trial 1 with value: 0.0006222190227717262.\u001B[0m\n",
      "\u001B[32m[I 2023-05-12 14:29:01,130]\u001B[0m Trial 6 finished with value: 0.0017352133817897582 and parameters: {'alpha': 0.06400963963489319, 'learning_rate_init': 0.0033873803884982567, 'layer1/3': 1000, 'layer2/3': 300, 'layer3/3': 25}. Best is trial 1 with value: 0.0006222190227717262.\u001B[0m\n"
     ]
    },
    {
     "name": "stdout",
     "output_type": "stream",
     "text": [
      "Updating MLPRegressor.pickle\n"
     ]
    },
    {
     "name": "stderr",
     "output_type": "stream",
     "text": [
      "\u001B[32m[I 2023-05-12 14:41:09,493]\u001B[0m Trial 7 finished with value: 0.00041684346051810544 and parameters: {'alpha': 0.0028475847425103993, 'learning_rate_init': 0.01211056983916587, 'layer1/3': 600, 'layer2/3': 500, 'layer3/3': 30}. Best is trial 7 with value: 0.00041684346051810544.\u001B[0m\n"
     ]
    },
    {
     "name": "stdout",
     "output_type": "stream",
     "text": [
      "saving info to file: ../final/ml_models/MLPRegressor_metadata.json {\n",
      "    \"cpu_info\": {\n",
      "        \"arch\": \"X86_64\",\n",
      "        \"bits\": 64,\n",
      "        \"brand_raw\": \"Intel(R) Core(TM) i7-4980HQ CPU @ 2.80GHz\",\n",
      "        \"count\": 8,\n",
      "        \"l2_cache_size\": 262144\n",
      "    },\n",
      "    \"model_params\": {\n",
      "        \"alpha\": 0.0028475847425103993,\n",
      "        \"batch_size\": 10000,\n",
      "        \"hidden_layer_sizes\": [\n",
      "            600,\n",
      "            500,\n",
      "            30\n",
      "        ],\n",
      "        \"learning_rate\": \"constant\",\n",
      "        \"learning_rate_init\": 0.01211056983916587,\n",
      "        \"max_iter\": 1000,\n",
      "        \"n_iter_no_change\": 5,\n",
      "        \"random_state\": 42,\n",
      "        \"tol\": 3e-06,\n",
      "        \"warm_start\": false\n",
      "    },\n",
      "    \"pca_components\": 12,\n",
      "    \"pca_unexplained_variance_ratio\": 3.734028192154632e-06,\n",
      "    \"test_dataset\": \"[700000:850000] of ../final/dataset.npz\",\n",
      "    \"test_error_absolute\": 8.917762550256553e-08,\n",
      "    \"test_error_orders_of_magnitude\": 0.0004286470566544347,\n",
      "    \"test_evaluation_s\": 2,\n",
      "    \"train_dataset\": \"[:700000] of ../final/dataset.npz\",\n",
      "    \"train_error_absolute\": 9.545445972286577e-08,\n",
      "    \"train_error_orders_of_magnitude\": 0.00041684346051810544,\n",
      "    \"train_evaluation_s\": 11,\n",
      "    \"training_time_s\": 688,\n",
      "    \"tumour_lower_size_limit_l\": 1e-07,\n",
      "    \"tumour_lower_size_limit_log10_l\": -7\n",
      "}\n"
     ]
    },
    {
     "name": "stderr",
     "output_type": "stream",
     "text": [
      "/Users/tpawlowski/Documents/qsp_emulation/venv/lib/python3.11/site-packages/sklearn/neural_network/_multilayer_perceptron.py:691: UserWarning: Training interrupted by user.\n",
      "  warnings.warn(\"Training interrupted by user.\")\n",
      "\u001B[32m[I 2023-05-12 15:01:18,795]\u001B[0m Trial 8 finished with value: 0.0013861904658972312 and parameters: {'alpha': 0.0014064320323262877, 'learning_rate_init': 0.00014664301032319693, 'layer1/3': 600, 'layer2/3': 200, 'layer3/3': 15}. Best is trial 7 with value: 0.00041684346051810544.\u001B[0m\n",
      "/Users/tpawlowski/Documents/qsp_emulation/venv/lib/python3.11/site-packages/sklearn/neural_network/_multilayer_perceptron.py:691: UserWarning: Training interrupted by user.\n",
      "  warnings.warn(\"Training interrupted by user.\")\n",
      "\u001B[32m[I 2023-05-12 15:21:31,504]\u001B[0m Trial 9 finished with value: 0.001201041615852048 and parameters: {'alpha': 0.0007003452814208196, 'learning_rate_init': 0.00030855985567603017, 'layer1/3': 1000, 'layer2/3': 250, 'layer3/3': 25}. Best is trial 7 with value: 0.00041684346051810544.\u001B[0m\n",
      "/Users/tpawlowski/Documents/qsp_emulation/venv/lib/python3.11/site-packages/sklearn/neural_network/_multilayer_perceptron.py:691: UserWarning: Training interrupted by user.\n",
      "  warnings.warn(\"Training interrupted by user.\")\n",
      "\u001B[32m[I 2023-05-12 15:41:46,268]\u001B[0m Trial 10 finished with value: 0.7109595892841674 and parameters: {'alpha': 0.01482399928358484, 'learning_rate_init': 0.0984133644118847, 'layer1/3': 800, 'layer2/3': 500, 'layer3/3': 25}. Best is trial 7 with value: 0.00041684346051810544.\u001B[0m\n",
      "\u001B[32m[I 2023-05-12 15:56:34,106]\u001B[0m Trial 11 finished with value: 0.0016273087163127975 and parameters: {'alpha': 0.004446150776585653, 'learning_rate_init': 0.012758943410074018, 'layer1/3': 800, 'layer2/3': 400, 'layer3/3': 15}. Best is trial 7 with value: 0.00041684346051810544.\u001B[0m\n",
      "\u001B[32m[I 2023-05-12 16:03:47,945]\u001B[0m Trial 12 finished with value: 0.0008322075841394852 and parameters: {'alpha': 0.010610381353616928, 'learning_rate_init': 0.01733538427937016, 'layer1/3': 600, 'layer2/3': 400, 'layer3/3': 20}. Best is trial 7 with value: 0.00041684346051810544.\u001B[0m\n",
      "/Users/tpawlowski/Documents/qsp_emulation/venv/lib/python3.11/site-packages/sklearn/neural_network/_multilayer_perceptron.py:691: UserWarning: Training interrupted by user.\n",
      "  warnings.warn(\"Training interrupted by user.\")\n"
     ]
    },
    {
     "name": "stdout",
     "output_type": "stream",
     "text": [
      "Updating MLPRegressor.pickle\n"
     ]
    },
    {
     "name": "stderr",
     "output_type": "stream",
     "text": [
      "\u001B[32m[I 2023-05-12 16:24:29,606]\u001B[0m Trial 13 finished with value: 0.0003981560458779711 and parameters: {'alpha': 0.0022565359986494254, 'learning_rate_init': 0.0026137859666033486, 'layer1/3': 800, 'layer2/3': 450, 'layer3/3': 10}. Best is trial 13 with value: 0.0003981560458779711.\u001B[0m\n"
     ]
    },
    {
     "name": "stdout",
     "output_type": "stream",
     "text": [
      "saving info to file: ../final/ml_models/MLPRegressor_metadata.json {\n",
      "    \"cpu_info\": {\n",
      "        \"arch\": \"X86_64\",\n",
      "        \"bits\": 64,\n",
      "        \"brand_raw\": \"Intel(R) Core(TM) i7-4980HQ CPU @ 2.80GHz\",\n",
      "        \"count\": 8,\n",
      "        \"l2_cache_size\": 262144\n",
      "    },\n",
      "    \"model_params\": {\n",
      "        \"alpha\": 0.0022565359986494254,\n",
      "        \"batch_size\": 10000,\n",
      "        \"hidden_layer_sizes\": [\n",
      "            800,\n",
      "            450,\n",
      "            10\n",
      "        ],\n",
      "        \"learning_rate\": \"constant\",\n",
      "        \"learning_rate_init\": 0.0026137859666033486,\n",
      "        \"max_iter\": 1000,\n",
      "        \"n_iter_no_change\": 5,\n",
      "        \"random_state\": 42,\n",
      "        \"tol\": 3e-06,\n",
      "        \"warm_start\": false\n",
      "    },\n",
      "    \"pca_components\": 12,\n",
      "    \"pca_unexplained_variance_ratio\": 3.734028192154632e-06,\n",
      "    \"test_dataset\": \"[700000:850000] of ../final/dataset.npz\",\n",
      "    \"test_error_absolute\": 4.9374995385397204e-08,\n",
      "    \"test_error_orders_of_magnitude\": 0.00040955619561074954,\n",
      "    \"test_evaluation_s\": 2,\n",
      "    \"train_dataset\": \"[:700000] of ../final/dataset.npz\",\n",
      "    \"train_error_absolute\": 5.82571574796993e-08,\n",
      "    \"train_error_orders_of_magnitude\": 0.0003981560458779711,\n",
      "    \"train_evaluation_s\": 12,\n",
      "    \"training_time_s\": 1200,\n",
      "    \"tumour_lower_size_limit_l\": 1e-07,\n",
      "    \"tumour_lower_size_limit_log10_l\": -7\n",
      "}\n"
     ]
    },
    {
     "name": "stderr",
     "output_type": "stream",
     "text": [
      "/Users/tpawlowski/Documents/qsp_emulation/venv/lib/python3.11/site-packages/sklearn/neural_network/_multilayer_perceptron.py:691: UserWarning: Training interrupted by user.\n",
      "  warnings.warn(\"Training interrupted by user.\")\n",
      "\u001B[32m[I 2023-05-12 16:44:43,448]\u001B[0m Trial 14 finished with value: 0.0005258371993019056 and parameters: {'alpha': 0.000520593847678171, 'learning_rate_init': 0.0017175126183259504, 'layer1/3': 800, 'layer2/3': 450, 'layer3/3': 10}. Best is trial 13 with value: 0.0003981560458779711.\u001B[0m\n",
      "\u001B[32m[I 2023-05-12 17:01:41,917]\u001B[0m Trial 15 finished with value: 0.00041616782506736 and parameters: {'alpha': 0.026320181628335243, 'learning_rate_init': 0.00312613981723405, 'layer1/3': 600, 'layer2/3': 450, 'layer3/3': 30}. Best is trial 13 with value: 0.0003981560458779711.\u001B[0m\n",
      "\u001B[32m[I 2023-05-12 17:15:34,320]\u001B[0m Trial 16 finished with value: 0.0006180551814547283 and parameters: {'alpha': 0.03056077414044872, 'learning_rate_init': 0.001842575815222663, 'layer1/3': 800, 'layer2/3': 450, 'layer3/3': 25}. Best is trial 13 with value: 0.0003981560458779711.\u001B[0m\n",
      "\u001B[32m[I 2023-05-12 17:29:53,191]\u001B[0m Trial 17 finished with value: 0.0023038187430344634 and parameters: {'alpha': 0.018573190083494225, 'learning_rate_init': 0.004161378716763034, 'layer1/3': 600, 'layer2/3': 450, 'layer3/3': 10}. Best is trial 13 with value: 0.0003981560458779711.\u001B[0m\n",
      "\u001B[32m[I 2023-05-12 17:48:44,304]\u001B[0m Trial 18 finished with value: 0.0006565572505665943 and parameters: {'alpha': 0.00748250160442381, 'learning_rate_init': 0.0014305274634478684, 'layer1/3': 800, 'layer2/3': 400, 'layer3/3': 20}. Best is trial 13 with value: 0.0003981560458779711.\u001B[0m\n",
      "\u001B[32m[I 2023-05-12 18:01:58,316]\u001B[0m Trial 19 finished with value: 0.0004772657347425028 and parameters: {'alpha': 0.04208081405539113, 'learning_rate_init': 0.0053182121337332884, 'layer1/3': 600, 'layer2/3': 450, 'layer3/3': 10}. Best is trial 13 with value: 0.0003981560458779711.\u001B[0m\n",
      "/Users/tpawlowski/Documents/qsp_emulation/venv/lib/python3.11/site-packages/sklearn/neural_network/_multilayer_perceptron.py:691: UserWarning: Training interrupted by user.\n",
      "  warnings.warn(\"Training interrupted by user.\")\n",
      "\u001B[32m[I 2023-05-12 18:22:11,740]\u001B[0m Trial 20 finished with value: 0.0018629001651800298 and parameters: {'alpha': 0.006034121696719361, 'learning_rate_init': 0.0010086267515877845, 'layer1/3': 800, 'layer2/3': 400, 'layer3/3': 30}. Best is trial 13 with value: 0.0003981560458779711.\u001B[0m\n",
      "\u001B[32m[I 2023-05-12 18:35:08,348]\u001B[0m Trial 21 finished with value: 0.0006618609979281024 and parameters: {'alpha': 0.003166557168720683, 'learning_rate_init': 0.0027005122325372086, 'layer1/3': 600, 'layer2/3': 500, 'layer3/3': 30}. Best is trial 13 with value: 0.0003981560458779711.\u001B[0m\n",
      "\u001B[32m[I 2023-05-12 18:41:00,594]\u001B[0m Trial 22 finished with value: 0.0012399602220241768 and parameters: {'alpha': 0.0014995248882322316, 'learning_rate_init': 0.01070771928961238, 'layer1/3': 600, 'layer2/3': 500, 'layer3/3': 30}. Best is trial 13 with value: 0.0003981560458779711.\u001B[0m\n",
      "\u001B[32m[I 2023-05-12 18:48:46,793]\u001B[0m Trial 23 finished with value: 0.0005394616963232482 and parameters: {'alpha': 0.005255653587966726, 'learning_rate_init': 0.005817034645194174, 'layer1/3': 600, 'layer2/3': 450, 'layer3/3': 25}. Best is trial 13 with value: 0.0003981560458779711.\u001B[0m\n",
      "\u001B[32m[I 2023-05-12 19:02:17,008]\u001B[0m Trial 24 finished with value: 0.0005754774937751447 and parameters: {'alpha': 0.016184417391061932, 'learning_rate_init': 0.0030311233572577136, 'layer1/3': 600, 'layer2/3': 500, 'layer3/3': 30}. Best is trial 13 with value: 0.0003981560458779711.\u001B[0m\n"
     ]
    },
    {
     "name": "stdout",
     "output_type": "stream",
     "text": [
      "Updating MLPRegressor.pickle\n"
     ]
    },
    {
     "name": "stderr",
     "output_type": "stream",
     "text": [
      "\u001B[32m[I 2023-05-12 19:12:05,475]\u001B[0m Trial 25 finished with value: 0.00038769427035646574 and parameters: {'alpha': 0.0026769899723754474, 'learning_rate_init': 0.00743883296612615, 'layer1/3': 600, 'layer2/3': 450, 'layer3/3': 25}. Best is trial 25 with value: 0.00038769427035646574.\u001B[0m\n"
     ]
    },
    {
     "name": "stdout",
     "output_type": "stream",
     "text": [
      "saving info to file: ../final/ml_models/MLPRegressor_metadata.json {\n",
      "    \"cpu_info\": {\n",
      "        \"arch\": \"X86_64\",\n",
      "        \"bits\": 64,\n",
      "        \"brand_raw\": \"Intel(R) Core(TM) i7-4980HQ CPU @ 2.80GHz\",\n",
      "        \"count\": 8,\n",
      "        \"l2_cache_size\": 262144\n",
      "    },\n",
      "    \"model_params\": {\n",
      "        \"alpha\": 0.0026769899723754474,\n",
      "        \"batch_size\": 10000,\n",
      "        \"hidden_layer_sizes\": [\n",
      "            600,\n",
      "            450,\n",
      "            25\n",
      "        ],\n",
      "        \"learning_rate\": \"constant\",\n",
      "        \"learning_rate_init\": 0.00743883296612615,\n",
      "        \"max_iter\": 1000,\n",
      "        \"n_iter_no_change\": 5,\n",
      "        \"random_state\": 42,\n",
      "        \"tol\": 3e-06,\n",
      "        \"warm_start\": false\n",
      "    },\n",
      "    \"pca_components\": 12,\n",
      "    \"pca_unexplained_variance_ratio\": 3.734028192154632e-06,\n",
      "    \"test_dataset\": \"[700000:850000] of ../final/dataset.npz\",\n",
      "    \"test_error_absolute\": 4.4354804349120286e-08,\n",
      "    \"test_error_orders_of_magnitude\": 0.00040117971509611073,\n",
      "    \"test_evaluation_s\": 2,\n",
      "    \"train_dataset\": \"[:700000] of ../final/dataset.npz\",\n",
      "    \"train_error_absolute\": 5.288777105082392e-08,\n",
      "    \"train_error_orders_of_magnitude\": 0.00038769427035646574,\n",
      "    \"train_evaluation_s\": 11,\n",
      "    \"training_time_s\": 550,\n",
      "    \"tumour_lower_size_limit_l\": 1e-07,\n",
      "    \"tumour_lower_size_limit_log10_l\": -7\n",
      "}\n"
     ]
    },
    {
     "name": "stderr",
     "output_type": "stream",
     "text": [
      "\u001B[32m[I 2023-05-12 19:22:37,848]\u001B[0m Trial 26 finished with value: 0.0011828275044458978 and parameters: {'alpha': 0.008041322508226898, 'learning_rate_init': 0.00737318992379914, 'layer1/3': 800, 'layer2/3': 400, 'layer3/3': 25}. Best is trial 25 with value: 0.00038769427035646574.\u001B[0m\n",
      "/Users/tpawlowski/Documents/qsp_emulation/venv/lib/python3.11/site-packages/sklearn/neural_network/_multilayer_perceptron.py:691: UserWarning: Training interrupted by user.\n",
      "  warnings.warn(\"Training interrupted by user.\")\n",
      "\u001B[32m[I 2023-05-12 19:42:50,240]\u001B[0m Trial 27 finished with value: 0.0021381081721606326 and parameters: {'alpha': 0.022514300032934163, 'learning_rate_init': 0.0010402676307290698, 'layer1/3': 600, 'layer2/3': 450, 'layer3/3': 20}. Best is trial 25 with value: 0.00038769427035646574.\u001B[0m\n"
     ]
    },
    {
     "name": "stdout",
     "output_type": "stream",
     "text": [
      "Updating MLPRegressor.pickle\n"
     ]
    },
    {
     "name": "stderr",
     "output_type": "stream",
     "text": [
      "\u001B[32m[I 2023-05-12 19:57:33,282]\u001B[0m Trial 28 finished with value: 0.00032407374371184105 and parameters: {'alpha': 0.05516912918533483, 'learning_rate_init': 0.002525665247383591, 'layer1/3': 800, 'layer2/3': 350, 'layer3/3': 25}. Best is trial 28 with value: 0.00032407374371184105.\u001B[0m\n"
     ]
    },
    {
     "name": "stdout",
     "output_type": "stream",
     "text": [
      "saving info to file: ../final/ml_models/MLPRegressor_metadata.json {\n",
      "    \"cpu_info\": {\n",
      "        \"arch\": \"X86_64\",\n",
      "        \"bits\": 64,\n",
      "        \"brand_raw\": \"Intel(R) Core(TM) i7-4980HQ CPU @ 2.80GHz\",\n",
      "        \"count\": 8,\n",
      "        \"l2_cache_size\": 262144\n",
      "    },\n",
      "    \"model_params\": {\n",
      "        \"alpha\": 0.05516912918533483,\n",
      "        \"batch_size\": 10000,\n",
      "        \"hidden_layer_sizes\": [\n",
      "            800,\n",
      "            350,\n",
      "            25\n",
      "        ],\n",
      "        \"learning_rate\": \"constant\",\n",
      "        \"learning_rate_init\": 0.002525665247383591,\n",
      "        \"max_iter\": 1000,\n",
      "        \"n_iter_no_change\": 5,\n",
      "        \"random_state\": 42,\n",
      "        \"tol\": 3e-06,\n",
      "        \"warm_start\": false\n",
      "    },\n",
      "    \"pca_components\": 12,\n",
      "    \"pca_unexplained_variance_ratio\": 3.734028192154632e-06,\n",
      "    \"test_dataset\": \"[700000:850000] of ../final/dataset.npz\",\n",
      "    \"test_error_absolute\": 3.9993338245405815e-08,\n",
      "    \"test_error_orders_of_magnitude\": 0.0003338552571607778,\n",
      "    \"test_evaluation_s\": 2,\n",
      "    \"train_dataset\": \"[:700000] of ../final/dataset.npz\",\n",
      "    \"train_error_absolute\": 3.973698932346297e-08,\n",
      "    \"train_error_orders_of_magnitude\": 0.00032407374371184105,\n",
      "    \"train_evaluation_s\": 11,\n",
      "    \"training_time_s\": 843,\n",
      "    \"tumour_lower_size_limit_l\": 1e-07,\n",
      "    \"tumour_lower_size_limit_log10_l\": -7\n",
      "}\n"
     ]
    },
    {
     "name": "stderr",
     "output_type": "stream",
     "text": [
      "\u001B[32m[I 2023-05-12 20:09:36,486]\u001B[0m Trial 29 finished with value: 0.0006298468996209759 and parameters: {'alpha': 0.04550635814716267, 'learning_rate_init': 0.002516931794810958, 'layer1/3': 800, 'layer2/3': 350, 'layer3/3': 20}. Best is trial 28 with value: 0.00032407374371184105.\u001B[0m\n"
     ]
    },
    {
     "name": "stdout",
     "output_type": "stream",
     "text": [
      "model: MLPRegressor test dataset error: 0.00032407374371184105 best_params: {'alpha': 0.05516912918533483, 'layer1/3': 800, 'layer2/3': 350, 'layer3/3': 25, 'learning_rate_init': 0.002525665247383591}\n"
     ]
    }
   ],
   "source": [
    "# Hyperparameter optimization for neural network\n",
    "\n",
    "from sklearn.neural_network import MLPRegressor\n",
    "from threadpoolctl import threadpool_limits\n",
    "\n",
    "common_params={\n",
    "    \"tol\": 3e-6,\n",
    "    \"n_iter_no_change\": 5,\n",
    "    \"random_state\": 42,\n",
    "    \"warm_start\": False,\n",
    "    \"batch_size\": 10000,\n",
    "    \"max_iter\": 1000,\n",
    "    \"learning_rate\": \"constant\"\n",
    "}\n",
    "\n",
    "def objective(trial):\n",
    "    global common_params\n",
    "    \n",
    "    model_params = {\n",
    "        **common_params,\n",
    "        \"alpha\": trial.suggest_float(\"alpha\", 0.0001, 1.0, log=True),\n",
    "        \"learning_rate_init\": trial.suggest_float(\"learning_rate_init\", 0.0001, 0.1, log=True),\n",
    "        \"hidden_layer_sizes\": [\n",
    "            trial.suggest_int(f\"layer1/3\", 600, 1000, step=200),\n",
    "            trial.suggest_int(f\"layer2/3\", 200, 500, step=50),\n",
    "            trial.suggest_int(f\"layer3/3\", 10, 30, step=5),\n",
    "        ]\n",
    "    }\n",
    "    trial.set_user_attr(\"model_params\", model_params)\n",
    "    model = MLPRegressor(**trial.user_attrs[\"model_params\"])\n",
    "    \n",
    "    try:\n",
    "        start_time = time.time()\n",
    "        signal.alarm(1200)\n",
    "        with threadpool_limits(limits=8, user_api='blas'):\n",
    "            model.fit(X_train_scaled, Y_train_pca)\n",
    "            signal.alarm(0)\n",
    "            error = save_best_model(model, trial, time.time() - start_time) \n",
    "    except TimeoutError:\n",
    "        raise optuna.exceptions.TrialPruned()\n",
    "    return error\n",
    "\n",
    "study = optuna.create_study(study_name=\"MLPRegressor\", storage='sqlite:///../final/optuna.db', load_if_exists=True)\n",
    "trials_due = 30 * RUN_ITERATIONS_PERCENT // 100 - len(study.trials)\n",
    "if trials_due > 0:\n",
    "    previous_handler = signal.signal(signal.SIGALRM, keyboard_interrupt_handler)\n",
    "    study.optimize(objective, n_trials=trials_due)\n",
    "    signal.signal(signal.SIGALRM, previous_handler)\n",
    "    \n",
    "print(f\"model: {study.study_name} test dataset error: {study.best_value} best_params: {study.best_params}\")"
   ]
  },
  {
   "cell_type": "code",
   "execution_count": 11,
   "metadata": {},
   "outputs": [
    {
     "name": "stderr",
     "output_type": "stream",
     "text": [
      "\u001B[32m[I 2023-05-12 20:09:36,573]\u001B[0m A new study created in RDB with name: ElasticNet_Poly1\u001B[0m\n"
     ]
    },
    {
     "name": "stdout",
     "output_type": "stream",
     "text": [
      "Updating ElasticNet_Poly1.pickle\n"
     ]
    },
    {
     "name": "stderr",
     "output_type": "stream",
     "text": [
      "\u001B[32m[I 2023-05-12 20:09:56,389]\u001B[0m Trial 0 finished with value: 0.2510663649371343 and parameters: {'l1_ratio': 0.672831054372039, 'alpha': 0.01196468454618732, 'fit_intercept': False}. Best is trial 0 with value: 0.2510663649371343.\u001B[0m\n"
     ]
    },
    {
     "name": "stdout",
     "output_type": "stream",
     "text": [
      "saving info to file: ../final/ml_models/ElasticNet_Poly1_metadata.json {\n",
      "    \"cpu_info\": {\n",
      "        \"arch\": \"X86_64\",\n",
      "        \"bits\": 64,\n",
      "        \"brand_raw\": \"Intel(R) Core(TM) i7-4980HQ CPU @ 2.80GHz\",\n",
      "        \"count\": 8,\n",
      "        \"l2_cache_size\": 262144\n",
      "    },\n",
      "    \"model_params\": {\n",
      "        \"alpha\": 0.01196468454618732,\n",
      "        \"fit_intercept\": false,\n",
      "        \"l1_ratio\": 0.672831054372039,\n",
      "        \"max_iter\": 100000,\n",
      "        \"random_state\": 42,\n",
      "        \"tol\": 1e-05\n",
      "    },\n",
      "    \"pca_components\": 12,\n",
      "    \"pca_unexplained_variance_ratio\": 3.734028192154632e-06,\n",
      "    \"test_dataset\": \"[700000:850000] of ../final/dataset.npz\",\n",
      "    \"test_error_absolute\": 0.0009326219632040749,\n",
      "    \"test_error_orders_of_magnitude\": 0.2520514915014436,\n",
      "    \"test_evaluation_s\": 0,\n",
      "    \"train_dataset\": \"[:700000] of ../final/dataset.npz\",\n",
      "    \"train_error_absolute\": 0.0011595735214815278,\n",
      "    \"train_error_orders_of_magnitude\": 0.2510663649371343,\n",
      "    \"train_evaluation_s\": 2,\n",
      "    \"training_time_s\": 1,\n",
      "    \"tumour_lower_size_limit_l\": 1e-07,\n",
      "    \"tumour_lower_size_limit_log10_l\": -7\n",
      "}\n",
      "Updating ElasticNet_Poly1.pickle\n"
     ]
    },
    {
     "name": "stderr",
     "output_type": "stream",
     "text": [
      "\u001B[32m[I 2023-05-12 20:10:15,927]\u001B[0m Trial 1 finished with value: 0.24983390200112154 and parameters: {'l1_ratio': 0.8527481736946612, 'alpha': 0.007740944325237095, 'fit_intercept': False}. Best is trial 1 with value: 0.24983390200112154.\u001B[0m\n"
     ]
    },
    {
     "name": "stdout",
     "output_type": "stream",
     "text": [
      "saving info to file: ../final/ml_models/ElasticNet_Poly1_metadata.json {\n",
      "    \"cpu_info\": {\n",
      "        \"arch\": \"X86_64\",\n",
      "        \"bits\": 64,\n",
      "        \"brand_raw\": \"Intel(R) Core(TM) i7-4980HQ CPU @ 2.80GHz\",\n",
      "        \"count\": 8,\n",
      "        \"l2_cache_size\": 262144\n",
      "    },\n",
      "    \"model_params\": {\n",
      "        \"alpha\": 0.007740944325237095,\n",
      "        \"fit_intercept\": false,\n",
      "        \"l1_ratio\": 0.8527481736946612,\n",
      "        \"max_iter\": 100000,\n",
      "        \"random_state\": 42,\n",
      "        \"tol\": 1e-05\n",
      "    },\n",
      "    \"pca_components\": 12,\n",
      "    \"pca_unexplained_variance_ratio\": 3.734028192154632e-06,\n",
      "    \"test_dataset\": \"[700000:850000] of ../final/dataset.npz\",\n",
      "    \"test_error_absolute\": 0.0017400910623402257,\n",
      "    \"test_error_orders_of_magnitude\": 0.2506458343615924,\n",
      "    \"test_evaluation_s\": 0,\n",
      "    \"train_dataset\": \"[:700000] of ../final/dataset.npz\",\n",
      "    \"train_error_absolute\": 0.0023268624783419145,\n",
      "    \"train_error_orders_of_magnitude\": 0.24983390200112154,\n",
      "    \"train_evaluation_s\": 2,\n",
      "    \"training_time_s\": 1,\n",
      "    \"tumour_lower_size_limit_l\": 1e-07,\n",
      "    \"tumour_lower_size_limit_log10_l\": -7\n",
      "}\n"
     ]
    },
    {
     "name": "stderr",
     "output_type": "stream",
     "text": [
      "\u001B[32m[I 2023-05-12 20:10:19,679]\u001B[0m Trial 2 finished with value: 0.2502107849949578 and parameters: {'l1_ratio': 0.4891721470808793, 'alpha': 0.005816890438522497, 'fit_intercept': True}. Best is trial 1 with value: 0.24983390200112154.\u001B[0m\n"
     ]
    },
    {
     "name": "stdout",
     "output_type": "stream",
     "text": [
      "Updating ElasticNet_Poly1.pickle\n"
     ]
    },
    {
     "name": "stderr",
     "output_type": "stream",
     "text": [
      "\u001B[32m[I 2023-05-12 20:10:43,971]\u001B[0m Trial 3 finished with value: 0.24954564235863672 and parameters: {'l1_ratio': 0.3032445311762264, 'alpha': 0.00020042089818696893, 'fit_intercept': False}. Best is trial 3 with value: 0.24954564235863672.\u001B[0m\n"
     ]
    },
    {
     "name": "stdout",
     "output_type": "stream",
     "text": [
      "saving info to file: ../final/ml_models/ElasticNet_Poly1_metadata.json {\n",
      "    \"cpu_info\": {\n",
      "        \"arch\": \"X86_64\",\n",
      "        \"bits\": 64,\n",
      "        \"brand_raw\": \"Intel(R) Core(TM) i7-4980HQ CPU @ 2.80GHz\",\n",
      "        \"count\": 8,\n",
      "        \"l2_cache_size\": 262144\n",
      "    },\n",
      "    \"model_params\": {\n",
      "        \"alpha\": 0.00020042089818696893,\n",
      "        \"fit_intercept\": false,\n",
      "        \"l1_ratio\": 0.3032445311762264,\n",
      "        \"max_iter\": 100000,\n",
      "        \"random_state\": 42,\n",
      "        \"tol\": 1e-05\n",
      "    },\n",
      "    \"pca_components\": 12,\n",
      "    \"pca_unexplained_variance_ratio\": 3.734028192154632e-06,\n",
      "    \"test_dataset\": \"[700000:850000] of ../final/dataset.npz\",\n",
      "    \"test_error_absolute\": 0.0036320796623413986,\n",
      "    \"test_error_orders_of_magnitude\": 0.25026444222835303,\n",
      "    \"test_evaluation_s\": 0,\n",
      "    \"train_dataset\": \"[:700000] of ../final/dataset.npz\",\n",
      "    \"train_error_absolute\": 0.004571247150632227,\n",
      "    \"train_error_orders_of_magnitude\": 0.24954564235863672,\n",
      "    \"train_evaluation_s\": 2,\n",
      "    \"training_time_s\": 6,\n",
      "    \"tumour_lower_size_limit_l\": 1e-07,\n",
      "    \"tumour_lower_size_limit_log10_l\": -7\n",
      "}\n"
     ]
    },
    {
     "name": "stderr",
     "output_type": "stream",
     "text": [
      "\u001B[32m[I 2023-05-12 20:10:47,862]\u001B[0m Trial 4 finished with value: 0.2551954502628386 and parameters: {'l1_ratio': 0.08473037460208843, 'alpha': 0.011080060401432733, 'fit_intercept': True}. Best is trial 3 with value: 0.24954564235863672.\u001B[0m\n",
      "\u001B[32m[I 2023-05-12 20:10:51,672]\u001B[0m Trial 5 finished with value: 0.2932937693780644 and parameters: {'l1_ratio': 0.07031261857552507, 'alpha': 0.03900684184977352, 'fit_intercept': True}. Best is trial 3 with value: 0.24954564235863672.\u001B[0m\n",
      "\u001B[32m[I 2023-05-12 20:10:57,181]\u001B[0m Trial 6 finished with value: 0.24964755292155427 and parameters: {'l1_ratio': 0.843438978475623, 'alpha': 0.0041743402283102565, 'fit_intercept': False}. Best is trial 3 with value: 0.24954564235863672.\u001B[0m\n",
      "\u001B[32m[I 2023-05-12 20:11:01,744]\u001B[0m Trial 7 finished with value: 0.2583434403817026 and parameters: {'l1_ratio': 0.5524554380280648, 'alpha': 0.025128768266024854, 'fit_intercept': False}. Best is trial 3 with value: 0.24954564235863672.\u001B[0m\n",
      "\u001B[32m[I 2023-05-12 20:11:05,387]\u001B[0m Trial 8 finished with value: 0.5352353439815964 and parameters: {'l1_ratio': 0.9935195328136809, 'alpha': 0.980584884571388, 'fit_intercept': False}. Best is trial 3 with value: 0.24954564235863672.\u001B[0m\n",
      "\u001B[32m[I 2023-05-12 20:11:11,895]\u001B[0m Trial 9 finished with value: 0.2500791962638153 and parameters: {'l1_ratio': 0.3081903638348503, 'alpha': 0.003817184896913753, 'fit_intercept': False}. Best is trial 3 with value: 0.24954564235863672.\u001B[0m\n"
     ]
    },
    {
     "name": "stdout",
     "output_type": "stream",
     "text": [
      "Updating ElasticNet_Poly1.pickle\n"
     ]
    },
    {
     "name": "stderr",
     "output_type": "stream",
     "text": [
      "\u001B[32m[I 2023-05-12 20:11:31,101]\u001B[0m Trial 10 finished with value: 0.24954404296966926 and parameters: {'l1_ratio': 0.2689132269811898, 'alpha': 2.8922001059202935e-05, 'fit_intercept': True}. Best is trial 10 with value: 0.24954404296966926.\u001B[0m\n"
     ]
    },
    {
     "name": "stdout",
     "output_type": "stream",
     "text": [
      "saving info to file: ../final/ml_models/ElasticNet_Poly1_metadata.json {\n",
      "    \"cpu_info\": {\n",
      "        \"arch\": \"X86_64\",\n",
      "        \"bits\": 64,\n",
      "        \"brand_raw\": \"Intel(R) Core(TM) i7-4980HQ CPU @ 2.80GHz\",\n",
      "        \"count\": 8,\n",
      "        \"l2_cache_size\": 262144\n",
      "    },\n",
      "    \"model_params\": {\n",
      "        \"alpha\": 2.8922001059202935e-05,\n",
      "        \"fit_intercept\": true,\n",
      "        \"l1_ratio\": 0.2689132269811898,\n",
      "        \"max_iter\": 100000,\n",
      "        \"random_state\": 42,\n",
      "        \"tol\": 1e-05\n",
      "    },\n",
      "    \"pca_components\": 12,\n",
      "    \"pca_unexplained_variance_ratio\": 3.734028192154632e-06,\n",
      "    \"test_dataset\": \"[700000:850000] of ../final/dataset.npz\",\n",
      "    \"test_error_absolute\": 0.0037533347843856564,\n",
      "    \"test_error_orders_of_magnitude\": 0.2502547086044169,\n",
      "    \"test_evaluation_s\": 0,\n",
      "    \"train_dataset\": \"[:700000] of ../final/dataset.npz\",\n",
      "    \"train_error_absolute\": 0.004735414900703213,\n",
      "    \"train_error_orders_of_magnitude\": 0.24954404296966926,\n",
      "    \"train_evaluation_s\": 2,\n",
      "    \"training_time_s\": 0,\n",
      "    \"tumour_lower_size_limit_l\": 1e-07,\n",
      "    \"tumour_lower_size_limit_log10_l\": -7\n",
      "}\n",
      "Updating ElasticNet_Poly1.pickle\n"
     ]
    },
    {
     "name": "stderr",
     "output_type": "stream",
     "text": [
      "\u001B[32m[I 2023-05-12 20:11:50,539]\u001B[0m Trial 11 finished with value: 0.24954403839310654 and parameters: {'l1_ratio': 0.3035212613231938, 'alpha': 2.7948051785862715e-05, 'fit_intercept': True}. Best is trial 11 with value: 0.24954403839310654.\u001B[0m\n"
     ]
    },
    {
     "name": "stdout",
     "output_type": "stream",
     "text": [
      "saving info to file: ../final/ml_models/ElasticNet_Poly1_metadata.json {\n",
      "    \"cpu_info\": {\n",
      "        \"arch\": \"X86_64\",\n",
      "        \"bits\": 64,\n",
      "        \"brand_raw\": \"Intel(R) Core(TM) i7-4980HQ CPU @ 2.80GHz\",\n",
      "        \"count\": 8,\n",
      "        \"l2_cache_size\": 262144\n",
      "    },\n",
      "    \"model_params\": {\n",
      "        \"alpha\": 2.7948051785862715e-05,\n",
      "        \"fit_intercept\": true,\n",
      "        \"l1_ratio\": 0.3035212613231938,\n",
      "        \"max_iter\": 100000,\n",
      "        \"random_state\": 42,\n",
      "        \"tol\": 1e-05\n",
      "    },\n",
      "    \"pca_components\": 12,\n",
      "    \"pca_unexplained_variance_ratio\": 3.734028192154632e-06,\n",
      "    \"test_dataset\": \"[700000:850000] of ../final/dataset.npz\",\n",
      "    \"test_error_absolute\": 0.003754216239898913,\n",
      "    \"test_error_orders_of_magnitude\": 0.2502546056506929,\n",
      "    \"test_evaluation_s\": 0,\n",
      "    \"train_dataset\": \"[:700000] of ../final/dataset.npz\",\n",
      "    \"train_error_absolute\": 0.0047368971590221725,\n",
      "    \"train_error_orders_of_magnitude\": 0.24954403839310654,\n",
      "    \"train_evaluation_s\": 2,\n",
      "    \"training_time_s\": 0,\n",
      "    \"tumour_lower_size_limit_l\": 1e-07,\n",
      "    \"tumour_lower_size_limit_log10_l\": -7\n",
      "}\n",
      "Updating ElasticNet_Poly1.pickle\n"
     ]
    },
    {
     "name": "stderr",
     "output_type": "stream",
     "text": [
      "\u001B[32m[I 2023-05-12 20:12:09,387]\u001B[0m Trial 12 finished with value: 0.24954401659151734 and parameters: {'l1_ratio': 0.24988745230172993, 'alpha': 1.2433211707167572e-05, 'fit_intercept': True}. Best is trial 12 with value: 0.24954401659151734.\u001B[0m\n"
     ]
    },
    {
     "name": "stdout",
     "output_type": "stream",
     "text": [
      "saving info to file: ../final/ml_models/ElasticNet_Poly1_metadata.json {\n",
      "    \"cpu_info\": {\n",
      "        \"arch\": \"X86_64\",\n",
      "        \"bits\": 64,\n",
      "        \"brand_raw\": \"Intel(R) Core(TM) i7-4980HQ CPU @ 2.80GHz\",\n",
      "        \"count\": 8,\n",
      "        \"l2_cache_size\": 262144\n",
      "    },\n",
      "    \"model_params\": {\n",
      "        \"alpha\": 1.2433211707167572e-05,\n",
      "        \"fit_intercept\": true,\n",
      "        \"l1_ratio\": 0.24988745230172993,\n",
      "        \"max_iter\": 100000,\n",
      "        \"random_state\": 42,\n",
      "        \"tol\": 1e-05\n",
      "    },\n",
      "    \"pca_components\": 12,\n",
      "    \"pca_unexplained_variance_ratio\": 3.734028192154632e-06,\n",
      "    \"test_dataset\": \"[700000:850000] of ../final/dataset.npz\",\n",
      "    \"test_error_absolute\": 0.003762871496298687,\n",
      "    \"test_error_orders_of_magnitude\": 0.25025395152485225,\n",
      "    \"test_evaluation_s\": 0,\n",
      "    \"train_dataset\": \"[:700000] of ../final/dataset.npz\",\n",
      "    \"train_error_absolute\": 0.0047495300246354535,\n",
      "    \"train_error_orders_of_magnitude\": 0.24954401659151734,\n",
      "    \"train_evaluation_s\": 2,\n",
      "    \"training_time_s\": 0,\n",
      "    \"tumour_lower_size_limit_l\": 1e-07,\n",
      "    \"tumour_lower_size_limit_log10_l\": -7\n",
      "}\n"
     ]
    },
    {
     "name": "stderr",
     "output_type": "stream",
     "text": [
      "\u001B[32m[I 2023-05-12 20:12:13,198]\u001B[0m Trial 13 finished with value: 0.2495440181040191 and parameters: {'l1_ratio': 0.1830303239542822, 'alpha': 1.2848444065005031e-05, 'fit_intercept': True}. Best is trial 12 with value: 0.24954401659151734.\u001B[0m\n",
      "\u001B[32m[I 2023-05-12 20:12:16,849]\u001B[0m Trial 14 finished with value: 0.2495440192904735 and parameters: {'l1_ratio': 0.01946294291457018, 'alpha': 1.1694980859008937e-05, 'fit_intercept': True}. Best is trial 12 with value: 0.24954401659151734.\u001B[0m\n",
      "\u001B[32m[I 2023-05-12 20:12:20,553]\u001B[0m Trial 15 finished with value: 0.24954577733249672 and parameters: {'l1_ratio': 0.17432171797888035, 'alpha': 0.00019160257257650368, 'fit_intercept': True}. Best is trial 12 with value: 0.24954401659151734.\u001B[0m\n",
      "\u001B[32m[I 2023-05-12 20:12:24,240]\u001B[0m Trial 16 finished with value: 0.24954583571302685 and parameters: {'l1_ratio': 0.17203638583792366, 'alpha': 0.00019427090337870555, 'fit_intercept': True}. Best is trial 12 with value: 0.24954401659151734.\u001B[0m\n"
     ]
    },
    {
     "name": "stdout",
     "output_type": "stream",
     "text": [
      "Updating ElasticNet_Poly1.pickle\n"
     ]
    },
    {
     "name": "stderr",
     "output_type": "stream",
     "text": [
      "\u001B[32m[I 2023-05-12 20:12:43,210]\u001B[0m Trial 17 finished with value: 0.24954401316434374 and parameters: {'l1_ratio': 0.44939324107245593, 'alpha': 1.0814862040099424e-05, 'fit_intercept': True}. Best is trial 17 with value: 0.24954401316434374.\u001B[0m\n"
     ]
    },
    {
     "name": "stdout",
     "output_type": "stream",
     "text": [
      "saving info to file: ../final/ml_models/ElasticNet_Poly1_metadata.json {\n",
      "    \"cpu_info\": {\n",
      "        \"arch\": \"X86_64\",\n",
      "        \"bits\": 64,\n",
      "        \"brand_raw\": \"Intel(R) Core(TM) i7-4980HQ CPU @ 2.80GHz\",\n",
      "        \"count\": 8,\n",
      "        \"l2_cache_size\": 262144\n",
      "    },\n",
      "    \"model_params\": {\n",
      "        \"alpha\": 1.0814862040099424e-05,\n",
      "        \"fit_intercept\": true,\n",
      "        \"l1_ratio\": 0.44939324107245593,\n",
      "        \"max_iter\": 100000,\n",
      "        \"random_state\": 42,\n",
      "        \"tol\": 1e-05\n",
      "    },\n",
      "    \"pca_components\": 12,\n",
      "    \"pca_unexplained_variance_ratio\": 3.734028192154632e-06,\n",
      "    \"test_dataset\": \"[700000:850000] of ../final/dataset.npz\",\n",
      "    \"test_error_absolute\": 0.003764528940716631,\n",
      "    \"test_error_orders_of_magnitude\": 0.25025375185710097,\n",
      "    \"test_evaluation_s\": 0,\n",
      "    \"train_dataset\": \"[:700000] of ../final/dataset.npz\",\n",
      "    \"train_error_absolute\": 0.004752388373477774,\n",
      "    \"train_error_orders_of_magnitude\": 0.24954401316434374,\n",
      "    \"train_evaluation_s\": 2,\n",
      "    \"training_time_s\": 0,\n",
      "    \"tumour_lower_size_limit_l\": 1e-07,\n",
      "    \"tumour_lower_size_limit_log10_l\": -7\n",
      "}\n"
     ]
    },
    {
     "name": "stderr",
     "output_type": "stream",
     "text": [
      "\u001B[32m[I 2023-05-12 20:12:47,323]\u001B[0m Trial 18 finished with value: 0.24954414845045697 and parameters: {'l1_ratio': 0.4284398929015581, 'alpha': 7.285982597521176e-05, 'fit_intercept': True}. Best is trial 17 with value: 0.24954401316434374.\u001B[0m\n",
      "\u001B[32m[I 2023-05-12 20:12:51,421]\u001B[0m Trial 19 finished with value: 0.24955116128864838 and parameters: {'l1_ratio': 0.3834342018765222, 'alpha': 0.0004963855065740173, 'fit_intercept': True}. Best is trial 17 with value: 0.24954401316434374.\u001B[0m\n",
      "\u001B[32m[I 2023-05-12 20:12:55,519]\u001B[0m Trial 20 finished with value: 0.24954975406499272 and parameters: {'l1_ratio': 0.5827150608172109, 'alpha': 0.0005989481814407788, 'fit_intercept': True}. Best is trial 17 with value: 0.24954401316434374.\u001B[0m\n",
      "\u001B[32m[I 2023-05-12 20:12:59,753]\u001B[0m Trial 21 finished with value: 0.24954401918696437 and parameters: {'l1_ratio': 0.1962973731228441, 'alpha': 1.390748644266709e-05, 'fit_intercept': True}. Best is trial 17 with value: 0.24954401316434374.\u001B[0m\n",
      "\u001B[32m[I 2023-05-12 20:13:03,952]\u001B[0m Trial 22 finished with value: 0.24954401505472504 and parameters: {'l1_ratio': 0.4085823345681733, 'alpha': 1.3162176996411375e-05, 'fit_intercept': True}. Best is trial 17 with value: 0.24954401316434374.\u001B[0m\n",
      "\u001B[32m[I 2023-05-12 20:13:07,907]\u001B[0m Trial 23 finished with value: 0.24954406797553733 and parameters: {'l1_ratio': 0.41197827033401324, 'alpha': 4.6013349228496505e-05, 'fit_intercept': True}. Best is trial 17 with value: 0.24954401316434374.\u001B[0m\n",
      "\u001B[32m[I 2023-05-12 20:13:11,863]\u001B[0m Trial 24 finished with value: 0.24954401338977716 and parameters: {'l1_ratio': 0.3954042185529375, 'alpha': 1.0441457194088627e-05, 'fit_intercept': True}. Best is trial 17 with value: 0.24954401316434374.\u001B[0m\n",
      "\u001B[32m[I 2023-05-12 20:13:15,804]\u001B[0m Trial 25 finished with value: 0.24954411122861647 and parameters: {'l1_ratio': 0.46457357033309343, 'alpha': 6.548460506952789e-05, 'fit_intercept': True}. Best is trial 17 with value: 0.24954401316434374.\u001B[0m\n",
      "\u001B[32m[I 2023-05-12 20:13:19,769]\u001B[0m Trial 26 finished with value: 0.24954403578743156 and parameters: {'l1_ratio': 0.39805220087122684, 'alpha': 3.0011876111069808e-05, 'fit_intercept': True}. Best is trial 17 with value: 0.24954401316434374.\u001B[0m\n"
     ]
    },
    {
     "name": "stdout",
     "output_type": "stream",
     "text": [
      "Updating ElasticNet_Poly1.pickle\n"
     ]
    },
    {
     "name": "stderr",
     "output_type": "stream",
     "text": [
      "\u001B[32m[I 2023-05-12 20:13:39,981]\u001B[0m Trial 27 finished with value: 0.24954401227908815 and parameters: {'l1_ratio': 0.5417142753481765, 'alpha': 1.0280319510472543e-05, 'fit_intercept': True}. Best is trial 27 with value: 0.24954401227908815.\u001B[0m\n"
     ]
    },
    {
     "name": "stdout",
     "output_type": "stream",
     "text": [
      "saving info to file: ../final/ml_models/ElasticNet_Poly1_metadata.json {\n",
      "    \"cpu_info\": {\n",
      "        \"arch\": \"X86_64\",\n",
      "        \"bits\": 64,\n",
      "        \"brand_raw\": \"Intel(R) Core(TM) i7-4980HQ CPU @ 2.80GHz\",\n",
      "        \"count\": 8,\n",
      "        \"l2_cache_size\": 262144\n",
      "    },\n",
      "    \"model_params\": {\n",
      "        \"alpha\": 1.0280319510472543e-05,\n",
      "        \"fit_intercept\": true,\n",
      "        \"l1_ratio\": 0.5417142753481765,\n",
      "        \"max_iter\": 100000,\n",
      "        \"random_state\": 42,\n",
      "        \"tol\": 1e-05\n",
      "    },\n",
      "    \"pca_components\": 12,\n",
      "    \"pca_unexplained_variance_ratio\": 3.734028192154632e-06,\n",
      "    \"test_dataset\": \"[700000:850000] of ../final/dataset.npz\",\n",
      "    \"test_error_absolute\": 0.0037651186618568415,\n",
      "    \"test_error_orders_of_magnitude\": 0.25025367884211475,\n",
      "    \"test_evaluation_s\": 0,\n",
      "    \"train_dataset\": \"[:700000] of ../final/dataset.npz\",\n",
      "    \"train_error_absolute\": 0.004753419562903125,\n",
      "    \"train_error_orders_of_magnitude\": 0.24954401227908815,\n",
      "    \"train_evaluation_s\": 2,\n",
      "    \"training_time_s\": 0,\n",
      "    \"tumour_lower_size_limit_l\": 1e-07,\n",
      "    \"tumour_lower_size_limit_log10_l\": -7\n",
      "}\n"
     ]
    },
    {
     "name": "stderr",
     "output_type": "stream",
     "text": [
      "\u001B[32m[I 2023-05-12 20:13:44,506]\u001B[0m Trial 28 finished with value: 0.24954415151000806 and parameters: {'l1_ratio': 0.5359301501104097, 'alpha': 8.605896699933104e-05, 'fit_intercept': True}. Best is trial 27 with value: 0.24954401227908815.\u001B[0m\n",
      "\u001B[32m[I 2023-05-12 20:13:48,817]\u001B[0m Trial 29 finished with value: 0.24954402027186895 and parameters: {'l1_ratio': 0.6373945593612578, 'alpha': 2.6712534646530852e-05, 'fit_intercept': True}. Best is trial 27 with value: 0.24954401227908815.\u001B[0m\n",
      "\u001B[32m[I 2023-05-12 20:13:48,856]\u001B[0m A new study created in RDB with name: ElasticNet_Poly2\u001B[0m\n"
     ]
    },
    {
     "name": "stdout",
     "output_type": "stream",
     "text": [
      "Updating ElasticNet_Poly2.pickle\n"
     ]
    },
    {
     "name": "stderr",
     "output_type": "stream",
     "text": [
      "\u001B[32m[I 2023-05-12 20:14:54,119]\u001B[0m Trial 0 finished with value: 0.35985786577498985 and parameters: {'l1_ratio': 0.0027664257645645396, 'alpha': 0.2869351360007255, 'fit_intercept': False}. Best is trial 0 with value: 0.35985786577498985.\u001B[0m\n"
     ]
    },
    {
     "name": "stdout",
     "output_type": "stream",
     "text": [
      "saving info to file: ../final/ml_models/ElasticNet_Poly2_metadata.json {\n",
      "    \"cpu_info\": {\n",
      "        \"arch\": \"X86_64\",\n",
      "        \"bits\": 64,\n",
      "        \"brand_raw\": \"Intel(R) Core(TM) i7-4980HQ CPU @ 2.80GHz\",\n",
      "        \"count\": 8,\n",
      "        \"l2_cache_size\": 262144\n",
      "    },\n",
      "    \"model_params\": {\n",
      "        \"alpha\": 0.2869351360007255,\n",
      "        \"fit_intercept\": false,\n",
      "        \"l1_ratio\": 0.0027664257645645396,\n",
      "        \"max_iter\": 100000,\n",
      "        \"random_state\": 42,\n",
      "        \"tol\": 1e-05\n",
      "    },\n",
      "    \"pca_components\": 12,\n",
      "    \"pca_unexplained_variance_ratio\": 3.734028192154632e-06,\n",
      "    \"test_dataset\": \"[700000:850000] of ../final/dataset.npz\",\n",
      "    \"test_error_absolute\": 69.82895888872932,\n",
      "    \"test_error_orders_of_magnitude\": 0.36305056932916424,\n",
      "    \"test_evaluation_s\": 0,\n",
      "    \"train_dataset\": \"[:700000] of ../final/dataset.npz\",\n",
      "    \"train_error_absolute\": 0.0073887255234216945,\n",
      "    \"train_error_orders_of_magnitude\": 0.35985786577498985,\n",
      "    \"train_evaluation_s\": 2,\n",
      "    \"training_time_s\": 43,\n",
      "    \"tumour_lower_size_limit_l\": 1e-07,\n",
      "    \"tumour_lower_size_limit_log10_l\": -7\n",
      "}\n"
     ]
    },
    {
     "name": "stderr",
     "output_type": "stream",
     "text": [
      "\u001B[32m[I 2023-05-12 20:15:07,578]\u001B[0m Trial 1 finished with value: 0.4442402280231075 and parameters: {'l1_ratio': 0.15360087858110683, 'alpha': 0.5500942732704154, 'fit_intercept': False}. Best is trial 0 with value: 0.35985786577498985.\u001B[0m\n"
     ]
    },
    {
     "name": "stdout",
     "output_type": "stream",
     "text": [
      "Updating ElasticNet_Poly2.pickle\n"
     ]
    },
    {
     "name": "stderr",
     "output_type": "stream",
     "text": [
      "\u001B[32m[I 2023-05-12 20:26:34,082]\u001B[0m Trial 2 finished with value: 0.10057768106903522 and parameters: {'l1_ratio': 0.9978915389237439, 'alpha': 0.0014000848917671057, 'fit_intercept': False}. Best is trial 2 with value: 0.10057768106903522.\u001B[0m\n"
     ]
    },
    {
     "name": "stdout",
     "output_type": "stream",
     "text": [
      "saving info to file: ../final/ml_models/ElasticNet_Poly2_metadata.json {\n",
      "    \"cpu_info\": {\n",
      "        \"arch\": \"X86_64\",\n",
      "        \"bits\": 64,\n",
      "        \"brand_raw\": \"Intel(R) Core(TM) i7-4980HQ CPU @ 2.80GHz\",\n",
      "        \"count\": 8,\n",
      "        \"l2_cache_size\": 262144\n",
      "    },\n",
      "    \"model_params\": {\n",
      "        \"alpha\": 0.0014000848917671057,\n",
      "        \"fit_intercept\": false,\n",
      "        \"l1_ratio\": 0.9978915389237439,\n",
      "        \"max_iter\": 100000,\n",
      "        \"random_state\": 42,\n",
      "        \"tol\": 1e-05\n",
      "    },\n",
      "    \"pca_components\": 12,\n",
      "    \"pca_unexplained_variance_ratio\": 3.734028192154632e-06,\n",
      "    \"test_dataset\": \"[700000:850000] of ../final/dataset.npz\",\n",
      "    \"test_error_absolute\": 30733.99419064674,\n",
      "    \"test_error_orders_of_magnitude\": 0.10099456649540713,\n",
      "    \"test_evaluation_s\": 0,\n",
      "    \"train_dataset\": \"[:700000] of ../final/dataset.npz\",\n",
      "    \"train_error_absolute\": 1203138.4594881667,\n",
      "    \"train_error_orders_of_magnitude\": 0.10057768106903522,\n",
      "    \"train_evaluation_s\": 2,\n",
      "    \"training_time_s\": 666,\n",
      "    \"tumour_lower_size_limit_l\": 1e-07,\n",
      "    \"tumour_lower_size_limit_log10_l\": -7\n",
      "}\n"
     ]
    },
    {
     "name": "stderr",
     "output_type": "stream",
     "text": [
      "\u001B[32m[I 2023-05-12 20:26:50,874]\u001B[0m Trial 3 finished with value: 0.1337543110997853 and parameters: {'l1_ratio': 0.8693604574850818, 'alpha': 0.017629003936814595, 'fit_intercept': True}. Best is trial 2 with value: 0.10057768106903522.\u001B[0m\n",
      "\u001B[32m[I 2023-05-12 20:27:04,415]\u001B[0m Trial 4 finished with value: 0.31822951720511233 and parameters: {'l1_ratio': 0.8797347013911373, 'alpha': 0.29990764657871466, 'fit_intercept': False}. Best is trial 2 with value: 0.10057768106903522.\u001B[0m\n",
      "\u001B[32m[I 2023-05-12 20:35:14,680]\u001B[0m Trial 5 finished with value: 0.1041853209023218 and parameters: {'l1_ratio': 0.795811176487912, 'alpha': 0.0027577557362076298, 'fit_intercept': False}. Best is trial 2 with value: 0.10057768106903522.\u001B[0m\n",
      "\u001B[32m[I 2023-05-12 20:53:30,740]\u001B[0m Trial 6 pruned. \u001B[0m\n",
      "\u001B[32m[I 2023-05-12 20:54:56,668]\u001B[0m Trial 7 finished with value: 0.2067676766575589 and parameters: {'l1_ratio': 0.3257352384688038, 'alpha': 0.027916345587532213, 'fit_intercept': False}. Best is trial 2 with value: 0.10057768106903522.\u001B[0m\n"
     ]
    },
    {
     "name": "stdout",
     "output_type": "stream",
     "text": [
      "Updating ElasticNet_Poly2.pickle\n"
     ]
    },
    {
     "name": "stderr",
     "output_type": "stream",
     "text": [
      "\u001B[32m[I 2023-05-12 20:57:37,360]\u001B[0m Trial 8 finished with value: 0.10041938839743843 and parameters: {'l1_ratio': 0.1316211276586965, 'alpha': 1.725463968688324e-05, 'fit_intercept': True}. Best is trial 8 with value: 0.10041938839743843.\u001B[0m\n"
     ]
    },
    {
     "name": "stdout",
     "output_type": "stream",
     "text": [
      "saving info to file: ../final/ml_models/ElasticNet_Poly2_metadata.json {\n",
      "    \"cpu_info\": {\n",
      "        \"arch\": \"X86_64\",\n",
      "        \"bits\": 64,\n",
      "        \"brand_raw\": \"Intel(R) Core(TM) i7-4980HQ CPU @ 2.80GHz\",\n",
      "        \"count\": 8,\n",
      "        \"l2_cache_size\": 262144\n",
      "    },\n",
      "    \"model_params\": {\n",
      "        \"alpha\": 1.725463968688324e-05,\n",
      "        \"fit_intercept\": true,\n",
      "        \"l1_ratio\": 0.1316211276586965,\n",
      "        \"max_iter\": 100000,\n",
      "        \"random_state\": 42,\n",
      "        \"tol\": 1e-05\n",
      "    },\n",
      "    \"pca_components\": 12,\n",
      "    \"pca_unexplained_variance_ratio\": 3.734028192154632e-06,\n",
      "    \"test_dataset\": \"[700000:850000] of ../final/dataset.npz\",\n",
      "    \"test_error_absolute\": 102408.77029870896,\n",
      "    \"test_error_orders_of_magnitude\": 0.10086731241827616,\n",
      "    \"test_evaluation_s\": 0,\n",
      "    \"train_dataset\": \"[:700000] of ../final/dataset.npz\",\n",
      "    \"train_error_absolute\": 3990385.049128613,\n",
      "    \"train_error_orders_of_magnitude\": 0.10041938839743843,\n",
      "    \"train_evaluation_s\": 2,\n",
      "    \"training_time_s\": 141,\n",
      "    \"tumour_lower_size_limit_l\": 1e-07,\n",
      "    \"tumour_lower_size_limit_log10_l\": -7\n",
      "}\n"
     ]
    },
    {
     "name": "stderr",
     "output_type": "stream",
     "text": [
      "\u001B[32m[I 2023-05-12 20:57:46,874]\u001B[0m Trial 9 finished with value: 0.24621185040531288 and parameters: {'l1_ratio': 0.5938967594610248, 'alpha': 0.09159655337201617, 'fit_intercept': True}. Best is trial 8 with value: 0.10041938839743843.\u001B[0m\n",
      "\u001B[32m[I 2023-05-12 20:59:27,283]\u001B[0m Trial 10 finished with value: 0.10042200451876691 and parameters: {'l1_ratio': 0.4550824047654903, 'alpha': 3.541937822839145e-05, 'fit_intercept': True}. Best is trial 8 with value: 0.10041938839743843.\u001B[0m\n"
     ]
    },
    {
     "name": "stdout",
     "output_type": "stream",
     "text": [
      "Updating ElasticNet_Poly2.pickle\n"
     ]
    },
    {
     "name": "stderr",
     "output_type": "stream",
     "text": [
      "\u001B[32m[I 2023-05-12 21:01:48,759]\u001B[0m Trial 11 finished with value: 0.10041654516380857 and parameters: {'l1_ratio': 0.435392852310095, 'alpha': 1.08806683247692e-05, 'fit_intercept': True}. Best is trial 11 with value: 0.10041654516380857.\u001B[0m\n"
     ]
    },
    {
     "name": "stdout",
     "output_type": "stream",
     "text": [
      "saving info to file: ../final/ml_models/ElasticNet_Poly2_metadata.json {\n",
      "    \"cpu_info\": {\n",
      "        \"arch\": \"X86_64\",\n",
      "        \"bits\": 64,\n",
      "        \"brand_raw\": \"Intel(R) Core(TM) i7-4980HQ CPU @ 2.80GHz\",\n",
      "        \"count\": 8,\n",
      "        \"l2_cache_size\": 262144\n",
      "    },\n",
      "    \"model_params\": {\n",
      "        \"alpha\": 1.08806683247692e-05,\n",
      "        \"fit_intercept\": true,\n",
      "        \"l1_ratio\": 0.435392852310095,\n",
      "        \"max_iter\": 100000,\n",
      "        \"random_state\": 42,\n",
      "        \"tol\": 1e-05\n",
      "    },\n",
      "    \"pca_components\": 12,\n",
      "    \"pca_unexplained_variance_ratio\": 3.734028192154632e-06,\n",
      "    \"test_dataset\": \"[700000:850000] of ../final/dataset.npz\",\n",
      "    \"test_error_absolute\": 104398.71642929531,\n",
      "    \"test_error_orders_of_magnitude\": 0.10086383492436755,\n",
      "    \"test_evaluation_s\": 0,\n",
      "    \"train_dataset\": \"[:700000] of ../final/dataset.npz\",\n",
      "    \"train_error_absolute\": 4012341.3552497965,\n",
      "    \"train_error_orders_of_magnitude\": 0.10041654516380857,\n",
      "    \"train_evaluation_s\": 2,\n",
      "    \"training_time_s\": 121,\n",
      "    \"tumour_lower_size_limit_l\": 1e-07,\n",
      "    \"tumour_lower_size_limit_log10_l\": -7\n",
      "}\n",
      "Updating ElasticNet_Poly2.pickle\n"
     ]
    },
    {
     "name": "stderr",
     "output_type": "stream",
     "text": [
      "\u001B[32m[I 2023-05-12 21:04:15,592]\u001B[0m Trial 12 finished with value: 0.10041648330714661 and parameters: {'l1_ratio': 0.4122176903549756, 'alpha': 1.0011375889539858e-05, 'fit_intercept': True}. Best is trial 12 with value: 0.10041648330714661.\u001B[0m\n"
     ]
    },
    {
     "name": "stdout",
     "output_type": "stream",
     "text": [
      "saving info to file: ../final/ml_models/ElasticNet_Poly2_metadata.json {\n",
      "    \"cpu_info\": {\n",
      "        \"arch\": \"X86_64\",\n",
      "        \"bits\": 64,\n",
      "        \"brand_raw\": \"Intel(R) Core(TM) i7-4980HQ CPU @ 2.80GHz\",\n",
      "        \"count\": 8,\n",
      "        \"l2_cache_size\": 262144\n",
      "    },\n",
      "    \"model_params\": {\n",
      "        \"alpha\": 1.0011375889539858e-05,\n",
      "        \"fit_intercept\": true,\n",
      "        \"l1_ratio\": 0.4122176903549756,\n",
      "        \"max_iter\": 100000,\n",
      "        \"random_state\": 42,\n",
      "        \"tol\": 1e-05\n",
      "    },\n",
      "    \"pca_components\": 12,\n",
      "    \"pca_unexplained_variance_ratio\": 3.734028192154632e-06,\n",
      "    \"test_dataset\": \"[700000:850000] of ../final/dataset.npz\",\n",
      "    \"test_error_absolute\": 104529.58380686645,\n",
      "    \"test_error_orders_of_magnitude\": 0.10086377863448064,\n",
      "    \"test_evaluation_s\": 0,\n",
      "    \"train_dataset\": \"[:700000] of ../final/dataset.npz\",\n",
      "    \"train_error_absolute\": 4016214.9661071436,\n",
      "    \"train_error_orders_of_magnitude\": 0.10041648330714661,\n",
      "    \"train_evaluation_s\": 2,\n",
      "    \"training_time_s\": 127,\n",
      "    \"tumour_lower_size_limit_l\": 1e-07,\n",
      "    \"tumour_lower_size_limit_log10_l\": -7\n",
      "}\n",
      "Updating ElasticNet_Poly2.pickle\n"
     ]
    },
    {
     "name": "stderr",
     "output_type": "stream",
     "text": [
      "\u001B[32m[I 2023-05-12 21:06:35,560]\u001B[0m Trial 13 finished with value: 0.10041635007272784 and parameters: {'l1_ratio': 0.5043073716804273, 'alpha': 1.0273543726785418e-05, 'fit_intercept': True}. Best is trial 13 with value: 0.10041635007272784.\u001B[0m\n"
     ]
    },
    {
     "name": "stdout",
     "output_type": "stream",
     "text": [
      "saving info to file: ../final/ml_models/ElasticNet_Poly2_metadata.json {\n",
      "    \"cpu_info\": {\n",
      "        \"arch\": \"X86_64\",\n",
      "        \"bits\": 64,\n",
      "        \"brand_raw\": \"Intel(R) Core(TM) i7-4980HQ CPU @ 2.80GHz\",\n",
      "        \"count\": 8,\n",
      "        \"l2_cache_size\": 262144\n",
      "    },\n",
      "    \"model_params\": {\n",
      "        \"alpha\": 1.0273543726785418e-05,\n",
      "        \"fit_intercept\": true,\n",
      "        \"l1_ratio\": 0.5043073716804273,\n",
      "        \"max_iter\": 100000,\n",
      "        \"random_state\": 42,\n",
      "        \"tol\": 1e-05\n",
      "    },\n",
      "    \"pca_components\": 12,\n",
      "    \"pca_unexplained_variance_ratio\": 3.734028192154632e-06,\n",
      "    \"test_dataset\": \"[700000:850000] of ../final/dataset.npz\",\n",
      "    \"test_error_absolute\": 104622.56812505538,\n",
      "    \"test_error_orders_of_magnitude\": 0.10086355903894,\n",
      "    \"test_evaluation_s\": 0,\n",
      "    \"train_dataset\": \"[:700000] of ../final/dataset.npz\",\n",
      "    \"train_error_absolute\": 4014256.829498266,\n",
      "    \"train_error_orders_of_magnitude\": 0.10041635007272784,\n",
      "    \"train_evaluation_s\": 2,\n",
      "    \"training_time_s\": 120,\n",
      "    \"tumour_lower_size_limit_l\": 1e-07,\n",
      "    \"tumour_lower_size_limit_log10_l\": -7\n",
      "}\n"
     ]
    },
    {
     "name": "stderr",
     "output_type": "stream",
     "text": [
      "\u001B[32m[I 2023-05-12 21:07:43,643]\u001B[0m Trial 14 finished with value: 0.10046130934427983 and parameters: {'l1_ratio': 0.6162848706280948, 'alpha': 0.00013772602185511338, 'fit_intercept': True}. Best is trial 13 with value: 0.10041635007272784.\u001B[0m\n",
      "\u001B[32m[I 2023-05-12 21:08:47,546]\u001B[0m Trial 15 finished with value: 0.10084971737702225 and parameters: {'l1_ratio': 0.3441496193737521, 'alpha': 0.0002835622189994447, 'fit_intercept': True}. Best is trial 13 with value: 0.10041635007272784.\u001B[0m\n"
     ]
    },
    {
     "name": "stdout",
     "output_type": "stream",
     "text": [
      "Updating ElasticNet_Poly2.pickle\n"
     ]
    },
    {
     "name": "stderr",
     "output_type": "stream",
     "text": [
      "\u001B[32m[I 2023-05-12 21:11:06,418]\u001B[0m Trial 16 finished with value: 0.10041621302398022 and parameters: {'l1_ratio': 0.612866056455494, 'alpha': 1.068990461819081e-05, 'fit_intercept': True}. Best is trial 16 with value: 0.10041621302398022.\u001B[0m\n"
     ]
    },
    {
     "name": "stdout",
     "output_type": "stream",
     "text": [
      "saving info to file: ../final/ml_models/ElasticNet_Poly2_metadata.json {\n",
      "    \"cpu_info\": {\n",
      "        \"arch\": \"X86_64\",\n",
      "        \"bits\": 64,\n",
      "        \"brand_raw\": \"Intel(R) Core(TM) i7-4980HQ CPU @ 2.80GHz\",\n",
      "        \"count\": 8,\n",
      "        \"l2_cache_size\": 262144\n",
      "    },\n",
      "    \"model_params\": {\n",
      "        \"alpha\": 1.068990461819081e-05,\n",
      "        \"fit_intercept\": true,\n",
      "        \"l1_ratio\": 0.612866056455494,\n",
      "        \"max_iter\": 100000,\n",
      "        \"random_state\": 42,\n",
      "        \"tol\": 1e-05\n",
      "    },\n",
      "    \"pca_components\": 12,\n",
      "    \"pca_unexplained_variance_ratio\": 3.734028192154632e-06,\n",
      "    \"test_dataset\": \"[700000:850000] of ../final/dataset.npz\",\n",
      "    \"test_error_absolute\": 104724.72326578232,\n",
      "    \"test_error_orders_of_magnitude\": 0.10086331346947165,\n",
      "    \"test_evaluation_s\": 0,\n",
      "    \"train_dataset\": \"[:700000] of ../final/dataset.npz\",\n",
      "    \"train_error_absolute\": 4011588.504903996,\n",
      "    \"train_error_orders_of_magnitude\": 0.10041621302398022,\n",
      "    \"train_evaluation_s\": 2,\n",
      "    \"training_time_s\": 118,\n",
      "    \"tumour_lower_size_limit_l\": 1e-07,\n",
      "    \"tumour_lower_size_limit_log10_l\": -7\n",
      "}\n"
     ]
    },
    {
     "name": "stderr",
     "output_type": "stream",
     "text": [
      "\u001B[32m[I 2023-05-12 21:12:21,101]\u001B[0m Trial 17 finished with value: 0.10045594681084673 and parameters: {'l1_ratio': 0.5925132158664221, 'alpha': 0.00012237438396119136, 'fit_intercept': True}. Best is trial 16 with value: 0.10041621302398022.\u001B[0m\n",
      "\u001B[32m[I 2023-05-12 21:13:04,345]\u001B[0m Trial 18 finished with value: 0.10086930928913597 and parameters: {'l1_ratio': 0.6982231566579855, 'alpha': 0.000585351380059905, 'fit_intercept': True}. Best is trial 16 with value: 0.10041621302398022.\u001B[0m\n",
      "\u001B[32m[I 2023-05-12 21:14:39,438]\u001B[0m Trial 19 finished with value: 0.10042727915939692 and parameters: {'l1_ratio': 0.5239976505785293, 'alpha': 5.5218651322350504e-05, 'fit_intercept': True}. Best is trial 16 with value: 0.10041621302398022.\u001B[0m\n",
      "\u001B[32m[I 2023-05-12 21:15:24,676]\u001B[0m Trial 20 finished with value: 0.10078927845845735 and parameters: {'l1_ratio': 0.7097517460861498, 'alpha': 0.0005434997766182694, 'fit_intercept': True}. Best is trial 16 with value: 0.10041621302398022.\u001B[0m\n",
      "\u001B[32m[I 2023-05-12 21:17:36,785]\u001B[0m Trial 21 finished with value: 0.10041641281003123 and parameters: {'l1_ratio': 0.47749911702015435, 'alpha': 1.0435313964758437e-05, 'fit_intercept': True}. Best is trial 16 with value: 0.10041621302398022.\u001B[0m\n",
      "\u001B[32m[I 2023-05-12 21:19:23,988]\u001B[0m Trial 22 finished with value: 0.10041850777227687 and parameters: {'l1_ratio': 0.5514767710426666, 'alpha': 2.6967587344537977e-05, 'fit_intercept': True}. Best is trial 16 with value: 0.10041621302398022.\u001B[0m\n",
      "\u001B[32m[I 2023-05-12 21:21:38,430]\u001B[0m Trial 23 finished with value: 0.10041631915685188 and parameters: {'l1_ratio': 0.5105126221877452, 'alpha': 1.005181526052955e-05, 'fit_intercept': True}. Best is trial 16 with value: 0.10041621302398022.\u001B[0m\n",
      "\u001B[32m[I 2023-05-12 21:23:06,051]\u001B[0m Trial 24 finished with value: 0.10043390523369114 and parameters: {'l1_ratio': 0.6511482538917764, 'alpha': 9.139360719212917e-05, 'fit_intercept': True}. Best is trial 16 with value: 0.10041621302398022.\u001B[0m\n",
      "\u001B[32m[I 2023-05-12 21:24:55,551]\u001B[0m Trial 25 finished with value: 0.10041948642470734 and parameters: {'l1_ratio': 0.5085144681704419, 'alpha': 2.9415902011890184e-05, 'fit_intercept': True}. Best is trial 16 with value: 0.10041621302398022.\u001B[0m\n",
      "\u001B[32m[I 2023-05-12 21:26:30,546]\u001B[0m Trial 26 finished with value: 0.10043285783562739 and parameters: {'l1_ratio': 0.5447210891307618, 'alpha': 7.069181956423198e-05, 'fit_intercept': True}. Best is trial 16 with value: 0.10041621302398022.\u001B[0m\n",
      "\u001B[32m[I 2023-05-12 21:28:22,885]\u001B[0m Trial 27 finished with value: 0.10041697799853191 and parameters: {'l1_ratio': 0.671241125570367, 'alpha': 2.1856917578924394e-05, 'fit_intercept': True}. Best is trial 16 with value: 0.10041621302398022.\u001B[0m\n",
      "\u001B[32m[I 2023-05-12 21:29:50,268]\u001B[0m Trial 28 finished with value: 0.1005324504703523 and parameters: {'l1_ratio': 0.374442809233688, 'alpha': 0.00014610683753721115, 'fit_intercept': True}. Best is trial 16 with value: 0.10041621302398022.\u001B[0m\n",
      "\u001B[32m[I 2023-05-12 21:31:26,886]\u001B[0m Trial 29 finished with value: 0.10041917139163671 and parameters: {'l1_ratio': 0.7230164785384857, 'alpha': 4.450344290302784e-05, 'fit_intercept': True}. Best is trial 16 with value: 0.10041621302398022.\u001B[0m\n",
      "\u001B[32m[I 2023-05-12 21:31:26,924]\u001B[0m A new study created in RDB with name: ElasticNet_Poly3\u001B[0m\n",
      "\u001B[32m[I 2023-05-12 22:56:29,609]\u001B[0m Trial 0 pruned. \u001B[0m\n",
      "\u001B[32m[I 2023-05-13 00:43:47,610]\u001B[0m Trial 1 pruned. \u001B[0m\n"
     ]
    },
    {
     "name": "stdout",
     "output_type": "stream",
     "text": [
      "Updating ElasticNet_Poly3.pickle\n",
      "saving info to file: ../final/ml_models/ElasticNet_Poly3_metadata.json {\n",
      "    \"cpu_info\": {\n",
      "        \"arch\": \"X86_64\",\n",
      "        \"bits\": 64,\n",
      "        \"brand_raw\": \"Intel(R) Core(TM) i7-4980HQ CPU @ 2.80GHz\",\n",
      "        \"count\": 8,\n",
      "        \"l2_cache_size\": 262144\n",
      "    },\n",
      "    \"model_params\": {\n",
      "        \"alpha\": 0.01086477717931795,\n",
      "        \"fit_intercept\": true,\n",
      "        \"l1_ratio\": 0.9369548907391098,\n",
      "        \"max_iter\": 100000,\n",
      "        \"random_state\": 42,\n",
      "        \"tol\": 1e-05\n",
      "    },\n",
      "    \"pca_components\": 12,\n",
      "    \"pca_unexplained_variance_ratio\": 3.734028192154632e-06,\n",
      "    \"test_dataset\": \"[700000:850000] of ../final/dataset.npz\",\n",
      "    \"test_error_absolute\": 2.0603080300236752e-05,\n",
      "    \"test_error_orders_of_magnitude\": 0.09144040649901183,\n",
      "    \"test_evaluation_s\": 0,\n",
      "    \"train_dataset\": \"[:700000] of ../final/dataset.npz\",\n",
      "    \"train_error_absolute\": 1.0563201349434484e-05,\n",
      "    \"train_error_orders_of_magnitude\": 0.09137217121718816,\n",
      "    \"train_evaluation_s\": 4,\n",
      "    \"training_time_s\": 206,\n",
      "    \"tumour_lower_size_limit_l\": 1e-07,\n",
      "    \"tumour_lower_size_limit_log10_l\": -7\n",
      "}\n"
     ]
    },
    {
     "name": "stderr",
     "output_type": "stream",
     "text": [
      "\u001B[32m[I 2023-05-13 00:47:37,563]\u001B[0m Trial 2 finished with value: 0.09137217121718816 and parameters: {'l1_ratio': 0.9369548907391098, 'alpha': 0.01086477717931795, 'fit_intercept': True}. Best is trial 2 with value: 0.09137217121718816.\u001B[0m\n",
      "\u001B[32m[I 2023-05-13 00:57:56,324]\u001B[0m Trial 3 finished with value: 0.13002107622832632 and parameters: {'l1_ratio': 0.8414102413068371, 'alpha': 0.02565060715444621, 'fit_intercept': False}. Best is trial 2 with value: 0.09137217121718816.\u001B[0m\n",
      "\u001B[32m[I 2023-05-13 00:58:49,045]\u001B[0m Trial 4 finished with value: 0.3403601812909103 and parameters: {'l1_ratio': 0.5641985364563784, 'alpha': 0.34330072151735147, 'fit_intercept': False}. Best is trial 2 with value: 0.09137217121718816.\u001B[0m\n",
      "\u001B[32m[I 2023-05-13 00:59:19,709]\u001B[0m Trial 5 finished with value: 0.3158126837098923 and parameters: {'l1_ratio': 0.11575877943032398, 'alpha': 0.34732893354269073, 'fit_intercept': True}. Best is trial 2 with value: 0.09137217121718816.\u001B[0m\n",
      "\u001B[32m[I 2023-05-13 01:49:12,190]\u001B[0m Trial 6 pruned. \u001B[0m\n",
      "\u001B[32m[I 2023-05-13 01:53:45,511]\u001B[0m Trial 7 finished with value: 0.16019284996946057 and parameters: {'l1_ratio': 0.8596610275181459, 'alpha': 0.050387322944796684, 'fit_intercept': False}. Best is trial 2 with value: 0.09137217121718816.\u001B[0m\n",
      "\u001B[32m[I 2023-05-13 08:31:09,682]\u001B[0m Trial 8 pruned. \u001B[0m\n",
      "\u001B[32m[I 2023-05-13 09:01:59,430]\u001B[0m Trial 9 pruned. \u001B[0m\n",
      "\u001B[32m[I 2023-05-13 09:22:27,087]\u001B[0m Trial 10 pruned. \u001B[0m\n",
      "\u001B[32m[I 2023-05-13 09:33:28,158]\u001B[0m Trial 11 finished with value: 0.13182383536656705 and parameters: {'l1_ratio': 0.8012632919745227, 'alpha': 0.02472707776632336, 'fit_intercept': False}. Best is trial 2 with value: 0.09137217121718816.\u001B[0m\n",
      "\u001B[32m[I 2023-05-13 09:47:38,685]\u001B[0m Trial 12 finished with value: 0.12601414243457387 and parameters: {'l1_ratio': 0.7833626014323569, 'alpha': 0.02068672559635284, 'fit_intercept': False}. Best is trial 2 with value: 0.09137217121718816.\u001B[0m\n",
      "\u001B[32m[I 2023-05-13 12:24:27,550]\u001B[0m Trial 13 pruned. \u001B[0m\n"
     ]
    },
    {
     "name": "stdout",
     "output_type": "stream",
     "text": [
      "Updating ElasticNet_Poly3.pickle\n"
     ]
    },
    {
     "name": "stderr",
     "output_type": "stream",
     "text": [
      "\u001B[32m[I 2023-05-13 12:31:33,429]\u001B[0m Trial 14 finished with value: 0.06937287461747908 and parameters: {'l1_ratio': 0.9672936875399968, 'alpha': 0.005668415805142341, 'fit_intercept': True}. Best is trial 14 with value: 0.06937287461747908.\u001B[0m\n"
     ]
    },
    {
     "name": "stdout",
     "output_type": "stream",
     "text": [
      "saving info to file: ../final/ml_models/ElasticNet_Poly3_metadata.json {\n",
      "    \"cpu_info\": {\n",
      "        \"arch\": \"X86_64\",\n",
      "        \"bits\": 64,\n",
      "        \"brand_raw\": \"Intel(R) Core(TM) i7-4980HQ CPU @ 2.80GHz\",\n",
      "        \"count\": 8,\n",
      "        \"l2_cache_size\": 262144\n",
      "    },\n",
      "    \"model_params\": {\n",
      "        \"alpha\": 0.005668415805142341,\n",
      "        \"fit_intercept\": true,\n",
      "        \"l1_ratio\": 0.9672936875399968,\n",
      "        \"max_iter\": 100000,\n",
      "        \"random_state\": 42,\n",
      "        \"tol\": 1e-05\n",
      "    },\n",
      "    \"pca_components\": 12,\n",
      "    \"pca_unexplained_variance_ratio\": 3.734028192154632e-06,\n",
      "    \"test_dataset\": \"[700000:850000] of ../final/dataset.npz\",\n",
      "    \"test_error_absolute\": 0.023822119140375207,\n",
      "    \"test_error_orders_of_magnitude\": 0.06930204889805719,\n",
      "    \"test_evaluation_s\": 0,\n",
      "    \"train_dataset\": \"[:700000] of ../final/dataset.npz\",\n",
      "    \"train_error_absolute\": 5.9372679057194705e-06,\n",
      "    \"train_error_orders_of_magnitude\": 0.06937287461747908,\n",
      "    \"train_evaluation_s\": 4,\n",
      "    \"training_time_s\": 400,\n",
      "    \"tumour_lower_size_limit_l\": 1e-07,\n",
      "    \"tumour_lower_size_limit_log10_l\": -7\n",
      "}\n"
     ]
    },
    {
     "name": "stderr",
     "output_type": "stream",
     "text": [
      "\u001B[32m[I 2023-05-13 12:38:09,365]\u001B[0m Trial 15 finished with value: 0.0720881559649976 and parameters: {'l1_ratio': 0.9614030978650934, 'alpha': 0.006295410025004264, 'fit_intercept': True}. Best is trial 14 with value: 0.06937287461747908.\u001B[0m\n",
      "\u001B[32m[I 2023-05-13 13:03:39,305]\u001B[0m Trial 16 pruned. \u001B[0m\n",
      "\u001B[32m[I 2023-05-13 13:04:15,347]\u001B[0m Trial 17 finished with value: 0.2235184561059622 and parameters: {'l1_ratio': 0.6921192532152597, 'alpha': 0.10546649493558988, 'fit_intercept': True}. Best is trial 14 with value: 0.06937287461747908.\u001B[0m\n",
      "\u001B[32m[I 2023-05-13 13:11:17,716]\u001B[0m Trial 18 finished with value: 0.1014749414126311 and parameters: {'l1_ratio': 0.37143469797992557, 'alpha': 0.005402423478698747, 'fit_intercept': True}. Best is trial 14 with value: 0.06937287461747908.\u001B[0m\n",
      "\u001B[32m[I 2023-05-13 13:16:18,944]\u001B[0m Trial 19 finished with value: 0.08947575098948515 and parameters: {'l1_ratio': 0.8785275887453662, 'alpha': 0.00783420421389755, 'fit_intercept': True}. Best is trial 14 with value: 0.06937287461747908.\u001B[0m\n",
      "\u001B[32m[I 2023-05-13 13:37:25,427]\u001B[0m Trial 20 pruned. \u001B[0m\n",
      "\u001B[32m[I 2023-05-13 13:42:44,768]\u001B[0m Trial 21 finished with value: 0.08788012490740052 and parameters: {'l1_ratio': 0.8815738551792969, 'alpha': 0.007466552225702496, 'fit_intercept': True}. Best is trial 14 with value: 0.06937287461747908.\u001B[0m\n",
      "\u001B[32m[I 2023-05-13 13:48:14,574]\u001B[0m Trial 22 finished with value: 0.09270060519934592 and parameters: {'l1_ratio': 0.854952175648734, 'alpha': 0.008174910513066198, 'fit_intercept': True}. Best is trial 14 with value: 0.06937287461747908.\u001B[0m\n",
      "\u001B[32m[I 2023-05-13 13:48:59,298]\u001B[0m Trial 23 finished with value: 0.17779580017345809 and parameters: {'l1_ratio': 0.901152864871071, 'alpha': 0.07044120154137082, 'fit_intercept': True}. Best is trial 14 with value: 0.06937287461747908.\u001B[0m\n",
      "\u001B[32m[I 2023-05-13 14:00:34,161]\u001B[0m Trial 24 finished with value: 0.07761053767904366 and parameters: {'l1_ratio': 0.7919390568342503, 'alpha': 0.00354791183248069, 'fit_intercept': True}. Best is trial 14 with value: 0.06937287461747908.\u001B[0m\n",
      "\u001B[32m[I 2023-05-13 14:25:32,127]\u001B[0m Trial 25 pruned. \u001B[0m\n",
      "\u001B[32m[I 2023-05-13 14:38:46,447]\u001B[0m Trial 26 finished with value: 0.07391145645534142 and parameters: {'l1_ratio': 0.7686316979645171, 'alpha': 0.0026757468300829105, 'fit_intercept': True}. Best is trial 14 with value: 0.06937287461747908.\u001B[0m\n",
      "\u001B[32m[I 2023-05-13 15:04:16,494]\u001B[0m Trial 27 pruned. \u001B[0m\n"
     ]
    },
    {
     "name": "stdout",
     "output_type": "stream",
     "text": [
      "Updating ElasticNet_Poly3.pickle\n"
     ]
    },
    {
     "name": "stderr",
     "output_type": "stream",
     "text": [
      "\u001B[32m[I 2023-05-13 15:20:28,661]\u001B[0m Trial 28 finished with value: 0.06030213456691044 and parameters: {'l1_ratio': 0.9137461284265193, 'alpha': 0.0024004134957575202, 'fit_intercept': True}. Best is trial 28 with value: 0.06030213456691044.\u001B[0m\n"
     ]
    },
    {
     "name": "stdout",
     "output_type": "stream",
     "text": [
      "saving info to file: ../final/ml_models/ElasticNet_Poly3_metadata.json {\n",
      "    \"cpu_info\": {\n",
      "        \"arch\": \"X86_64\",\n",
      "        \"bits\": 64,\n",
      "        \"brand_raw\": \"Intel(R) Core(TM) i7-4980HQ CPU @ 2.80GHz\",\n",
      "        \"count\": 8,\n",
      "        \"l2_cache_size\": 262144\n",
      "    },\n",
      "    \"model_params\": {\n",
      "        \"alpha\": 0.0024004134957575202,\n",
      "        \"fit_intercept\": true,\n",
      "        \"l1_ratio\": 0.9137461284265193,\n",
      "        \"max_iter\": 100000,\n",
      "        \"random_state\": 42,\n",
      "        \"tol\": 1e-05\n",
      "    },\n",
      "    \"pca_components\": 12,\n",
      "    \"pca_unexplained_variance_ratio\": 3.734028192154632e-06,\n",
      "    \"test_dataset\": \"[700000:850000] of ../final/dataset.npz\",\n",
      "    \"test_error_absolute\": 15.428062588465753,\n",
      "    \"test_error_orders_of_magnitude\": 0.060384757029121994,\n",
      "    \"test_evaluation_s\": 0,\n",
      "    \"train_dataset\": \"[:700000] of ../final/dataset.npz\",\n",
      "    \"train_error_absolute\": 0.032886178495126615,\n",
      "    \"train_error_orders_of_magnitude\": 0.06030213456691044,\n",
      "    \"train_evaluation_s\": 4,\n",
      "    \"training_time_s\": 946,\n",
      "    \"tumour_lower_size_limit_l\": 1e-07,\n",
      "    \"tumour_lower_size_limit_log10_l\": -7\n",
      "}\n"
     ]
    },
    {
     "name": "stderr",
     "output_type": "stream",
     "text": [
      "\u001B[32m[I 2023-05-13 15:59:27,871]\u001B[0m Trial 29 pruned. \u001B[0m\n"
     ]
    }
   ],
   "source": [
    "# Linear regression with combined L1 and L2 priors as regularizer\n",
    "from sklearn.linear_model import ElasticNet\n",
    "\n",
    "MAX_POLYNOMIAL_DEGREE = 3\n",
    "common_params = {\n",
    "    \"random_state\": 42,\n",
    "    \"tol\": 1e-5,\n",
    "    \"max_iter\": 100000\n",
    "}\n",
    "\n",
    "for polynomial_degree in range(1, MAX_POLYNOMIAL_DEGREE + 1):\n",
    "    def objective(trial):\n",
    "        global common_params, polynomial_degree\n",
    "\n",
    "        trial.set_user_attr(\"model_params\", {\n",
    "            **common_params,\n",
    "            \"l1_ratio\": trial.suggest_float(\"l1_ratio\", 0.0, 1.0),\n",
    "            \"alpha\": trial.suggest_float(\"alpha\", 0.00001, 1.0, log=True),\n",
    "            \"fit_intercept\": trial.suggest_categorical(\"fit_intercept\", [True, False])\n",
    "        })\n",
    "\n",
    "        trial.set_user_attr(\"polynomial degree\", polynomial_degree)\n",
    "\n",
    "        model = make_pipeline(\n",
    "            PolynomialFeatures(trial.user_attrs[\"polynomial degree\"]),\n",
    "            ElasticNet(**trial.user_attrs[\"model_params\"])\n",
    "        )\n",
    "\n",
    "        try:\n",
    "            start_time = time.time()\n",
    "            signal.alarm(polynomial_degree * 400)\n",
    "            model.fit(X_train_scaled, Y_train_pca)\n",
    "            signal.alarm(0)\n",
    "            error = save_best_model(model, trial, time.time() - start_time)\n",
    "        except TimeoutError:\n",
    "            raise optuna.exceptions.TrialPruned()\n",
    "        return error\n",
    "\n",
    "    study = optuna.create_study(study_name=f\"ElasticNet_Poly{polynomial_degree}\", storage='sqlite:///../final/optuna.db', load_if_exists=True)\n",
    "    trials_due = 30 * RUN_ITERATIONS_PERCENT // 100 - len(study.trials)\n",
    "    if trials_due > 0:\n",
    "        study.optimize(objective, n_trials=trials_due)"
   ]
  },
  {
   "cell_type": "code",
   "execution_count": 12,
   "metadata": {},
   "outputs": [
    {
     "name": "stderr",
     "output_type": "stream",
     "text": [
      "\u001B[32m[I 2023-05-13 15:59:31,862]\u001B[0m A new study created in RDB with name: HistGradientBoostingRegressor\u001B[0m\n"
     ]
    },
    {
     "name": "stdout",
     "output_type": "stream",
     "text": [
      "Updating HistGradientBoostingRegressor.pickle\n"
     ]
    },
    {
     "name": "stderr",
     "output_type": "stream",
     "text": [
      "\u001B[32m[I 2023-05-13 16:04:18,323]\u001B[0m Trial 0 finished with value: 0.09726953281850761 and parameters: {'learning_rate': 0.012788464699690938, 'loss': 'quantile', 'quantile': 0.6139848666263694, 'regularize': True, 'l2_regularization': 0.003027940753436255}. Best is trial 0 with value: 0.09726953281850761.\u001B[0m\n"
     ]
    },
    {
     "name": "stdout",
     "output_type": "stream",
     "text": [
      "saving info to file: ../final/ml_models/HistGradientBoostingRegressor_metadata.json {\n",
      "    \"cpu_info\": {\n",
      "        \"arch\": \"X86_64\",\n",
      "        \"bits\": 64,\n",
      "        \"brand_raw\": \"Intel(R) Core(TM) i7-4980HQ CPU @ 2.80GHz\",\n",
      "        \"count\": 8,\n",
      "        \"l2_cache_size\": 262144\n",
      "    },\n",
      "    \"model_params\": {\n",
      "        \"l2_regularization\": 0.003027940753436255,\n",
      "        \"learning_rate\": 0.012788464699690938,\n",
      "        \"loss\": \"quantile\",\n",
      "        \"max_iter\": 300,\n",
      "        \"quantile\": 0.6139848666263694,\n",
      "        \"random_state\": 42\n",
      "    },\n",
      "    \"pca_components\": 12,\n",
      "    \"pca_unexplained_variance_ratio\": 3.734028192154632e-06,\n",
      "    \"test_dataset\": \"[700000:850000] of ../final/dataset.npz\",\n",
      "    \"test_error_absolute\": 8.858206661868525e-06,\n",
      "    \"test_error_orders_of_magnitude\": 0.09785644714438702,\n",
      "    \"test_evaluation_s\": 6,\n",
      "    \"train_dataset\": \"[:700000] of ../final/dataset.npz\",\n",
      "    \"train_error_absolute\": 8.922498008485992e-06,\n",
      "    \"train_error_orders_of_magnitude\": 0.09726953281850761,\n",
      "    \"train_evaluation_s\": 31,\n",
      "    \"training_time_s\": 205,\n",
      "    \"tumour_lower_size_limit_l\": 1e-07,\n",
      "    \"tumour_lower_size_limit_log10_l\": -7\n",
      "}\n",
      "Updating HistGradientBoostingRegressor.pickle\n"
     ]
    },
    {
     "name": "stderr",
     "output_type": "stream",
     "text": [
      "\u001B[32m[I 2023-05-13 16:05:33,519]\u001B[0m Trial 1 finished with value: 0.0055080509708893555 and parameters: {'learning_rate': 0.27919112061695134, 'loss': 'squared_error', 'regularize': True, 'l2_regularization': 0.003946874579980185}. Best is trial 1 with value: 0.0055080509708893555.\u001B[0m\n"
     ]
    },
    {
     "name": "stdout",
     "output_type": "stream",
     "text": [
      "saving info to file: ../final/ml_models/HistGradientBoostingRegressor_metadata.json {\n",
      "    \"cpu_info\": {\n",
      "        \"arch\": \"X86_64\",\n",
      "        \"bits\": 64,\n",
      "        \"brand_raw\": \"Intel(R) Core(TM) i7-4980HQ CPU @ 2.80GHz\",\n",
      "        \"count\": 8,\n",
      "        \"l2_cache_size\": 262144\n",
      "    },\n",
      "    \"model_params\": {\n",
      "        \"l2_regularization\": 0.003946874579980185,\n",
      "        \"learning_rate\": 0.27919112061695134,\n",
      "        \"loss\": \"squared_error\",\n",
      "        \"max_iter\": 300,\n",
      "        \"random_state\": 42\n",
      "    },\n",
      "    \"pca_components\": 12,\n",
      "    \"pca_unexplained_variance_ratio\": 3.734028192154632e-06,\n",
      "    \"test_dataset\": \"[700000:850000] of ../final/dataset.npz\",\n",
      "    \"test_error_absolute\": 4.468738416227261e-07,\n",
      "    \"test_error_orders_of_magnitude\": 0.006762567562050546,\n",
      "    \"test_evaluation_s\": 2,\n",
      "    \"train_dataset\": \"[:700000] of ../final/dataset.npz\",\n",
      "    \"train_error_absolute\": 4.2087846333469234e-07,\n",
      "    \"train_error_orders_of_magnitude\": 0.0055080509708893555,\n",
      "    \"train_evaluation_s\": 12,\n",
      "    \"training_time_s\": 34,\n",
      "    \"tumour_lower_size_limit_l\": 1e-07,\n",
      "    \"tumour_lower_size_limit_log10_l\": -7\n",
      "}\n"
     ]
    },
    {
     "name": "stderr",
     "output_type": "stream",
     "text": [
      "\u001B[32m[I 2023-05-13 16:07:11,585]\u001B[0m Trial 2 finished with value: 0.6661385212053471 and parameters: {'learning_rate': 0.00014434558886191495, 'loss': 'squared_error', 'regularize': False}. Best is trial 1 with value: 0.0055080509708893555.\u001B[0m\n",
      "\u001B[32m[I 2023-05-13 16:08:58,896]\u001B[0m Trial 3 finished with value: 0.6321262783388306 and parameters: {'learning_rate': 0.0002622886139614974, 'loss': 'squared_error', 'regularize': False}. Best is trial 1 with value: 0.0055080509708893555.\u001B[0m\n",
      "\u001B[32m[I 2023-05-13 16:12:37,702]\u001B[0m Trial 4 finished with value: 0.0913547068438512 and parameters: {'learning_rate': 0.020364581249716747, 'loss': 'absolute_error', 'regularize': True, 'l2_regularization': 1.9052957777440603e-05}. Best is trial 1 with value: 0.0055080509708893555.\u001B[0m\n",
      "\u001B[32m[I 2023-05-13 16:16:17,190]\u001B[0m Trial 5 finished with value: 0.9487183351652934 and parameters: {'learning_rate': 0.0006626896629966801, 'loss': 'quantile', 'quantile': 0.22601338605733323, 'regularize': True, 'l2_regularization': 0.0014185986551158204}. Best is trial 1 with value: 0.0055080509708893555.\u001B[0m\n",
      "\u001B[32m[I 2023-05-13 16:19:09,335]\u001B[0m Trial 6 finished with value: 0.011543897800932566 and parameters: {'learning_rate': 0.2849919816200284, 'loss': 'absolute_error', 'regularize': False}. Best is trial 1 with value: 0.0055080509708893555.\u001B[0m\n",
      "\u001B[32m[I 2023-05-13 16:22:07,137]\u001B[0m Trial 7 finished with value: 0.011147062325626617 and parameters: {'learning_rate': 0.18557483385119694, 'loss': 'absolute_error', 'regularize': False}. Best is trial 1 with value: 0.0055080509708893555.\u001B[0m\n",
      "\u001B[32m[I 2023-05-13 16:25:55,659]\u001B[0m Trial 8 finished with value: 0.046950447101185164 and parameters: {'learning_rate': 0.033269555820726285, 'loss': 'quantile', 'quantile': 0.7892332344347606, 'regularize': True, 'l2_regularization': 0.0023410587190419167}. Best is trial 1 with value: 0.0055080509708893555.\u001B[0m\n",
      "\u001B[32m[I 2023-05-13 16:29:29,571]\u001B[0m Trial 9 finished with value: 0.6109876771671927 and parameters: {'learning_rate': 0.0009332710098141499, 'loss': 'absolute_error', 'regularize': False}. Best is trial 1 with value: 0.0055080509708893555.\u001B[0m\n",
      "\u001B[32m[I 2023-05-13 16:30:42,814]\u001B[0m Trial 10 finished with value: 0.7058972097862284 and parameters: {'learning_rate': 1.571401472595434e-05, 'loss': 'squared_error', 'regularize': True, 'l2_regularization': 0.8430933799634871}. Best is trial 1 with value: 0.0055080509708893555.\u001B[0m\n",
      "\u001B[32m[I 2023-05-13 16:33:30,882]\u001B[0m Trial 11 finished with value: 0.011963827204618695 and parameters: {'learning_rate': 0.45544096083295316, 'loss': 'absolute_error', 'regularize': False}. Best is trial 1 with value: 0.0055080509708893555.\u001B[0m\n",
      "\u001B[32m[I 2023-05-13 16:34:41,607]\u001B[0m Trial 12 finished with value: 0.006246264610522609 and parameters: {'learning_rate': 0.07834348672596748, 'loss': 'squared_error', 'regularize': False}. Best is trial 1 with value: 0.0055080509708893555.\u001B[0m\n",
      "\u001B[32m[I 2023-05-13 16:35:57,339]\u001B[0m Trial 13 finished with value: 0.0066153917949245845 and parameters: {'learning_rate': 0.05534243905227569, 'loss': 'squared_error', 'regularize': True, 'l2_regularization': 0.1423365263934886}. Best is trial 1 with value: 0.0055080509708893555.\u001B[0m\n",
      "\u001B[32m[I 2023-05-13 16:37:51,730]\u001B[0m Trial 14 finished with value: 0.1203213296539211 and parameters: {'learning_rate': 0.005118318109340234, 'loss': 'squared_error', 'regularize': False}. Best is trial 1 with value: 0.0055080509708893555.\u001B[0m\n",
      "\u001B[32m[I 2023-05-13 16:38:57,542]\u001B[0m Trial 15 finished with value: 0.005675678273499689 and parameters: {'learning_rate': 0.10170366748346403, 'loss': 'squared_error', 'regularize': True, 'l2_regularization': 0.026112473243021753}. Best is trial 1 with value: 0.0055080509708893555.\u001B[0m\n"
     ]
    },
    {
     "name": "stdout",
     "output_type": "stream",
     "text": [
      "Updating HistGradientBoostingRegressor.pickle\n"
     ]
    },
    {
     "name": "stderr",
     "output_type": "stream",
     "text": [
      "\u001B[32m[I 2023-05-13 16:40:31,720]\u001B[0m Trial 16 finished with value: 0.00511429448211994 and parameters: {'learning_rate': 0.12343272587970283, 'loss': 'squared_error', 'regularize': True, 'l2_regularization': 0.03924432555669023}. Best is trial 16 with value: 0.00511429448211994.\u001B[0m\n"
     ]
    },
    {
     "name": "stdout",
     "output_type": "stream",
     "text": [
      "saving info to file: ../final/ml_models/HistGradientBoostingRegressor_metadata.json {\n",
      "    \"cpu_info\": {\n",
      "        \"arch\": \"X86_64\",\n",
      "        \"bits\": 64,\n",
      "        \"brand_raw\": \"Intel(R) Core(TM) i7-4980HQ CPU @ 2.80GHz\",\n",
      "        \"count\": 8,\n",
      "        \"l2_cache_size\": 262144\n",
      "    },\n",
      "    \"model_params\": {\n",
      "        \"l2_regularization\": 0.03924432555669023,\n",
      "        \"learning_rate\": 0.12343272587970283,\n",
      "        \"loss\": \"squared_error\",\n",
      "        \"max_iter\": 300,\n",
      "        \"random_state\": 42\n",
      "    },\n",
      "    \"pca_components\": 12,\n",
      "    \"pca_unexplained_variance_ratio\": 3.734028192154632e-06,\n",
      "    \"test_dataset\": \"[700000:850000] of ../final/dataset.npz\",\n",
      "    \"test_error_absolute\": 3.875473261308805e-07,\n",
      "    \"test_error_orders_of_magnitude\": 0.0059257176241073965,\n",
      "    \"test_evaluation_s\": 3,\n",
      "    \"train_dataset\": \"[:700000] of ../final/dataset.npz\",\n",
      "    \"train_error_absolute\": 3.7573357221162105e-07,\n",
      "    \"train_error_orders_of_magnitude\": 0.00511429448211994,\n",
      "    \"train_evaluation_s\": 16,\n",
      "    \"training_time_s\": 45,\n",
      "    \"tumour_lower_size_limit_l\": 1e-07,\n",
      "    \"tumour_lower_size_limit_log10_l\": -7\n",
      "}\n"
     ]
    },
    {
     "name": "stderr",
     "output_type": "stream",
     "text": [
      "\u001B[32m[I 2023-05-13 16:41:12,683]\u001B[0m Trial 17 finished with value: 0.005416325449528474 and parameters: {'learning_rate': 0.4196928544995198, 'loss': 'squared_error', 'regularize': True, 'l2_regularization': 0.025941727004814775}. Best is trial 16 with value: 0.00511429448211994.\u001B[0m\n",
      "\u001B[32m[I 2023-05-13 16:43:02,415]\u001B[0m Trial 18 finished with value: 0.05395911163023322 and parameters: {'learning_rate': 0.008770666796301176, 'loss': 'squared_error', 'regularize': True, 'l2_regularization': 0.06930770557519951}. Best is trial 16 with value: 0.00511429448211994.\u001B[0m\n",
      "\u001B[32m[I 2023-05-13 16:43:37,799]\u001B[0m Trial 19 finished with value: 0.005283618453912295 and parameters: {'learning_rate': 0.48822655833240447, 'loss': 'squared_error', 'regularize': True, 'l2_regularization': 0.019276903650897015}. Best is trial 16 with value: 0.00511429448211994.\u001B[0m\n",
      "\u001B[32m[I 2023-05-13 16:46:28,604]\u001B[0m Trial 20 finished with value: 1.1614072713619328 and parameters: {'learning_rate': 0.07349288972745939, 'loss': 'quantile', 'quantile': 0.004272375602203282, 'regularize': True, 'l2_regularization': 0.5281860256479647}. Best is trial 16 with value: 0.00511429448211994.\u001B[0m\n",
      "\u001B[32m[I 2023-05-13 16:47:10,630]\u001B[0m Trial 21 finished with value: 0.005472970037745916 and parameters: {'learning_rate': 0.3973703326478256, 'loss': 'squared_error', 'regularize': True, 'l2_regularization': 0.019300813055918926}. Best is trial 16 with value: 0.00511429448211994.\u001B[0m\n",
      "\u001B[32m[I 2023-05-13 16:48:13,511]\u001B[0m Trial 22 finished with value: 0.005184681353383984 and parameters: {'learning_rate': 0.11956867602846814, 'loss': 'squared_error', 'regularize': True, 'l2_regularization': 0.01977496508043149}. Best is trial 16 with value: 0.00511429448211994.\u001B[0m\n",
      "\u001B[32m[I 2023-05-13 16:49:12,661]\u001B[0m Trial 23 finished with value: 0.005258779645278449 and parameters: {'learning_rate': 0.14580841771511593, 'loss': 'squared_error', 'regularize': True, 'l2_regularization': 0.11574845951413812}. Best is trial 16 with value: 0.00511429448211994.\u001B[0m\n",
      "\u001B[32m[I 2023-05-13 16:50:47,984]\u001B[0m Trial 24 finished with value: 0.011308190242123596 and parameters: {'learning_rate': 0.02508061449297029, 'loss': 'squared_error', 'regularize': True, 'l2_regularization': 0.18022182416516222}. Best is trial 16 with value: 0.00511429448211994.\u001B[0m\n",
      "\u001B[32m[I 2023-05-13 16:51:46,145]\u001B[0m Trial 25 finished with value: 0.005297744774474347 and parameters: {'learning_rate': 0.11862722460259735, 'loss': 'squared_error', 'regularize': True, 'l2_regularization': 0.13590824817989844}. Best is trial 16 with value: 0.00511429448211994.\u001B[0m\n",
      "\u001B[32m[I 2023-05-13 16:53:12,946]\u001B[0m Trial 26 finished with value: 0.007528750125147612 and parameters: {'learning_rate': 0.03962542486325507, 'loss': 'squared_error', 'regularize': True, 'l2_regularization': 0.33183637041191916}. Best is trial 16 with value: 0.00511429448211994.\u001B[0m\n"
     ]
    },
    {
     "name": "stdout",
     "output_type": "stream",
     "text": [
      "Updating HistGradientBoostingRegressor.pickle\n"
     ]
    },
    {
     "name": "stderr",
     "output_type": "stream",
     "text": [
      "\u001B[32m[I 2023-05-13 16:54:41,372]\u001B[0m Trial 27 finished with value: 0.005111528911639331 and parameters: {'learning_rate': 0.14917010885982848, 'loss': 'squared_error', 'regularize': True, 'l2_regularization': 0.060548214682941935}. Best is trial 27 with value: 0.005111528911639331.\u001B[0m\n"
     ]
    },
    {
     "name": "stdout",
     "output_type": "stream",
     "text": [
      "saving info to file: ../final/ml_models/HistGradientBoostingRegressor_metadata.json {\n",
      "    \"cpu_info\": {\n",
      "        \"arch\": \"X86_64\",\n",
      "        \"bits\": 64,\n",
      "        \"brand_raw\": \"Intel(R) Core(TM) i7-4980HQ CPU @ 2.80GHz\",\n",
      "        \"count\": 8,\n",
      "        \"l2_cache_size\": 262144\n",
      "    },\n",
      "    \"model_params\": {\n",
      "        \"l2_regularization\": 0.060548214682941935,\n",
      "        \"learning_rate\": 0.14917010885982848,\n",
      "        \"loss\": \"squared_error\",\n",
      "        \"max_iter\": 300,\n",
      "        \"random_state\": 42\n",
      "    },\n",
      "    \"pca_components\": 12,\n",
      "    \"pca_unexplained_variance_ratio\": 3.734028192154632e-06,\n",
      "    \"test_dataset\": \"[700000:850000] of ../final/dataset.npz\",\n",
      "    \"test_error_absolute\": 3.893798346358948e-07,\n",
      "    \"test_error_orders_of_magnitude\": 0.006023018438813232,\n",
      "    \"test_evaluation_s\": 2,\n",
      "    \"train_dataset\": \"[:700000] of ../final/dataset.npz\",\n",
      "    \"train_error_absolute\": 3.924674468531728e-07,\n",
      "    \"train_error_orders_of_magnitude\": 0.005111528911639331,\n",
      "    \"train_evaluation_s\": 15,\n",
      "    \"training_time_s\": 42,\n",
      "    \"tumour_lower_size_limit_l\": 1e-07,\n",
      "    \"tumour_lower_size_limit_log10_l\": -7\n",
      "}\n"
     ]
    },
    {
     "name": "stderr",
     "output_type": "stream",
     "text": [
      "\u001B[32m[I 2023-05-13 16:56:01,103]\u001B[0m Trial 28 finished with value: 0.006995465157179927 and parameters: {'learning_rate': 0.049556969493282775, 'loss': 'squared_error', 'regularize': True, 'l2_regularization': 0.04983711438695983}. Best is trial 27 with value: 0.005111528911639331.\u001B[0m\n",
      "\u001B[32m[I 2023-05-13 16:59:13,458]\u001B[0m Trial 29 finished with value: 0.4124464413658441 and parameters: {'learning_rate': 0.020673876518178213, 'loss': 'quantile', 'quantile': 0.9670871297231192, 'regularize': True, 'l2_regularization': 0.008329799428506974}. Best is trial 27 with value: 0.005111528911639331.\u001B[0m\n"
     ]
    },
    {
     "name": "stdout",
     "output_type": "stream",
     "text": [
      "model: HistGradientBoostingRegressor test dataset error: 0.005111528911639331 best_params: {'l2_regularization': 0.060548214682941935, 'learning_rate': 0.14917010885982848, 'loss': 'squared_error', 'regularize': True}\n"
     ]
    }
   ],
   "source": [
    "from sklearn.multioutput import MultiOutputRegressor\n",
    "from sklearn.ensemble import HistGradientBoostingRegressor\n",
    "\n",
    "def objective(trial):\n",
    "    model_params = {\n",
    "        \"random_state\": 42,\n",
    "        \"learning_rate\": trial.suggest_float(\"learning_rate\", 0.00001, 0.5, log=True),\n",
    "        \"max_iter\": 300,\n",
    "        \"loss\": trial.suggest_categorical(\"loss\", [\"squared_error\", \"absolute_error\", \"quantile\"])\n",
    "    }\n",
    "    if model_params[\"loss\"] == \"quantile\":\n",
    "        model_params[\"quantile\"] = trial.suggest_float(\"quantile\", 0, 1)\n",
    "    if trial.suggest_categorical(\"regularize\", [True, False]):\n",
    "        model_params[\"l2_regularization\"] = trial.suggest_float(\"l2_regularization\", 0.00001, 1.0, log=True)\n",
    "    trial.set_user_attr(\"model_params\", model_params)\n",
    "    \n",
    "    model = MultiOutputRegressor(HistGradientBoostingRegressor(**trial.user_attrs[\"model_params\"]))\n",
    "    \n",
    "    try:\n",
    "        start_time = time.time()\n",
    "        signal.alarm(1200)\n",
    "        model.fit(X_train_scaled, Y_train_pca)\n",
    "        signal.alarm(0)\n",
    "        error = save_best_model(model, trial, time.time() - start_time)\n",
    "    except KeyboardInterrupt as e:\n",
    "        raise e\n",
    "    except Exception as e:\n",
    "        print(e)\n",
    "        raise optuna.exceptions.TrialPruned()\n",
    "    return error\n",
    "\n",
    "study = optuna.create_study(study_name=\"HistGradientBoostingRegressor\", storage='sqlite:///../final/optuna.db', load_if_exists=True)\n",
    "trials_due = 30 * RUN_ITERATIONS_PERCENT // 100 - len(study.trials)\n",
    "if trials_due > 0:\n",
    "    study.optimize(objective, n_trials=trials_due)\n",
    "\n",
    "print(f\"model: {study.study_name} test dataset error: {study.best_value} best_params: {study.best_params}\")"
   ]
  },
  {
   "cell_type": "code",
   "execution_count": 13,
   "metadata": {},
   "outputs": [
    {
     "name": "stderr",
     "output_type": "stream",
     "text": [
      "\u001B[32m[I 2023-05-13 16:59:13,502]\u001B[0m A new study created in RDB with name: BaggingRegressor\u001B[0m\n"
     ]
    },
    {
     "name": "stdout",
     "output_type": "stream",
     "text": [
      "Updating BaggingRegressor.pickle\n",
      "saving info to file: ../final/ml_models/BaggingRegressor_metadata.json {\n",
      "    \"cpu_info\": {\n",
      "        \"arch\": \"X86_64\",\n",
      "        \"bits\": 64,\n",
      "        \"brand_raw\": \"Intel(R) Core(TM) i7-4980HQ CPU @ 2.80GHz\",\n",
      "        \"count\": 8,\n",
      "        \"l2_cache_size\": 262144\n",
      "    },\n",
      "    \"model_params\": {\n",
      "        \"bootstrap\": true,\n",
      "        \"bootstrap_features\": true,\n",
      "        \"max_features\": 1,\n",
      "        \"max_samples\": 560000,\n",
      "        \"n_estimators\": 10,\n",
      "        \"n_jobs\": -1,\n",
      "        \"oob_score\": false,\n",
      "        \"random_state\": 42\n",
      "    },\n",
      "    \"pca_components\": 12,\n",
      "    \"pca_unexplained_variance_ratio\": 3.734028192154632e-06,\n",
      "    \"test_dataset\": \"[700000:850000] of ../final/dataset.npz\",\n",
      "    \"test_error_absolute\": 2.8682605942502633e-05,\n",
      "    \"test_error_orders_of_magnitude\": 0.665031473743712,\n",
      "    \"test_evaluation_s\": 18,\n",
      "    \"train_dataset\": \"[:700000] of ../final/dataset.npz\",\n",
      "    \"train_error_absolute\": 1.4687528331636732e-05,\n",
      "    \"train_error_orders_of_magnitude\": 0.17896202988780224,\n",
      "    \"train_evaluation_s\": 29,\n",
      "    \"training_time_s\": 123,\n",
      "    \"tumour_lower_size_limit_l\": 1e-07,\n",
      "    \"tumour_lower_size_limit_log10_l\": -7\n",
      "}\n"
     ]
    },
    {
     "name": "stderr",
     "output_type": "stream",
     "text": [
      "\u001B[32m[I 2023-05-13 17:03:05,985]\u001B[0m Trial 0 finished with value: 0.17896202988780224 and parameters: {'max_iter': 10, 'max_samples': 560000, 'max_features': 1, 'bootstrap': True, 'bootstrap_features': True, 'oob_score': False}. Best is trial 0 with value: 0.17896202988780224.\u001B[0m\n"
     ]
    },
    {
     "name": "stdout",
     "output_type": "stream",
     "text": [
      "Updating BaggingRegressor.pickle\n",
      "saving info to file: ../final/ml_models/BaggingRegressor_metadata.json {\n",
      "    \"cpu_info\": {\n",
      "        \"arch\": \"X86_64\",\n",
      "        \"bits\": 64,\n",
      "        \"brand_raw\": \"Intel(R) Core(TM) i7-4980HQ CPU @ 2.80GHz\",\n",
      "        \"count\": 8,\n",
      "        \"l2_cache_size\": 262144\n",
      "    },\n",
      "    \"model_params\": {\n",
      "        \"bootstrap\": true,\n",
      "        \"bootstrap_features\": false,\n",
      "        \"max_features\": 8,\n",
      "        \"max_samples\": 280000,\n",
      "        \"n_estimators\": 50,\n",
      "        \"n_jobs\": -1,\n",
      "        \"oob_score\": false,\n",
      "        \"random_state\": 42\n",
      "    },\n",
      "    \"pca_components\": 12,\n",
      "    \"pca_unexplained_variance_ratio\": 3.734028192154632e-06,\n",
      "    \"test_dataset\": \"[700000:850000] of ../final/dataset.npz\",\n",
      "    \"test_error_absolute\": 5.287191893009904e-06,\n",
      "    \"test_error_orders_of_magnitude\": 0.05399604706195852,\n",
      "    \"test_evaluation_s\": 100,\n",
      "    \"train_dataset\": \"[:700000] of ../final/dataset.npz\",\n",
      "    \"train_error_absolute\": 2.914445900055378e-06,\n",
      "    \"train_error_orders_of_magnitude\": 0.025699292763108773,\n",
      "    \"train_evaluation_s\": 116,\n",
      "    \"training_time_s\": 662,\n",
      "    \"tumour_lower_size_limit_l\": 1e-07,\n",
      "    \"tumour_lower_size_limit_log10_l\": -7\n",
      "}\n"
     ]
    },
    {
     "name": "stderr",
     "output_type": "stream",
     "text": [
      "\u001B[32m[I 2023-05-13 17:22:12,592]\u001B[0m Trial 1 finished with value: 0.025699292763108773 and parameters: {'max_iter': 50, 'max_samples': 280000, 'max_features': 8, 'bootstrap': True, 'bootstrap_features': False, 'oob_score': False}. Best is trial 1 with value: 0.025699292763108773.\u001B[0m\n"
     ]
    },
    {
     "name": "stdout",
     "output_type": "stream",
     "text": [
      "Updating BaggingRegressor.pickle\n",
      "saving info to file: ../final/ml_models/BaggingRegressor_metadata.json {\n",
      "    \"cpu_info\": {\n",
      "        \"arch\": \"X86_64\",\n",
      "        \"bits\": 64,\n",
      "        \"brand_raw\": \"Intel(R) Core(TM) i7-4980HQ CPU @ 2.80GHz\",\n",
      "        \"count\": 8,\n",
      "        \"l2_cache_size\": 262144\n",
      "    },\n",
      "    \"model_params\": {\n",
      "        \"bootstrap\": false,\n",
      "        \"bootstrap_features\": false,\n",
      "        \"max_features\": 9,\n",
      "        \"max_samples\": 170000,\n",
      "        \"n_estimators\": 70,\n",
      "        \"n_jobs\": -1,\n",
      "        \"random_state\": 42\n",
      "    },\n",
      "    \"pca_components\": 12,\n",
      "    \"pca_unexplained_variance_ratio\": 3.734028192154632e-06,\n",
      "    \"test_dataset\": \"[700000:850000] of ../final/dataset.npz\",\n",
      "    \"test_error_absolute\": 2.378847908435975e-06,\n",
      "    \"test_error_orders_of_magnitude\": 0.03102420691990865,\n",
      "    \"test_evaluation_s\": 101,\n",
      "    \"train_dataset\": \"[:700000] of ../final/dataset.npz\",\n",
      "    \"train_error_absolute\": 1.5363533645967157e-06,\n",
      "    \"train_error_orders_of_magnitude\": 0.018346702107489555,\n",
      "    \"train_evaluation_s\": 135,\n",
      "    \"training_time_s\": 670,\n",
      "    \"tumour_lower_size_limit_l\": 1e-07,\n",
      "    \"tumour_lower_size_limit_log10_l\": -7\n",
      "}\n"
     ]
    },
    {
     "name": "stderr",
     "output_type": "stream",
     "text": [
      "\u001B[32m[I 2023-05-13 17:41:51,876]\u001B[0m Trial 2 finished with value: 0.018346702107489555 and parameters: {'max_iter': 70, 'max_samples': 170000, 'max_features': 9, 'bootstrap': False, 'bootstrap_features': False}. Best is trial 2 with value: 0.018346702107489555.\u001B[0m\n",
      "\u001B[32m[I 2023-05-13 17:43:36,683]\u001B[0m Trial 3 finished with value: 0.34044016164299606 and parameters: {'max_iter': 10, 'max_samples': 170000, 'max_features': 3, 'bootstrap': False, 'bootstrap_features': True}. Best is trial 2 with value: 0.018346702107489555.\u001B[0m\n",
      "\u001B[32m[I 2023-05-13 18:03:38,214]\u001B[0m Trial 4 pruned. \u001B[0m\n"
     ]
    },
    {
     "name": "stdout",
     "output_type": "stream",
     "text": [
      "timeout (14, <frame at 0x13b9fe5e0, file '/usr/local/Cellar/python@3.11/3.11.2_1/Frameworks/Python.framework/Versions/3.11/lib/python3.11/threading.py', line 320, code wait>)\n",
      "Updating BaggingRegressor.pickle\n",
      "saving info to file: ../final/ml_models/BaggingRegressor_metadata.json {\n",
      "    \"cpu_info\": {\n",
      "        \"arch\": \"X86_64\",\n",
      "        \"bits\": 64,\n",
      "        \"brand_raw\": \"Intel(R) Core(TM) i7-4980HQ CPU @ 2.80GHz\",\n",
      "        \"count\": 8,\n",
      "        \"l2_cache_size\": 262144\n",
      "    },\n",
      "    \"model_params\": {\n",
      "        \"bootstrap\": false,\n",
      "        \"bootstrap_features\": true,\n",
      "        \"max_features\": 10,\n",
      "        \"max_samples\": 700000,\n",
      "        \"n_estimators\": 10,\n",
      "        \"n_jobs\": -1,\n",
      "        \"random_state\": 42\n",
      "    },\n",
      "    \"pca_components\": 12,\n",
      "    \"pca_unexplained_variance_ratio\": 3.734028192154632e-06,\n",
      "    \"test_dataset\": \"[700000:850000] of ../final/dataset.npz\",\n",
      "    \"test_error_absolute\": 1.1491537282728427e-05,\n",
      "    \"test_error_orders_of_magnitude\": 0.15965833670888124,\n",
      "    \"test_evaluation_s\": 35,\n",
      "    \"train_dataset\": \"[:700000] of ../final/dataset.npz\",\n",
      "    \"train_error_absolute\": 2.9039721254189647e-11,\n",
      "    \"train_error_orders_of_magnitude\": 2.1737874184846305e-06,\n",
      "    \"train_evaluation_s\": 50,\n",
      "    \"training_time_s\": 733,\n",
      "    \"tumour_lower_size_limit_l\": 1e-07,\n",
      "    \"tumour_lower_size_limit_log10_l\": -7\n",
      "}\n"
     ]
    },
    {
     "name": "stderr",
     "output_type": "stream",
     "text": [
      "\u001B[32m[I 2023-05-13 18:19:38,304]\u001B[0m Trial 5 finished with value: 2.1737874184846305e-06 and parameters: {'max_iter': 10, 'max_samples': 700000, 'max_features': 10, 'bootstrap': False, 'bootstrap_features': True}. Best is trial 5 with value: 2.1737874184846305e-06.\u001B[0m\n",
      "\u001B[32m[I 2023-05-13 18:39:38,755]\u001B[0m Trial 6 pruned. \u001B[0m\n"
     ]
    },
    {
     "name": "stdout",
     "output_type": "stream",
     "text": [
      "timeout (14, <frame at 0x12d7e27a0, file '/usr/local/Cellar/python@3.11/3.11.2_1/Frameworks/Python.framework/Versions/3.11/lib/python3.11/threading.py', line 320, code wait>)\n"
     ]
    },
    {
     "name": "stderr",
     "output_type": "stream",
     "text": [
      "\u001B[32m[I 2023-05-13 18:59:39,906]\u001B[0m Trial 7 pruned. \u001B[0m\n"
     ]
    },
    {
     "name": "stdout",
     "output_type": "stream",
     "text": [
      "timeout (14, <frame at 0x13dafc040, file '/usr/local/Cellar/python@3.11/3.11.2_1/Frameworks/Python.framework/Versions/3.11/lib/python3.11/threading.py', line 320, code wait>)\n"
     ]
    },
    {
     "name": "stderr",
     "output_type": "stream",
     "text": [
      "\u001B[32m[I 2023-05-13 19:08:21,606]\u001B[0m Trial 8 finished with value: 0.06538510801012748 and parameters: {'max_iter': 30, 'max_samples': 330000, 'max_features': 5, 'bootstrap': False, 'bootstrap_features': False}. Best is trial 5 with value: 2.1737874184846305e-06.\u001B[0m\n",
      "\u001B[32m[I 2023-05-13 19:10:48,058]\u001B[0m Trial 9 finished with value: 0.2480591253538173 and parameters: {'max_iter': 10, 'max_samples': 260000, 'max_features': 3, 'bootstrap': False, 'bootstrap_features': True}. Best is trial 5 with value: 2.1737874184846305e-06.\u001B[0m\n",
      "\u001B[32m[I 2023-05-13 19:31:49,814]\u001B[0m Trial 10 finished with value: 0.01641297137140011 and parameters: {'max_iter': 50, 'max_samples': 450000, 'max_features': 8, 'bootstrap': True, 'bootstrap_features': False, 'oob_score': True}. Best is trial 5 with value: 2.1737874184846305e-06.\u001B[0m\n",
      "\u001B[32m[I 2023-05-13 19:54:16,352]\u001B[0m Trial 11 finished with value: 0.0026768677691236665 and parameters: {'max_iter': 50, 'max_samples': 480000, 'max_features': 10, 'bootstrap': True, 'bootstrap_features': False, 'oob_score': True}. Best is trial 5 with value: 2.1737874184846305e-06.\u001B[0m\n",
      "\u001B[32m[I 2023-05-13 20:09:11,845]\u001B[0m Trial 12 finished with value: 0.002274094437896663 and parameters: {'max_iter': 30, 'max_samples': 570000, 'max_features': 10, 'bootstrap': True, 'bootstrap_features': False, 'oob_score': True}. Best is trial 5 with value: 2.1737874184846305e-06.\u001B[0m\n",
      "\u001B[32m[I 2023-05-13 20:24:41,817]\u001B[0m Trial 13 finished with value: 0.002040012850958716 and parameters: {'max_iter': 30, 'max_samples': 610000, 'max_features': 10, 'bootstrap': True, 'bootstrap_features': False, 'oob_score': True}. Best is trial 5 with value: 2.1737874184846305e-06.\u001B[0m\n",
      "\u001B[32m[I 2023-05-13 20:38:10,303]\u001B[0m Trial 14 finished with value: 0.019051265449621674 and parameters: {'max_iter': 30, 'max_samples': 610000, 'max_features': 7, 'bootstrap': True, 'bootstrap_features': False, 'oob_score': True}. Best is trial 5 with value: 2.1737874184846305e-06.\u001B[0m\n",
      "\u001B[32m[I 2023-05-13 20:39:09,686]\u001B[0m Trial 15 finished with value: 0.274964627776183 and parameters: {'max_iter': 30, 'max_samples': 20000, 'max_features': 7, 'bootstrap': False, 'bootstrap_features': True}. Best is trial 5 with value: 2.1737874184846305e-06.\u001B[0m\n",
      "\u001B[32m[I 2023-05-13 20:50:35,307]\u001B[0m Trial 16 finished with value: 0.00669096158601711 and parameters: {'max_iter': 10, 'max_samples': 630000, 'max_features': 10, 'bootstrap': False, 'bootstrap_features': True}. Best is trial 5 with value: 2.1737874184846305e-06.\u001B[0m\n",
      "\u001B[32m[I 2023-05-13 21:10:37,502]\u001B[0m Trial 17 pruned. \u001B[0m\n"
     ]
    },
    {
     "name": "stdout",
     "output_type": "stream",
     "text": [
      "timeout (14, <frame at 0x13dafc040, file '/usr/local/Cellar/python@3.11/3.11.2_1/Frameworks/Python.framework/Versions/3.11/lib/python3.11/threading.py', line 320, code wait>)\n"
     ]
    },
    {
     "name": "stderr",
     "output_type": "stream",
     "text": [
      "\u001B[32m[I 2023-05-13 21:26:53,072]\u001B[0m Trial 18 finished with value: 0.05256816425607808 and parameters: {'max_iter': 30, 'max_samples': 530000, 'max_features': 9, 'bootstrap': True, 'bootstrap_features': True, 'oob_score': True}. Best is trial 5 with value: 2.1737874184846305e-06.\u001B[0m\n",
      "\u001B[32m[I 2023-05-13 21:34:48,205]\u001B[0m Trial 19 finished with value: 2.173787418484952e-06 and parameters: {'max_iter': 10, 'max_samples': 700000, 'max_features': 6, 'bootstrap': False, 'bootstrap_features': False}. Best is trial 5 with value: 2.1737874184846305e-06.\u001B[0m\n",
      "\u001B[32m[I 2023-05-13 21:42:40,893]\u001B[0m Trial 20 finished with value: 2.173787418484952e-06 and parameters: {'max_iter': 10, 'max_samples': 700000, 'max_features': 6, 'bootstrap': False, 'bootstrap_features': False}. Best is trial 5 with value: 2.1737874184846305e-06.\u001B[0m\n",
      "\u001B[32m[I 2023-05-13 21:50:37,519]\u001B[0m Trial 21 finished with value: 2.173787418484952e-06 and parameters: {'max_iter': 10, 'max_samples': 700000, 'max_features': 6, 'bootstrap': False, 'bootstrap_features': False}. Best is trial 5 with value: 2.1737874184846305e-06.\u001B[0m\n",
      "\u001B[32m[I 2023-05-13 21:57:55,508]\u001B[0m Trial 22 finished with value: 0.005830614027445979 and parameters: {'max_iter': 10, 'max_samples': 650000, 'max_features': 6, 'bootstrap': False, 'bootstrap_features': False}. Best is trial 5 with value: 2.1737874184846305e-06.\u001B[0m\n",
      "\u001B[32m[I 2023-05-13 22:04:42,858]\u001B[0m Trial 23 finished with value: 2.173787418484821e-06 and parameters: {'max_iter': 10, 'max_samples': 700000, 'max_features': 4, 'bootstrap': False, 'bootstrap_features': False}. Best is trial 5 with value: 2.1737874184846305e-06.\u001B[0m\n",
      "\u001B[32m[I 2023-05-13 22:10:17,300]\u001B[0m Trial 24 finished with value: 0.02217694835551354 and parameters: {'max_iter': 10, 'max_samples': 590000, 'max_features': 4, 'bootstrap': False, 'bootstrap_features': False}. Best is trial 5 with value: 2.1737874184846305e-06.\u001B[0m\n",
      "\u001B[32m[I 2023-05-13 22:21:09,723]\u001B[0m Trial 25 finished with value: 0.03257185253294659 and parameters: {'max_iter': 30, 'max_samples': 540000, 'max_features': 2, 'bootstrap': False, 'bootstrap_features': False}. Best is trial 5 with value: 2.1737874184846305e-06.\u001B[0m\n",
      "\u001B[32m[I 2023-05-13 22:41:11,161]\u001B[0m Trial 26 pruned. \u001B[0m\n"
     ]
    },
    {
     "name": "stdout",
     "output_type": "stream",
     "text": [
      "timeout (14, <frame at 0x1068d8200, file '/usr/local/Cellar/python@3.11/3.11.2_1/Frameworks/Python.framework/Versions/3.11/lib/python3.11/threading.py', line 320, code wait>)\n"
     ]
    },
    {
     "name": "stderr",
     "output_type": "stream",
     "text": [
      "\u001B[32m[I 2023-05-13 22:46:01,830]\u001B[0m Trial 27 finished with value: 0.0468156136399219 and parameters: {'max_iter': 10, 'max_samples': 510000, 'max_features': 4, 'bootstrap': False, 'bootstrap_features': False}. Best is trial 5 with value: 2.1737874184846305e-06.\u001B[0m\n",
      "\u001B[32m[I 2023-05-13 23:06:03,106]\u001B[0m Trial 28 pruned. \u001B[0m\n"
     ]
    },
    {
     "name": "stdout",
     "output_type": "stream",
     "text": [
      "timeout (14, <frame at 0x1068d8200, file '/usr/local/Cellar/python@3.11/3.11.2_1/Frameworks/Python.framework/Versions/3.11/lib/python3.11/threading.py', line 320, code wait>)\n"
     ]
    },
    {
     "name": "stderr",
     "output_type": "stream",
     "text": [
      "\u001B[32m[I 2023-05-13 23:09:12,448]\u001B[0m Trial 29 finished with value: 0.13709679861002338 and parameters: {'max_iter': 10, 'max_samples': 440000, 'max_features': 1, 'bootstrap': False, 'bootstrap_features': True}. Best is trial 5 with value: 2.1737874184846305e-06.\u001B[0m\n"
     ]
    },
    {
     "name": "stdout",
     "output_type": "stream",
     "text": [
      "model: BaggingRegressor test dataset error: 2.1737874184846305e-06 best_params: {'bootstrap': False, 'bootstrap_features': True, 'max_features': 10, 'max_iter': 10, 'max_samples': 700000}\n"
     ]
    }
   ],
   "source": [
    "from sklearn.multioutput import MultiOutputRegressor\n",
    "from sklearn.ensemble import BaggingRegressor\n",
    "\n",
    "def objective(trial):\n",
    "    global X_train_scaled, train_size\n",
    "    \n",
    "    model_params = {\n",
    "        \"n_jobs\": -1,\n",
    "        \"random_state\": 42,\n",
    "        \"n_estimators\": trial.suggest_int(\"max_iter\", 10, 110, step=20),\n",
    "        \"max_samples\": trial.suggest_int(\"max_samples\", 10000, (train_size // 10000) * 10000, step=10000),\n",
    "        \"max_features\": trial.suggest_int(\"max_features\", 1, X_train_scaled.shape[1]),\n",
    "        \"bootstrap\": trial.suggest_categorical(\"bootstrap\", [True, False]),\n",
    "        \"bootstrap_features\": trial.suggest_categorical(\"bootstrap_features\", [True, False])\n",
    "    }\n",
    "    \n",
    "    if model_params[\"bootstrap\"]:\n",
    "        model_params[\"oob_score\"] = trial.suggest_categorical(\"oob_score\", [True, False])\n",
    "\n",
    "    trial.set_user_attr(\"model_params\", model_params)\n",
    "    \n",
    "    model = MultiOutputRegressor(BaggingRegressor(**trial.user_attrs[\"model_params\"]))\n",
    "    \n",
    "    try:\n",
    "        start_time = time.time()\n",
    "        signal.alarm(1200)\n",
    "        model.fit(X_train_scaled, Y_train_pca)\n",
    "        signal.alarm(0)\n",
    "        error = save_best_model(model, trial, time.time() - start_time)\n",
    "    except KeyboardInterrupt as e:\n",
    "        raise e\n",
    "    except Exception as e:\n",
    "        print(e)\n",
    "        raise optuna.exceptions.TrialPruned()\n",
    "    return error\n",
    "\n",
    "study = optuna.create_study(study_name=\"BaggingRegressor\", storage='sqlite:///../final/optuna.db', load_if_exists=True)\n",
    "trials_due = 30 * RUN_ITERATIONS_PERCENT // 100 - len(study.trials)\n",
    "if trials_due > 0:\n",
    "    study.optimize(objective, n_trials=trials_due)\n",
    "    \n",
    "print(f\"model: {study.study_name} test dataset error: {study.best_value} best_params: {study.best_params}\")"
   ]
  },
  {
   "cell_type": "code",
   "execution_count": 14,
   "metadata": {},
   "outputs": [
    {
     "name": "stderr",
     "output_type": "stream",
     "text": [
      "\u001B[32m[I 2023-05-13 23:09:14,352]\u001B[0m A new study created in RDB with name: RandomForrest\u001B[0m\n"
     ]
    },
    {
     "name": "stdout",
     "output_type": "stream",
     "text": [
      "Updating RandomForrest.pickle\n"
     ]
    },
    {
     "name": "stderr",
     "output_type": "stream",
     "text": [
      "\u001B[32m[I 2023-05-13 23:09:41,885]\u001B[0m Trial 0 finished with value: 0.051278444464499556 and parameters: {'n_estimators': 20, 'criterion': 'friedman_mse', 'min_samples_split': 2, 'bootstrap': True, 'max_samples': 0.010880716371012645, 'max_features': 3}. Best is trial 0 with value: 0.051278444464499556.\u001B[0m\n"
     ]
    },
    {
     "name": "stdout",
     "output_type": "stream",
     "text": [
      "saving info to file: ../final/ml_models/RandomForrest_metadata.json {\n",
      "    \"cpu_info\": {\n",
      "        \"arch\": \"X86_64\",\n",
      "        \"bits\": 64,\n",
      "        \"brand_raw\": \"Intel(R) Core(TM) i7-4980HQ CPU @ 2.80GHz\",\n",
      "        \"count\": 8,\n",
      "        \"l2_cache_size\": 262144\n",
      "    },\n",
      "    \"model_params\": {\n",
      "        \"bootstrap\": true,\n",
      "        \"criterion\": \"friedman_mse\",\n",
      "        \"max_features\": 3,\n",
      "        \"max_samples\": 0.010880716371012645,\n",
      "        \"min_samples_split\": 2,\n",
      "        \"n_estimators\": 20,\n",
      "        \"n_jobs\": -1,\n",
      "        \"random_state\": 42\n",
      "    },\n",
      "    \"pca_components\": 12,\n",
      "    \"pca_unexplained_variance_ratio\": 3.734028192154632e-06,\n",
      "    \"test_dataset\": \"[700000:850000] of ../final/dataset.npz\",\n",
      "    \"test_error_absolute\": 4.437160923391838e-06,\n",
      "    \"test_error_orders_of_magnitude\": 0.05234513534132823,\n",
      "    \"test_evaluation_s\": 0,\n",
      "    \"train_dataset\": \"[:700000] of ../final/dataset.npz\",\n",
      "    \"train_error_absolute\": 4.417812521255455e-06,\n",
      "    \"train_error_orders_of_magnitude\": 0.05127844446449956,\n",
      "    \"train_evaluation_s\": 2,\n",
      "    \"training_time_s\": 0,\n",
      "    \"tumour_lower_size_limit_l\": 1e-07,\n",
      "    \"tumour_lower_size_limit_log10_l\": -7\n",
      "}\n",
      "Updating RandomForrest.pickle\n",
      "saving info to file: ../final/ml_models/RandomForrest_metadata.json {\n",
      "    \"cpu_info\": {\n",
      "        \"arch\": \"X86_64\",\n",
      "        \"bits\": 64,\n",
      "        \"brand_raw\": \"Intel(R) Core(TM) i7-4980HQ CPU @ 2.80GHz\",\n",
      "        \"count\": 8,\n",
      "        \"l2_cache_size\": 262144\n",
      "    },\n",
      "    \"model_params\": {\n",
      "        \"bootstrap\": true,\n",
      "        \"criterion\": \"friedman_mse\",\n",
      "        \"max_features\": 5,\n",
      "        \"max_samples\": 0.10623906238979836,\n",
      "        \"min_samples_split\": 3,\n",
      "        \"n_estimators\": 80,\n",
      "        \"n_jobs\": -1,\n",
      "        \"random_state\": 42\n",
      "    },\n",
      "    \"pca_components\": 12,\n",
      "    \"pca_unexplained_variance_ratio\": 3.734028192154632e-06,\n",
      "    \"test_dataset\": \"[700000:850000] of ../final/dataset.npz\",\n",
      "    \"test_error_absolute\": 1.797538353512528e-06,\n",
      "    \"test_error_orders_of_magnitude\": 0.015373743026154942,\n",
      "    \"test_evaluation_s\": 1,\n",
      "    \"train_dataset\": \"[:700000] of ../final/dataset.npz\",\n",
      "    \"train_error_absolute\": 1.5741078636385444e-06,\n",
      "    \"train_error_orders_of_magnitude\": 0.012829197714807491,\n",
      "    \"train_evaluation_s\": 5,\n",
      "    \"training_time_s\": 12,\n",
      "    \"tumour_lower_size_limit_l\": 1e-07,\n",
      "    \"tumour_lower_size_limit_log10_l\": -7\n",
      "}\n"
     ]
    },
    {
     "name": "stderr",
     "output_type": "stream",
     "text": [
      "\u001B[32m[I 2023-05-13 23:10:24,161]\u001B[0m Trial 1 finished with value: 0.012829197714807491 and parameters: {'n_estimators': 80, 'criterion': 'friedman_mse', 'min_samples_split': 3, 'bootstrap': True, 'max_samples': 0.10623906238979836, 'max_features': 5}. Best is trial 1 with value: 0.012829197714807491.\u001B[0m\n",
      "\u001B[32m[I 2023-05-13 23:40:24,169]\u001B[0m Trial 2 pruned. \u001B[0m\n",
      "\u001B[32m[I 2023-05-14 00:10:24,177]\u001B[0m Trial 3 pruned. \u001B[0m\n",
      "\u001B[32m[I 2023-05-14 00:10:55,023]\u001B[0m Trial 4 finished with value: 0.017217989045860554 and parameters: {'n_estimators': 20, 'criterion': 'friedman_mse', 'min_samples_split': 4, 'bootstrap': True, 'max_samples': 0.1458656423181615, 'max_features': 3}. Best is trial 1 with value: 0.012829197714807491.\u001B[0m\n",
      "\u001B[32m[I 2023-05-14 00:11:25,867]\u001B[0m Trial 5 finished with value: 0.029859604165352112 and parameters: {'n_estimators': 20, 'criterion': 'friedman_mse', 'min_samples_split': 4, 'bootstrap': True, 'max_samples': 0.1493177200896542, 'max_features': 2}. Best is trial 1 with value: 0.012829197714807491.\u001B[0m\n",
      "\u001B[32m[I 2023-05-14 00:11:41,476]\u001B[0m Trial 6 finished with value: 0.21983442889540947 and parameters: {'n_estimators': 20, 'criterion': 'friedman_mse', 'min_samples_split': 4, 'bootstrap': True, 'max_samples': 0.003857218995365508, 'max_features': 1}. Best is trial 1 with value: 0.012829197714807491.\u001B[0m\n",
      "\u001B[32m[I 2023-05-14 00:12:05,565]\u001B[0m Trial 7 finished with value: 0.031150278795288783 and parameters: {'n_estimators': 60, 'criterion': 'squared_error', 'min_samples_split': 2, 'bootstrap': True, 'max_samples': 0.013399223874971257, 'max_features': 5}. Best is trial 1 with value: 0.012829197714807491.\u001B[0m\n",
      "\u001B[32m[I 2023-05-14 00:13:08,137]\u001B[0m Trial 8 finished with value: 0.05494227081526515 and parameters: {'n_estimators': 60, 'criterion': 'friedman_mse', 'min_samples_split': 2, 'bootstrap': True, 'max_samples': 0.19494549208496986, 'max_features': 1}. Best is trial 1 with value: 0.012829197714807491.\u001B[0m\n",
      "\u001B[32m[I 2023-05-14 00:14:12,106]\u001B[0m Trial 9 finished with value: 0.017190782307725624 and parameters: {'n_estimators': 80, 'criterion': 'friedman_mse', 'min_samples_split': 3, 'bootstrap': True, 'max_samples': 0.10301897792003381, 'max_features': 3}. Best is trial 1 with value: 0.012829197714807491.\u001B[0m\n",
      "\u001B[32m[I 2023-05-14 00:15:06,711]\u001B[0m Trial 10 finished with value: 0.015869918313492867 and parameters: {'n_estimators': 80, 'criterion': 'squared_error', 'min_samples_split': 5, 'bootstrap': True, 'max_samples': 0.06548275316621939, 'max_features': 5}. Best is trial 1 with value: 0.012829197714807491.\u001B[0m\n",
      "\u001B[32m[I 2023-05-14 00:16:00,495]\u001B[0m Trial 11 finished with value: 0.015803508839621356 and parameters: {'n_estimators': 80, 'criterion': 'squared_error', 'min_samples_split': 5, 'bootstrap': True, 'max_samples': 0.06461383546350588, 'max_features': 5}. Best is trial 1 with value: 0.012829197714807491.\u001B[0m\n",
      "\u001B[32m[I 2023-05-14 00:16:45,130]\u001B[0m Trial 12 finished with value: 0.0169923484396736 and parameters: {'n_estimators': 60, 'criterion': 'squared_error', 'min_samples_split': 5, 'bootstrap': True, 'max_samples': 0.07032970029540075, 'max_features': 4}. Best is trial 1 with value: 0.012829197714807491.\u001B[0m\n",
      "\u001B[32m[I 2023-05-14 00:17:13,795]\u001B[0m Trial 13 finished with value: 0.020301929094763038 and parameters: {'n_estimators': 40, 'criterion': 'squared_error', 'min_samples_split': 3, 'bootstrap': True, 'max_samples': 0.04765590583881428, 'max_features': 4}. Best is trial 1 with value: 0.012829197714807491.\u001B[0m\n",
      "\u001B[32m[I 2023-05-14 00:18:15,981]\u001B[0m Trial 14 finished with value: 0.014444672392958652 and parameters: {'n_estimators': 80, 'criterion': 'squared_error', 'min_samples_split': 5, 'bootstrap': True, 'max_samples': 0.09293044002832804, 'max_features': 4}. Best is trial 1 with value: 0.012829197714807491.\u001B[0m\n",
      "\u001B[32m[I 2023-05-14 00:48:16,191]\u001B[0m Trial 15 pruned. \u001B[0m\n",
      "\u001B[32m[I 2023-05-14 00:49:29,182]\u001B[0m Trial 16 finished with value: 0.015285063856878498 and parameters: {'n_estimators': 60, 'criterion': 'squared_error', 'min_samples_split': 5, 'bootstrap': True, 'max_samples': 0.08640400365677509, 'max_features': 4}. Best is trial 1 with value: 0.012829197714807491.\u001B[0m\n"
     ]
    },
    {
     "name": "stdout",
     "output_type": "stream",
     "text": [
      "Updating RandomForrest.pickle\n",
      "saving info to file: ../final/ml_models/RandomForrest_metadata.json {\n",
      "    \"cpu_info\": {\n",
      "        \"arch\": \"X86_64\",\n",
      "        \"bits\": 64,\n",
      "        \"brand_raw\": \"Intel(R) Core(TM) i7-4980HQ CPU @ 2.80GHz\",\n",
      "        \"count\": 8,\n",
      "        \"l2_cache_size\": 262144\n",
      "    },\n",
      "    \"model_params\": {\n",
      "        \"bootstrap\": true,\n",
      "        \"criterion\": \"squared_error\",\n",
      "        \"max_features\": 4,\n",
      "        \"max_samples\": 0.12583896439593575,\n",
      "        \"min_samples_split\": 4,\n",
      "        \"n_estimators\": 80,\n",
      "        \"n_jobs\": -1,\n",
      "        \"random_state\": 42\n",
      "    },\n",
      "    \"pca_components\": 12,\n",
      "    \"pca_unexplained_variance_ratio\": 3.734028192154632e-06,\n",
      "    \"test_dataset\": \"[700000:850000] of ../final/dataset.npz\",\n",
      "    \"test_error_absolute\": 1.594378113581585e-06,\n",
      "    \"test_error_orders_of_magnitude\": 0.014731116513614993,\n",
      "    \"test_evaluation_s\": 6,\n",
      "    \"train_dataset\": \"[:700000] of ../final/dataset.npz\",\n",
      "    \"train_error_absolute\": 1.362749463992225e-06,\n",
      "    \"train_error_orders_of_magnitude\": 0.012005317598561202,\n",
      "    \"train_evaluation_s\": 32,\n",
      "    \"training_time_s\": 75,\n",
      "    \"tumour_lower_size_limit_l\": 1e-07,\n",
      "    \"tumour_lower_size_limit_log10_l\": -7\n",
      "}\n"
     ]
    },
    {
     "name": "stderr",
     "output_type": "stream",
     "text": [
      "\u001B[32m[I 2023-05-14 00:53:04,264]\u001B[0m Trial 17 finished with value: 0.012005317598561206 and parameters: {'n_estimators': 80, 'criterion': 'squared_error', 'min_samples_split': 4, 'bootstrap': True, 'max_samples': 0.12583896439593575, 'max_features': 4}. Best is trial 17 with value: 0.012005317598561206.\u001B[0m\n",
      "\u001B[32m[I 2023-05-14 00:54:40,852]\u001B[0m Trial 18 finished with value: 0.025294036027225176 and parameters: {'n_estimators': 80, 'criterion': 'friedman_mse', 'min_samples_split': 3, 'bootstrap': True, 'max_samples': 0.12981526698409432, 'max_features': 2}. Best is trial 17 with value: 0.012005317598561206.\u001B[0m\n",
      "\u001B[32m[I 2023-05-14 01:24:41,191]\u001B[0m Trial 19 pruned. \u001B[0m\n"
     ]
    },
    {
     "name": "stdout",
     "output_type": "stream",
     "text": [
      "model: RandomForrest test dataset error: 0.012005317598561206 best_params: {'bootstrap': True, 'criterion': 'squared_error', 'max_features': 4, 'max_samples': 0.12583896439593575, 'min_samples_split': 4, 'n_estimators': 80}\n"
     ]
    }
   ],
   "source": [
    "from sklearn.ensemble import RandomForestRegressor\n",
    "\n",
    "def objective(trial):\n",
    "    global X_train_scaled, Y_train_pca\n",
    "    \n",
    "    trial.set_user_attr(\"model_params\", {\n",
    "      \"n_estimators\": trial.suggest_int(\"n_estimators\", 20, 80, step=20),\n",
    "      \"criterion\": trial.suggest_categorical(\"criterion\", [\"squared_error\", \"absolute_error\", \"friedman_mse\"]),\n",
    "      \"min_samples_split\": trial.suggest_int(\"min_samples_split\", 2, 5),\n",
    "      \"bootstrap\": trial.suggest_categorical(\"bootstrap\", [True]),\n",
    "      \"max_samples\": trial.suggest_float(\"max_samples\", 0.0, 0.2),\n",
    "      \"max_features\": trial.suggest_int(\"max_features\", 1, X_train_scaled.shape[1] // 2),\n",
    "      \"n_jobs\": -1,\n",
    "      \"random_state\": 42\n",
    "    })\n",
    "    \n",
    "    model = RandomForestRegressor(**trial.user_attrs[\"model_params\"])\n",
    "    \n",
    "    try:\n",
    "        start_time = time.time()\n",
    "        signal.alarm(1800)\n",
    "        model.fit(X_train_scaled, Y_train_pca)\n",
    "        signal.alarm(0)\n",
    "        error = save_best_model(model, trial, time.time() - start_time)\n",
    "    except KeyboardInterrupt as e:\n",
    "        raise e\n",
    "    except:\n",
    "        raise optuna.exceptions.TrialPruned()\n",
    "    return error\n",
    "\n",
    "study = optuna.create_study(study_name=\"RandomForrest\", storage='sqlite:///../final/optuna.db', load_if_exists=True)\n",
    "trials_due = 20 * RUN_ITERATIONS_PERCENT // 100 - len(study.trials)\n",
    "if trials_due > 0:\n",
    "    study.optimize(objective, n_trials=trials_due)\n",
    "\n",
    "print(f\"model: {study.study_name} test dataset error: {study.best_value} best_params: {study.best_params}\")"
   ]
  },
  {
   "cell_type": "code",
   "execution_count": 11,
   "metadata": {},
   "outputs": [
    {
     "name": "stderr",
     "output_type": "stream",
     "text": [
      "\u001B[32m[I 2023-05-14 09:03:18,700]\u001B[0m A new study created in RDB with name: ExtraTreesRegressor\u001B[0m\n"
     ]
    },
    {
     "name": "stdout",
     "output_type": "stream",
     "text": [
      "Updating ExtraTreesRegressor.pickle\n",
      "saving info to file: ../final/ml_models/ExtraTreesRegressor_metadata.json {\n",
      "    \"cpu_info\": {\n",
      "        \"arch\": \"X86_64\",\n",
      "        \"bits\": 64,\n",
      "        \"brand_raw\": \"Intel(R) Core(TM) i7-4980HQ CPU @ 2.80GHz\",\n",
      "        \"count\": 8,\n",
      "        \"l2_cache_size\": 262144\n",
      "    },\n",
      "    \"model_params\": {\n",
      "        \"bootstrap\": true,\n",
      "        \"criterion\": \"squared_error\",\n",
      "        \"max_features\": 4,\n",
      "        \"max_samples\": 0.11200373448166684,\n",
      "        \"min_samples_split\": 3,\n",
      "        \"n_estimators\": 100,\n",
      "        \"n_jobs\": -1,\n",
      "        \"random_state\": 42\n",
      "    },\n",
      "    \"pca_components\": 12,\n",
      "    \"pca_unexplained_variance_ratio\": 3.734028192154632e-06,\n",
      "    \"test_dataset\": \"[700000:850000] of ../final/dataset.npz\",\n",
      "    \"test_error_absolute\": 2.444468900022028e-06,\n",
      "    \"test_error_orders_of_magnitude\": 0.025030869176838843,\n",
      "    \"test_evaluation_s\": 1,\n",
      "    \"train_dataset\": \"[:700000] of ../final/dataset.npz\",\n",
      "    \"train_error_absolute\": 2.122748392491334e-06,\n",
      "    \"train_error_orders_of_magnitude\": 0.020862645006819,\n",
      "    \"train_evaluation_s\": 6,\n",
      "    \"training_time_s\": 4,\n",
      "    \"tumour_lower_size_limit_l\": 1e-07,\n",
      "    \"tumour_lower_size_limit_log10_l\": -7\n",
      "}\n"
     ]
    },
    {
     "name": "stderr",
     "output_type": "stream",
     "text": [
      "\u001B[32m[I 2023-05-14 09:03:53,238]\u001B[0m Trial 0 finished with value: 0.020862645006819 and parameters: {'n_estimators': 100, 'criterion': 'squared_error', 'min_samples_split': 3, 'bootstrap': True, 'max_samples': 0.11200373448166684, 'max_features': 4}. Best is trial 0 with value: 0.020862645006819.\u001B[0m\n",
      "\u001B[32m[I 2023-05-14 09:23:53,416]\u001B[0m Trial 1 pruned. \u001B[0m\n",
      "\u001B[32m[I 2023-05-14 09:43:53,640]\u001B[0m Trial 2 pruned. \u001B[0m\n",
      "\u001B[32m[I 2023-05-14 10:03:53,723]\u001B[0m Trial 3 pruned. \u001B[0m\n",
      "\u001B[32m[I 2023-05-14 10:04:09,892]\u001B[0m Trial 4 finished with value: 0.0780938718427464 and parameters: {'n_estimators': 60, 'criterion': 'squared_error', 'min_samples_split': 5, 'bootstrap': True, 'max_samples': 0.05133310045390045, 'max_features': 2}. Best is trial 0 with value: 0.020862645006819.\u001B[0m\n",
      "\u001B[32m[I 2023-05-14 10:04:36,443]\u001B[0m Trial 5 finished with value: 0.04724159030653704 and parameters: {'n_estimators': 60, 'criterion': 'friedman_mse', 'min_samples_split': 4, 'bootstrap': True, 'max_samples': 0.19313204224373373, 'max_features': 2}. Best is trial 0 with value: 0.020862645006819.\u001B[0m\n",
      "\u001B[32m[I 2023-05-14 10:04:52,119]\u001B[0m Trial 6 finished with value: 0.05370643385250528 and parameters: {'n_estimators': 80, 'criterion': 'squared_error', 'min_samples_split': 5, 'bootstrap': True, 'max_samples': 0.027482501115526237, 'max_features': 3}. Best is trial 0 with value: 0.020862645006819.\u001B[0m\n",
      "\u001B[32m[I 2023-05-14 10:24:52,197]\u001B[0m Trial 7 pruned. \u001B[0m\n",
      "\u001B[32m[I 2023-05-14 10:25:10,332]\u001B[0m Trial 8 finished with value: 0.18864914662150503 and parameters: {'n_estimators': 20, 'criterion': 'friedman_mse', 'min_samples_split': 5, 'bootstrap': True, 'max_samples': 0.08702281091016813, 'max_features': 1}. Best is trial 0 with value: 0.020862645006819.\u001B[0m\n",
      "\u001B[32m[I 2023-05-14 10:25:40,623]\u001B[0m Trial 9 finished with value: 0.0265538176039159 and parameters: {'n_estimators': 40, 'criterion': 'friedman_mse', 'min_samples_split': 4, 'bootstrap': True, 'max_samples': 0.18756484582018562, 'max_features': 3}. Best is trial 0 with value: 0.020862645006819.\u001B[0m\n"
     ]
    },
    {
     "name": "stdout",
     "output_type": "stream",
     "text": [
      "Updating ExtraTreesRegressor.pickle\n",
      "saving info to file: ../final/ml_models/ExtraTreesRegressor_metadata.json {\n",
      "    \"cpu_info\": {\n",
      "        \"arch\": \"X86_64\",\n",
      "        \"bits\": 64,\n",
      "        \"brand_raw\": \"Intel(R) Core(TM) i7-4980HQ CPU @ 2.80GHz\",\n",
      "        \"count\": 8,\n",
      "        \"l2_cache_size\": 262144\n",
      "    },\n",
      "    \"model_params\": {\n",
      "        \"bootstrap\": true,\n",
      "        \"criterion\": \"squared_error\",\n",
      "        \"max_features\": 5,\n",
      "        \"max_samples\": 0.13392871278280558,\n",
      "        \"min_samples_split\": 2,\n",
      "        \"n_estimators\": 100,\n",
      "        \"n_jobs\": -1,\n",
      "        \"random_state\": 42\n",
      "    },\n",
      "    \"pca_components\": 12,\n",
      "    \"pca_unexplained_variance_ratio\": 3.734028192154632e-06,\n",
      "    \"test_dataset\": \"[700000:850000] of ../final/dataset.npz\",\n",
      "    \"test_error_absolute\": 2.0541446640876444e-06,\n",
      "    \"test_error_orders_of_magnitude\": 0.019717722937691428,\n",
      "    \"test_evaluation_s\": 5,\n",
      "    \"train_dataset\": \"[:700000] of ../final/dataset.npz\",\n",
      "    \"train_error_absolute\": 1.7077589150914481e-06,\n",
      "    \"train_error_orders_of_magnitude\": 0.015423591032068949,\n",
      "    \"train_evaluation_s\": 30,\n",
      "    \"training_time_s\": 27,\n",
      "    \"tumour_lower_size_limit_l\": 1e-07,\n",
      "    \"tumour_lower_size_limit_log10_l\": -7\n",
      "}\n"
     ]
    },
    {
     "name": "stderr",
     "output_type": "stream",
     "text": [
      "\u001B[32m[I 2023-05-14 10:28:16,934]\u001B[0m Trial 10 finished with value: 0.015423591032068949 and parameters: {'n_estimators': 100, 'criterion': 'squared_error', 'min_samples_split': 2, 'bootstrap': True, 'max_samples': 0.13392871278280558, 'max_features': 5}. Best is trial 10 with value: 0.015423591032068949.\u001B[0m\n"
     ]
    },
    {
     "name": "stdout",
     "output_type": "stream",
     "text": [
      "Updating ExtraTreesRegressor.pickle\n",
      "saving info to file: ../final/ml_models/ExtraTreesRegressor_metadata.json {\n",
      "    \"cpu_info\": {\n",
      "        \"arch\": \"X86_64\",\n",
      "        \"bits\": 64,\n",
      "        \"brand_raw\": \"Intel(R) Core(TM) i7-4980HQ CPU @ 2.80GHz\",\n",
      "        \"count\": 8,\n",
      "        \"l2_cache_size\": 262144\n",
      "    },\n",
      "    \"model_params\": {\n",
      "        \"bootstrap\": true,\n",
      "        \"criterion\": \"squared_error\",\n",
      "        \"max_features\": 5,\n",
      "        \"max_samples\": 0.14068755528725493,\n",
      "        \"min_samples_split\": 2,\n",
      "        \"n_estimators\": 100,\n",
      "        \"n_jobs\": -1,\n",
      "        \"random_state\": 42\n",
      "    },\n",
      "    \"pca_components\": 12,\n",
      "    \"pca_unexplained_variance_ratio\": 3.734028192154632e-06,\n",
      "    \"test_dataset\": \"[700000:850000] of ../final/dataset.npz\",\n",
      "    \"test_error_absolute\": 2.061423069603626e-06,\n",
      "    \"test_error_orders_of_magnitude\": 0.019496269924394703,\n",
      "    \"test_evaluation_s\": 5,\n",
      "    \"train_dataset\": \"[:700000] of ../final/dataset.npz\",\n",
      "    \"train_error_absolute\": 1.682412154430361e-06,\n",
      "    \"train_error_orders_of_magnitude\": 0.015152608047074497,\n",
      "    \"train_evaluation_s\": 27,\n",
      "    \"training_time_s\": 28,\n",
      "    \"tumour_lower_size_limit_l\": 1e-07,\n",
      "    \"tumour_lower_size_limit_log10_l\": -7\n",
      "}\n"
     ]
    },
    {
     "name": "stderr",
     "output_type": "stream",
     "text": [
      "\u001B[32m[I 2023-05-14 10:30:48,641]\u001B[0m Trial 11 finished with value: 0.0151526080470745 and parameters: {'n_estimators': 100, 'criterion': 'squared_error', 'min_samples_split': 2, 'bootstrap': True, 'max_samples': 0.14068755528725493, 'max_features': 5}. Best is trial 11 with value: 0.0151526080470745.\u001B[0m\n",
      "\u001B[32m[I 2023-05-14 10:31:50,962]\u001B[0m Trial 12 finished with value: 0.015334677205307557 and parameters: {'n_estimators': 100, 'criterion': 'squared_error', 'min_samples_split': 2, 'bootstrap': True, 'max_samples': 0.13825209994251217, 'max_features': 5}. Best is trial 11 with value: 0.0151526080470745.\u001B[0m\n"
     ]
    },
    {
     "name": "stdout",
     "output_type": "stream",
     "text": [
      "Updating ExtraTreesRegressor.pickle\n",
      "saving info to file: ../final/ml_models/ExtraTreesRegressor_metadata.json {\n",
      "    \"cpu_info\": {\n",
      "        \"arch\": \"X86_64\",\n",
      "        \"bits\": 64,\n",
      "        \"brand_raw\": \"Intel(R) Core(TM) i7-4980HQ CPU @ 2.80GHz\",\n",
      "        \"count\": 8,\n",
      "        \"l2_cache_size\": 262144\n",
      "    },\n",
      "    \"model_params\": {\n",
      "        \"bootstrap\": true,\n",
      "        \"criterion\": \"squared_error\",\n",
      "        \"max_features\": 5,\n",
      "        \"max_samples\": 0.14458757393769803,\n",
      "        \"min_samples_split\": 2,\n",
      "        \"n_estimators\": 100,\n",
      "        \"n_jobs\": -1,\n",
      "        \"random_state\": 42\n",
      "    },\n",
      "    \"pca_components\": 12,\n",
      "    \"pca_unexplained_variance_ratio\": 3.734028192154632e-06,\n",
      "    \"test_dataset\": \"[700000:850000] of ../final/dataset.npz\",\n",
      "    \"test_error_absolute\": 2.03558201942885e-06,\n",
      "    \"test_error_orders_of_magnitude\": 0.019452498891320086,\n",
      "    \"test_evaluation_s\": 5,\n",
      "    \"train_dataset\": \"[:700000] of ../final/dataset.npz\",\n",
      "    \"train_error_absolute\": 1.6551620352071276e-06,\n",
      "    \"train_error_orders_of_magnitude\": 0.015085304603457613,\n",
      "    \"train_evaluation_s\": 26,\n",
      "    \"training_time_s\": 27,\n",
      "    \"tumour_lower_size_limit_l\": 1e-07,\n",
      "    \"tumour_lower_size_limit_log10_l\": -7\n",
      "}\n"
     ]
    },
    {
     "name": "stderr",
     "output_type": "stream",
     "text": [
      "\u001B[32m[I 2023-05-14 10:34:08,834]\u001B[0m Trial 13 finished with value: 0.015085304603457613 and parameters: {'n_estimators': 100, 'criterion': 'squared_error', 'min_samples_split': 2, 'bootstrap': True, 'max_samples': 0.14458757393769803, 'max_features': 5}. Best is trial 13 with value: 0.015085304603457613.\u001B[0m\n"
     ]
    },
    {
     "name": "stdout",
     "output_type": "stream",
     "text": [
      "Updating ExtraTreesRegressor.pickle\n",
      "saving info to file: ../final/ml_models/ExtraTreesRegressor_metadata.json {\n",
      "    \"cpu_info\": {\n",
      "        \"arch\": \"X86_64\",\n",
      "        \"bits\": 64,\n",
      "        \"brand_raw\": \"Intel(R) Core(TM) i7-4980HQ CPU @ 2.80GHz\",\n",
      "        \"count\": 8,\n",
      "        \"l2_cache_size\": 262144\n",
      "    },\n",
      "    \"model_params\": {\n",
      "        \"bootstrap\": true,\n",
      "        \"criterion\": \"squared_error\",\n",
      "        \"max_features\": 5,\n",
      "        \"max_samples\": 0.1565365736130076,\n",
      "        \"min_samples_split\": 2,\n",
      "        \"n_estimators\": 100,\n",
      "        \"n_jobs\": -1,\n",
      "        \"random_state\": 42\n",
      "    },\n",
      "    \"pca_components\": 12,\n",
      "    \"pca_unexplained_variance_ratio\": 3.734028192154632e-06,\n",
      "    \"test_dataset\": \"[700000:850000] of ../final/dataset.npz\",\n",
      "    \"test_error_absolute\": 2.0137916976872173e-06,\n",
      "    \"test_error_orders_of_magnitude\": 0.018861400494077536,\n",
      "    \"test_evaluation_s\": 5,\n",
      "    \"train_dataset\": \"[:700000] of ../final/dataset.npz\",\n",
      "    \"train_error_absolute\": 1.6035663462550764e-06,\n",
      "    \"train_error_orders_of_magnitude\": 0.014200864256279741,\n",
      "    \"train_evaluation_s\": 25,\n",
      "    \"training_time_s\": 28,\n",
      "    \"tumour_lower_size_limit_l\": 1e-07,\n",
      "    \"tumour_lower_size_limit_log10_l\": -7\n",
      "}\n"
     ]
    },
    {
     "name": "stderr",
     "output_type": "stream",
     "text": [
      "\u001B[32m[I 2023-05-14 10:36:27,117]\u001B[0m Trial 14 finished with value: 0.014200864256279741 and parameters: {'n_estimators': 100, 'criterion': 'squared_error', 'min_samples_split': 2, 'bootstrap': True, 'max_samples': 0.1565365736130076, 'max_features': 5}. Best is trial 14 with value: 0.014200864256279741.\u001B[0m\n",
      "\u001B[32m[I 2023-05-14 10:37:13,018]\u001B[0m Trial 15 finished with value: 0.01452658137264037 and parameters: {'n_estimators': 80, 'criterion': 'squared_error', 'min_samples_split': 3, 'bootstrap': True, 'max_samples': 0.16543728805499103, 'max_features': 5}. Best is trial 14 with value: 0.014200864256279741.\u001B[0m\n",
      "\u001B[32m[I 2023-05-14 10:37:54,531]\u001B[0m Trial 16 finished with value: 0.01728671915777895 and parameters: {'n_estimators': 80, 'criterion': 'squared_error', 'min_samples_split': 3, 'bootstrap': True, 'max_samples': 0.16504945164778678, 'max_features': 4}. Best is trial 14 with value: 0.014200864256279741.\u001B[0m\n",
      "\u001B[32m[I 2023-05-14 10:38:31,797]\u001B[0m Trial 17 finished with value: 0.02573961311422439 and parameters: {'n_estimators': 80, 'criterion': 'squared_error', 'min_samples_split': 3, 'bootstrap': True, 'max_samples': 0.16329784885546886, 'max_features': 3}. Best is trial 14 with value: 0.014200864256279741.\u001B[0m\n",
      "\u001B[32m[I 2023-05-14 10:38:57,992]\u001B[0m Trial 18 finished with value: 0.05197102571271303 and parameters: {'n_estimators': 60, 'criterion': 'squared_error', 'min_samples_split': 2, 'bootstrap': True, 'max_samples': 0.11651357260348232, 'max_features': 2}. Best is trial 14 with value: 0.014200864256279741.\u001B[0m\n",
      "\u001B[32m[I 2023-05-14 10:39:23,486]\u001B[0m Trial 19 finished with value: 0.014982550921802224 and parameters: {'n_estimators': 40, 'criterion': 'friedman_mse', 'min_samples_split': 3, 'bootstrap': True, 'max_samples': 0.19542549959513655, 'max_features': 5}. Best is trial 14 with value: 0.014200864256279741.\u001B[0m\n",
      "\u001B[32m[I 2023-05-14 10:40:00,576]\u001B[0m Trial 20 finished with value: 0.024510285926924887 and parameters: {'n_estimators': 80, 'criterion': 'squared_error', 'min_samples_split': 2, 'bootstrap': True, 'max_samples': 0.1581711830351574, 'max_features': 3}. Best is trial 14 with value: 0.014200864256279741.\u001B[0m\n",
      "\u001B[32m[I 2023-05-14 10:40:26,296]\u001B[0m Trial 21 finished with value: 0.01497864181901628 and parameters: {'n_estimators': 40, 'criterion': 'friedman_mse', 'min_samples_split': 3, 'bootstrap': True, 'max_samples': 0.1981508524902688, 'max_features': 5}. Best is trial 14 with value: 0.014200864256279741.\u001B[0m\n",
      "\u001B[32m[I 2023-05-14 10:40:50,169]\u001B[0m Trial 22 finished with value: 0.015436242069638957 and parameters: {'n_estimators': 40, 'criterion': 'friedman_mse', 'min_samples_split': 3, 'bootstrap': True, 'max_samples': 0.17857600527666953, 'max_features': 5}. Best is trial 14 with value: 0.014200864256279741.\u001B[0m\n",
      "\u001B[32m[I 2023-05-14 10:41:14,490]\u001B[0m Trial 23 finished with value: 0.01762612482090906 and parameters: {'n_estimators': 40, 'criterion': 'friedman_mse', 'min_samples_split': 3, 'bootstrap': True, 'max_samples': 0.19686944083225166, 'max_features': 4}. Best is trial 14 with value: 0.014200864256279741.\u001B[0m\n",
      "\u001B[32m[I 2023-05-14 10:41:30,976]\u001B[0m Trial 24 finished with value: 0.017886370741535478 and parameters: {'n_estimators': 20, 'criterion': 'friedman_mse', 'min_samples_split': 3, 'bootstrap': True, 'max_samples': 0.1761321736177119, 'max_features': 5}. Best is trial 14 with value: 0.014200864256279741.\u001B[0m\n",
      "\u001B[32m[I 2023-05-14 10:42:22,903]\u001B[0m Trial 25 finished with value: 0.015441717594546857 and parameters: {'n_estimators': 100, 'criterion': 'friedman_mse', 'min_samples_split': 2, 'bootstrap': True, 'max_samples': 0.19968004803547823, 'max_features': 4}. Best is trial 14 with value: 0.014200864256279741.\u001B[0m\n",
      "\u001B[32m[I 2023-05-14 10:42:45,225]\u001B[0m Trial 26 finished with value: 0.015341076159964252 and parameters: {'n_estimators': 40, 'criterion': 'squared_error', 'min_samples_split': 3, 'bootstrap': True, 'max_samples': 0.1560169691104136, 'max_features': 5}. Best is trial 14 with value: 0.014200864256279741.\u001B[0m\n",
      "\u001B[32m[I 2023-05-14 10:43:19,670]\u001B[0m Trial 27 finished with value: 0.10826454627516739 and parameters: {'n_estimators': 80, 'criterion': 'squared_error', 'min_samples_split': 2, 'bootstrap': True, 'max_samples': 0.1746159592806657, 'max_features': 1}. Best is trial 14 with value: 0.014200864256279741.\u001B[0m\n",
      "\u001B[32m[I 2023-05-14 11:03:19,806]\u001B[0m Trial 28 pruned. \u001B[0m\n",
      "\u001B[32m[I 2023-05-14 11:04:11,274]\u001B[0m Trial 29 finished with value: 0.022098802969342666 and parameters: {'n_estimators': 100, 'criterion': 'friedman_mse', 'min_samples_split': 4, 'bootstrap': True, 'max_samples': 0.12812595701232052, 'max_features': 4}. Best is trial 14 with value: 0.014200864256279741.\u001B[0m\n"
     ]
    },
    {
     "name": "stdout",
     "output_type": "stream",
     "text": [
      "model: ExtraTreesRegressor test dataset error: 0.014200864256279741 best_params: {'bootstrap': True, 'criterion': 'squared_error', 'max_features': 5, 'max_samples': 0.1565365736130076, 'min_samples_split': 2, 'n_estimators': 100}\n"
     ]
    }
   ],
   "source": [
    "from sklearn.ensemble import ExtraTreesRegressor\n",
    "\n",
    "def objective(trial):\n",
    "    global X_train_scaled, Y_train_pca\n",
    "    \n",
    "    trial.set_user_attr(\"model_params\", {\n",
    "      \"n_estimators\": trial.suggest_int(\"n_estimators\", 20, 100, step=20),\n",
    "      \"criterion\": trial.suggest_categorical(\"criterion\", [\"squared_error\", \"absolute_error\", \"friedman_mse\"]),\n",
    "      \"min_samples_split\": trial.suggest_int(\"min_samples_split\", 2, 5),\n",
    "      \"bootstrap\": trial.suggest_categorical(\"bootstrap\", [True]),\n",
    "      \"max_samples\": trial.suggest_float(\"max_samples\", 0.0, 0.2),\n",
    "      \"max_features\": trial.suggest_int(\"max_features\", 1, X_train_scaled.shape[1] // 2),\n",
    "      \"n_jobs\": -1,\n",
    "      \"random_state\": 42\n",
    "    })\n",
    "    \n",
    "    model = ExtraTreesRegressor(**trial.user_attrs[\"model_params\"])\n",
    "    \n",
    "    try:\n",
    "        start_time = time.time()\n",
    "        signal.alarm(1200)\n",
    "        model.fit(X_train_scaled, Y_train_pca)\n",
    "        signal.alarm(0)\n",
    "        error = save_best_model(model, trial, time.time() - start_time)\n",
    "    except KeyboardInterrupt as e:\n",
    "        raise e\n",
    "    except:\n",
    "        raise optuna.exceptions.TrialPruned()\n",
    "    return error\n",
    "\n",
    "study = optuna.create_study(study_name=\"ExtraTreesRegressor\", storage='sqlite:///../final/optuna.db', load_if_exists=True)\n",
    "trials_due = 30 * RUN_ITERATIONS_PERCENT // 100 - len(study.trials)\n",
    "if trials_due > 0:\n",
    "    study.optimize(objective, n_trials=trials_due)\n",
    "    \n",
    "print(f\"model: {study.study_name} test dataset error: {study.best_value} best_params: {study.best_params}\")"
   ]
  },
  {
   "cell_type": "code",
   "execution_count": 18,
   "metadata": {},
   "outputs": [
    {
     "name": "stderr",
     "output_type": "stream",
     "text": [
      "\u001B[32m[I 2023-05-14 12:51:38,709]\u001B[0m A new study created in RDB with name: KNeighborsClassifier\u001B[0m\n"
     ]
    },
    {
     "name": "stdout",
     "output_type": "stream",
     "text": [
      "Updating KNeighborsClassifier.pickle\n"
     ]
    },
    {
     "name": "stderr",
     "output_type": "stream",
     "text": [
      "\u001B[32m[I 2023-05-14 12:55:04,575]\u001B[0m Trial 0 finished with value: 0.06751407426869349 and parameters: {'n_neighbors': 11, 'weights': 'uniform'}. Best is trial 0 with value: 0.06751407426869349.\u001B[0m\n"
     ]
    },
    {
     "name": "stdout",
     "output_type": "stream",
     "text": [
      "saving info to file: ../final/ml_models/KNeighborsClassifier_metadata.json {\n",
      "    \"cpu_info\": {\n",
      "        \"arch\": \"X86_64\",\n",
      "        \"bits\": 64,\n",
      "        \"brand_raw\": \"Intel(R) Core(TM) i7-4980HQ CPU @ 2.80GHz\",\n",
      "        \"count\": 8,\n",
      "        \"l2_cache_size\": 262144\n",
      "    },\n",
      "    \"model_params\": {\n",
      "        \"n_jobs\": -1,\n",
      "        \"n_neighbors\": 11,\n",
      "        \"weights\": \"uniform\"\n",
      "    },\n",
      "    \"pca_components\": 12,\n",
      "    \"pca_unexplained_variance_ratio\": 3.734028192154632e-06,\n",
      "    \"test_dataset\": \"[700000:850000] of ../final/dataset.npz\",\n",
      "    \"test_error_absolute\": 2.2929716061804113e-06,\n",
      "    \"test_error_orders_of_magnitude\": 0.06751407426869349,\n",
      "    \"test_evaluation_s\": 32,\n",
      "    \"train_dataset\": \"[:700000] of ../final/dataset.npz\",\n",
      "    \"train_error_absolute\": 1.9785840777058183e-06,\n",
      "    \"train_error_orders_of_magnitude\": 0.056334937157035435,\n",
      "    \"train_evaluation_s\": 158,\n",
      "    \"training_time_s\": 1,\n",
      "    \"tumour_lower_size_limit_l\": 1e-07,\n",
      "    \"tumour_lower_size_limit_log10_l\": -7\n",
      "}\n"
     ]
    },
    {
     "name": "stderr",
     "output_type": "stream",
     "text": [
      "\u001B[32m[I 2023-05-14 12:55:45,798]\u001B[0m Trial 1 finished with value: 0.06884113736173829 and parameters: {'n_neighbors': 18, 'weights': 'uniform'}. Best is trial 0 with value: 0.06751407426869349.\u001B[0m\n",
      "\u001B[32m[I 2023-05-14 12:56:29,171]\u001B[0m Trial 2 finished with value: 0.06915141554686156 and parameters: {'n_neighbors': 19, 'weights': 'uniform'}. Best is trial 0 with value: 0.06751407426869349.\u001B[0m\n"
     ]
    },
    {
     "name": "stdout",
     "output_type": "stream",
     "text": [
      "Updating KNeighborsClassifier.pickle\n"
     ]
    },
    {
     "name": "stderr",
     "output_type": "stream",
     "text": [
      "\u001B[32m[I 2023-05-14 12:59:47,378]\u001B[0m Trial 3 finished with value: 0.06750236123284252 and parameters: {'n_neighbors': 10, 'weights': 'uniform'}. Best is trial 3 with value: 0.06750236123284252.\u001B[0m\n"
     ]
    },
    {
     "name": "stdout",
     "output_type": "stream",
     "text": [
      "saving info to file: ../final/ml_models/KNeighborsClassifier_metadata.json {\n",
      "    \"cpu_info\": {\n",
      "        \"arch\": \"X86_64\",\n",
      "        \"bits\": 64,\n",
      "        \"brand_raw\": \"Intel(R) Core(TM) i7-4980HQ CPU @ 2.80GHz\",\n",
      "        \"count\": 8,\n",
      "        \"l2_cache_size\": 262144\n",
      "    },\n",
      "    \"model_params\": {\n",
      "        \"n_jobs\": -1,\n",
      "        \"n_neighbors\": 10,\n",
      "        \"weights\": \"uniform\"\n",
      "    },\n",
      "    \"pca_components\": 12,\n",
      "    \"pca_unexplained_variance_ratio\": 3.734028192154632e-06,\n",
      "    \"test_dataset\": \"[700000:850000] of ../final/dataset.npz\",\n",
      "    \"test_error_absolute\": 2.2722466352353433e-06,\n",
      "    \"test_error_orders_of_magnitude\": 0.06750236123284252,\n",
      "    \"test_evaluation_s\": 33,\n",
      "    \"train_dataset\": \"[:700000] of ../final/dataset.npz\",\n",
      "    \"train_error_absolute\": 1.9326948351102555e-06,\n",
      "    \"train_error_orders_of_magnitude\": 0.055462894177161,\n",
      "    \"train_evaluation_s\": 150,\n",
      "    \"training_time_s\": 1,\n",
      "    \"tumour_lower_size_limit_l\": 1e-07,\n",
      "    \"tumour_lower_size_limit_log10_l\": -7\n",
      "}\n"
     ]
    },
    {
     "name": "stderr",
     "output_type": "stream",
     "text": [
      "\u001B[32m[I 2023-05-14 13:00:29,615]\u001B[0m Trial 4 finished with value: 0.06846503102381578 and parameters: {'n_neighbors': 16, 'weights': 'uniform'}. Best is trial 3 with value: 0.06750236123284252.\u001B[0m\n",
      "\u001B[32m[I 2023-05-14 13:01:10,441]\u001B[0m Trial 5 finished with value: 0.06821973834481143 and parameters: {'n_neighbors': 15, 'weights': 'uniform'}. Best is trial 3 with value: 0.06750236123284252.\u001B[0m\n",
      "\u001B[32m[I 2023-05-14 13:01:32,368]\u001B[0m Trial 6 finished with value: 0.08329152032043584 and parameters: {'n_neighbors': 3, 'weights': 'distance'}. Best is trial 3 with value: 0.06750236123284252.\u001B[0m\n"
     ]
    },
    {
     "name": "stdout",
     "output_type": "stream",
     "text": [
      "Updating KNeighborsClassifier.pickle\n"
     ]
    },
    {
     "name": "stderr",
     "output_type": "stream",
     "text": [
      "\u001B[32m[I 2023-05-14 13:04:52,355]\u001B[0m Trial 7 finished with value: 0.06617940721689929 and parameters: {'n_neighbors': 10, 'weights': 'distance'}. Best is trial 7 with value: 0.06617940721689929.\u001B[0m\n"
     ]
    },
    {
     "name": "stdout",
     "output_type": "stream",
     "text": [
      "saving info to file: ../final/ml_models/KNeighborsClassifier_metadata.json {\n",
      "    \"cpu_info\": {\n",
      "        \"arch\": \"X86_64\",\n",
      "        \"bits\": 64,\n",
      "        \"brand_raw\": \"Intel(R) Core(TM) i7-4980HQ CPU @ 2.80GHz\",\n",
      "        \"count\": 8,\n",
      "        \"l2_cache_size\": 262144\n",
      "    },\n",
      "    \"model_params\": {\n",
      "        \"n_jobs\": -1,\n",
      "        \"n_neighbors\": 10,\n",
      "        \"weights\": \"distance\"\n",
      "    },\n",
      "    \"pca_components\": 12,\n",
      "    \"pca_unexplained_variance_ratio\": 3.734028192154632e-06,\n",
      "    \"test_dataset\": \"[700000:850000] of ../final/dataset.npz\",\n",
      "    \"test_error_absolute\": 2.221790544683738e-06,\n",
      "    \"test_error_orders_of_magnitude\": 0.06617940721689929,\n",
      "    \"test_evaluation_s\": 34,\n",
      "    \"train_dataset\": \"[:700000] of ../final/dataset.npz\",\n",
      "    \"train_error_absolute\": 2.9039721254055043e-11,\n",
      "    \"train_error_orders_of_magnitude\": 2.1737874184844822e-06,\n",
      "    \"train_evaluation_s\": 151,\n",
      "    \"training_time_s\": 1,\n",
      "    \"tumour_lower_size_limit_l\": 1e-07,\n",
      "    \"tumour_lower_size_limit_log10_l\": -7\n",
      "}\n"
     ]
    },
    {
     "name": "stderr",
     "output_type": "stream",
     "text": [
      "\u001B[32m[I 2023-05-14 13:05:20,882]\u001B[0m Trial 8 finished with value: 0.06982832648498086 and parameters: {'n_neighbors': 6, 'weights': 'distance'}. Best is trial 7 with value: 0.06617940721689929.\u001B[0m\n",
      "\u001B[32m[I 2023-05-14 13:05:58,693]\u001B[0m Trial 9 finished with value: 0.06787870367559377 and parameters: {'n_neighbors': 13, 'weights': 'uniform'}. Best is trial 7 with value: 0.06617940721689929.\u001B[0m\n"
     ]
    },
    {
     "name": "stdout",
     "output_type": "stream",
     "text": [
      "model: KNeighborsClassifier test dataset error: 0.06617940721689929 best_params: {'n_neighbors': 10, 'weights': 'distance'}\n"
     ]
    }
   ],
   "source": [
    "from sklearn.neighbors import KNeighborsRegressor\n",
    "\n",
    "def objective(trial):\n",
    "    global X_train_scaled, Y_train_pca\n",
    "    \n",
    "    trial.set_user_attr(\"model_params\", {\n",
    "      \"n_neighbors\": trial.suggest_int(\"n_neighbors\", 3, 20),\n",
    "      \"weights\": trial.suggest_categorical(\"weights\", [\"uniform\", \"distance\"]),\n",
    "      \"n_jobs\": -1\n",
    "    })\n",
    "    \n",
    "    model = KNeighborsRegressor(**trial.user_attrs[\"model_params\"])\n",
    "    \n",
    "    try:\n",
    "        start_time = time.time()\n",
    "        signal.alarm(1200)\n",
    "        model.fit(X_train_scaled, Y_train_pca)\n",
    "        signal.alarm(0)\n",
    "        error = save_best_model(model, trial, time.time() - start_time)\n",
    "    except KeyboardInterrupt as e:\n",
    "        raise e\n",
    "    except Exception as e:\n",
    "        print(e)\n",
    "        raise optuna.exceptions.TrialPruned()\n",
    "    return error\n",
    "\n",
    "study = optuna.create_study(study_name=\"KNeighborsRegressor\", storage='sqlite:///../final/optuna.db', load_if_exists=True)\n",
    "trials_due = 10 * RUN_ITERATIONS_PERCENT // 100 - len(study.trials)\n",
    "if trials_due > 0:\n",
    "    study.optimize(objective, n_trials=trials_due)\n",
    "    \n",
    "print(f\"model: {study.study_name} test dataset error: {study.best_value} best_params: {study.best_params}\")"
   ]
  },
  {
   "cell_type": "code",
   "execution_count": null,
   "metadata": {},
   "outputs": [],
   "source": []
  }
 ],
 "metadata": {
  "kernelspec": {
   "display_name": "Python 3 (ipykernel)",
   "language": "python",
   "name": "python3"
  },
  "language_info": {
   "codemirror_mode": {
    "name": "ipython",
    "version": 3
   },
   "file_extension": ".py",
   "mimetype": "text/x-python",
   "name": "python",
   "nbconvert_exporter": "python",
   "pygments_lexer": "ipython3",
   "version": "3.11.2"
  }
 },
 "nbformat": 4,
 "nbformat_minor": 4
}
