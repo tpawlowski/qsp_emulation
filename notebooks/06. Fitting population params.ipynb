{
 "cells": [
  {
   "cell_type": "markdown",
   "id": "1f1e0786",
   "metadata": {},
   "source": [
    "Fitting population params so waterfall plot matches the real clinical trial one. Using Model ../final/pca_models/MLPRegressor_600_100_40_11_-7_6.pickle"
   ]
  },
  {
   "cell_type": "code",
   "execution_count": 1,
   "id": "eea28067",
   "metadata": {},
   "outputs": [],
   "source": [
    "import numpy as np\n",
    "\n",
    "POPULATION_SIZE = 100_000\n",
    "DISTRIBUTION_PARAMETERS = np.array(\n",
    "    [\n",
    "        [0.05, 0.5],\n",
    "        [-2.436, 0.62335],\n",
    "        [-2.58098, 0.69689],\n",
    "        [0.2, 0.4],\n",
    "        [0.005, 0.01],\n",
    "        [0.01155, 0.0231],\n",
    "        [0.15, 0.30],\n",
    "        [150, 300],\n",
    "        [0.75, 1.5],\n",
    "        [1e-5, 0.01],\n",
    "    ]\n",
    ")\n",
    "LOGNORMAL_PARAMETERS = (1, 2)\n",
    "\n",
    "np.random.seed(seed=42)"
   ]
  },
  {
   "cell_type": "code",
   "execution_count": 2,
   "id": "0c79b9b4",
   "metadata": {},
   "outputs": [],
   "source": [
    "# Loading model (including scaler, pca, dropping column 0 and transforming orders of magnitue to absolute values)\n",
    "\n",
    "import time\n",
    "from sklearn.preprocessing import MinMaxScaler\n",
    "import pickle\n",
    "from pathlib import Path\n",
    "\n",
    "\n",
    "class CustomScaler:\n",
    "    def __init__(self):\n",
    "        super().__init__()\n",
    "        self.scaler = MinMaxScaler()\n",
    "        self.plot_loval = [0.0] * len(LOGNORMAL_PARAMETERS)\n",
    "        self.plot_hival = [1.0] * len(LOGNORMAL_PARAMETERS)\n",
    "\n",
    "    def transform(self, x: np.ndarray, copy=None) -> np.ndarray:\n",
    "        res = self.scaler.transform(x)\n",
    "        for i, parameter_index in enumerate(LOGNORMAL_PARAMETERS):\n",
    "            res[:, parameter_index] = (x[:, parameter_index] - self.plot_loval[i]) / (self.plot_hival[i] - self.plot_loval[i])\n",
    "\n",
    "        return res\n",
    "\n",
    "    def fit(self, x, copy=None):\n",
    "        self.scaler.fit(x)\n",
    "        for i, parameter_index in enumerate(LOGNORMAL_PARAMETERS):\n",
    "            column_values = x[:, parameter_index]\n",
    "\n",
    "            quantile_1, quantile_3 = np.quantile(column_values, [0.25, 0.75], axis=0)\n",
    "            iqr = quantile_3 - quantile_1\n",
    "\n",
    "            loval = quantile_1 - 1.5 * iqr\n",
    "            hival = quantile_3 + 1.5 * iqr\n",
    "\n",
    "            wiskhi = np.compress(column_values <= hival, column_values)\n",
    "            wisklo = np.compress(column_values >= loval, column_values)\n",
    "            actual_hival = np.max(wiskhi)\n",
    "            actual_loval = np.min(wisklo)\n",
    "\n",
    "            self.plot_loval[i] = actual_loval\n",
    "            self.plot_hival[i] = actual_hival\n",
    "\n",
    "        return self\n",
    "\n",
    "    def inverse_transform(self, x, copy=None):\n",
    "        res = self.scaler.inverse_transform(x)\n",
    "        for i, parameter_index in enumerate(LOGNORMAL_PARAMETERS):\n",
    "            res[:, parameter_index] = x[:, parameter_index] * (self.plot_hival[i] - self.plot_loval[i]) + self.plot_loval[i]\n",
    "        return res\n",
    "    \n",
    "from sklearn.preprocessing import FunctionTransformer\n",
    "from sklearn.pipeline import make_pipeline\n",
    "from sklearn.neural_network import MLPRegressor\n",
    "from threadpoolctl import threadpool_limits\n",
    "from cpuinfo import get_cpu_info\n",
    "from sklearn.decomposition import PCA\n",
    "\n",
    "\n",
    "with Path(f\"../final/scaler.pickle\").open(\"rb\") as scaler_file:\n",
    "    scaler = pickle.load(scaler_file)\n",
    "\n",
    "with Path(f\"../final/pca/11_-7.pickle\").open(\"rb\") as opened_file:\n",
    "    pca = pickle.load(opened_file)\n",
    "\n",
    "with Path(\"../final/pca_models/MLPRegressor_600_100_40_11_-7_6.pickle\").open(\"rb\") as opened_file:\n",
    "    regressor = pickle.load(opened_file)\n",
    "    \n",
    "def drop_treatment(input_data: np.ndarray) -> np.ndarray:\n",
    "    \"\"\"Drops treatment data from the dataset\"\"\"\n",
    "    if input_data.shape[1] == 11:\n",
    "        return input_data[:, 1:]\n",
    "\n",
    "    return input_data\n",
    "\n",
    "def predict(*args):\n",
    "    return regressor.predict(*args)\n",
    "\n",
    "def output_untransform(transformed_outputs: np.array) -> np.array:\n",
    "    lower_limits = transformed_outputs <= -7\n",
    "    z = 10 ** transformed_outputs\n",
    "    z[lower_limits] = 0\n",
    "    return z\n",
    "\n",
    "model = make_pipeline(\n",
    "    FunctionTransformer(drop_treatment),\n",
    "    scaler,\n",
    "    FunctionTransformer(predict),\n",
    "    FunctionTransformer(pca.inverse_transform),\n",
    "    FunctionTransformer(output_untransform)\n",
    ")"
   ]
  },
  {
   "cell_type": "code",
   "execution_count": 3,
   "id": "e59f4ba1",
   "metadata": {},
   "outputs": [
    {
     "name": "stdout",
     "output_type": "stream",
     "text": [
      "Generated 100000 sets of patients indicators in 0.00875401496887207 seconds\n"
     ]
    }
   ],
   "source": [
    "# Generating parameters for each virtual patient in virtual population\n",
    "# Note: To get virtual population with different distribution the alredy generated parameters are adjusted to the new distribution.\n",
    "\n",
    "\n",
    "def generate_patient_indicators(size: int) -> np.ndarray:\n",
    "    \"\"\"\n",
    "    Generates patient indicators.\n",
    "\n",
    "    :param size: number of patients\n",
    "    :return:\n",
    "    \"\"\"\n",
    "    patient_indicators_arr = np.zeros((size, 11))\n",
    "    patient_indicators_arr[:, 0] = np.ones(\n",
    "        size\n",
    "    )  # first indicator tells if treatment was applied\n",
    "\n",
    "    for i, distribution_parameters in enumerate(DISTRIBUTION_PARAMETERS):\n",
    "        if i in LOGNORMAL_PARAMETERS:\n",
    "            patient_indicators_arr[:, i + 1] = np.random.lognormal(\n",
    "                mean=distribution_parameters[0],\n",
    "                sigma=distribution_parameters[1],\n",
    "                size=size,\n",
    "            )\n",
    "        else:\n",
    "            patient_indicators_arr[:, i + 1] = np.random.uniform(\n",
    "                low=distribution_parameters[0],\n",
    "                high=distribution_parameters[1],\n",
    "                size=size,\n",
    "            )\n",
    "\n",
    "    return patient_indicators_arr\n",
    "\n",
    "start_time = time.time()\n",
    "patient_indicators = generate_patient_indicators(POPULATION_SIZE)\n",
    "patient_indicators_generation_time_s = time.time() - start_time\n",
    "\n",
    "print(\n",
    "    f\"Generated {POPULATION_SIZE} sets of patients indicators in {patient_indicators_generation_time_s} seconds\"\n",
    ")"
   ]
  },
  {
   "cell_type": "code",
   "execution_count": 4,
   "id": "d181877d",
   "metadata": {},
   "outputs": [
    {
     "data": {
      "image/png": "[encoded data removed]",
      "text/plain": [
       "<Figure size 640x480 with 1 Axes>"
      ]
     },
     "metadata": {},
     "output_type": "display_data"
    },
    {
     "data": {
      "image/png": "[encoded data removed]",
      "text/plain": [
       "<Figure size 640x480 with 1 Axes>"
      ]
     },
     "metadata": {},
     "output_type": "display_data"
    }
   ],
   "source": [
    "CLINICAL_WATERFALL_PLOT = '../final/Chatterjee_etal_2016_10mgperkg_Waterfall.csv'\n",
    "population_data = np.loadtxt(CLINICAL_WATERFALL_PLOT, delimiter=\",\", skiprows=1, usecols=(1,))\n",
    "\n",
    "import matplotlib.pyplot as plt\n",
    "\n",
    "plt.title(\"clinical waterfall plot\")\n",
    "plt.grid()\n",
    "plt.plot(population_data)\n",
    "plt.xlim([0, 117])\n",
    "plt.ylim([-100, 100])\n",
    "plt.show()\n",
    "\n",
    "\n",
    "from scipy import interpolate\n",
    "waterfall_plot_interpolation = interpolate.interp1d(\n",
    "    np.arange(0, len(population_data)) / (len(population_data) - 1), population_data\n",
    ")\n",
    "plt.title(\"interpolated clinical waterfall plot\")\n",
    "plt.grid()\n",
    "plt.plot(waterfall_plot_interpolation(np.arange(POPULATION_SIZE) / (POPULATION_SIZE - 1)))\n",
    "plt.xlim([0, POPULATION_SIZE - 1])\n",
    "plt.ylim([-100, 100])\n",
    "plt.show()\n",
    "\n"
   ]
  },
  {
   "cell_type": "code",
   "execution_count": 5,
   "id": "3f100f8c",
   "metadata": {},
   "outputs": [],
   "source": [
    "class TooManyDroppedCasesError(Exception):\n",
    "    \"\"\"Exception raised when too many cases were dropped by the model.\"\"\"\n",
    "\n",
    "\n",
    "class InvalidParametersError(Exception):\n",
    "    \"\"\"Exception raised when parameters passed to objective function are invalid\"\"\"\n",
    "\n",
    "\n",
    "def validate_params(relative_params):\n",
    "    for column in range(len(DISTRIBUTION_PARAMETERS)):\n",
    "        i = column\n",
    "        if column not in LOGNORMAL_PARAMETERS:\n",
    "            absolute_params = DISTRIBUTION_PARAMETERS[column]\n",
    "            low = absolute_params[0] + relative_params[i * 2] * (absolute_params[1] - absolute_params[0])\n",
    "            high = absolute_params[0] + relative_params[i * 2 + 1] * (absolute_params[1] - absolute_params[0])\n",
    "\n",
    "            if relative_params[i * 2] < -0.02 or relative_params[i * 2 + 1] > 1.02:\n",
    "                raise InvalidParametersError(f\"{(low, high)} out of range on column {column} ({relative_params[2 * i]}, {relative_params[2 * i + 1]})\")\n",
    "\n",
    "            if relative_params[2 * i] >= relative_params[2 * i + 1]:\n",
    "                raise InvalidParametersError(f\"negative range at column {column} ({relative_params[2 * i]}, {relative_params[2 * i + 1]})\")\n",
    "\n",
    "def initial_relative_params(ratio):\n",
    "    params = []\n",
    "    for column in range(len(DISTRIBUTION_PARAMETERS)):\n",
    "        if column in LOGNORMAL_PARAMETERS:\n",
    "            params.append(0.0)\n",
    "            params.append(ratio)\n",
    "        else:\n",
    "            params.append(1.0 - ratio)\n",
    "            params.append(ratio)\n",
    "\n",
    "    return np.array(params)\n",
    "                \n",
    "def adjust_patient_indicators(indicators, relative_params):\n",
    "    global patient_indicators\n",
    "    \n",
    "    for i in range(len(DISTRIBUTION_PARAMETERS)):\n",
    "        if i in LOGNORMAL_PARAMETERS:\n",
    "            indicators[:, i + 1] = np.exp(\n",
    "                (np.log(patient_indicators[:, i + 1]) - DISTRIBUTION_PARAMETERS[i][0])\n",
    "                * (relative_params[2 * i + 1] / DISTRIBUTION_PARAMETERS[i][1])\n",
    "                + DISTRIBUTION_PARAMETERS[i][0]\n",
    "                + relative_params[2 * i]\n",
    "            )\n",
    "        else:\n",
    "            indicators[:, i + 1] = (\n",
    "                DISTRIBUTION_PARAMETERS[i][0]\n",
    "                + relative_params[i * 2] * (DISTRIBUTION_PARAMETERS[i][1] - DISTRIBUTION_PARAMETERS[i][0])\n",
    "                + (relative_params[2 * i + 1] - relative_params[2 * i]) * (patient_indicators[:, i + 1] - DISTRIBUTION_PARAMETERS[i][0])\n",
    "            )\n",
    "    return indicators"
   ]
  },
  {
   "cell_type": "code",
   "execution_count": 6,
   "id": "c0343d5b",
   "metadata": {},
   "outputs": [],
   "source": [
    "def waterfall_plot(indicators):\n",
    "    time_profiles = model.transform(indicators)\n",
    "    \n",
    "    max_tumor_sizes = time_profiles.max(axis=1)\n",
    "    final_tumor_sizes = time_profiles[:, -1]\n",
    "    final_tumor_sizes[final_tumor_sizes < 0] = 0\n",
    "\n",
    "    initial_tumor_sizes = indicators[:, 10]\n",
    "    max_percent_change = 100.0 * (max_tumor_sizes - initial_tumor_sizes) / initial_tumor_sizes\n",
    "    percent_change = 100.0 * (final_tumor_sizes - initial_tumor_sizes) / initial_tumor_sizes\n",
    "\n",
    "    dropped_count = int(np.sum(max_percent_change > 100.0))\n",
    "    if dropped_count / POPULATION_SIZE > 0.8:\n",
    "        raise TooManyDroppedCasesError(f\"Dropped {dropped_count} out of {POPULATION_SIZE} ({dropped_count * 100 / POPULATION_SIZE:.2f}%) time profiles\")\n",
    "    percent_change = percent_change[max_percent_change <= 100.0]\n",
    "    percent_change[::-1].sort()\n",
    "    \n",
    "    return percent_change"
   ]
  },
  {
   "cell_type": "code",
   "execution_count": 7,
   "id": "2c2b0306",
   "metadata": {},
   "outputs": [],
   "source": [
    "import time\n",
    "minimize_history = []\n",
    "indicators = np.copy(patient_indicators)\n",
    "\n",
    "def minimize_objective(relative_params, use_regularization=True):\n",
    "    global minimize_history, indicators\n",
    "    \n",
    "    try:\n",
    "        validate_params(relative_params)\n",
    "        adjust_patient_indicators(indicators, relative_params)\n",
    "        \n",
    "        virtual_waterfall_plot = waterfall_plot(indicators)\n",
    "        interpolated_waterfall_plot = waterfall_plot_interpolation(np.arange(virtual_waterfall_plot.shape[0]) / (virtual_waterfall_plot.shape[0] - 1))\n",
    "\n",
    "        regularization_term = 0.5\n",
    "        regularization = np.power(np.prod([\n",
    "            regularization_term / min(regularization_term, relative_params[2 * i + 1] - relative_params[2 * i])\n",
    "            for i in range(len(DISTRIBUTION_PARAMETERS))\n",
    "            if i not in LOGNORMAL_PARAMETERS\n",
    "        ]), 1.0/(len(DISTRIBUTION_PARAMETERS) - len(LOGNORMAL_PARAMETERS)))\n",
    "        \n",
    "        distance = np.linalg.norm(interpolated_waterfall_plot - virtual_waterfall_plot)\n",
    "        minimize_history.append((relative_params, regularization * distance, regularization, distance, time.time()))\n",
    "        # print(f\"{len(minimize_history)} d: {distance} r: {regularization} r*d: {regularization*distance}\")\n",
    "    except Exception as err:\n",
    "        print(str(err))\n",
    "        minimize_history.append((relative_params, float(\"inf\"), float(\"inf\"), float(\"inf\"), time.time()))\n",
    "    \n",
    "    return minimize_history[-1][1 if use_regularization else 3]\n",
    "\n",
    "def minimize_objective_no_regularization(relative_params):\n",
    "    return minimize_objective(relative_params, False)"
   ]
  },
  {
   "cell_type": "code",
   "execution_count": 8,
   "id": "cfe7732c",
   "metadata": {},
   "outputs": [],
   "source": [
    "import scipy.optimize\n",
    "from cpuinfo import get_cpu_info\n",
    "import json\n",
    "import math\n",
    "\n",
    "bounds = scipy.optimize.Bounds(\n",
    "    lb=[-math.inf if i // 2 in LOGNORMAL_PARAMETERS else -0.02 for i in range(len(DISTRIBUTION_PARAMETERS) * 2)],\n",
    "    ub=[math.inf if i // 2 in LOGNORMAL_PARAMETERS else 1.02 for i in range(len(DISTRIBUTION_PARAMETERS) * 2)]\n",
    ")\n",
    "\n",
    "constraints = [{\n",
    "    'type': 'ineq',\n",
    "    'fun': lambda x: [((x[2 * i + 1] - x[2 * i]) if (x[2 * i + 1] != x[2 * i]) else -1) for i in range(len(DISTRIBUTION_PARAMETERS)) if i not in LOGNORMAL_PARAMETERS] \n",
    "}]\n",
    "\n",
    "results = {}\n",
    "minimize_models = ((\"Nelder-Mead\", ({\n",
    "        \"method\": \"Nelder-Mead\",\n",
    "        \"bounds\": bounds,\n",
    "        \"options\": {\n",
    "            \"maxiter\": 800,\n",
    "        }\n",
    "    },)),\n",
    "    (\"Nelder-Mead_adaptive\", ({\n",
    "        \"method\": \"Nelder-Mead\",\n",
    "        \"bounds\": bounds,\n",
    "        \"options\": {\n",
    "            \"maxiter\": 600,\n",
    "            \"adaptive\": True\n",
    "        }\n",
    "    },)),\n",
    "    (\"Nelder-Mead_restart\", ({\n",
    "        \"method\": \"Nelder-Mead\",\n",
    "        \"bounds\": bounds,\n",
    "        \"options\": {\n",
    "            \"maxiter\": 350,\n",
    "            \"adaptive\": True\n",
    "        }\n",
    "    },{\n",
    "        \"method\": \"Nelder-Mead\",\n",
    "        \"bounds\": bounds,\n",
    "        \"options\": {\n",
    "            \"maxiter\": 250,\n",
    "            \"adaptive\": True\n",
    "        }\n",
    "    },{\n",
    "        \"method\": \"Nelder-Mead\",\n",
    "        \"bounds\": bounds,\n",
    "        \"options\": {\n",
    "            \"maxiter\": 150,\n",
    "            \"adaptive\": True\n",
    "        }\n",
    "    },{\n",
    "        \"method\": \"Nelder-Mead\",\n",
    "        \"bounds\": bounds,\n",
    "        \"options\": {\n",
    "            \"maxiter\": 100,\n",
    "            \"adaptive\": True\n",
    "        }\n",
    "    },)),\n",
    "    (\"Powell\", ({\n",
    "        \"method\": \"Powell\",\n",
    "        \"bounds\": bounds,\n",
    "        \"options\": {\n",
    "            \"maxiter\": 1000,\n",
    "        }\n",
    "    },)),\n",
    "    (\"BFGS\", ({\n",
    "        \"method\": \"BFGS\",\n",
    "        \"options\": {\n",
    "            \"maxiter\": 1000,\n",
    "        }\n",
    "    },)),\n",
    "    (\"SLSQP\", ({\n",
    "        \"method\": \"SLSQP\",\n",
    "        \"bounds\": bounds,\n",
    "        \"constraints\": constraints,\n",
    "        \"options\": {\n",
    "            \"maxiter\": 600,\n",
    "        }\n",
    "    },))\n",
    "        )\n",
    "\n",
    "for method_name, options_list in minimize_models:\n",
    "    minimize_path = Path(f\"../final/minimize_{method_name}.json\")\n",
    "    if minimize_path.is_file():\n",
    "        with minimize_path.open(\"r\") as opened_file:\n",
    "            metadata = json.load(opened_file)\n",
    "            results[method_name] = metadata[\"minimize_history\"]\n",
    "        continue\n",
    "\n",
    "    minimize_history = []\n",
    "    start_time = time.time()\n",
    "    \n",
    "    params = initial_relative_params(0.95)\n",
    "    result = None\n",
    "    for options in options_list:\n",
    "        result = scipy.optimize.minimize(\n",
    "            minimize_objective,\n",
    "            params,\n",
    "            **options,\n",
    "        )\n",
    "        params = result.x\n",
    "    \n",
    "    results[method_name] = [(p.tolist(), v, v_r, v_d, int(t - start_time)) for p, v, v_r, v_d, t in minimize_history]\n",
    "    \n",
    "    with minimize_path.open(\"w\") as opened_file:\n",
    "        opened_file.write(json.dumps({\n",
    "            \"cpu_info\": {key: get_cpu_info()[key] for key in [\"arch\", \"bits\", \"brand_raw\", \"count\"]},\n",
    "            \"minimize_options\": [o[\"options\"] for o in options_list],\n",
    "            \"population_size\": POPULATION_SIZE,\n",
    "            \"minimize_history\": results[method_name],\n",
    "            \"model\": \"pca_models/MLPRegressor_600_100_40_11_-7_6.pickle\"\n",
    "        }, sort_keys=True, indent=4))\n",
    "    "
   ]
  },
  {
   "cell_type": "code",
   "execution_count": 9,
   "id": "b98012ae",
   "metadata": {},
   "outputs": [
    {
     "data": {
      "image/png": "[encoded data removed]",
      "text/plain": [
       "<Figure size 640x480 with 1 Axes>"
      ]
     },
     "metadata": {},
     "output_type": "display_data"
    }
   ],
   "source": [
    "import itertools\n",
    "import operator\n",
    "\n",
    "plt.title(\"best waterfall distance by number of objective function evaluations\")\n",
    "plt.grid()\n",
    "for method_name in (\"Nelder-Mead\", \"Nelder-Mead_adaptive\", \"Nelder-Mead_restart\", \"Powell\", \"BFGS\", \"SLSQP\"):\n",
    "    plt.plot(list(itertools.accumulate((x[1] for x in results[method_name]), min)), label=method_name)\n",
    "plt.legend()\n",
    "plt.xlim((0, 2000))\n",
    "plt.show()"
   ]
  },
  {
   "cell_type": "code",
   "execution_count": 10,
   "id": "a1fb756c",
   "metadata": {},
   "outputs": [
    {
     "name": "stderr",
     "output_type": "stream",
     "text": [
      "/var/folders/qb/5x7bjvl92hsf3fdzklmgtxm40000gn/T/ipykernel_22735/1401460667.py:79: RuntimeWarning: overflow encountered in power\n",
      "  z = 10 ** transformed_outputs\n",
      "/var/folders/qb/5x7bjvl92hsf3fdzklmgtxm40000gn/T/ipykernel_22735/3647229099.py:9: RuntimeWarning: overflow encountered in multiply\n",
      "  max_percent_change = 100.0 * (max_tumor_sizes - initial_tumor_sizes) / initial_tumor_sizes\n",
      "/var/folders/qb/5x7bjvl92hsf3fdzklmgtxm40000gn/T/ipykernel_22735/3647229099.py:9: RuntimeWarning: overflow encountered in divide\n",
      "  max_percent_change = 100.0 * (max_tumor_sizes - initial_tumor_sizes) / initial_tumor_sizes\n",
      "/var/folders/qb/5x7bjvl92hsf3fdzklmgtxm40000gn/T/ipykernel_22735/3647229099.py:10: RuntimeWarning: overflow encountered in multiply\n",
      "  percent_change = 100.0 * (final_tumor_sizes - initial_tumor_sizes) / initial_tumor_sizes\n",
      "/var/folders/qb/5x7bjvl92hsf3fdzklmgtxm40000gn/T/ipykernel_22735/3647229099.py:10: RuntimeWarning: overflow encountered in divide\n",
      "  percent_change = 100.0 * (final_tumor_sizes - initial_tumor_sizes) / initial_tumor_sizes\n",
      "/var/folders/qb/5x7bjvl92hsf3fdzklmgtxm40000gn/T/ipykernel_22735/1401460667.py:79: RuntimeWarning: overflow encountered in power\n",
      "  z = 10 ** transformed_outputs\n",
      "/var/folders/qb/5x7bjvl92hsf3fdzklmgtxm40000gn/T/ipykernel_22735/3647229099.py:9: RuntimeWarning: overflow encountered in multiply\n",
      "  max_percent_change = 100.0 * (max_tumor_sizes - initial_tumor_sizes) / initial_tumor_sizes\n",
      "/var/folders/qb/5x7bjvl92hsf3fdzklmgtxm40000gn/T/ipykernel_22735/3647229099.py:9: RuntimeWarning: overflow encountered in divide\n",
      "  max_percent_change = 100.0 * (max_tumor_sizes - initial_tumor_sizes) / initial_tumor_sizes\n",
      "/var/folders/qb/5x7bjvl92hsf3fdzklmgtxm40000gn/T/ipykernel_22735/3647229099.py:10: RuntimeWarning: overflow encountered in multiply\n",
      "  percent_change = 100.0 * (final_tumor_sizes - initial_tumor_sizes) / initial_tumor_sizes\n",
      "/var/folders/qb/5x7bjvl92hsf3fdzklmgtxm40000gn/T/ipykernel_22735/3647229099.py:10: RuntimeWarning: overflow encountered in divide\n",
      "  percent_change = 100.0 * (final_tumor_sizes - initial_tumor_sizes) / initial_tumor_sizes\n",
      "/var/folders/qb/5x7bjvl92hsf3fdzklmgtxm40000gn/T/ipykernel_22735/1401460667.py:79: RuntimeWarning: overflow encountered in power\n",
      "  z = 10 ** transformed_outputs\n",
      "/var/folders/qb/5x7bjvl92hsf3fdzklmgtxm40000gn/T/ipykernel_22735/3647229099.py:9: RuntimeWarning: overflow encountered in multiply\n",
      "  max_percent_change = 100.0 * (max_tumor_sizes - initial_tumor_sizes) / initial_tumor_sizes\n",
      "/var/folders/qb/5x7bjvl92hsf3fdzklmgtxm40000gn/T/ipykernel_22735/3647229099.py:9: RuntimeWarning: overflow encountered in divide\n",
      "  max_percent_change = 100.0 * (max_tumor_sizes - initial_tumor_sizes) / initial_tumor_sizes\n",
      "/var/folders/qb/5x7bjvl92hsf3fdzklmgtxm40000gn/T/ipykernel_22735/3647229099.py:10: RuntimeWarning: overflow encountered in multiply\n",
      "  percent_change = 100.0 * (final_tumor_sizes - initial_tumor_sizes) / initial_tumor_sizes\n",
      "/var/folders/qb/5x7bjvl92hsf3fdzklmgtxm40000gn/T/ipykernel_22735/3647229099.py:10: RuntimeWarning: overflow encountered in divide\n",
      "  percent_change = 100.0 * (final_tumor_sizes - initial_tumor_sizes) / initial_tumor_sizes\n",
      "/var/folders/qb/5x7bjvl92hsf3fdzklmgtxm40000gn/T/ipykernel_22735/1401460667.py:79: RuntimeWarning: overflow encountered in power\n",
      "  z = 10 ** transformed_outputs\n",
      "/var/folders/qb/5x7bjvl92hsf3fdzklmgtxm40000gn/T/ipykernel_22735/3647229099.py:9: RuntimeWarning: overflow encountered in multiply\n",
      "  max_percent_change = 100.0 * (max_tumor_sizes - initial_tumor_sizes) / initial_tumor_sizes\n",
      "/var/folders/qb/5x7bjvl92hsf3fdzklmgtxm40000gn/T/ipykernel_22735/3647229099.py:9: RuntimeWarning: overflow encountered in divide\n",
      "  max_percent_change = 100.0 * (max_tumor_sizes - initial_tumor_sizes) / initial_tumor_sizes\n",
      "/var/folders/qb/5x7bjvl92hsf3fdzklmgtxm40000gn/T/ipykernel_22735/3647229099.py:10: RuntimeWarning: overflow encountered in multiply\n",
      "  percent_change = 100.0 * (final_tumor_sizes - initial_tumor_sizes) / initial_tumor_sizes\n",
      "/var/folders/qb/5x7bjvl92hsf3fdzklmgtxm40000gn/T/ipykernel_22735/3647229099.py:10: RuntimeWarning: overflow encountered in divide\n",
      "  percent_change = 100.0 * (final_tumor_sizes - initial_tumor_sizes) / initial_tumor_sizes\n"
     ]
    },
    {
     "name": "stdout",
     "output_type": "stream",
     "text": [
      "Dropped 81571 out of 100000 (81.57%) time profiles\n"
     ]
    },
    {
     "name": "stderr",
     "output_type": "stream",
     "text": [
      "/var/folders/qb/5x7bjvl92hsf3fdzklmgtxm40000gn/T/ipykernel_22735/1401460667.py:79: RuntimeWarning: overflow encountered in power\n",
      "  z = 10 ** transformed_outputs\n",
      "/var/folders/qb/5x7bjvl92hsf3fdzklmgtxm40000gn/T/ipykernel_22735/3647229099.py:9: RuntimeWarning: overflow encountered in multiply\n",
      "  max_percent_change = 100.0 * (max_tumor_sizes - initial_tumor_sizes) / initial_tumor_sizes\n",
      "/var/folders/qb/5x7bjvl92hsf3fdzklmgtxm40000gn/T/ipykernel_22735/3647229099.py:9: RuntimeWarning: overflow encountered in divide\n",
      "  max_percent_change = 100.0 * (max_tumor_sizes - initial_tumor_sizes) / initial_tumor_sizes\n",
      "/var/folders/qb/5x7bjvl92hsf3fdzklmgtxm40000gn/T/ipykernel_22735/3647229099.py:10: RuntimeWarning: overflow encountered in multiply\n",
      "  percent_change = 100.0 * (final_tumor_sizes - initial_tumor_sizes) / initial_tumor_sizes\n",
      "/var/folders/qb/5x7bjvl92hsf3fdzklmgtxm40000gn/T/ipykernel_22735/3647229099.py:10: RuntimeWarning: overflow encountered in divide\n",
      "  percent_change = 100.0 * (final_tumor_sizes - initial_tumor_sizes) / initial_tumor_sizes\n",
      "/var/folders/qb/5x7bjvl92hsf3fdzklmgtxm40000gn/T/ipykernel_22735/1401460667.py:79: RuntimeWarning: overflow encountered in power\n",
      "  z = 10 ** transformed_outputs\n",
      "/var/folders/qb/5x7bjvl92hsf3fdzklmgtxm40000gn/T/ipykernel_22735/3647229099.py:9: RuntimeWarning: overflow encountered in multiply\n",
      "  max_percent_change = 100.0 * (max_tumor_sizes - initial_tumor_sizes) / initial_tumor_sizes\n",
      "/var/folders/qb/5x7bjvl92hsf3fdzklmgtxm40000gn/T/ipykernel_22735/3647229099.py:9: RuntimeWarning: overflow encountered in divide\n",
      "  max_percent_change = 100.0 * (max_tumor_sizes - initial_tumor_sizes) / initial_tumor_sizes\n",
      "/var/folders/qb/5x7bjvl92hsf3fdzklmgtxm40000gn/T/ipykernel_22735/3647229099.py:10: RuntimeWarning: overflow encountered in multiply\n",
      "  percent_change = 100.0 * (final_tumor_sizes - initial_tumor_sizes) / initial_tumor_sizes\n",
      "/var/folders/qb/5x7bjvl92hsf3fdzklmgtxm40000gn/T/ipykernel_22735/3647229099.py:10: RuntimeWarning: overflow encountered in divide\n",
      "  percent_change = 100.0 * (final_tumor_sizes - initial_tumor_sizes) / initial_tumor_sizes\n",
      "/var/folders/qb/5x7bjvl92hsf3fdzklmgtxm40000gn/T/ipykernel_22735/1401460667.py:79: RuntimeWarning: overflow encountered in power\n",
      "  z = 10 ** transformed_outputs\n",
      "/var/folders/qb/5x7bjvl92hsf3fdzklmgtxm40000gn/T/ipykernel_22735/3647229099.py:9: RuntimeWarning: overflow encountered in multiply\n",
      "  max_percent_change = 100.0 * (max_tumor_sizes - initial_tumor_sizes) / initial_tumor_sizes\n",
      "/var/folders/qb/5x7bjvl92hsf3fdzklmgtxm40000gn/T/ipykernel_22735/3647229099.py:9: RuntimeWarning: overflow encountered in divide\n",
      "  max_percent_change = 100.0 * (max_tumor_sizes - initial_tumor_sizes) / initial_tumor_sizes\n",
      "/var/folders/qb/5x7bjvl92hsf3fdzklmgtxm40000gn/T/ipykernel_22735/3647229099.py:10: RuntimeWarning: overflow encountered in multiply\n",
      "  percent_change = 100.0 * (final_tumor_sizes - initial_tumor_sizes) / initial_tumor_sizes\n",
      "/var/folders/qb/5x7bjvl92hsf3fdzklmgtxm40000gn/T/ipykernel_22735/3647229099.py:10: RuntimeWarning: overflow encountered in divide\n",
      "  percent_change = 100.0 * (final_tumor_sizes - initial_tumor_sizes) / initial_tumor_sizes\n",
      "/var/folders/qb/5x7bjvl92hsf3fdzklmgtxm40000gn/T/ipykernel_22735/1401460667.py:79: RuntimeWarning: overflow encountered in power\n",
      "  z = 10 ** transformed_outputs\n",
      "/var/folders/qb/5x7bjvl92hsf3fdzklmgtxm40000gn/T/ipykernel_22735/3647229099.py:9: RuntimeWarning: overflow encountered in multiply\n",
      "  max_percent_change = 100.0 * (max_tumor_sizes - initial_tumor_sizes) / initial_tumor_sizes\n",
      "/var/folders/qb/5x7bjvl92hsf3fdzklmgtxm40000gn/T/ipykernel_22735/3647229099.py:9: RuntimeWarning: overflow encountered in divide\n",
      "  max_percent_change = 100.0 * (max_tumor_sizes - initial_tumor_sizes) / initial_tumor_sizes\n",
      "/var/folders/qb/5x7bjvl92hsf3fdzklmgtxm40000gn/T/ipykernel_22735/3647229099.py:10: RuntimeWarning: overflow encountered in multiply\n",
      "  percent_change = 100.0 * (final_tumor_sizes - initial_tumor_sizes) / initial_tumor_sizes\n",
      "/var/folders/qb/5x7bjvl92hsf3fdzklmgtxm40000gn/T/ipykernel_22735/3647229099.py:10: RuntimeWarning: overflow encountered in divide\n",
      "  percent_change = 100.0 * (final_tumor_sizes - initial_tumor_sizes) / initial_tumor_sizes\n"
     ]
    },
    {
     "name": "stdout",
     "output_type": "stream",
     "text": [
      "Dropped 80588 out of 100000 (80.59%) time profiles\n"
     ]
    },
    {
     "name": "stderr",
     "output_type": "stream",
     "text": [
      "/var/folders/qb/5x7bjvl92hsf3fdzklmgtxm40000gn/T/ipykernel_22735/1401460667.py:79: RuntimeWarning: overflow encountered in power\n",
      "  z = 10 ** transformed_outputs\n",
      "/var/folders/qb/5x7bjvl92hsf3fdzklmgtxm40000gn/T/ipykernel_22735/3647229099.py:9: RuntimeWarning: overflow encountered in multiply\n",
      "  max_percent_change = 100.0 * (max_tumor_sizes - initial_tumor_sizes) / initial_tumor_sizes\n",
      "/var/folders/qb/5x7bjvl92hsf3fdzklmgtxm40000gn/T/ipykernel_22735/3647229099.py:9: RuntimeWarning: overflow encountered in divide\n",
      "  max_percent_change = 100.0 * (max_tumor_sizes - initial_tumor_sizes) / initial_tumor_sizes\n",
      "/var/folders/qb/5x7bjvl92hsf3fdzklmgtxm40000gn/T/ipykernel_22735/3647229099.py:10: RuntimeWarning: overflow encountered in multiply\n",
      "  percent_change = 100.0 * (final_tumor_sizes - initial_tumor_sizes) / initial_tumor_sizes\n",
      "/var/folders/qb/5x7bjvl92hsf3fdzklmgtxm40000gn/T/ipykernel_22735/3647229099.py:10: RuntimeWarning: overflow encountered in divide\n",
      "  percent_change = 100.0 * (final_tumor_sizes - initial_tumor_sizes) / initial_tumor_sizes\n"
     ]
    },
    {
     "name": "stdout",
     "output_type": "stream",
     "text": [
      "Dropped 80139 out of 100000 (80.14%) time profiles\n"
     ]
    },
    {
     "name": "stderr",
     "output_type": "stream",
     "text": [
      "/var/folders/qb/5x7bjvl92hsf3fdzklmgtxm40000gn/T/ipykernel_22735/1401460667.py:79: RuntimeWarning: overflow encountered in power\n",
      "  z = 10 ** transformed_outputs\n",
      "/var/folders/qb/5x7bjvl92hsf3fdzklmgtxm40000gn/T/ipykernel_22735/3647229099.py:9: RuntimeWarning: overflow encountered in multiply\n",
      "  max_percent_change = 100.0 * (max_tumor_sizes - initial_tumor_sizes) / initial_tumor_sizes\n",
      "/var/folders/qb/5x7bjvl92hsf3fdzklmgtxm40000gn/T/ipykernel_22735/3647229099.py:9: RuntimeWarning: overflow encountered in divide\n",
      "  max_percent_change = 100.0 * (max_tumor_sizes - initial_tumor_sizes) / initial_tumor_sizes\n",
      "/var/folders/qb/5x7bjvl92hsf3fdzklmgtxm40000gn/T/ipykernel_22735/3647229099.py:10: RuntimeWarning: overflow encountered in multiply\n",
      "  percent_change = 100.0 * (final_tumor_sizes - initial_tumor_sizes) / initial_tumor_sizes\n",
      "/var/folders/qb/5x7bjvl92hsf3fdzklmgtxm40000gn/T/ipykernel_22735/3647229099.py:10: RuntimeWarning: overflow encountered in divide\n",
      "  percent_change = 100.0 * (final_tumor_sizes - initial_tumor_sizes) / initial_tumor_sizes\n",
      "/var/folders/qb/5x7bjvl92hsf3fdzklmgtxm40000gn/T/ipykernel_22735/1401460667.py:79: RuntimeWarning: overflow encountered in power\n",
      "  z = 10 ** transformed_outputs\n",
      "/var/folders/qb/5x7bjvl92hsf3fdzklmgtxm40000gn/T/ipykernel_22735/3647229099.py:9: RuntimeWarning: overflow encountered in multiply\n",
      "  max_percent_change = 100.0 * (max_tumor_sizes - initial_tumor_sizes) / initial_tumor_sizes\n",
      "/var/folders/qb/5x7bjvl92hsf3fdzklmgtxm40000gn/T/ipykernel_22735/3647229099.py:9: RuntimeWarning: overflow encountered in divide\n",
      "  max_percent_change = 100.0 * (max_tumor_sizes - initial_tumor_sizes) / initial_tumor_sizes\n",
      "/var/folders/qb/5x7bjvl92hsf3fdzklmgtxm40000gn/T/ipykernel_22735/3647229099.py:10: RuntimeWarning: overflow encountered in multiply\n",
      "  percent_change = 100.0 * (final_tumor_sizes - initial_tumor_sizes) / initial_tumor_sizes\n",
      "/var/folders/qb/5x7bjvl92hsf3fdzklmgtxm40000gn/T/ipykernel_22735/3647229099.py:10: RuntimeWarning: overflow encountered in divide\n",
      "  percent_change = 100.0 * (final_tumor_sizes - initial_tumor_sizes) / initial_tumor_sizes\n",
      "/var/folders/qb/5x7bjvl92hsf3fdzklmgtxm40000gn/T/ipykernel_22735/1401460667.py:79: RuntimeWarning: overflow encountered in power\n",
      "  z = 10 ** transformed_outputs\n",
      "/var/folders/qb/5x7bjvl92hsf3fdzklmgtxm40000gn/T/ipykernel_22735/3647229099.py:9: RuntimeWarning: overflow encountered in multiply\n",
      "  max_percent_change = 100.0 * (max_tumor_sizes - initial_tumor_sizes) / initial_tumor_sizes\n",
      "/var/folders/qb/5x7bjvl92hsf3fdzklmgtxm40000gn/T/ipykernel_22735/3647229099.py:9: RuntimeWarning: overflow encountered in divide\n",
      "  max_percent_change = 100.0 * (max_tumor_sizes - initial_tumor_sizes) / initial_tumor_sizes\n",
      "/var/folders/qb/5x7bjvl92hsf3fdzklmgtxm40000gn/T/ipykernel_22735/3647229099.py:10: RuntimeWarning: overflow encountered in multiply\n",
      "  percent_change = 100.0 * (final_tumor_sizes - initial_tumor_sizes) / initial_tumor_sizes\n",
      "/var/folders/qb/5x7bjvl92hsf3fdzklmgtxm40000gn/T/ipykernel_22735/3647229099.py:10: RuntimeWarning: overflow encountered in divide\n",
      "  percent_change = 100.0 * (final_tumor_sizes - initial_tumor_sizes) / initial_tumor_sizes\n",
      "/var/folders/qb/5x7bjvl92hsf3fdzklmgtxm40000gn/T/ipykernel_22735/1401460667.py:79: RuntimeWarning: overflow encountered in power\n",
      "  z = 10 ** transformed_outputs\n",
      "/var/folders/qb/5x7bjvl92hsf3fdzklmgtxm40000gn/T/ipykernel_22735/3647229099.py:9: RuntimeWarning: overflow encountered in multiply\n",
      "  max_percent_change = 100.0 * (max_tumor_sizes - initial_tumor_sizes) / initial_tumor_sizes\n",
      "/var/folders/qb/5x7bjvl92hsf3fdzklmgtxm40000gn/T/ipykernel_22735/3647229099.py:9: RuntimeWarning: overflow encountered in divide\n",
      "  max_percent_change = 100.0 * (max_tumor_sizes - initial_tumor_sizes) / initial_tumor_sizes\n",
      "/var/folders/qb/5x7bjvl92hsf3fdzklmgtxm40000gn/T/ipykernel_22735/3647229099.py:10: RuntimeWarning: overflow encountered in multiply\n",
      "  percent_change = 100.0 * (final_tumor_sizes - initial_tumor_sizes) / initial_tumor_sizes\n",
      "/var/folders/qb/5x7bjvl92hsf3fdzklmgtxm40000gn/T/ipykernel_22735/3647229099.py:10: RuntimeWarning: overflow encountered in divide\n",
      "  percent_change = 100.0 * (final_tumor_sizes - initial_tumor_sizes) / initial_tumor_sizes\n"
     ]
    },
    {
     "name": "stdout",
     "output_type": "stream",
     "text": [
      "Dropped 86650 out of 100000 (86.65%) time profiles\n"
     ]
    },
    {
     "name": "stderr",
     "output_type": "stream",
     "text": [
      "/var/folders/qb/5x7bjvl92hsf3fdzklmgtxm40000gn/T/ipykernel_22735/1401460667.py:79: RuntimeWarning: overflow encountered in power\n",
      "  z = 10 ** transformed_outputs\n",
      "/var/folders/qb/5x7bjvl92hsf3fdzklmgtxm40000gn/T/ipykernel_22735/3647229099.py:9: RuntimeWarning: overflow encountered in multiply\n",
      "  max_percent_change = 100.0 * (max_tumor_sizes - initial_tumor_sizes) / initial_tumor_sizes\n",
      "/var/folders/qb/5x7bjvl92hsf3fdzklmgtxm40000gn/T/ipykernel_22735/3647229099.py:9: RuntimeWarning: overflow encountered in divide\n",
      "  max_percent_change = 100.0 * (max_tumor_sizes - initial_tumor_sizes) / initial_tumor_sizes\n",
      "/var/folders/qb/5x7bjvl92hsf3fdzklmgtxm40000gn/T/ipykernel_22735/3647229099.py:10: RuntimeWarning: overflow encountered in multiply\n",
      "  percent_change = 100.0 * (final_tumor_sizes - initial_tumor_sizes) / initial_tumor_sizes\n",
      "/var/folders/qb/5x7bjvl92hsf3fdzklmgtxm40000gn/T/ipykernel_22735/3647229099.py:10: RuntimeWarning: overflow encountered in divide\n",
      "  percent_change = 100.0 * (final_tumor_sizes - initial_tumor_sizes) / initial_tumor_sizes\n",
      "/var/folders/qb/5x7bjvl92hsf3fdzklmgtxm40000gn/T/ipykernel_22735/1401460667.py:79: RuntimeWarning: overflow encountered in power\n",
      "  z = 10 ** transformed_outputs\n",
      "/var/folders/qb/5x7bjvl92hsf3fdzklmgtxm40000gn/T/ipykernel_22735/3647229099.py:9: RuntimeWarning: overflow encountered in multiply\n",
      "  max_percent_change = 100.0 * (max_tumor_sizes - initial_tumor_sizes) / initial_tumor_sizes\n",
      "/var/folders/qb/5x7bjvl92hsf3fdzklmgtxm40000gn/T/ipykernel_22735/3647229099.py:9: RuntimeWarning: overflow encountered in divide\n",
      "  max_percent_change = 100.0 * (max_tumor_sizes - initial_tumor_sizes) / initial_tumor_sizes\n",
      "/var/folders/qb/5x7bjvl92hsf3fdzklmgtxm40000gn/T/ipykernel_22735/3647229099.py:10: RuntimeWarning: overflow encountered in multiply\n",
      "  percent_change = 100.0 * (final_tumor_sizes - initial_tumor_sizes) / initial_tumor_sizes\n",
      "/var/folders/qb/5x7bjvl92hsf3fdzklmgtxm40000gn/T/ipykernel_22735/3647229099.py:10: RuntimeWarning: overflow encountered in divide\n",
      "  percent_change = 100.0 * (final_tumor_sizes - initial_tumor_sizes) / initial_tumor_sizes\n",
      "/var/folders/qb/5x7bjvl92hsf3fdzklmgtxm40000gn/T/ipykernel_22735/1401460667.py:79: RuntimeWarning: overflow encountered in power\n",
      "  z = 10 ** transformed_outputs\n",
      "/var/folders/qb/5x7bjvl92hsf3fdzklmgtxm40000gn/T/ipykernel_22735/3647229099.py:9: RuntimeWarning: overflow encountered in multiply\n",
      "  max_percent_change = 100.0 * (max_tumor_sizes - initial_tumor_sizes) / initial_tumor_sizes\n",
      "/var/folders/qb/5x7bjvl92hsf3fdzklmgtxm40000gn/T/ipykernel_22735/3647229099.py:9: RuntimeWarning: overflow encountered in divide\n",
      "  max_percent_change = 100.0 * (max_tumor_sizes - initial_tumor_sizes) / initial_tumor_sizes\n",
      "/var/folders/qb/5x7bjvl92hsf3fdzklmgtxm40000gn/T/ipykernel_22735/3647229099.py:10: RuntimeWarning: overflow encountered in multiply\n",
      "  percent_change = 100.0 * (final_tumor_sizes - initial_tumor_sizes) / initial_tumor_sizes\n",
      "/var/folders/qb/5x7bjvl92hsf3fdzklmgtxm40000gn/T/ipykernel_22735/3647229099.py:10: RuntimeWarning: overflow encountered in divide\n",
      "  percent_change = 100.0 * (final_tumor_sizes - initial_tumor_sizes) / initial_tumor_sizes\n"
     ]
    },
    {
     "name": "stdout",
     "output_type": "stream",
     "text": [
      "Dropped 82847 out of 100000 (82.85%) time profiles\n"
     ]
    },
    {
     "name": "stderr",
     "output_type": "stream",
     "text": [
      "/var/folders/qb/5x7bjvl92hsf3fdzklmgtxm40000gn/T/ipykernel_22735/1401460667.py:79: RuntimeWarning: overflow encountered in power\n",
      "  z = 10 ** transformed_outputs\n",
      "/var/folders/qb/5x7bjvl92hsf3fdzklmgtxm40000gn/T/ipykernel_22735/3647229099.py:9: RuntimeWarning: overflow encountered in multiply\n",
      "  max_percent_change = 100.0 * (max_tumor_sizes - initial_tumor_sizes) / initial_tumor_sizes\n",
      "/var/folders/qb/5x7bjvl92hsf3fdzklmgtxm40000gn/T/ipykernel_22735/3647229099.py:9: RuntimeWarning: overflow encountered in divide\n",
      "  max_percent_change = 100.0 * (max_tumor_sizes - initial_tumor_sizes) / initial_tumor_sizes\n",
      "/var/folders/qb/5x7bjvl92hsf3fdzklmgtxm40000gn/T/ipykernel_22735/3647229099.py:10: RuntimeWarning: overflow encountered in multiply\n",
      "  percent_change = 100.0 * (final_tumor_sizes - initial_tumor_sizes) / initial_tumor_sizes\n",
      "/var/folders/qb/5x7bjvl92hsf3fdzklmgtxm40000gn/T/ipykernel_22735/3647229099.py:10: RuntimeWarning: overflow encountered in divide\n",
      "  percent_change = 100.0 * (final_tumor_sizes - initial_tumor_sizes) / initial_tumor_sizes\n",
      "/var/folders/qb/5x7bjvl92hsf3fdzklmgtxm40000gn/T/ipykernel_22735/1401460667.py:79: RuntimeWarning: overflow encountered in power\n",
      "  z = 10 ** transformed_outputs\n",
      "/var/folders/qb/5x7bjvl92hsf3fdzklmgtxm40000gn/T/ipykernel_22735/3647229099.py:9: RuntimeWarning: overflow encountered in multiply\n",
      "  max_percent_change = 100.0 * (max_tumor_sizes - initial_tumor_sizes) / initial_tumor_sizes\n",
      "/var/folders/qb/5x7bjvl92hsf3fdzklmgtxm40000gn/T/ipykernel_22735/3647229099.py:9: RuntimeWarning: overflow encountered in divide\n",
      "  max_percent_change = 100.0 * (max_tumor_sizes - initial_tumor_sizes) / initial_tumor_sizes\n",
      "/var/folders/qb/5x7bjvl92hsf3fdzklmgtxm40000gn/T/ipykernel_22735/3647229099.py:10: RuntimeWarning: overflow encountered in multiply\n",
      "  percent_change = 100.0 * (final_tumor_sizes - initial_tumor_sizes) / initial_tumor_sizes\n",
      "/var/folders/qb/5x7bjvl92hsf3fdzklmgtxm40000gn/T/ipykernel_22735/3647229099.py:10: RuntimeWarning: overflow encountered in divide\n",
      "  percent_change = 100.0 * (final_tumor_sizes - initial_tumor_sizes) / initial_tumor_sizes\n"
     ]
    },
    {
     "name": "stdout",
     "output_type": "stream",
     "text": [
      "Dropped 81034 out of 100000 (81.03%) time profiles\n"
     ]
    },
    {
     "name": "stderr",
     "output_type": "stream",
     "text": [
      "/var/folders/qb/5x7bjvl92hsf3fdzklmgtxm40000gn/T/ipykernel_22735/1401460667.py:79: RuntimeWarning: overflow encountered in power\n",
      "  z = 10 ** transformed_outputs\n",
      "/var/folders/qb/5x7bjvl92hsf3fdzklmgtxm40000gn/T/ipykernel_22735/3647229099.py:9: RuntimeWarning: overflow encountered in multiply\n",
      "  max_percent_change = 100.0 * (max_tumor_sizes - initial_tumor_sizes) / initial_tumor_sizes\n",
      "/var/folders/qb/5x7bjvl92hsf3fdzklmgtxm40000gn/T/ipykernel_22735/3647229099.py:9: RuntimeWarning: overflow encountered in divide\n",
      "  max_percent_change = 100.0 * (max_tumor_sizes - initial_tumor_sizes) / initial_tumor_sizes\n",
      "/var/folders/qb/5x7bjvl92hsf3fdzklmgtxm40000gn/T/ipykernel_22735/3647229099.py:10: RuntimeWarning: overflow encountered in multiply\n",
      "  percent_change = 100.0 * (final_tumor_sizes - initial_tumor_sizes) / initial_tumor_sizes\n",
      "/var/folders/qb/5x7bjvl92hsf3fdzklmgtxm40000gn/T/ipykernel_22735/3647229099.py:10: RuntimeWarning: overflow encountered in divide\n",
      "  percent_change = 100.0 * (final_tumor_sizes - initial_tumor_sizes) / initial_tumor_sizes\n",
      "/var/folders/qb/5x7bjvl92hsf3fdzklmgtxm40000gn/T/ipykernel_22735/1401460667.py:79: RuntimeWarning: overflow encountered in power\n",
      "  z = 10 ** transformed_outputs\n",
      "/var/folders/qb/5x7bjvl92hsf3fdzklmgtxm40000gn/T/ipykernel_22735/3647229099.py:9: RuntimeWarning: overflow encountered in multiply\n",
      "  max_percent_change = 100.0 * (max_tumor_sizes - initial_tumor_sizes) / initial_tumor_sizes\n",
      "/var/folders/qb/5x7bjvl92hsf3fdzklmgtxm40000gn/T/ipykernel_22735/3647229099.py:9: RuntimeWarning: overflow encountered in divide\n",
      "  max_percent_change = 100.0 * (max_tumor_sizes - initial_tumor_sizes) / initial_tumor_sizes\n",
      "/var/folders/qb/5x7bjvl92hsf3fdzklmgtxm40000gn/T/ipykernel_22735/3647229099.py:10: RuntimeWarning: overflow encountered in multiply\n",
      "  percent_change = 100.0 * (final_tumor_sizes - initial_tumor_sizes) / initial_tumor_sizes\n",
      "/var/folders/qb/5x7bjvl92hsf3fdzklmgtxm40000gn/T/ipykernel_22735/3647229099.py:10: RuntimeWarning: overflow encountered in divide\n",
      "  percent_change = 100.0 * (final_tumor_sizes - initial_tumor_sizes) / initial_tumor_sizes\n"
     ]
    },
    {
     "name": "stdout",
     "output_type": "stream",
     "text": [
      "Dropped 80305 out of 100000 (80.31%) time profiles\n"
     ]
    },
    {
     "name": "stderr",
     "output_type": "stream",
     "text": [
      "/var/folders/qb/5x7bjvl92hsf3fdzklmgtxm40000gn/T/ipykernel_22735/1401460667.py:79: RuntimeWarning: overflow encountered in power\n",
      "  z = 10 ** transformed_outputs\n",
      "/var/folders/qb/5x7bjvl92hsf3fdzklmgtxm40000gn/T/ipykernel_22735/3647229099.py:9: RuntimeWarning: overflow encountered in multiply\n",
      "  max_percent_change = 100.0 * (max_tumor_sizes - initial_tumor_sizes) / initial_tumor_sizes\n",
      "/var/folders/qb/5x7bjvl92hsf3fdzklmgtxm40000gn/T/ipykernel_22735/3647229099.py:9: RuntimeWarning: overflow encountered in divide\n",
      "  max_percent_change = 100.0 * (max_tumor_sizes - initial_tumor_sizes) / initial_tumor_sizes\n",
      "/var/folders/qb/5x7bjvl92hsf3fdzklmgtxm40000gn/T/ipykernel_22735/3647229099.py:10: RuntimeWarning: overflow encountered in multiply\n",
      "  percent_change = 100.0 * (final_tumor_sizes - initial_tumor_sizes) / initial_tumor_sizes\n",
      "/var/folders/qb/5x7bjvl92hsf3fdzklmgtxm40000gn/T/ipykernel_22735/3647229099.py:10: RuntimeWarning: overflow encountered in divide\n",
      "  percent_change = 100.0 * (final_tumor_sizes - initial_tumor_sizes) / initial_tumor_sizes\n",
      "/var/folders/qb/5x7bjvl92hsf3fdzklmgtxm40000gn/T/ipykernel_22735/1401460667.py:79: RuntimeWarning: overflow encountered in power\n",
      "  z = 10 ** transformed_outputs\n",
      "/var/folders/qb/5x7bjvl92hsf3fdzklmgtxm40000gn/T/ipykernel_22735/3647229099.py:9: RuntimeWarning: overflow encountered in multiply\n",
      "  max_percent_change = 100.0 * (max_tumor_sizes - initial_tumor_sizes) / initial_tumor_sizes\n",
      "/var/folders/qb/5x7bjvl92hsf3fdzklmgtxm40000gn/T/ipykernel_22735/3647229099.py:9: RuntimeWarning: overflow encountered in divide\n",
      "  max_percent_change = 100.0 * (max_tumor_sizes - initial_tumor_sizes) / initial_tumor_sizes\n",
      "/var/folders/qb/5x7bjvl92hsf3fdzklmgtxm40000gn/T/ipykernel_22735/3647229099.py:10: RuntimeWarning: overflow encountered in multiply\n",
      "  percent_change = 100.0 * (final_tumor_sizes - initial_tumor_sizes) / initial_tumor_sizes\n",
      "/var/folders/qb/5x7bjvl92hsf3fdzklmgtxm40000gn/T/ipykernel_22735/3647229099.py:10: RuntimeWarning: overflow encountered in divide\n",
      "  percent_change = 100.0 * (final_tumor_sizes - initial_tumor_sizes) / initial_tumor_sizes\n"
     ]
    },
    {
     "name": "stdout",
     "output_type": "stream",
     "text": [
      "Dropped 80028 out of 100000 (80.03%) time profiles\n"
     ]
    },
    {
     "name": "stderr",
     "output_type": "stream",
     "text": [
      "/var/folders/qb/5x7bjvl92hsf3fdzklmgtxm40000gn/T/ipykernel_22735/1401460667.py:79: RuntimeWarning: overflow encountered in power\n",
      "  z = 10 ** transformed_outputs\n",
      "/var/folders/qb/5x7bjvl92hsf3fdzklmgtxm40000gn/T/ipykernel_22735/3647229099.py:9: RuntimeWarning: overflow encountered in multiply\n",
      "  max_percent_change = 100.0 * (max_tumor_sizes - initial_tumor_sizes) / initial_tumor_sizes\n",
      "/var/folders/qb/5x7bjvl92hsf3fdzklmgtxm40000gn/T/ipykernel_22735/3647229099.py:9: RuntimeWarning: overflow encountered in divide\n",
      "  max_percent_change = 100.0 * (max_tumor_sizes - initial_tumor_sizes) / initial_tumor_sizes\n",
      "/var/folders/qb/5x7bjvl92hsf3fdzklmgtxm40000gn/T/ipykernel_22735/3647229099.py:10: RuntimeWarning: overflow encountered in multiply\n",
      "  percent_change = 100.0 * (final_tumor_sizes - initial_tumor_sizes) / initial_tumor_sizes\n",
      "/var/folders/qb/5x7bjvl92hsf3fdzklmgtxm40000gn/T/ipykernel_22735/3647229099.py:10: RuntimeWarning: overflow encountered in divide\n",
      "  percent_change = 100.0 * (final_tumor_sizes - initial_tumor_sizes) / initial_tumor_sizes\n",
      "/var/folders/qb/5x7bjvl92hsf3fdzklmgtxm40000gn/T/ipykernel_22735/1401460667.py:79: RuntimeWarning: overflow encountered in power\n",
      "  z = 10 ** transformed_outputs\n",
      "/var/folders/qb/5x7bjvl92hsf3fdzklmgtxm40000gn/T/ipykernel_22735/3647229099.py:9: RuntimeWarning: overflow encountered in multiply\n",
      "  max_percent_change = 100.0 * (max_tumor_sizes - initial_tumor_sizes) / initial_tumor_sizes\n",
      "/var/folders/qb/5x7bjvl92hsf3fdzklmgtxm40000gn/T/ipykernel_22735/3647229099.py:9: RuntimeWarning: overflow encountered in divide\n",
      "  max_percent_change = 100.0 * (max_tumor_sizes - initial_tumor_sizes) / initial_tumor_sizes\n",
      "/var/folders/qb/5x7bjvl92hsf3fdzklmgtxm40000gn/T/ipykernel_22735/3647229099.py:10: RuntimeWarning: overflow encountered in multiply\n",
      "  percent_change = 100.0 * (final_tumor_sizes - initial_tumor_sizes) / initial_tumor_sizes\n",
      "/var/folders/qb/5x7bjvl92hsf3fdzklmgtxm40000gn/T/ipykernel_22735/3647229099.py:10: RuntimeWarning: overflow encountered in divide\n",
      "  percent_change = 100.0 * (final_tumor_sizes - initial_tumor_sizes) / initial_tumor_sizes\n",
      "/var/folders/qb/5x7bjvl92hsf3fdzklmgtxm40000gn/T/ipykernel_22735/1401460667.py:79: RuntimeWarning: overflow encountered in power\n",
      "  z = 10 ** transformed_outputs\n",
      "/var/folders/qb/5x7bjvl92hsf3fdzklmgtxm40000gn/T/ipykernel_22735/3647229099.py:9: RuntimeWarning: overflow encountered in multiply\n",
      "  max_percent_change = 100.0 * (max_tumor_sizes - initial_tumor_sizes) / initial_tumor_sizes\n",
      "/var/folders/qb/5x7bjvl92hsf3fdzklmgtxm40000gn/T/ipykernel_22735/3647229099.py:9: RuntimeWarning: overflow encountered in divide\n",
      "  max_percent_change = 100.0 * (max_tumor_sizes - initial_tumor_sizes) / initial_tumor_sizes\n",
      "/var/folders/qb/5x7bjvl92hsf3fdzklmgtxm40000gn/T/ipykernel_22735/3647229099.py:10: RuntimeWarning: overflow encountered in multiply\n",
      "  percent_change = 100.0 * (final_tumor_sizes - initial_tumor_sizes) / initial_tumor_sizes\n",
      "/var/folders/qb/5x7bjvl92hsf3fdzklmgtxm40000gn/T/ipykernel_22735/3647229099.py:10: RuntimeWarning: overflow encountered in divide\n",
      "  percent_change = 100.0 * (final_tumor_sizes - initial_tumor_sizes) / initial_tumor_sizes\n",
      "/var/folders/qb/5x7bjvl92hsf3fdzklmgtxm40000gn/T/ipykernel_22735/1401460667.py:79: RuntimeWarning: overflow encountered in power\n",
      "  z = 10 ** transformed_outputs\n",
      "/var/folders/qb/5x7bjvl92hsf3fdzklmgtxm40000gn/T/ipykernel_22735/3647229099.py:9: RuntimeWarning: overflow encountered in multiply\n",
      "  max_percent_change = 100.0 * (max_tumor_sizes - initial_tumor_sizes) / initial_tumor_sizes\n",
      "/var/folders/qb/5x7bjvl92hsf3fdzklmgtxm40000gn/T/ipykernel_22735/3647229099.py:9: RuntimeWarning: overflow encountered in divide\n",
      "  max_percent_change = 100.0 * (max_tumor_sizes - initial_tumor_sizes) / initial_tumor_sizes\n",
      "/var/folders/qb/5x7bjvl92hsf3fdzklmgtxm40000gn/T/ipykernel_22735/3647229099.py:10: RuntimeWarning: overflow encountered in multiply\n",
      "  percent_change = 100.0 * (final_tumor_sizes - initial_tumor_sizes) / initial_tumor_sizes\n",
      "/var/folders/qb/5x7bjvl92hsf3fdzklmgtxm40000gn/T/ipykernel_22735/3647229099.py:10: RuntimeWarning: overflow encountered in divide\n",
      "  percent_change = 100.0 * (final_tumor_sizes - initial_tumor_sizes) / initial_tumor_sizes\n",
      "/var/folders/qb/5x7bjvl92hsf3fdzklmgtxm40000gn/T/ipykernel_22735/1401460667.py:79: RuntimeWarning: overflow encountered in power\n",
      "  z = 10 ** transformed_outputs\n",
      "/var/folders/qb/5x7bjvl92hsf3fdzklmgtxm40000gn/T/ipykernel_22735/3647229099.py:9: RuntimeWarning: overflow encountered in multiply\n",
      "  max_percent_change = 100.0 * (max_tumor_sizes - initial_tumor_sizes) / initial_tumor_sizes\n",
      "/var/folders/qb/5x7bjvl92hsf3fdzklmgtxm40000gn/T/ipykernel_22735/3647229099.py:9: RuntimeWarning: overflow encountered in divide\n",
      "  max_percent_change = 100.0 * (max_tumor_sizes - initial_tumor_sizes) / initial_tumor_sizes\n",
      "/var/folders/qb/5x7bjvl92hsf3fdzklmgtxm40000gn/T/ipykernel_22735/3647229099.py:10: RuntimeWarning: overflow encountered in multiply\n",
      "  percent_change = 100.0 * (final_tumor_sizes - initial_tumor_sizes) / initial_tumor_sizes\n",
      "/var/folders/qb/5x7bjvl92hsf3fdzklmgtxm40000gn/T/ipykernel_22735/3647229099.py:10: RuntimeWarning: overflow encountered in divide\n",
      "  percent_change = 100.0 * (final_tumor_sizes - initial_tumor_sizes) / initial_tumor_sizes\n",
      "/var/folders/qb/5x7bjvl92hsf3fdzklmgtxm40000gn/T/ipykernel_22735/1401460667.py:79: RuntimeWarning: overflow encountered in power\n",
      "  z = 10 ** transformed_outputs\n",
      "/var/folders/qb/5x7bjvl92hsf3fdzklmgtxm40000gn/T/ipykernel_22735/3647229099.py:9: RuntimeWarning: overflow encountered in multiply\n",
      "  max_percent_change = 100.0 * (max_tumor_sizes - initial_tumor_sizes) / initial_tumor_sizes\n",
      "/var/folders/qb/5x7bjvl92hsf3fdzklmgtxm40000gn/T/ipykernel_22735/3647229099.py:9: RuntimeWarning: overflow encountered in divide\n",
      "  max_percent_change = 100.0 * (max_tumor_sizes - initial_tumor_sizes) / initial_tumor_sizes\n",
      "/var/folders/qb/5x7bjvl92hsf3fdzklmgtxm40000gn/T/ipykernel_22735/3647229099.py:10: RuntimeWarning: overflow encountered in multiply\n",
      "  percent_change = 100.0 * (final_tumor_sizes - initial_tumor_sizes) / initial_tumor_sizes\n",
      "/var/folders/qb/5x7bjvl92hsf3fdzklmgtxm40000gn/T/ipykernel_22735/3647229099.py:10: RuntimeWarning: overflow encountered in divide\n",
      "  percent_change = 100.0 * (final_tumor_sizes - initial_tumor_sizes) / initial_tumor_sizes\n",
      "/var/folders/qb/5x7bjvl92hsf3fdzklmgtxm40000gn/T/ipykernel_22735/1401460667.py:79: RuntimeWarning: overflow encountered in power\n",
      "  z = 10 ** transformed_outputs\n",
      "/var/folders/qb/5x7bjvl92hsf3fdzklmgtxm40000gn/T/ipykernel_22735/3647229099.py:9: RuntimeWarning: overflow encountered in multiply\n",
      "  max_percent_change = 100.0 * (max_tumor_sizes - initial_tumor_sizes) / initial_tumor_sizes\n",
      "/var/folders/qb/5x7bjvl92hsf3fdzklmgtxm40000gn/T/ipykernel_22735/3647229099.py:9: RuntimeWarning: overflow encountered in divide\n",
      "  max_percent_change = 100.0 * (max_tumor_sizes - initial_tumor_sizes) / initial_tumor_sizes\n",
      "/var/folders/qb/5x7bjvl92hsf3fdzklmgtxm40000gn/T/ipykernel_22735/3647229099.py:10: RuntimeWarning: overflow encountered in multiply\n",
      "  percent_change = 100.0 * (final_tumor_sizes - initial_tumor_sizes) / initial_tumor_sizes\n",
      "/var/folders/qb/5x7bjvl92hsf3fdzklmgtxm40000gn/T/ipykernel_22735/3647229099.py:10: RuntimeWarning: overflow encountered in divide\n",
      "  percent_change = 100.0 * (final_tumor_sizes - initial_tumor_sizes) / initial_tumor_sizes\n",
      "/var/folders/qb/5x7bjvl92hsf3fdzklmgtxm40000gn/T/ipykernel_22735/1401460667.py:79: RuntimeWarning: overflow encountered in power\n",
      "  z = 10 ** transformed_outputs\n",
      "/var/folders/qb/5x7bjvl92hsf3fdzklmgtxm40000gn/T/ipykernel_22735/3647229099.py:9: RuntimeWarning: overflow encountered in multiply\n",
      "  max_percent_change = 100.0 * (max_tumor_sizes - initial_tumor_sizes) / initial_tumor_sizes\n",
      "/var/folders/qb/5x7bjvl92hsf3fdzklmgtxm40000gn/T/ipykernel_22735/3647229099.py:9: RuntimeWarning: overflow encountered in divide\n",
      "  max_percent_change = 100.0 * (max_tumor_sizes - initial_tumor_sizes) / initial_tumor_sizes\n",
      "/var/folders/qb/5x7bjvl92hsf3fdzklmgtxm40000gn/T/ipykernel_22735/3647229099.py:10: RuntimeWarning: overflow encountered in multiply\n",
      "  percent_change = 100.0 * (final_tumor_sizes - initial_tumor_sizes) / initial_tumor_sizes\n",
      "/var/folders/qb/5x7bjvl92hsf3fdzklmgtxm40000gn/T/ipykernel_22735/3647229099.py:10: RuntimeWarning: overflow encountered in divide\n",
      "  percent_change = 100.0 * (final_tumor_sizes - initial_tumor_sizes) / initial_tumor_sizes\n"
     ]
    },
    {
     "name": "stderr",
     "output_type": "stream",
     "text": [
      "/var/folders/qb/5x7bjvl92hsf3fdzklmgtxm40000gn/T/ipykernel_22735/1401460667.py:79: RuntimeWarning: overflow encountered in power\n",
      "  z = 10 ** transformed_outputs\n",
      "/var/folders/qb/5x7bjvl92hsf3fdzklmgtxm40000gn/T/ipykernel_22735/3647229099.py:9: RuntimeWarning: overflow encountered in multiply\n",
      "  max_percent_change = 100.0 * (max_tumor_sizes - initial_tumor_sizes) / initial_tumor_sizes\n",
      "/var/folders/qb/5x7bjvl92hsf3fdzklmgtxm40000gn/T/ipykernel_22735/3647229099.py:9: RuntimeWarning: overflow encountered in divide\n",
      "  max_percent_change = 100.0 * (max_tumor_sizes - initial_tumor_sizes) / initial_tumor_sizes\n",
      "/var/folders/qb/5x7bjvl92hsf3fdzklmgtxm40000gn/T/ipykernel_22735/3647229099.py:10: RuntimeWarning: overflow encountered in multiply\n",
      "  percent_change = 100.0 * (final_tumor_sizes - initial_tumor_sizes) / initial_tumor_sizes\n",
      "/var/folders/qb/5x7bjvl92hsf3fdzklmgtxm40000gn/T/ipykernel_22735/3647229099.py:10: RuntimeWarning: overflow encountered in divide\n",
      "  percent_change = 100.0 * (final_tumor_sizes - initial_tumor_sizes) / initial_tumor_sizes\n",
      "/var/folders/qb/5x7bjvl92hsf3fdzklmgtxm40000gn/T/ipykernel_22735/1401460667.py:79: RuntimeWarning: overflow encountered in power\n",
      "  z = 10 ** transformed_outputs\n",
      "/var/folders/qb/5x7bjvl92hsf3fdzklmgtxm40000gn/T/ipykernel_22735/3647229099.py:9: RuntimeWarning: overflow encountered in multiply\n",
      "  max_percent_change = 100.0 * (max_tumor_sizes - initial_tumor_sizes) / initial_tumor_sizes\n",
      "/var/folders/qb/5x7bjvl92hsf3fdzklmgtxm40000gn/T/ipykernel_22735/3647229099.py:9: RuntimeWarning: overflow encountered in divide\n",
      "  max_percent_change = 100.0 * (max_tumor_sizes - initial_tumor_sizes) / initial_tumor_sizes\n",
      "/var/folders/qb/5x7bjvl92hsf3fdzklmgtxm40000gn/T/ipykernel_22735/3647229099.py:10: RuntimeWarning: overflow encountered in multiply\n",
      "  percent_change = 100.0 * (final_tumor_sizes - initial_tumor_sizes) / initial_tumor_sizes\n",
      "/var/folders/qb/5x7bjvl92hsf3fdzklmgtxm40000gn/T/ipykernel_22735/3647229099.py:10: RuntimeWarning: overflow encountered in divide\n",
      "  percent_change = 100.0 * (final_tumor_sizes - initial_tumor_sizes) / initial_tumor_sizes\n",
      "/var/folders/qb/5x7bjvl92hsf3fdzklmgtxm40000gn/T/ipykernel_22735/1401460667.py:79: RuntimeWarning: overflow encountered in power\n",
      "  z = 10 ** transformed_outputs\n",
      "/var/folders/qb/5x7bjvl92hsf3fdzklmgtxm40000gn/T/ipykernel_22735/3647229099.py:9: RuntimeWarning: overflow encountered in multiply\n",
      "  max_percent_change = 100.0 * (max_tumor_sizes - initial_tumor_sizes) / initial_tumor_sizes\n",
      "/var/folders/qb/5x7bjvl92hsf3fdzklmgtxm40000gn/T/ipykernel_22735/3647229099.py:9: RuntimeWarning: overflow encountered in divide\n",
      "  max_percent_change = 100.0 * (max_tumor_sizes - initial_tumor_sizes) / initial_tumor_sizes\n",
      "/var/folders/qb/5x7bjvl92hsf3fdzklmgtxm40000gn/T/ipykernel_22735/3647229099.py:10: RuntimeWarning: overflow encountered in multiply\n",
      "  percent_change = 100.0 * (final_tumor_sizes - initial_tumor_sizes) / initial_tumor_sizes\n",
      "/var/folders/qb/5x7bjvl92hsf3fdzklmgtxm40000gn/T/ipykernel_22735/3647229099.py:10: RuntimeWarning: overflow encountered in divide\n",
      "  percent_change = 100.0 * (final_tumor_sizes - initial_tumor_sizes) / initial_tumor_sizes\n",
      "/var/folders/qb/5x7bjvl92hsf3fdzklmgtxm40000gn/T/ipykernel_22735/1401460667.py:79: RuntimeWarning: overflow encountered in power\n",
      "  z = 10 ** transformed_outputs\n",
      "/var/folders/qb/5x7bjvl92hsf3fdzklmgtxm40000gn/T/ipykernel_22735/3647229099.py:9: RuntimeWarning: overflow encountered in multiply\n",
      "  max_percent_change = 100.0 * (max_tumor_sizes - initial_tumor_sizes) / initial_tumor_sizes\n",
      "/var/folders/qb/5x7bjvl92hsf3fdzklmgtxm40000gn/T/ipykernel_22735/3647229099.py:9: RuntimeWarning: overflow encountered in divide\n",
      "  max_percent_change = 100.0 * (max_tumor_sizes - initial_tumor_sizes) / initial_tumor_sizes\n",
      "/var/folders/qb/5x7bjvl92hsf3fdzklmgtxm40000gn/T/ipykernel_22735/3647229099.py:10: RuntimeWarning: overflow encountered in multiply\n",
      "  percent_change = 100.0 * (final_tumor_sizes - initial_tumor_sizes) / initial_tumor_sizes\n",
      "/var/folders/qb/5x7bjvl92hsf3fdzklmgtxm40000gn/T/ipykernel_22735/3647229099.py:10: RuntimeWarning: overflow encountered in divide\n",
      "  percent_change = 100.0 * (final_tumor_sizes - initial_tumor_sizes) / initial_tumor_sizes\n",
      "/var/folders/qb/5x7bjvl92hsf3fdzklmgtxm40000gn/T/ipykernel_22735/1401460667.py:79: RuntimeWarning: overflow encountered in power\n",
      "  z = 10 ** transformed_outputs\n",
      "/var/folders/qb/5x7bjvl92hsf3fdzklmgtxm40000gn/T/ipykernel_22735/3647229099.py:9: RuntimeWarning: overflow encountered in multiply\n",
      "  max_percent_change = 100.0 * (max_tumor_sizes - initial_tumor_sizes) / initial_tumor_sizes\n",
      "/var/folders/qb/5x7bjvl92hsf3fdzklmgtxm40000gn/T/ipykernel_22735/3647229099.py:9: RuntimeWarning: overflow encountered in divide\n",
      "  max_percent_change = 100.0 * (max_tumor_sizes - initial_tumor_sizes) / initial_tumor_sizes\n",
      "/var/folders/qb/5x7bjvl92hsf3fdzklmgtxm40000gn/T/ipykernel_22735/3647229099.py:10: RuntimeWarning: overflow encountered in multiply\n",
      "  percent_change = 100.0 * (final_tumor_sizes - initial_tumor_sizes) / initial_tumor_sizes\n",
      "/var/folders/qb/5x7bjvl92hsf3fdzklmgtxm40000gn/T/ipykernel_22735/3647229099.py:10: RuntimeWarning: overflow encountered in divide\n",
      "  percent_change = 100.0 * (final_tumor_sizes - initial_tumor_sizes) / initial_tumor_sizes\n",
      "/var/folders/qb/5x7bjvl92hsf3fdzklmgtxm40000gn/T/ipykernel_22735/1401460667.py:79: RuntimeWarning: overflow encountered in power\n",
      "  z = 10 ** transformed_outputs\n",
      "/var/folders/qb/5x7bjvl92hsf3fdzklmgtxm40000gn/T/ipykernel_22735/3647229099.py:9: RuntimeWarning: overflow encountered in multiply\n",
      "  max_percent_change = 100.0 * (max_tumor_sizes - initial_tumor_sizes) / initial_tumor_sizes\n",
      "/var/folders/qb/5x7bjvl92hsf3fdzklmgtxm40000gn/T/ipykernel_22735/3647229099.py:9: RuntimeWarning: overflow encountered in divide\n",
      "  max_percent_change = 100.0 * (max_tumor_sizes - initial_tumor_sizes) / initial_tumor_sizes\n",
      "/var/folders/qb/5x7bjvl92hsf3fdzklmgtxm40000gn/T/ipykernel_22735/3647229099.py:10: RuntimeWarning: overflow encountered in multiply\n",
      "  percent_change = 100.0 * (final_tumor_sizes - initial_tumor_sizes) / initial_tumor_sizes\n",
      "/var/folders/qb/5x7bjvl92hsf3fdzklmgtxm40000gn/T/ipykernel_22735/3647229099.py:10: RuntimeWarning: overflow encountered in divide\n",
      "  percent_change = 100.0 * (final_tumor_sizes - initial_tumor_sizes) / initial_tumor_sizes\n",
      "/var/folders/qb/5x7bjvl92hsf3fdzklmgtxm40000gn/T/ipykernel_22735/1401460667.py:79: RuntimeWarning: overflow encountered in power\n",
      "  z = 10 ** transformed_outputs\n",
      "/var/folders/qb/5x7bjvl92hsf3fdzklmgtxm40000gn/T/ipykernel_22735/3647229099.py:9: RuntimeWarning: overflow encountered in multiply\n",
      "  max_percent_change = 100.0 * (max_tumor_sizes - initial_tumor_sizes) / initial_tumor_sizes\n",
      "/var/folders/qb/5x7bjvl92hsf3fdzklmgtxm40000gn/T/ipykernel_22735/3647229099.py:9: RuntimeWarning: overflow encountered in divide\n",
      "  max_percent_change = 100.0 * (max_tumor_sizes - initial_tumor_sizes) / initial_tumor_sizes\n",
      "/var/folders/qb/5x7bjvl92hsf3fdzklmgtxm40000gn/T/ipykernel_22735/3647229099.py:10: RuntimeWarning: overflow encountered in multiply\n",
      "  percent_change = 100.0 * (final_tumor_sizes - initial_tumor_sizes) / initial_tumor_sizes\n",
      "/var/folders/qb/5x7bjvl92hsf3fdzklmgtxm40000gn/T/ipykernel_22735/3647229099.py:10: RuntimeWarning: overflow encountered in divide\n",
      "  percent_change = 100.0 * (final_tumor_sizes - initial_tumor_sizes) / initial_tumor_sizes\n",
      "/var/folders/qb/5x7bjvl92hsf3fdzklmgtxm40000gn/T/ipykernel_22735/1401460667.py:79: RuntimeWarning: overflow encountered in power\n",
      "  z = 10 ** transformed_outputs\n",
      "/var/folders/qb/5x7bjvl92hsf3fdzklmgtxm40000gn/T/ipykernel_22735/3647229099.py:9: RuntimeWarning: overflow encountered in multiply\n",
      "  max_percent_change = 100.0 * (max_tumor_sizes - initial_tumor_sizes) / initial_tumor_sizes\n",
      "/var/folders/qb/5x7bjvl92hsf3fdzklmgtxm40000gn/T/ipykernel_22735/3647229099.py:9: RuntimeWarning: overflow encountered in divide\n",
      "  max_percent_change = 100.0 * (max_tumor_sizes - initial_tumor_sizes) / initial_tumor_sizes\n",
      "/var/folders/qb/5x7bjvl92hsf3fdzklmgtxm40000gn/T/ipykernel_22735/3647229099.py:10: RuntimeWarning: overflow encountered in multiply\n",
      "  percent_change = 100.0 * (final_tumor_sizes - initial_tumor_sizes) / initial_tumor_sizes\n",
      "/var/folders/qb/5x7bjvl92hsf3fdzklmgtxm40000gn/T/ipykernel_22735/3647229099.py:10: RuntimeWarning: overflow encountered in divide\n",
      "  percent_change = 100.0 * (final_tumor_sizes - initial_tumor_sizes) / initial_tumor_sizes\n"
     ]
    },
    {
     "name": "stderr",
     "output_type": "stream",
     "text": [
      "/var/folders/qb/5x7bjvl92hsf3fdzklmgtxm40000gn/T/ipykernel_22735/1401460667.py:79: RuntimeWarning: overflow encountered in power\n",
      "  z = 10 ** transformed_outputs\n",
      "/var/folders/qb/5x7bjvl92hsf3fdzklmgtxm40000gn/T/ipykernel_22735/3647229099.py:9: RuntimeWarning: overflow encountered in multiply\n",
      "  max_percent_change = 100.0 * (max_tumor_sizes - initial_tumor_sizes) / initial_tumor_sizes\n",
      "/var/folders/qb/5x7bjvl92hsf3fdzklmgtxm40000gn/T/ipykernel_22735/3647229099.py:9: RuntimeWarning: overflow encountered in divide\n",
      "  max_percent_change = 100.0 * (max_tumor_sizes - initial_tumor_sizes) / initial_tumor_sizes\n",
      "/var/folders/qb/5x7bjvl92hsf3fdzklmgtxm40000gn/T/ipykernel_22735/3647229099.py:10: RuntimeWarning: overflow encountered in multiply\n",
      "  percent_change = 100.0 * (final_tumor_sizes - initial_tumor_sizes) / initial_tumor_sizes\n",
      "/var/folders/qb/5x7bjvl92hsf3fdzklmgtxm40000gn/T/ipykernel_22735/3647229099.py:10: RuntimeWarning: overflow encountered in divide\n",
      "  percent_change = 100.0 * (final_tumor_sizes - initial_tumor_sizes) / initial_tumor_sizes\n",
      "/var/folders/qb/5x7bjvl92hsf3fdzklmgtxm40000gn/T/ipykernel_22735/1401460667.py:79: RuntimeWarning: overflow encountered in power\n",
      "  z = 10 ** transformed_outputs\n",
      "/var/folders/qb/5x7bjvl92hsf3fdzklmgtxm40000gn/T/ipykernel_22735/3647229099.py:9: RuntimeWarning: overflow encountered in multiply\n",
      "  max_percent_change = 100.0 * (max_tumor_sizes - initial_tumor_sizes) / initial_tumor_sizes\n",
      "/var/folders/qb/5x7bjvl92hsf3fdzklmgtxm40000gn/T/ipykernel_22735/3647229099.py:9: RuntimeWarning: overflow encountered in divide\n",
      "  max_percent_change = 100.0 * (max_tumor_sizes - initial_tumor_sizes) / initial_tumor_sizes\n",
      "/var/folders/qb/5x7bjvl92hsf3fdzklmgtxm40000gn/T/ipykernel_22735/3647229099.py:10: RuntimeWarning: overflow encountered in multiply\n",
      "  percent_change = 100.0 * (final_tumor_sizes - initial_tumor_sizes) / initial_tumor_sizes\n",
      "/var/folders/qb/5x7bjvl92hsf3fdzklmgtxm40000gn/T/ipykernel_22735/3647229099.py:10: RuntimeWarning: overflow encountered in divide\n",
      "  percent_change = 100.0 * (final_tumor_sizes - initial_tumor_sizes) / initial_tumor_sizes\n",
      "/var/folders/qb/5x7bjvl92hsf3fdzklmgtxm40000gn/T/ipykernel_22735/1401460667.py:79: RuntimeWarning: overflow encountered in power\n",
      "  z = 10 ** transformed_outputs\n",
      "/var/folders/qb/5x7bjvl92hsf3fdzklmgtxm40000gn/T/ipykernel_22735/3647229099.py:9: RuntimeWarning: overflow encountered in multiply\n",
      "  max_percent_change = 100.0 * (max_tumor_sizes - initial_tumor_sizes) / initial_tumor_sizes\n",
      "/var/folders/qb/5x7bjvl92hsf3fdzklmgtxm40000gn/T/ipykernel_22735/3647229099.py:9: RuntimeWarning: overflow encountered in divide\n",
      "  max_percent_change = 100.0 * (max_tumor_sizes - initial_tumor_sizes) / initial_tumor_sizes\n",
      "/var/folders/qb/5x7bjvl92hsf3fdzklmgtxm40000gn/T/ipykernel_22735/3647229099.py:10: RuntimeWarning: overflow encountered in multiply\n",
      "  percent_change = 100.0 * (final_tumor_sizes - initial_tumor_sizes) / initial_tumor_sizes\n",
      "/var/folders/qb/5x7bjvl92hsf3fdzklmgtxm40000gn/T/ipykernel_22735/3647229099.py:10: RuntimeWarning: overflow encountered in divide\n",
      "  percent_change = 100.0 * (final_tumor_sizes - initial_tumor_sizes) / initial_tumor_sizes\n"
     ]
    },
    {
     "name": "stdout",
     "output_type": "stream",
     "text": [
      "Dropped 80368 out of 100000 (80.37%) time profiles\n"
     ]
    },
    {
     "name": "stderr",
     "output_type": "stream",
     "text": [
      "/var/folders/qb/5x7bjvl92hsf3fdzklmgtxm40000gn/T/ipykernel_22735/1401460667.py:79: RuntimeWarning: overflow encountered in power\n",
      "  z = 10 ** transformed_outputs\n",
      "/var/folders/qb/5x7bjvl92hsf3fdzklmgtxm40000gn/T/ipykernel_22735/3647229099.py:9: RuntimeWarning: overflow encountered in multiply\n",
      "  max_percent_change = 100.0 * (max_tumor_sizes - initial_tumor_sizes) / initial_tumor_sizes\n",
      "/var/folders/qb/5x7bjvl92hsf3fdzklmgtxm40000gn/T/ipykernel_22735/3647229099.py:9: RuntimeWarning: overflow encountered in divide\n",
      "  max_percent_change = 100.0 * (max_tumor_sizes - initial_tumor_sizes) / initial_tumor_sizes\n",
      "/var/folders/qb/5x7bjvl92hsf3fdzklmgtxm40000gn/T/ipykernel_22735/3647229099.py:10: RuntimeWarning: overflow encountered in multiply\n",
      "  percent_change = 100.0 * (final_tumor_sizes - initial_tumor_sizes) / initial_tumor_sizes\n",
      "/var/folders/qb/5x7bjvl92hsf3fdzklmgtxm40000gn/T/ipykernel_22735/3647229099.py:10: RuntimeWarning: overflow encountered in divide\n",
      "  percent_change = 100.0 * (final_tumor_sizes - initial_tumor_sizes) / initial_tumor_sizes\n"
     ]
    },
    {
     "name": "stdout",
     "output_type": "stream",
     "text": [
      "Dropped 83889 out of 100000 (83.89%) time profiles\n"
     ]
    },
    {
     "name": "stderr",
     "output_type": "stream",
     "text": [
      "/var/folders/qb/5x7bjvl92hsf3fdzklmgtxm40000gn/T/ipykernel_22735/1401460667.py:79: RuntimeWarning: overflow encountered in power\n",
      "  z = 10 ** transformed_outputs\n",
      "/var/folders/qb/5x7bjvl92hsf3fdzklmgtxm40000gn/T/ipykernel_22735/3647229099.py:9: RuntimeWarning: overflow encountered in multiply\n",
      "  max_percent_change = 100.0 * (max_tumor_sizes - initial_tumor_sizes) / initial_tumor_sizes\n",
      "/var/folders/qb/5x7bjvl92hsf3fdzklmgtxm40000gn/T/ipykernel_22735/3647229099.py:9: RuntimeWarning: overflow encountered in divide\n",
      "  max_percent_change = 100.0 * (max_tumor_sizes - initial_tumor_sizes) / initial_tumor_sizes\n",
      "/var/folders/qb/5x7bjvl92hsf3fdzklmgtxm40000gn/T/ipykernel_22735/3647229099.py:10: RuntimeWarning: overflow encountered in multiply\n",
      "  percent_change = 100.0 * (final_tumor_sizes - initial_tumor_sizes) / initial_tumor_sizes\n",
      "/var/folders/qb/5x7bjvl92hsf3fdzklmgtxm40000gn/T/ipykernel_22735/3647229099.py:10: RuntimeWarning: overflow encountered in divide\n",
      "  percent_change = 100.0 * (final_tumor_sizes - initial_tumor_sizes) / initial_tumor_sizes\n"
     ]
    },
    {
     "name": "stdout",
     "output_type": "stream",
     "text": [
      "Dropped 85979 out of 100000 (85.98%) time profiles\n"
     ]
    },
    {
     "name": "stderr",
     "output_type": "stream",
     "text": [
      "/var/folders/qb/5x7bjvl92hsf3fdzklmgtxm40000gn/T/ipykernel_22735/1401460667.py:79: RuntimeWarning: overflow encountered in power\n",
      "  z = 10 ** transformed_outputs\n",
      "/var/folders/qb/5x7bjvl92hsf3fdzklmgtxm40000gn/T/ipykernel_22735/3647229099.py:9: RuntimeWarning: overflow encountered in multiply\n",
      "  max_percent_change = 100.0 * (max_tumor_sizes - initial_tumor_sizes) / initial_tumor_sizes\n",
      "/var/folders/qb/5x7bjvl92hsf3fdzklmgtxm40000gn/T/ipykernel_22735/3647229099.py:9: RuntimeWarning: overflow encountered in divide\n",
      "  max_percent_change = 100.0 * (max_tumor_sizes - initial_tumor_sizes) / initial_tumor_sizes\n",
      "/var/folders/qb/5x7bjvl92hsf3fdzklmgtxm40000gn/T/ipykernel_22735/3647229099.py:10: RuntimeWarning: overflow encountered in multiply\n",
      "  percent_change = 100.0 * (final_tumor_sizes - initial_tumor_sizes) / initial_tumor_sizes\n",
      "/var/folders/qb/5x7bjvl92hsf3fdzklmgtxm40000gn/T/ipykernel_22735/3647229099.py:10: RuntimeWarning: overflow encountered in divide\n",
      "  percent_change = 100.0 * (final_tumor_sizes - initial_tumor_sizes) / initial_tumor_sizes\n"
     ]
    },
    {
     "name": "stdout",
     "output_type": "stream",
     "text": [
      "Dropped 87158 out of 100000 (87.16%) time profiles\n"
     ]
    },
    {
     "name": "stderr",
     "output_type": "stream",
     "text": [
      "/var/folders/qb/5x7bjvl92hsf3fdzklmgtxm40000gn/T/ipykernel_22735/1401460667.py:79: RuntimeWarning: overflow encountered in power\n",
      "  z = 10 ** transformed_outputs\n",
      "/var/folders/qb/5x7bjvl92hsf3fdzklmgtxm40000gn/T/ipykernel_22735/3647229099.py:9: RuntimeWarning: overflow encountered in multiply\n",
      "  max_percent_change = 100.0 * (max_tumor_sizes - initial_tumor_sizes) / initial_tumor_sizes\n",
      "/var/folders/qb/5x7bjvl92hsf3fdzklmgtxm40000gn/T/ipykernel_22735/3647229099.py:9: RuntimeWarning: overflow encountered in divide\n",
      "  max_percent_change = 100.0 * (max_tumor_sizes - initial_tumor_sizes) / initial_tumor_sizes\n",
      "/var/folders/qb/5x7bjvl92hsf3fdzklmgtxm40000gn/T/ipykernel_22735/3647229099.py:10: RuntimeWarning: overflow encountered in multiply\n",
      "  percent_change = 100.0 * (final_tumor_sizes - initial_tumor_sizes) / initial_tumor_sizes\n",
      "/var/folders/qb/5x7bjvl92hsf3fdzklmgtxm40000gn/T/ipykernel_22735/3647229099.py:10: RuntimeWarning: overflow encountered in divide\n",
      "  percent_change = 100.0 * (final_tumor_sizes - initial_tumor_sizes) / initial_tumor_sizes\n",
      "/Library/Frameworks/Python.framework/Versions/3.11/lib/python3.11/site-packages/scipy/optimize/_optimize.py:3351: RuntimeWarning: invalid value encountered in subtract\n",
      "  if (fx2 - fval) > delta:\n"
     ]
    },
    {
     "name": "stdout",
     "output_type": "stream",
     "text": [
      "Dropped 87885 out of 100000 (87.89%) time profiles\n",
      "negative range at column 3 (0.9620427863991251, 0.95)\n",
      "negative range at column 3 (0.9841804721014217, 0.95)\n",
      "negative range at column 3 (0.9978623142977036, 0.95)\n",
      "negative range at column 3 (1.0063181578037184, 0.95)\n",
      "negative range at column 3 (1.0115441564939853, 0.95)\n",
      "negative range at column 3 (1.0147740013097328, 0.95)\n",
      "negative range at column 3 (1.0167701551842525, 0.95)\n",
      "negative range at column 3 (1.0180038461254806, 0.95)\n",
      "negative range at column 3 (1.0187663090587722, 0.95)\n",
      "negative range at column 3 (1.0192375370667084, 0.95)\n",
      "negative range at column 3 (1.0195287719920638, 0.95)\n",
      "negative range at column 3 (1.0197087650746446, 0.95)\n",
      "negative range at column 3 (1.0198200069174193, 0.95)\n",
      "negative range at column 3 (1.0198887581572254, 0.95)\n",
      "negative range at column 3 (1.0199312487601941, 0.95)\n",
      "negative range at column 3 (1.0199645964799329, 0.95)\n",
      "negative range at column 3 (1.0199645964799329, 0.37724465170010935)\n",
      "negative range at column 3 (1.0199645964799329, 0.6227553482998907)\n",
      "negative range at column 3 (1.0199645964799329, 0.7744893034002187)\n",
      "negative range at column 3 (1.0199645964799329, 0.8682660448996719)\n",
      "negative range at column 3 (1.0199645964799329, 0.9262232585005468)\n",
      "negative range at column 3 (1.0199645964799329, 0.9620427863991251)\n",
      "negative range at column 3 (1.0199645964799329, 0.9841804721014217)\n",
      "negative range at column 3 (1.0199645964799329, 0.9978623142977034)\n",
      "negative range at column 3 (1.0199645964799329, 1.0063181578037181)\n",
      "negative range at column 3 (1.0199645964799329, 1.0115441564939853)\n",
      "negative range at column 3 (1.0199645964799329, 1.0147740013097328)\n",
      "negative range at column 3 (1.0199645964799329, 1.0167701551842525)\n",
      "negative range at column 3 (1.0199645964799329, 1.0180038461254803)\n",
      "negative range at column 3 (1.0199645964799329, 1.0187663090587722)\n",
      "negative range at column 3 (1.0199645964799329, 1.0192375370667084)\n",
      "negative range at column 3 (1.0199645964799329, 1.0195287719920638)\n",
      "negative range at column 3 (1.0199645964799329, 1.0197087650746446)\n",
      "negative range at column 3 (1.0199645964799329, 1.0198200069174193)\n",
      "negative range at column 3 (1.0199645964799329, 1.0198887581572254)\n",
      "negative range at column 3 (1.0199645964799329, 1.0199312487601941)\n",
      "negative range at column 3 (1.0199645964799329, 1.0199645831307755)\n",
      "negative range at column 3 (1.0199645964799329, 1.0199645831307755)\n",
      "negative range at column 3 (1.0199645964799329, 1.0199645831307755)\n",
      "negative range at column 3 (1.0199645964799329, 1.0199645831307755)\n",
      "negative range at column 3 (1.0199645964799329, 1.0199645831307755)\n",
      "negative range at column 3 (1.0199645964799329, 1.0199645831307755)\n",
      "negative range at column 3 (1.0199645964799329, 1.0199645831307755)\n",
      "negative range at column 3 (1.0199645964799329, 1.0199645831307755)\n",
      "negative range at column 3 (1.0199645964799329, 1.0199645831307755)\n",
      "negative range at column 3 (1.0199645964799329, 1.0199645831307755)\n",
      "negative range at column 3 (1.0199645964799329, 1.0199645831307755)\n",
      "negative range at column 3 (1.0199645964799329, 1.0199645831307755)\n",
      "negative range at column 3 (1.0199645964799329, 1.0199645831307755)\n",
      "negative range at column 3 (1.0199645964799329, 1.0199645831307755)\n",
      "negative range at column 3 (1.0199645964799329, 1.0199645831307755)\n",
      "negative range at column 3 (1.0199645964799329, 1.0199645831307755)\n",
      "negative range at column 3 (1.0199645964799329, 1.0199645831307755)\n",
      "negative range at column 3 (1.0199645964799329, 1.0199645831307755)\n",
      "negative range at column 3 (1.0199645964799329, 1.0199645831307755)\n",
      "negative range at column 3 (1.0199645964799329, 1.0199645831307755)\n",
      "negative range at column 3 (1.0199645964799329, 1.0199645831307755)\n",
      "negative range at column 3 (1.0199645964799329, 1.0199645831307755)\n",
      "negative range at column 3 (1.0199645964799329, 1.0199645831307755)\n",
      "negative range at column 3 (1.0199645964799329, 1.0199645831307755)\n",
      "negative range at column 3 (1.0199645964799329, 1.0199645831307755)\n",
      "negative range at column 3 (1.0199645964799329, 1.0199645831307755)\n",
      "negative range at column 3 (1.0199645964799329, 1.0199645831307755)\n",
      "negative range at column 3 (1.0199645964799329, 1.0199645831307755)\n",
      "negative range at column 3 (1.0199645964799329, 1.0199645831307755)\n",
      "negative range at column 3 (1.0199645964799329, 1.0199645831307755)\n",
      "negative range at column 3 (1.0199645964799329, 1.0199645831307755)\n",
      "negative range at column 3 (1.0199645964799329, 1.0199645831307755)\n",
      "negative range at column 3 (1.0199645964799329, 1.0199645831307755)\n",
      "negative range at column 3 (1.0199645964799329, 1.0199645831307755)\n",
      "negative range at column 3 (1.0199645964799329, 1.0199645831307755)\n",
      "negative range at column 3 (1.0199645964799329, 1.0199645831307755)\n",
      "negative range at column 3 (1.0199645964799329, 1.0199645831307755)\n",
      "negative range at column 3 (1.0199645964799329, 1.0199645831307755)\n",
      "negative range at column 3 (1.0199645964799329, 1.0199645831307755)\n",
      "negative range at column 3 (1.0199645964799329, 1.0199645831307755)\n",
      "negative range at column 3 (1.0199645964799329, 1.0199645831307755)\n",
      "negative range at column 3 (1.0199645964799329, 1.0199645831307755)\n",
      "negative range at column 3 (1.0199645964799329, 1.0199645831307755)\n",
      "negative range at column 3 (1.0199645964799329, 1.0199645831307755)\n",
      "negative range at column 3 (1.0199645964799329, 1.0199645831307755)\n",
      "negative range at column 3 (1.0199645964799329, 1.0199645831307755)\n",
      "negative range at column 3 (1.0199645964799329, 1.0199645831307755)\n",
      "negative range at column 3 (1.0199645964799329, 1.0199645831307755)\n",
      "negative range at column 3 (1.0199645964799329, 1.0199645831307755)\n",
      "negative range at column 3 (1.0199645964799329, 1.0199645831307755)\n",
      "negative range at column 3 (1.0199645964799329, 1.0199645831307755)\n",
      "negative range at column 3 (1.0199645964799329, 1.0199645831307755)\n",
      "negative range at column 3 (1.0199645964799329, 1.0199645831307755)\n",
      "negative range at column 3 (1.0199645964799329, 1.0199645831307755)\n",
      "negative range at column 3 (1.0199645964799329, 1.0199645831307755)\n",
      "negative range at column 3 (1.0199645964799329, 1.0199645831307755)\n",
      "negative range at column 3 (1.0199645964799329, 1.0199645831307755)\n",
      "negative range at column 3 (1.0199645964799329, 1.0199645831307755)\n",
      "negative range at column 3 (1.0199645964799329, 1.0199645831307755)\n",
      "negative range at column 3 (1.0199645964799329, 1.0199645831307755)\n",
      "negative range at column 3 (1.0199645964799329, 1.0199645831307755)\n",
      "negative range at column 3 (1.0199645964799329, 1.0199645831307755)\n",
      "negative range at column 3 (1.0199645964799329, 1.0199645831307755)\n",
      "negative range at column 3 (1.0199645964799329, 1.0199645831307755)\n",
      "negative range at column 3 (1.0199645964799329, 1.0199645831307755)\n",
      "negative range at column 3 (1.0199645964799329, 1.0199645831307755)\n",
      "negative range at column 3 (1.0199645964799329, 1.0199645831307755)\n",
      "negative range at column 3 (1.0199645964799329, 1.0199645831307755)\n",
      "negative range at column 3 (1.0199645964799329, 1.0199645831307755)\n",
      "negative range at column 3 (1.0199645964799329, 1.0199645831307755)\n",
      "negative range at column 3 (1.0199645964799329, 1.0199645831307755)\n",
      "negative range at column 3 (1.0199645964799329, 1.0199645831307755)\n",
      "negative range at column 3 (1.0199645964799329, 1.0199645831307755)\n",
      "negative range at column 3 (1.0199645964799329, 1.0199645831307755)\n",
      "negative range at column 3 (1.0199645964799329, 1.0199645831307755)\n",
      "negative range at column 3 (1.0199645964799329, 1.0199645831307755)\n",
      "negative range at column 3 (1.0199645964799329, 1.0199645831307755)\n",
      "negative range at column 3 (1.0199645964799329, 1.0199645831307755)\n",
      "negative range at column 3 (1.0199645964799329, 1.0199645831307755)\n",
      "negative range at column 3 (1.0199645964799329, 1.0199645831307755)\n",
      "negative range at column 3 (1.0199645964799329, 1.0199645831307755)\n",
      "negative range at column 3 (1.0199645964799329, 1.0199645831307755)\n",
      "negative range at column 3 (1.0199645964799329, 1.0199645831307755)\n",
      "negative range at column 3 (1.0199645964799329, 1.0199645831307755)\n",
      "negative range at column 3 (1.0199645964799329, 1.0199645831307755)\n",
      "negative range at column 3 (1.0199645964799329, 1.0199645831307755)\n",
      "negative range at column 3 (1.0199645964799329, 1.0199645831307755)\n",
      "negative range at column 3 (1.0199645964799329, 1.0199645831307755)\n",
      "negative range at column 3 (1.0199645964799329, 1.0199645831307755)\n",
      "negative range at column 3 (1.0199645964799329, 1.0199645831307755)\n",
      "negative range at column 3 (1.0199645964799329, 1.0199645831307755)\n",
      "negative range at column 3 (1.0199645964799329, 1.0199645831307755)\n",
      "negative range at column 3 (1.0199645964799329, 1.0199645831307755)\n",
      "negative range at column 3 (1.0199645964799329, 1.0199645831307755)\n",
      "negative range at column 3 (1.0199645964799329, 1.0199645831307755)\n",
      "negative range at column 3 (1.0199645964799329, 1.0199645831307755)\n",
      "negative range at column 3 (1.0199645964799329, 1.0199645831307755)\n",
      "negative range at column 3 (1.0199645964799329, 1.0199645831307755)\n",
      "negative range at column 3 (1.0199645964799329, 1.0199645831307755)\n",
      "negative range at column 3 (1.0199645964799329, 1.0199645831307755)\n",
      "negative range at column 3 (1.0199645964799329, 1.0199645831307755)\n",
      "negative range at column 3 (1.0199645964799329, 1.0199645831307755)\n",
      "negative range at column 3 (1.0199645964799329, 1.0199645831307755)\n",
      "negative range at column 3 (1.0199645964799329, 1.0199645831307755)\n",
      "negative range at column 3 (1.0199645964799329, 1.0199645831307755)\n",
      "negative range at column 3 (1.0199645964799329, 1.0199645831307755)\n",
      "negative range at column 3 (1.0199645964799329, 1.0199645831307755)\n",
      "negative range at column 3 (1.0199645964799329, 1.0199645831307755)\n",
      "negative range at column 3 (1.0199645964799329, 1.0199645831307755)\n",
      "negative range at column 3 (1.0199645964799329, 1.0199645831307755)\n",
      "negative range at column 3 (1.0199645964799329, 1.0199645831307755)\n",
      "negative range at column 3 (1.0199645964799329, 1.0199645831307755)\n",
      "negative range at column 3 (1.0199645964799329, 1.0199645831307755)\n",
      "negative range at column 3 (1.0199645964799329, 1.0199645831307755)\n",
      "negative range at column 3 (1.0199645964799329, 1.0199645831307755)\n",
      "negative range at column 3 (1.0199645964799329, 1.0199645831307755)\n",
      "negative range at column 3 (1.0199645964799329, 1.0199645831307755)\n",
      "negative range at column 3 (1.0199645964799329, 1.0199645831307755)\n",
      "negative range at column 3 (1.0199645964799329, 1.0199645831307755)\n",
      "negative range at column 3 (1.0199645964799329, 1.0199645831307755)\n",
      "negative range at column 3 (1.0199645964799329, 1.0199645831307755)\n",
      "negative range at column 3 (1.0199645964799329, 1.0199645831307755)\n",
      "negative range at column 3 (1.0199645964799329, 1.0199645831307755)\n",
      "negative range at column 3 (1.0199645964799329, 1.0199645831307755)\n",
      "negative range at column 3 (1.0199645964799329, 1.0199645831307755)\n",
      "negative range at column 3 (1.0199645964799329, 1.0199645831307755)\n",
      "negative range at column 3 (1.0199645964799329, 1.0199645831307755)\n",
      "negative range at column 3 (1.0199645964799329, 1.0199645831307755)\n",
      "negative range at column 3 (1.0199645964799329, 1.0199645831307755)\n",
      "negative range at column 3 (1.0199645964799329, 1.0199645831307755)\n",
      "negative range at column 3 (1.0199645964799329, 1.0199645831307755)\n",
      "negative range at column 3 (1.0199645964799329, 1.0199645831307755)\n",
      "negative range at column 3 (1.0199645964799329, 1.0199645831307755)\n",
      "negative range at column 3 (1.0199645964799329, 1.0199645831307755)\n",
      "negative range at column 3 (1.0199645964799329, 1.0199645831307755)\n",
      "negative range at column 3 (1.0199645964799329, 1.0199645831307755)\n",
      "negative range at column 3 (1.0199645964799329, 1.0199645831307755)\n",
      "negative range at column 3 (1.0199645964799329, 1.0199645831307755)\n",
      "negative range at column 3 (1.0199645964799329, 1.0199645831307755)\n",
      "negative range at column 3 (1.0199645964799329, 1.0199645831307755)\n",
      "negative range at column 3 (1.0199645964799329, 1.0199645831307755)\n",
      "negative range at column 3 (1.0199645964799329, 1.0199645831307755)\n",
      "negative range at column 3 (1.0199645964799329, 1.0199645831307755)\n",
      "negative range at column 3 (1.0199645964799329, 1.0199645831307755)\n",
      "negative range at column 3 (1.0199645964799329, 1.0199645831307755)\n",
      "negative range at column 3 (1.0199645964799329, 1.0199645831307755)\n",
      "negative range at column 3 (1.0199645964799329, 1.0199645831307755)\n",
      "negative range at column 3 (1.0199645964799329, 1.0199645831307755)\n",
      "negative range at column 3 (1.0199645964799329, 1.0199645831307755)\n",
      "negative range at column 3 (1.0199645964799329, 1.0199645831307755)\n",
      "negative range at column 3 (1.0199645964799329, 1.0199645831307755)\n",
      "negative range at column 3 (1.0199645964799329, 1.0199645831307755)\n",
      "negative range at column 3 (1.0199645964799329, 1.0199645831307755)\n",
      "negative range at column 3 (1.0199645964799329, 1.0199645831307755)\n",
      "negative range at column 3 (1.0199645964799329, 1.0199645831307755)\n",
      "negative range at column 3 (1.0199645964799329, 1.0199645831307755)\n",
      "negative range at column 3 (1.0199645964799329, 1.0199645831307755)\n",
      "negative range at column 3 (1.0199645964799329, 1.0199645831307755)\n",
      "negative range at column 3 (1.0199645964799329, 1.0199645831307755)\n",
      "negative range at column 3 (1.0199645964799329, 1.0199645831307755)\n",
      "negative range at column 3 (1.0199645964799329, 1.0199645831307755)\n",
      "negative range at column 3 (1.0199645964799329, 1.0199645831307755)\n",
      "negative range at column 3 (1.0199645964799329, 1.0199645831307755)\n",
      "negative range at column 3 (1.0199645964799329, 1.0199645831307755)\n",
      "negative range at column 3 (1.0199645964799329, 1.0199645831307755)\n",
      "negative range at column 3 (1.0199645964799329, 1.0199645831307755)\n",
      "negative range at column 3 (1.0199645964799329, 1.0199645831307755)\n",
      "negative range at column 3 (1.0199645964799329, 1.0199645831307755)\n",
      "negative range at column 3 (1.0199645964799329, 1.0199645831307755)\n",
      "negative range at column 3 (1.0199645964799329, 1.0199645831307755)\n",
      "negative range at column 3 (1.0199645964799329, 1.0199645831307755)\n",
      "negative range at column 3 (1.0199645964799329, 1.0199645831307755)\n",
      "negative range at column 3 (1.0199645964799329, 1.0199645831307755)\n",
      "negative range at column 3 (1.0199645964799329, 1.0199645831307755)\n",
      "negative range at column 3 (1.0199645964799329, 1.0199645831307755)\n",
      "negative range at column 3 (1.0199645964799329, 1.0199645831307755)\n",
      "negative range at column 3 (1.0199645964799329, 1.0199645831307755)\n",
      "negative range at column 3 (1.0199645964799329, 1.0199645831307755)\n",
      "negative range at column 3 (1.0199645964799329, 1.0199645831307755)\n",
      "negative range at column 3 (1.0199645964799329, 1.0199645831307755)\n",
      "negative range at column 3 (1.0199645964799329, 1.0199645831307755)\n",
      "negative range at column 3 (1.0199645964799329, 1.0199645831307755)\n",
      "negative range at column 3 (1.0199645964799329, 1.0199645831307755)\n",
      "negative range at column 3 (1.0199645964799329, 1.0199645831307755)\n",
      "negative range at column 3 (1.0199645964799329, 1.0199645831307755)\n",
      "negative range at column 3 (1.0199645964799329, 1.0199645831307755)\n",
      "negative range at column 3 (1.0199645964799329, 1.0199645831307755)\n",
      "negative range at column 3 (1.0199645964799329, 1.0199645831307755)\n",
      "negative range at column 3 (1.0199645964799329, 1.0199645831307755)\n",
      "negative range at column 3 (1.0199645964799329, 1.0199645831307755)\n",
      "negative range at column 3 (1.0199645964799329, 1.0199645831307755)\n",
      "negative range at column 3 (1.0199645964799329, 1.0199645831307755)\n",
      "negative range at column 3 (1.0199645964799329, 1.0199645831307755)\n",
      "negative range at column 3 (1.0199645964799329, 1.0199645831307755)\n",
      "negative range at column 3 (1.0199645964799329, 1.0199645831307755)\n",
      "negative range at column 3 (1.0199645964799329, 1.0199645831307755)\n",
      "negative range at column 3 (1.0199645964799329, 1.0199645831307755)\n",
      "negative range at column 3 (1.0199645964799329, 1.0199645831307755)\n",
      "negative range at column 3 (1.0199645964799329, 1.0199645831307755)\n",
      "negative range at column 3 (1.0199645964799329, 1.0199645831307755)\n",
      "negative range at column 3 (1.0199645964799329, 1.0199645831307755)\n",
      "negative range at column 3 (1.0199645964799329, 1.0199645831307755)\n",
      "negative range at column 3 (1.0199645964799329, 1.0199645831307755)\n",
      "negative range at column 3 (1.0199645964799329, 1.0199645831307755)\n",
      "negative range at column 3 (1.0199645964799329, 1.0199645831307755)\n",
      "negative range at column 3 (1.0199645964799329, 1.0199645831307755)\n",
      "negative range at column 3 (1.0199645964799329, 1.0199645831307755)\n",
      "negative range at column 3 (1.0199645964799329, 1.0199645831307755)\n",
      "negative range at column 3 (1.0199645964799329, 1.0199645831307755)\n",
      "negative range at column 3 (1.0199645964799329, 1.0199645831307755)\n",
      "negative range at column 3 (1.0199645964799329, 1.0199645831307755)\n",
      "negative range at column 3 (1.0199645964799329, 1.0199645831307755)\n",
      "negative range at column 3 (1.0199645964799329, 1.0199645831307755)\n",
      "negative range at column 3 (1.0199645964799329, 1.0199645831307755)\n",
      "negative range at column 3 (1.0199645964799329, 1.0199645831307755)\n",
      "negative range at column 3 (1.0199645964799329, 1.0199645831307755)\n",
      "negative range at column 3 (1.0199645964799329, 1.0199645831307755)\n",
      "negative range at column 3 (1.0199645964799329, 1.0199645831307755)\n",
      "negative range at column 3 (1.0199645964799329, 1.0199645831307755)\n",
      "negative range at column 3 (1.0199645964799329, 1.0199645831307755)\n",
      "negative range at column 3 (1.0199645964799329, 1.0199645831307755)\n",
      "negative range at column 3 (1.0199645964799329, 1.0199645831307755)\n",
      "negative range at column 3 (1.0199645964799329, 1.0199645831307755)\n",
      "negative range at column 3 (1.0199645964799329, 1.0199645831307755)\n",
      "negative range at column 3 (1.0199645964799329, 1.0199645831307755)\n",
      "negative range at column 3 (1.0199645964799329, 1.0199645831307755)\n",
      "negative range at column 3 (1.0199645964799329, 1.0199645831307755)\n",
      "negative range at column 3 (1.0199645964799329, 1.0199645831307755)\n",
      "negative range at column 3 (1.0199645964799329, 1.0199645831307755)\n",
      "negative range at column 3 (1.0199645964799329, 1.0199645831307755)\n",
      "negative range at column 3 (1.0199645964799329, 1.0199645831307755)\n",
      "negative range at column 3 (1.0199645964799329, 1.0199645831307755)\n",
      "negative range at column 3 (1.0199645964799329, 1.0199645831307755)\n",
      "negative range at column 3 (1.0199645964799329, 1.0199645831307755)\n",
      "negative range at column 3 (1.0199645964799329, 1.0199645831307755)\n",
      "negative range at column 3 (1.0199645964799329, 1.0199645831307755)\n",
      "negative range at column 3 (1.0199645964799329, 1.0199645831307755)\n",
      "negative range at column 3 (1.0199645964799329, 1.0199645831307755)\n",
      "negative range at column 3 (1.0199645964799329, 1.0199645831307755)\n",
      "negative range at column 3 (1.0199645964799329, 1.0199645831307755)\n",
      "negative range at column 3 (1.0199645964799329, 1.0199645831307755)\n",
      "negative range at column 3 (1.0199645964799329, 1.0199645831307755)\n",
      "negative range at column 3 (1.0199645964799329, 1.0199645831307755)\n",
      "negative range at column 3 (1.0199645964799329, 1.0199645831307755)\n",
      "negative range at column 3 (1.0199645964799329, 1.0199645831307755)\n",
      "negative range at column 3 (1.0199645964799329, 1.0199645831307755)\n",
      "negative range at column 3 (1.0199645964799329, 1.0199645831307755)\n",
      "negative range at column 3 (1.0199645964799329, 1.0199645831307755)\n",
      "negative range at column 3 (1.0199645964799329, 1.0199645831307755)\n",
      "negative range at column 3 (1.0199645964799329, 1.0199645831307755)\n",
      "negative range at column 3 (1.0199645964799329, 1.0199645831307755)\n",
      "negative range at column 3 (1.0199645964799329, 1.0199645831307755)\n",
      "negative range at column 3 (1.0199645964799329, 1.0199645831307755)\n"
     ]
    },
    {
     "name": "stdout",
     "output_type": "stream",
     "text": [
      "(0.32814606950735153, 0.5739923476786417) out of range on column 0 (0.6181023766830034, 1.1644274392858702)\n",
      "(0.32814607621287406, 0.5739923476786417) out of range on column 0 (0.6181023915841646, 1.1644274392858702)\n",
      "(0.32814606950735153, 0.5739923543841642) out of range on column 0 (0.6181023766830034, 1.1644274541870314)\n",
      "(0.32814606950735153, 0.5739923476786417) out of range on column 0 (0.6181023766830034, 1.1644274392858702)\n",
      "(0.32814606950735153, 0.5739923476786417) out of range on column 0 (0.6181023766830034, 1.1644274392858702)\n",
      "(0.32814606950735153, 0.5739923476786417) out of range on column 0 (0.6181023766830034, 1.1644274392858702)\n",
      "(0.32814606950735153, 0.5739923476786417) out of range on column 0 (0.6181023766830034, 1.1644274392858702)\n",
      "(0.32814606950735153, 0.5739923476786417) out of range on column 0 (0.6181023766830034, 1.1644274392858702)\n",
      "(0.32814606950735153, 0.5739923476786417) out of range on column 0 (0.6181023766830034, 1.1644274392858702)\n",
      "(0.32814606950735153, 0.5739923476786417) out of range on column 0 (0.6181023766830034, 1.1644274392858702)\n",
      "(0.32814606950735153, 0.5739923476786417) out of range on column 0 (0.6181023766830034, 1.1644274392858702)\n",
      "(0.32814606950735153, 0.5739923476786417) out of range on column 0 (0.6181023766830034, 1.1644274392858702)\n",
      "(0.32814606950735153, 0.5739923476786417) out of range on column 0 (0.6181023766830034, 1.1644274392858702)\n",
      "(0.32814606950735153, 0.5739923476786417) out of range on column 0 (0.6181023766830034, 1.1644274392858702)\n",
      "(0.32814606950735153, 0.5739923476786417) out of range on column 0 (0.6181023766830034, 1.1644274392858702)\n",
      "(0.32814606950735153, 0.5739923476786417) out of range on column 0 (0.6181023766830034, 1.1644274392858702)\n",
      "(0.32814606950735153, 0.5739923476786417) out of range on column 0 (0.6181023766830034, 1.1644274392858702)\n",
      "(0.32814606950735153, 0.5739923476786417) out of range on column 0 (0.6181023766830034, 1.1644274392858702)\n",
      "(0.32814606950735153, 0.5739923476786417) out of range on column 0 (0.6181023766830034, 1.1644274392858702)\n",
      "(0.32814606950735153, 0.5739923476786417) out of range on column 0 (0.6181023766830034, 1.1644274392858702)\n",
      "(0.32814606950735153, 0.5739923476786417) out of range on column 0 (0.6181023766830034, 1.1644274392858702)\n"
     ]
    },
    {
     "name": "stderr",
     "output_type": "stream",
     "text": [
      "/Library/Frameworks/Python.framework/Versions/3.11/lib/python3.11/site-packages/scipy/optimize/_numdiff.py:576: RuntimeWarning: invalid value encountered in subtract\n",
      "  df = fun(x) - f0\n"
     ]
    },
    {
     "name": "stdout",
     "output_type": "stream",
     "text": [
      "(0.32814606950735153, 0.5739923476786417) out of range on column 0 (0.6181023766830034, 1.1644274392858702)\n",
      "(0.2003230347536758, 0.5257461738393209) out of range on column 0 (0.3340511883415017, 1.0572137196429352)\n",
      "(0.004682444846098144, 0.009158968763993521) out of range on column 4 (-0.06351103078037121, 0.8317937527987043)\n",
      "(0.004682444846098144, 0.009158968763993521) out of range on column 4 (-0.06351103078037121, 0.8317937527987043)\n",
      "(0.004682444846098144, 0.009158968763993521) out of range on column 4 (-0.06351103078037121, 0.8317937527987043)\n",
      "(0.004682444846098144, 0.009158968763993521) out of range on column 4 (-0.06351103078037121, 0.8317937527987043)\n",
      "(0.004682444846098144, 0.009158968763993521) out of range on column 4 (-0.06351103078037121, 0.8317937527987043)\n",
      "(0.004682444846098144, 0.009158968763993521) out of range on column 4 (-0.06351103078037121, 0.8317937527987043)\n",
      "(0.004682444846098144, 0.009158968763993521) out of range on column 4 (-0.06351103078037121, 0.8317937527987043)\n",
      "(0.004682444846098144, 0.009158968763993521) out of range on column 4 (-0.06351103078037121, 0.8317937527987043)\n",
      "(0.004682444846098144, 0.009158968763993521) out of range on column 4 (-0.06351103078037121, 0.8317937527987043)\n",
      "(0.00468244492060395, 0.009158968763993521) out of range on column 4 (-0.06351101587921001, 0.8317937527987043)\n",
      "(0.004682444846098144, 0.009158968838499327) out of range on column 4 (-0.06351103078037121, 0.8317937676998655)\n",
      "(0.004682444846098144, 0.009158968763993521) out of range on column 4 (-0.06351103078037121, 0.8317937527987043)\n",
      "(0.004682444846098144, 0.009158968763993521) out of range on column 4 (-0.06351103078037121, 0.8317937527987043)\n",
      "(0.004682444846098144, 0.009158968763993521) out of range on column 4 (-0.06351103078037121, 0.8317937527987043)\n",
      "(0.004682444846098144, 0.009158968763993521) out of range on column 4 (-0.06351103078037121, 0.8317937527987043)\n",
      "(0.004682444846098144, 0.009158968763993521) out of range on column 4 (-0.06351103078037121, 0.8317937527987043)\n",
      "(0.004682444846098144, 0.009158968763993521) out of range on column 4 (-0.06351103078037121, 0.8317937527987043)\n",
      "(0.004682444846098144, 0.009158968763993521) out of range on column 4 (-0.06351103078037121, 0.8317937527987043)\n",
      "(0.004682444846098144, 0.009158968763993521) out of range on column 4 (-0.06351103078037121, 0.8317937527987043)\n",
      "(0.004682444846098144, 0.009158968763993521) out of range on column 4 (-0.06351103078037121, 0.8317937527987043)\n",
      "(0.004682444846098144, 0.009158968763993521) out of range on column 4 (-0.06351103078037121, 0.8317937527987043)\n"
     ]
    },
    {
     "name": "stderr",
     "output_type": "stream",
     "text": [
      "/Library/Frameworks/Python.framework/Versions/3.11/lib/python3.11/site-packages/scipy/optimize/_numdiff.py:576: RuntimeWarning: invalid value encountered in subtract\n",
      "  df = fun(x) - f0\n"
     ]
    },
    {
     "name": "stdout",
     "output_type": "stream",
     "text": [
      "(0.004819202893989403, 0.009302228093345601) out of range on column 4 (-0.03615942120211942, 0.8604456186691203)\n",
      "(0.004827277962567455, 0.0092861872183442) out of range on column 4 (-0.034544407486508985, 0.85723744366884)\n",
      "(0.004827277962567455, 0.0092861872183442) out of range on column 4 (-0.034544407486508985, 0.85723744366884)\n",
      "(0.004827277962567455, 0.0092861872183442) out of range on column 4 (-0.034544407486508985, 0.85723744366884)\n",
      "(0.004827277962567455, 0.0092861872183442) out of range on column 4 (-0.034544407486508985, 0.85723744366884)\n",
      "(0.004827277962567455, 0.0092861872183442) out of range on column 4 (-0.034544407486508985, 0.85723744366884)\n",
      "(0.004827277962567455, 0.0092861872183442) out of range on column 4 (-0.034544407486508985, 0.85723744366884)\n",
      "(0.004827277962567455, 0.0092861872183442) out of range on column 4 (-0.034544407486508985, 0.85723744366884)\n",
      "(0.004827277962567455, 0.0092861872183442) out of range on column 4 (-0.034544407486508985, 0.85723744366884)\n",
      "(0.004827277962567455, 0.0092861872183442) out of range on column 4 (-0.034544407486508985, 0.85723744366884)\n",
      "(0.004827278037073261, 0.0092861872183442) out of range on column 4 (-0.03454439258534779, 0.85723744366884)\n",
      "(0.004827277962567455, 0.009286187292850006) out of range on column 4 (-0.034544407486508985, 0.8572374585700012)\n",
      "(0.004827277962567455, 0.0092861872183442) out of range on column 4 (-0.034544407486508985, 0.85723744366884)\n",
      "(0.004827277962567455, 0.0092861872183442) out of range on column 4 (-0.034544407486508985, 0.85723744366884)\n",
      "(0.004827277962567455, 0.0092861872183442) out of range on column 4 (-0.034544407486508985, 0.85723744366884)\n",
      "(0.004827277962567455, 0.0092861872183442) out of range on column 4 (-0.034544407486508985, 0.85723744366884)\n",
      "(0.004827277962567455, 0.0092861872183442) out of range on column 4 (-0.034544407486508985, 0.85723744366884)\n",
      "(0.004827277962567455, 0.0092861872183442) out of range on column 4 (-0.034544407486508985, 0.85723744366884)\n",
      "(0.004827277962567455, 0.0092861872183442) out of range on column 4 (-0.034544407486508985, 0.85723744366884)\n",
      "(0.004827277962567455, 0.0092861872183442) out of range on column 4 (-0.034544407486508985, 0.85723744366884)\n",
      "(0.004827277962567455, 0.0092861872183442) out of range on column 4 (-0.034544407486508985, 0.85723744366884)\n",
      "(0.004827277962567455, 0.0092861872183442) out of range on column 4 (-0.034544407486508985, 0.85723744366884)\n"
     ]
    },
    {
     "name": "stderr",
     "output_type": "stream",
     "text": [
      "/Library/Frameworks/Python.framework/Versions/3.11/lib/python3.11/site-packages/scipy/optimize/_numdiff.py:576: RuntimeWarning: invalid value encountered in subtract\n",
      "  df = fun(x) - f0\n"
     ]
    },
    {
     "name": "stdout",
     "output_type": "stream",
     "text": [
      "(0.004827277962567455, 0.0092861872183442) out of range on column 4 (-0.034544407486508985, 0.85723744366884)\n",
      "(0.004874725811013962, 0.009348140579836272) out of range on column 4 (-0.02505483779720765, 0.8696281159672544)\n",
      "(0.004898449735237215, 0.009379117260582309) out of range on column 4 (-0.020310052952556983, 0.8758234521164617)\n",
      "negative range at column 4 (-0.018995996457488173, -0.019134428864890696)\n",
      "Input X contains infinity or a value too large for dtype('float64').\n"
     ]
    },
    {
     "name": "stderr",
     "output_type": "stream",
     "text": [
      "/var/folders/qb/5x7bjvl92hsf3fdzklmgtxm40000gn/T/ipykernel_22735/1907790191.py:40: RuntimeWarning: overflow encountered in exp\n",
      "  indicators[:, i + 1] = np.exp(\n",
      "/var/folders/qb/5x7bjvl92hsf3fdzklmgtxm40000gn/T/ipykernel_22735/1401460667.py:79: RuntimeWarning: overflow encountered in power\n",
      "  z = 10 ** transformed_outputs\n",
      "/var/folders/qb/5x7bjvl92hsf3fdzklmgtxm40000gn/T/ipykernel_22735/3647229099.py:9: RuntimeWarning: overflow encountered in multiply\n",
      "  max_percent_change = 100.0 * (max_tumor_sizes - initial_tumor_sizes) / initial_tumor_sizes\n",
      "/var/folders/qb/5x7bjvl92hsf3fdzklmgtxm40000gn/T/ipykernel_22735/3647229099.py:9: RuntimeWarning: overflow encountered in divide\n",
      "  max_percent_change = 100.0 * (max_tumor_sizes - initial_tumor_sizes) / initial_tumor_sizes\n",
      "/var/folders/qb/5x7bjvl92hsf3fdzklmgtxm40000gn/T/ipykernel_22735/3647229099.py:10: RuntimeWarning: overflow encountered in multiply\n",
      "  percent_change = 100.0 * (final_tumor_sizes - initial_tumor_sizes) / initial_tumor_sizes\n",
      "/var/folders/qb/5x7bjvl92hsf3fdzklmgtxm40000gn/T/ipykernel_22735/3647229099.py:10: RuntimeWarning: overflow encountered in divide\n",
      "  percent_change = 100.0 * (final_tumor_sizes - initial_tumor_sizes) / initial_tumor_sizes\n"
     ]
    },
    {
     "name": "stdout",
     "output_type": "stream",
     "text": [
      "Dropped 96061 out of 100000 (96.06%) time profiles\n"
     ]
    },
    {
     "name": "stderr",
     "output_type": "stream",
     "text": [
      "/var/folders/qb/5x7bjvl92hsf3fdzklmgtxm40000gn/T/ipykernel_22735/1401460667.py:79: RuntimeWarning: overflow encountered in power\n",
      "  z = 10 ** transformed_outputs\n",
      "/var/folders/qb/5x7bjvl92hsf3fdzklmgtxm40000gn/T/ipykernel_22735/3647229099.py:9: RuntimeWarning: overflow encountered in multiply\n",
      "  max_percent_change = 100.0 * (max_tumor_sizes - initial_tumor_sizes) / initial_tumor_sizes\n",
      "/var/folders/qb/5x7bjvl92hsf3fdzklmgtxm40000gn/T/ipykernel_22735/3647229099.py:9: RuntimeWarning: overflow encountered in divide\n",
      "  max_percent_change = 100.0 * (max_tumor_sizes - initial_tumor_sizes) / initial_tumor_sizes\n",
      "/var/folders/qb/5x7bjvl92hsf3fdzklmgtxm40000gn/T/ipykernel_22735/3647229099.py:10: RuntimeWarning: overflow encountered in multiply\n",
      "  percent_change = 100.0 * (final_tumor_sizes - initial_tumor_sizes) / initial_tumor_sizes\n",
      "/var/folders/qb/5x7bjvl92hsf3fdzklmgtxm40000gn/T/ipykernel_22735/3647229099.py:10: RuntimeWarning: overflow encountered in divide\n",
      "  percent_change = 100.0 * (final_tumor_sizes - initial_tumor_sizes) / initial_tumor_sizes\n"
     ]
    },
    {
     "name": "stdout",
     "output_type": "stream",
     "text": [
      "negative range at column 0 (1.019827953611899, -0.019946955798027965)\n",
      "Input X contains infinity or a value too large for dtype('float64').\n"
     ]
    },
    {
     "name": "stderr",
     "output_type": "stream",
     "text": [
      "/var/folders/qb/5x7bjvl92hsf3fdzklmgtxm40000gn/T/ipykernel_22735/1907790191.py:40: RuntimeWarning: overflow encountered in exp\n",
      "  indicators[:, i + 1] = np.exp(\n",
      "/var/folders/qb/5x7bjvl92hsf3fdzklmgtxm40000gn/T/ipykernel_22735/1401460667.py:79: RuntimeWarning: overflow encountered in power\n",
      "  z = 10 ** transformed_outputs\n",
      "/var/folders/qb/5x7bjvl92hsf3fdzklmgtxm40000gn/T/ipykernel_22735/3647229099.py:9: RuntimeWarning: overflow encountered in multiply\n",
      "  max_percent_change = 100.0 * (max_tumor_sizes - initial_tumor_sizes) / initial_tumor_sizes\n",
      "/var/folders/qb/5x7bjvl92hsf3fdzklmgtxm40000gn/T/ipykernel_22735/3647229099.py:9: RuntimeWarning: overflow encountered in divide\n",
      "  max_percent_change = 100.0 * (max_tumor_sizes - initial_tumor_sizes) / initial_tumor_sizes\n",
      "/var/folders/qb/5x7bjvl92hsf3fdzklmgtxm40000gn/T/ipykernel_22735/3647229099.py:10: RuntimeWarning: overflow encountered in multiply\n",
      "  percent_change = 100.0 * (final_tumor_sizes - initial_tumor_sizes) / initial_tumor_sizes\n",
      "/var/folders/qb/5x7bjvl92hsf3fdzklmgtxm40000gn/T/ipykernel_22735/3647229099.py:10: RuntimeWarning: overflow encountered in divide\n",
      "  percent_change = 100.0 * (final_tumor_sizes - initial_tumor_sizes) / initial_tumor_sizes\n"
     ]
    },
    {
     "name": "stdout",
     "output_type": "stream",
     "text": [
      "Dropped 81167 out of 100000 (81.17%) time profiles\n",
      "negative range at column 3 (1.0190342708909668, -0.01623182009100177)\n"
     ]
    },
    {
     "name": "stderr",
     "output_type": "stream",
     "text": [
      "/var/folders/qb/5x7bjvl92hsf3fdzklmgtxm40000gn/T/ipykernel_22735/1401460667.py:79: RuntimeWarning: overflow encountered in power\n",
      "  z = 10 ** transformed_outputs\n",
      "/var/folders/qb/5x7bjvl92hsf3fdzklmgtxm40000gn/T/ipykernel_22735/3647229099.py:9: RuntimeWarning: overflow encountered in multiply\n",
      "  max_percent_change = 100.0 * (max_tumor_sizes - initial_tumor_sizes) / initial_tumor_sizes\n",
      "/var/folders/qb/5x7bjvl92hsf3fdzklmgtxm40000gn/T/ipykernel_22735/3647229099.py:9: RuntimeWarning: overflow encountered in divide\n",
      "  max_percent_change = 100.0 * (max_tumor_sizes - initial_tumor_sizes) / initial_tumor_sizes\n",
      "/var/folders/qb/5x7bjvl92hsf3fdzklmgtxm40000gn/T/ipykernel_22735/3647229099.py:10: RuntimeWarning: overflow encountered in multiply\n",
      "  percent_change = 100.0 * (final_tumor_sizes - initial_tumor_sizes) / initial_tumor_sizes\n",
      "/var/folders/qb/5x7bjvl92hsf3fdzklmgtxm40000gn/T/ipykernel_22735/3647229099.py:10: RuntimeWarning: overflow encountered in divide\n",
      "  percent_change = 100.0 * (final_tumor_sizes - initial_tumor_sizes) / initial_tumor_sizes\n"
     ]
    },
    {
     "name": "stdout",
     "output_type": "stream",
     "text": [
      "Dropped 92254 out of 100000 (92.25%) time profiles\n"
     ]
    },
    {
     "name": "stderr",
     "output_type": "stream",
     "text": [
      "/var/folders/qb/5x7bjvl92hsf3fdzklmgtxm40000gn/T/ipykernel_22735/1401460667.py:79: RuntimeWarning: overflow encountered in power\n",
      "  z = 10 ** transformed_outputs\n",
      "/Library/Frameworks/Python.framework/Versions/3.11/lib/python3.11/site-packages/scipy/optimize/_optimize.py:353: RuntimeWarning: Values in x were outside bounds during a minimize step, clipping to bounds\n",
      "  warnings.warn(\"Values in x were outside bounds during a \"\n"
     ]
    },
    {
     "name": "stdout",
     "output_type": "stream",
     "text": [
      "negative range at column 0 (1.02, 1.02)\n"
     ]
    },
    {
     "name": "stderr",
     "output_type": "stream",
     "text": [
      "/var/folders/qb/5x7bjvl92hsf3fdzklmgtxm40000gn/T/ipykernel_22735/1401460667.py:79: RuntimeWarning: overflow encountered in power\n",
      "  z = 10 ** transformed_outputs\n",
      "/var/folders/qb/5x7bjvl92hsf3fdzklmgtxm40000gn/T/ipykernel_22735/3647229099.py:9: RuntimeWarning: overflow encountered in multiply\n",
      "  max_percent_change = 100.0 * (max_tumor_sizes - initial_tumor_sizes) / initial_tumor_sizes\n",
      "/var/folders/qb/5x7bjvl92hsf3fdzklmgtxm40000gn/T/ipykernel_22735/3647229099.py:9: RuntimeWarning: overflow encountered in divide\n",
      "  max_percent_change = 100.0 * (max_tumor_sizes - initial_tumor_sizes) / initial_tumor_sizes\n",
      "/var/folders/qb/5x7bjvl92hsf3fdzklmgtxm40000gn/T/ipykernel_22735/3647229099.py:10: RuntimeWarning: overflow encountered in multiply\n",
      "  percent_change = 100.0 * (final_tumor_sizes - initial_tumor_sizes) / initial_tumor_sizes\n",
      "/var/folders/qb/5x7bjvl92hsf3fdzklmgtxm40000gn/T/ipykernel_22735/3647229099.py:10: RuntimeWarning: overflow encountered in divide\n",
      "  percent_change = 100.0 * (final_tumor_sizes - initial_tumor_sizes) / initial_tumor_sizes\n"
     ]
    },
    {
     "name": "stdout",
     "output_type": "stream",
     "text": [
      "Dropped 88850 out of 100000 (88.85%) time profiles\n"
     ]
    },
    {
     "name": "stderr",
     "output_type": "stream",
     "text": [
      "/Library/Frameworks/Python.framework/Versions/3.11/lib/python3.11/site-packages/scipy/optimize/_optimize.py:353: RuntimeWarning: Values in x were outside bounds during a minimize step, clipping to bounds\n",
      "  warnings.warn(\"Values in x were outside bounds during a \"\n"
     ]
    },
    {
     "name": "stdout",
     "output_type": "stream",
     "text": [
      "negative range at column 0 (1.02, 1.02)\n"
     ]
    },
    {
     "name": "stderr",
     "output_type": "stream",
     "text": [
      "/var/folders/qb/5x7bjvl92hsf3fdzklmgtxm40000gn/T/ipykernel_22735/1401460667.py:79: RuntimeWarning: overflow encountered in power\n",
      "  z = 10 ** transformed_outputs\n"
     ]
    },
    {
     "name": "stdout",
     "output_type": "stream",
     "text": [
      "Dropped 95225 out of 100000 (95.22%) time profiles\n"
     ]
    },
    {
     "name": "stderr",
     "output_type": "stream",
     "text": [
      "/var/folders/qb/5x7bjvl92hsf3fdzklmgtxm40000gn/T/ipykernel_22735/1401460667.py:79: RuntimeWarning: overflow encountered in power\n",
      "  z = 10 ** transformed_outputs\n",
      "/var/folders/qb/5x7bjvl92hsf3fdzklmgtxm40000gn/T/ipykernel_22735/3647229099.py:9: RuntimeWarning: overflow encountered in multiply\n",
      "  max_percent_change = 100.0 * (max_tumor_sizes - initial_tumor_sizes) / initial_tumor_sizes\n",
      "/var/folders/qb/5x7bjvl92hsf3fdzklmgtxm40000gn/T/ipykernel_22735/3647229099.py:9: RuntimeWarning: overflow encountered in divide\n",
      "  max_percent_change = 100.0 * (max_tumor_sizes - initial_tumor_sizes) / initial_tumor_sizes\n",
      "/var/folders/qb/5x7bjvl92hsf3fdzklmgtxm40000gn/T/ipykernel_22735/3647229099.py:10: RuntimeWarning: overflow encountered in multiply\n",
      "  percent_change = 100.0 * (final_tumor_sizes - initial_tumor_sizes) / initial_tumor_sizes\n",
      "/var/folders/qb/5x7bjvl92hsf3fdzklmgtxm40000gn/T/ipykernel_22735/3647229099.py:10: RuntimeWarning: overflow encountered in divide\n",
      "  percent_change = 100.0 * (final_tumor_sizes - initial_tumor_sizes) / initial_tumor_sizes\n"
     ]
    },
    {
     "name": "stdout",
     "output_type": "stream",
     "text": [
      "negative range at column 3 (1.0161451848095684, -0.010339639688927038)\n"
     ]
    },
    {
     "name": "stderr",
     "output_type": "stream",
     "text": [
      "/Library/Frameworks/Python.framework/Versions/3.11/lib/python3.11/site-packages/scipy/optimize/_optimize.py:353: RuntimeWarning: Values in x were outside bounds during a minimize step, clipping to bounds\n",
      "  warnings.warn(\"Values in x were outside bounds during a \"\n"
     ]
    },
    {
     "name": "stdout",
     "output_type": "stream",
     "text": [
      "negative range at column 0 (-0.0197207470678315, -0.02)\n"
     ]
    },
    {
     "name": "stderr",
     "output_type": "stream",
     "text": [
      "/Library/Frameworks/Python.framework/Versions/3.11/lib/python3.11/site-packages/scipy/optimize/_optimize.py:353: RuntimeWarning: Values in x were outside bounds during a minimize step, clipping to bounds\n",
      "  warnings.warn(\"Values in x were outside bounds during a \"\n"
     ]
    },
    {
     "name": "stdout",
     "output_type": "stream",
     "text": [
      "negative range at column 0 (1.015388378266227, 1.0095497308517205)\n"
     ]
    },
    {
     "name": "stderr",
     "output_type": "stream",
     "text": [
      "/var/folders/qb/5x7bjvl92hsf3fdzklmgtxm40000gn/T/ipykernel_22735/1401460667.py:79: RuntimeWarning: overflow encountered in power\n",
      "  z = 10 ** transformed_outputs\n",
      "/Library/Frameworks/Python.framework/Versions/3.11/lib/python3.11/site-packages/scipy/optimize/_optimize.py:353: RuntimeWarning: Values in x were outside bounds during a minimize step, clipping to bounds\n",
      "  warnings.warn(\"Values in x were outside bounds during a \"\n"
     ]
    },
    {
     "name": "stdout",
     "output_type": "stream",
     "text": [
      "negative range at column 0 (0.4005065042899275, -0.019816921933046183)\n"
     ]
    },
    {
     "name": "stderr",
     "output_type": "stream",
     "text": [
      "/Library/Frameworks/Python.framework/Versions/3.11/lib/python3.11/site-packages/scipy/optimize/_optimize.py:353: RuntimeWarning: Values in x were outside bounds during a minimize step, clipping to bounds\n",
      "  warnings.warn(\"Values in x were outside bounds during a \"\n"
     ]
    },
    {
     "name": "stdout",
     "output_type": "stream",
     "text": [
      "negative range at column 3 (1.02, -0.02)\n"
     ]
    },
    {
     "name": "stderr",
     "output_type": "stream",
     "text": [
      "/Library/Frameworks/Python.framework/Versions/3.11/lib/python3.11/site-packages/scipy/optimize/_optimize.py:353: RuntimeWarning: Values in x were outside bounds during a minimize step, clipping to bounds\n",
      "  warnings.warn(\"Values in x were outside bounds during a \"\n"
     ]
    },
    {
     "name": "stdout",
     "output_type": "stream",
     "text": [
      "negative range at column 0 (1.02, 1.02)\n"
     ]
    },
    {
     "name": "stderr",
     "output_type": "stream",
     "text": [
      "/Library/Frameworks/Python.framework/Versions/3.11/lib/python3.11/site-packages/scipy/optimize/_optimize.py:353: RuntimeWarning: Values in x were outside bounds during a minimize step, clipping to bounds\n",
      "  warnings.warn(\"Values in x were outside bounds during a \"\n"
     ]
    },
    {
     "name": "stdout",
     "output_type": "stream",
     "text": [
      "negative range at column 0 (-0.019818096052834473, -0.01988540334706168)\n",
      "negative range at column 0 (1.019872417928497, 1.0198526491525948)\n"
     ]
    },
    {
     "name": "stderr",
     "output_type": "stream",
     "text": [
      "/Library/Frameworks/Python.framework/Versions/3.11/lib/python3.11/site-packages/scipy/optimize/_optimize.py:353: RuntimeWarning: Values in x were outside bounds during a minimize step, clipping to bounds\n",
      "  warnings.warn(\"Values in x were outside bounds during a \"\n"
     ]
    },
    {
     "name": "stdout",
     "output_type": "stream",
     "text": [
      "negative range at column 0 (0.3092620867237433, -0.019992352867868934)\n"
     ]
    },
    {
     "name": "stderr",
     "output_type": "stream",
     "text": [
      "/Library/Frameworks/Python.framework/Versions/3.11/lib/python3.11/site-packages/scipy/optimize/_optimize.py:353: RuntimeWarning: Values in x were outside bounds during a minimize step, clipping to bounds\n",
      "  warnings.warn(\"Values in x were outside bounds during a \"\n"
     ]
    },
    {
     "name": "stdout",
     "output_type": "stream",
     "text": [
      "negative range at column 3 (1.0170579510724076, -0.016753779995235085)\n"
     ]
    },
    {
     "name": "stderr",
     "output_type": "stream",
     "text": [
      "/Library/Frameworks/Python.framework/Versions/3.11/lib/python3.11/site-packages/scipy/optimize/_optimize.py:353: RuntimeWarning: Values in x were outside bounds during a minimize step, clipping to bounds\n",
      "  warnings.warn(\"Values in x were outside bounds during a \"\n"
     ]
    },
    {
     "name": "stdout",
     "output_type": "stream",
     "text": [
      "negative range at column 0 (1.02, -0.019983673168615157)\n"
     ]
    },
    {
     "name": "stderr",
     "output_type": "stream",
     "text": [
      "/Library/Frameworks/Python.framework/Versions/3.11/lib/python3.11/site-packages/scipy/optimize/_optimize.py:353: RuntimeWarning: Values in x were outside bounds during a minimize step, clipping to bounds\n",
      "  warnings.warn(\"Values in x were outside bounds during a \"\n"
     ]
    },
    {
     "name": "stdout",
     "output_type": "stream",
     "text": [
      "negative range at column 0 (0.05252984134332265, -0.019459263589234332)\n"
     ]
    },
    {
     "name": "stderr",
     "output_type": "stream",
     "text": [
      "/Library/Frameworks/Python.framework/Versions/3.11/lib/python3.11/site-packages/scipy/optimize/_optimize.py:353: RuntimeWarning: Values in x were outside bounds during a minimize step, clipping to bounds\n",
      "  warnings.warn(\"Values in x were outside bounds during a \"\n"
     ]
    },
    {
     "name": "stdout",
     "output_type": "stream",
     "text": [
      "negative range at column 0 (0.1910056758044731, -0.02)\n"
     ]
    },
    {
     "name": "stderr",
     "output_type": "stream",
     "text": [
      "/Library/Frameworks/Python.framework/Versions/3.11/lib/python3.11/site-packages/scipy/optimize/_optimize.py:353: RuntimeWarning: Values in x were outside bounds during a minimize step, clipping to bounds\n",
      "  warnings.warn(\"Values in x were outside bounds during a \"\n"
     ]
    },
    {
     "name": "stdout",
     "output_type": "stream",
     "text": [
      "negative range at column 0 (1.02, 1.019872047569622)\n"
     ]
    },
    {
     "name": "stderr",
     "output_type": "stream",
     "text": [
      "/Library/Frameworks/Python.framework/Versions/3.11/lib/python3.11/site-packages/scipy/optimize/_optimize.py:353: RuntimeWarning: Values in x were outside bounds during a minimize step, clipping to bounds\n",
      "  warnings.warn(\"Values in x were outside bounds during a \"\n"
     ]
    },
    {
     "name": "stdout",
     "output_type": "stream",
     "text": [
      "negative range at column 0 (0.2799350362105101, -0.02)\n"
     ]
    },
    {
     "name": "stderr",
     "output_type": "stream",
     "text": [
      "/Library/Frameworks/Python.framework/Versions/3.11/lib/python3.11/site-packages/scipy/optimize/_optimize.py:353: RuntimeWarning: Values in x were outside bounds during a minimize step, clipping to bounds\n",
      "  warnings.warn(\"Values in x were outside bounds during a \"\n"
     ]
    },
    {
     "name": "stdout",
     "output_type": "stream",
     "text": [
      "negative range at column 0 (0.557137143544638, -0.01999047964696865)\n"
     ]
    },
    {
     "name": "stderr",
     "output_type": "stream",
     "text": [
      "/Library/Frameworks/Python.framework/Versions/3.11/lib/python3.11/site-packages/scipy/optimize/_optimize.py:353: RuntimeWarning: Values in x were outside bounds during a minimize step, clipping to bounds\n",
      "  warnings.warn(\"Values in x were outside bounds during a \"\n"
     ]
    },
    {
     "name": "stdout",
     "output_type": "stream",
     "text": [
      "negative range at column 4 (0.6588696695965729, -0.01999946544103326)\n"
     ]
    },
    {
     "name": "stderr",
     "output_type": "stream",
     "text": [
      "/Library/Frameworks/Python.framework/Versions/3.11/lib/python3.11/site-packages/scipy/optimize/_optimize.py:353: RuntimeWarning: Values in x were outside bounds during a minimize step, clipping to bounds\n",
      "  warnings.warn(\"Values in x were outside bounds during a \"\n"
     ]
    },
    {
     "name": "stdout",
     "output_type": "stream",
     "text": [
      "negative range at column 0 (0.31946593410494656, -0.01999125587031314)\n"
     ]
    },
    {
     "name": "stderr",
     "output_type": "stream",
     "text": [
      "/Library/Frameworks/Python.framework/Versions/3.11/lib/python3.11/site-packages/scipy/optimize/_optimize.py:353: RuntimeWarning: Values in x were outside bounds during a minimize step, clipping to bounds\n",
      "  warnings.warn(\"Values in x were outside bounds during a \"\n"
     ]
    },
    {
     "name": "stdout",
     "output_type": "stream",
     "text": [
      "negative range at column 4 (0.1357619789713605, -0.0199984026511848)\n"
     ]
    },
    {
     "name": "stderr",
     "output_type": "stream",
     "text": [
      "/Library/Frameworks/Python.framework/Versions/3.11/lib/python3.11/site-packages/scipy/optimize/_optimize.py:353: RuntimeWarning: Values in x were outside bounds during a minimize step, clipping to bounds\n",
      "  warnings.warn(\"Values in x were outside bounds during a \"\n"
     ]
    },
    {
     "name": "stdout",
     "output_type": "stream",
     "text": [
      "negative range at column 0 (1.02, -0.01994359594102646)\n"
     ]
    },
    {
     "name": "stderr",
     "output_type": "stream",
     "text": [
      "/Library/Frameworks/Python.framework/Versions/3.11/lib/python3.11/site-packages/scipy/optimize/_optimize.py:353: RuntimeWarning: Values in x were outside bounds during a minimize step, clipping to bounds\n",
      "  warnings.warn(\"Values in x were outside bounds during a \"\n"
     ]
    },
    {
     "name": "stdout",
     "output_type": "stream",
     "text": [
      "negative range at column 4 (-0.02, -0.02)\n"
     ]
    },
    {
     "name": "stderr",
     "output_type": "stream",
     "text": [
      "/Library/Frameworks/Python.framework/Versions/3.11/lib/python3.11/site-packages/scipy/optimize/_optimize.py:353: RuntimeWarning: Values in x were outside bounds during a minimize step, clipping to bounds\n",
      "  warnings.warn(\"Values in x were outside bounds during a \"\n"
     ]
    },
    {
     "name": "stdout",
     "output_type": "stream",
     "text": [
      "negative range at column 0 (0.2609259741393367, -0.02)\n"
     ]
    },
    {
     "name": "stderr",
     "output_type": "stream",
     "text": [
      "/Library/Frameworks/Python.framework/Versions/3.11/lib/python3.11/site-packages/scipy/optimize/_optimize.py:353: RuntimeWarning: Values in x were outside bounds during a minimize step, clipping to bounds\n",
      "  warnings.warn(\"Values in x were outside bounds during a \"\n"
     ]
    },
    {
     "name": "stdout",
     "output_type": "stream",
     "text": [
      "negative range at column 4 (0.14182884110578337, -0.02)\n"
     ]
    },
    {
     "name": "stderr",
     "output_type": "stream",
     "text": [
      "/Library/Frameworks/Python.framework/Versions/3.11/lib/python3.11/site-packages/scipy/optimize/_optimize.py:353: RuntimeWarning: Values in x were outside bounds during a minimize step, clipping to bounds\n",
      "  warnings.warn(\"Values in x were outside bounds during a \"\n"
     ]
    },
    {
     "name": "stdout",
     "output_type": "stream",
     "text": [
      "negative range at column 4 (0.033799055403397865, -0.02)\n"
     ]
    },
    {
     "name": "stderr",
     "output_type": "stream",
     "text": [
      "/Library/Frameworks/Python.framework/Versions/3.11/lib/python3.11/site-packages/scipy/optimize/_optimize.py:353: RuntimeWarning: Values in x were outside bounds during a minimize step, clipping to bounds\n",
      "  warnings.warn(\"Values in x were outside bounds during a \"\n"
     ]
    },
    {
     "name": "stdout",
     "output_type": "stream",
     "text": [
      "negative range at column 4 (-0.01999999999999999, -0.02)\n"
     ]
    },
    {
     "name": "stderr",
     "output_type": "stream",
     "text": [
      "/Library/Frameworks/Python.framework/Versions/3.11/lib/python3.11/site-packages/scipy/optimize/_optimize.py:353: RuntimeWarning: Values in x were outside bounds during a minimize step, clipping to bounds\n",
      "  warnings.warn(\"Values in x were outside bounds during a \"\n"
     ]
    },
    {
     "name": "stdout",
     "output_type": "stream",
     "text": [
      "negative range at column 6 (0.41132282342840637, 0.3683966798419904)\n"
     ]
    },
    {
     "name": "stderr",
     "output_type": "stream",
     "text": [
      "/Library/Frameworks/Python.framework/Versions/3.11/lib/python3.11/site-packages/scipy/optimize/_optimize.py:353: RuntimeWarning: Values in x were outside bounds during a minimize step, clipping to bounds\n",
      "  warnings.warn(\"Values in x were outside bounds during a \"\n"
     ]
    },
    {
     "name": "stdout",
     "output_type": "stream",
     "text": [
      "negative range at column 0 (0.27057113564279556, 0.11603616052958288)\n",
      "negative range at column 9 (0.3904451370186923, 0.3230004876620442)\n",
      "negative range at column 9 (0.3605865791210261, 0.3573005364282486)\n"
     ]
    },
    {
     "name": "stderr",
     "output_type": "stream",
     "text": [
      "/Library/Frameworks/Python.framework/Versions/3.11/lib/python3.11/site-packages/scipy/optimize/_optimize.py:353: RuntimeWarning: Values in x were outside bounds during a minimize step, clipping to bounds\n",
      "  warnings.warn(\"Values in x were outside bounds during a \"\n"
     ]
    },
    {
     "name": "stdout",
     "output_type": "stream",
     "text": [
      "negative range at column 0 (0.27966874365280725, 0.07665799095730419)\n",
      "negative range at column 9 (0.38876330966157285, 0.36451995965278977)\n",
      "negative range at column 0 (0.31494001419205064, -0.019980549437957018)\n",
      "negative range at column 9 (0.38539391940925766, 0.35191148938456923)\n",
      "negative range at column 9 (0.3631846757087875, 0.36018968376415195)\n"
     ]
    },
    {
     "name": "stderr",
     "output_type": "stream",
     "text": [
      "/Library/Frameworks/Python.framework/Versions/3.11/lib/python3.11/site-packages/scipy/optimize/_optimize.py:353: RuntimeWarning: Values in x were outside bounds during a minimize step, clipping to bounds\n",
      "  warnings.warn(\"Values in x were outside bounds during a \"\n"
     ]
    },
    {
     "name": "stdout",
     "output_type": "stream",
     "text": [
      "negative range at column 0 (0.300138118807409, 0.23509218968423123)\n",
      "negative range at column 9 (0.3808344757537034, 0.357663796440521)\n",
      "negative range at column 9 (0.3629508237802368, 0.36068213252595127)\n",
      "negative range at column 9 (0.3611624585828901, 0.3609839661344943)\n"
     ]
    },
    {
     "name": "stderr",
     "output_type": "stream",
     "text": [
      "/Library/Frameworks/Python.framework/Versions/3.11/lib/python3.11/site-packages/scipy/optimize/_optimize.py:353: RuntimeWarning: Values in x were outside bounds during a minimize step, clipping to bounds\n",
      "  warnings.warn(\"Values in x were outside bounds during a \"\n"
     ]
    },
    {
     "name": "stdout",
     "output_type": "stream",
     "text": [
      "negative range at column 4 (-0.01999999999999999, -0.01999999999999999)\n",
      "negative range at column 4 (-0.018524016219359868, -0.018623282511509798)\n",
      "negative range at column 8 (0.38833617567435214, 0.38776678333093056)\n"
     ]
    },
    {
     "name": "stderr",
     "output_type": "stream",
     "text": [
      "/Library/Frameworks/Python.framework/Versions/3.11/lib/python3.11/site-packages/scipy/optimize/_optimize.py:353: RuntimeWarning: Values in x were outside bounds during a minimize step, clipping to bounds\n",
      "  warnings.warn(\"Values in x were outside bounds during a \"\n"
     ]
    },
    {
     "name": "stdout",
     "output_type": "stream",
     "text": [
      "negative range at column 0 (-0.01999999999999999, -0.02)\n"
     ]
    },
    {
     "name": "stderr",
     "output_type": "stream",
     "text": [
      "/var/folders/qb/5x7bjvl92hsf3fdzklmgtxm40000gn/T/ipykernel_22735/1401460667.py:79: RuntimeWarning: overflow encountered in power\n",
      "  z = 10 ** transformed_outputs\n",
      "/var/folders/qb/5x7bjvl92hsf3fdzklmgtxm40000gn/T/ipykernel_22735/3647229099.py:9: RuntimeWarning: overflow encountered in multiply\n",
      "  max_percent_change = 100.0 * (max_tumor_sizes - initial_tumor_sizes) / initial_tumor_sizes\n",
      "/var/folders/qb/5x7bjvl92hsf3fdzklmgtxm40000gn/T/ipykernel_22735/3647229099.py:9: RuntimeWarning: overflow encountered in divide\n",
      "  max_percent_change = 100.0 * (max_tumor_sizes - initial_tumor_sizes) / initial_tumor_sizes\n",
      "/var/folders/qb/5x7bjvl92hsf3fdzklmgtxm40000gn/T/ipykernel_22735/3647229099.py:10: RuntimeWarning: overflow encountered in multiply\n",
      "  percent_change = 100.0 * (final_tumor_sizes - initial_tumor_sizes) / initial_tumor_sizes\n",
      "/var/folders/qb/5x7bjvl92hsf3fdzklmgtxm40000gn/T/ipykernel_22735/3647229099.py:10: RuntimeWarning: overflow encountered in divide\n",
      "  percent_change = 100.0 * (final_tumor_sizes - initial_tumor_sizes) / initial_tumor_sizes\n"
     ]
    },
    {
     "name": "stdout",
     "output_type": "stream",
     "text": [
      "Dropped 84659 out of 100000 (84.66%) time profiles\n"
     ]
    },
    {
     "name": "stderr",
     "output_type": "stream",
     "text": [
      "/var/folders/qb/5x7bjvl92hsf3fdzklmgtxm40000gn/T/ipykernel_22735/1401460667.py:79: RuntimeWarning: overflow encountered in power\n",
      "  z = 10 ** transformed_outputs\n",
      "/var/folders/qb/5x7bjvl92hsf3fdzklmgtxm40000gn/T/ipykernel_22735/3647229099.py:9: RuntimeWarning: overflow encountered in multiply\n",
      "  max_percent_change = 100.0 * (max_tumor_sizes - initial_tumor_sizes) / initial_tumor_sizes\n",
      "/var/folders/qb/5x7bjvl92hsf3fdzklmgtxm40000gn/T/ipykernel_22735/3647229099.py:9: RuntimeWarning: overflow encountered in divide\n",
      "  max_percent_change = 100.0 * (max_tumor_sizes - initial_tumor_sizes) / initial_tumor_sizes\n",
      "/var/folders/qb/5x7bjvl92hsf3fdzklmgtxm40000gn/T/ipykernel_22735/3647229099.py:10: RuntimeWarning: overflow encountered in multiply\n",
      "  percent_change = 100.0 * (final_tumor_sizes - initial_tumor_sizes) / initial_tumor_sizes\n",
      "/var/folders/qb/5x7bjvl92hsf3fdzklmgtxm40000gn/T/ipykernel_22735/3647229099.py:10: RuntimeWarning: overflow encountered in divide\n",
      "  percent_change = 100.0 * (final_tumor_sizes - initial_tumor_sizes) / initial_tumor_sizes\n",
      "/var/folders/qb/5x7bjvl92hsf3fdzklmgtxm40000gn/T/ipykernel_22735/1401460667.py:79: RuntimeWarning: overflow encountered in power\n",
      "  z = 10 ** transformed_outputs\n",
      "/var/folders/qb/5x7bjvl92hsf3fdzklmgtxm40000gn/T/ipykernel_22735/3647229099.py:9: RuntimeWarning: overflow encountered in multiply\n",
      "  max_percent_change = 100.0 * (max_tumor_sizes - initial_tumor_sizes) / initial_tumor_sizes\n",
      "/var/folders/qb/5x7bjvl92hsf3fdzklmgtxm40000gn/T/ipykernel_22735/3647229099.py:9: RuntimeWarning: overflow encountered in divide\n",
      "  max_percent_change = 100.0 * (max_tumor_sizes - initial_tumor_sizes) / initial_tumor_sizes\n",
      "/var/folders/qb/5x7bjvl92hsf3fdzklmgtxm40000gn/T/ipykernel_22735/3647229099.py:10: RuntimeWarning: overflow encountered in multiply\n",
      "  percent_change = 100.0 * (final_tumor_sizes - initial_tumor_sizes) / initial_tumor_sizes\n",
      "/var/folders/qb/5x7bjvl92hsf3fdzklmgtxm40000gn/T/ipykernel_22735/3647229099.py:10: RuntimeWarning: overflow encountered in divide\n",
      "  percent_change = 100.0 * (final_tumor_sizes - initial_tumor_sizes) / initial_tumor_sizes\n",
      "/Library/Frameworks/Python.framework/Versions/3.11/lib/python3.11/site-packages/scipy/optimize/_optimize.py:353: RuntimeWarning: Values in x were outside bounds during a minimize step, clipping to bounds\n",
      "  warnings.warn(\"Values in x were outside bounds during a \"\n"
     ]
    },
    {
     "name": "stdout",
     "output_type": "stream",
     "text": [
      "negative range at column 0 (1.02, 1.02)\n"
     ]
    },
    {
     "name": "stderr",
     "output_type": "stream",
     "text": [
      "/var/folders/qb/5x7bjvl92hsf3fdzklmgtxm40000gn/T/ipykernel_22735/1401460667.py:79: RuntimeWarning: overflow encountered in power\n",
      "  z = 10 ** transformed_outputs\n",
      "/var/folders/qb/5x7bjvl92hsf3fdzklmgtxm40000gn/T/ipykernel_22735/3647229099.py:9: RuntimeWarning: overflow encountered in multiply\n",
      "  max_percent_change = 100.0 * (max_tumor_sizes - initial_tumor_sizes) / initial_tumor_sizes\n",
      "/var/folders/qb/5x7bjvl92hsf3fdzklmgtxm40000gn/T/ipykernel_22735/3647229099.py:9: RuntimeWarning: overflow encountered in divide\n",
      "  max_percent_change = 100.0 * (max_tumor_sizes - initial_tumor_sizes) / initial_tumor_sizes\n",
      "/var/folders/qb/5x7bjvl92hsf3fdzklmgtxm40000gn/T/ipykernel_22735/3647229099.py:10: RuntimeWarning: overflow encountered in multiply\n",
      "  percent_change = 100.0 * (final_tumor_sizes - initial_tumor_sizes) / initial_tumor_sizes\n",
      "/var/folders/qb/5x7bjvl92hsf3fdzklmgtxm40000gn/T/ipykernel_22735/3647229099.py:10: RuntimeWarning: overflow encountered in divide\n",
      "  percent_change = 100.0 * (final_tumor_sizes - initial_tumor_sizes) / initial_tumor_sizes\n",
      "/var/folders/qb/5x7bjvl92hsf3fdzklmgtxm40000gn/T/ipykernel_22735/1401460667.py:79: RuntimeWarning: overflow encountered in power\n",
      "  z = 10 ** transformed_outputs\n",
      "/var/folders/qb/5x7bjvl92hsf3fdzklmgtxm40000gn/T/ipykernel_22735/3647229099.py:9: RuntimeWarning: overflow encountered in multiply\n",
      "  max_percent_change = 100.0 * (max_tumor_sizes - initial_tumor_sizes) / initial_tumor_sizes\n",
      "/var/folders/qb/5x7bjvl92hsf3fdzklmgtxm40000gn/T/ipykernel_22735/3647229099.py:9: RuntimeWarning: overflow encountered in divide\n",
      "  max_percent_change = 100.0 * (max_tumor_sizes - initial_tumor_sizes) / initial_tumor_sizes\n",
      "/var/folders/qb/5x7bjvl92hsf3fdzklmgtxm40000gn/T/ipykernel_22735/3647229099.py:10: RuntimeWarning: overflow encountered in multiply\n",
      "  percent_change = 100.0 * (final_tumor_sizes - initial_tumor_sizes) / initial_tumor_sizes\n",
      "/var/folders/qb/5x7bjvl92hsf3fdzklmgtxm40000gn/T/ipykernel_22735/3647229099.py:10: RuntimeWarning: overflow encountered in divide\n",
      "  percent_change = 100.0 * (final_tumor_sizes - initial_tumor_sizes) / initial_tumor_sizes\n",
      "/Library/Frameworks/Python.framework/Versions/3.11/lib/python3.11/site-packages/scipy/optimize/_optimize.py:353: RuntimeWarning: Values in x were outside bounds during a minimize step, clipping to bounds\n",
      "  warnings.warn(\"Values in x were outside bounds during a \"\n"
     ]
    },
    {
     "name": "stdout",
     "output_type": "stream",
     "text": [
      "negative range at column 0 (1.0199989128855553, -0.019999731107857577)\n",
      "negative range at column 6 (0.47591963551016175, 0.4311317808339557)\n"
     ]
    },
    {
     "name": "stderr",
     "output_type": "stream",
     "text": [
      "/Library/Frameworks/Python.framework/Versions/3.11/lib/python3.11/site-packages/scipy/optimize/_optimize.py:353: RuntimeWarning: Values in x were outside bounds during a minimize step, clipping to bounds\n",
      "  warnings.warn(\"Values in x were outside bounds during a \"\n"
     ]
    },
    {
     "name": "stdout",
     "output_type": "stream",
     "text": [
      "negative range at column 0 (1.02, -0.02)\n"
     ]
    },
    {
     "name": "stderr",
     "output_type": "stream",
     "text": [
      "/var/folders/qb/5x7bjvl92hsf3fdzklmgtxm40000gn/T/ipykernel_22735/1401460667.py:79: RuntimeWarning: overflow encountered in power\n",
      "  z = 10 ** transformed_outputs\n",
      "/var/folders/qb/5x7bjvl92hsf3fdzklmgtxm40000gn/T/ipykernel_22735/3647229099.py:9: RuntimeWarning: overflow encountered in multiply\n",
      "  max_percent_change = 100.0 * (max_tumor_sizes - initial_tumor_sizes) / initial_tumor_sizes\n",
      "/var/folders/qb/5x7bjvl92hsf3fdzklmgtxm40000gn/T/ipykernel_22735/3647229099.py:9: RuntimeWarning: overflow encountered in divide\n",
      "  max_percent_change = 100.0 * (max_tumor_sizes - initial_tumor_sizes) / initial_tumor_sizes\n",
      "/var/folders/qb/5x7bjvl92hsf3fdzklmgtxm40000gn/T/ipykernel_22735/3647229099.py:10: RuntimeWarning: overflow encountered in multiply\n",
      "  percent_change = 100.0 * (final_tumor_sizes - initial_tumor_sizes) / initial_tumor_sizes\n",
      "/var/folders/qb/5x7bjvl92hsf3fdzklmgtxm40000gn/T/ipykernel_22735/3647229099.py:10: RuntimeWarning: overflow encountered in divide\n",
      "  percent_change = 100.0 * (final_tumor_sizes - initial_tumor_sizes) / initial_tumor_sizes\n"
     ]
    },
    {
     "name": "stdout",
     "output_type": "stream",
     "text": [
      "negative range at column 0 (1.019999809635973, -0.019999906591398275)\n",
      "negative range at column 0 (1.019993819676444, -0.019995837764275826)\n"
     ]
    },
    {
     "name": "stderr",
     "output_type": "stream",
     "text": [
      "/var/folders/qb/5x7bjvl92hsf3fdzklmgtxm40000gn/T/ipykernel_22735/1401460667.py:79: RuntimeWarning: overflow encountered in power\n",
      "  z = 10 ** transformed_outputs\n",
      "/var/folders/qb/5x7bjvl92hsf3fdzklmgtxm40000gn/T/ipykernel_22735/3647229099.py:9: RuntimeWarning: overflow encountered in multiply\n",
      "  max_percent_change = 100.0 * (max_tumor_sizes - initial_tumor_sizes) / initial_tumor_sizes\n",
      "/var/folders/qb/5x7bjvl92hsf3fdzklmgtxm40000gn/T/ipykernel_22735/3647229099.py:9: RuntimeWarning: overflow encountered in divide\n",
      "  max_percent_change = 100.0 * (max_tumor_sizes - initial_tumor_sizes) / initial_tumor_sizes\n",
      "/var/folders/qb/5x7bjvl92hsf3fdzklmgtxm40000gn/T/ipykernel_22735/3647229099.py:10: RuntimeWarning: overflow encountered in multiply\n",
      "  percent_change = 100.0 * (final_tumor_sizes - initial_tumor_sizes) / initial_tumor_sizes\n",
      "/var/folders/qb/5x7bjvl92hsf3fdzklmgtxm40000gn/T/ipykernel_22735/3647229099.py:10: RuntimeWarning: overflow encountered in divide\n",
      "  percent_change = 100.0 * (final_tumor_sizes - initial_tumor_sizes) / initial_tumor_sizes\n"
     ]
    },
    {
     "name": "stdout",
     "output_type": "stream",
     "text": [
      "Dropped 95656 out of 100000 (95.66%) time profiles\n",
      "negative range at column 0 (1.0199108314922756, -0.019931946321894323)\n",
      "negative range at column 6 (0.4653011368006585, 0.4085745439375016)\n",
      "negative range at column 0 (1.0199954015896755, -0.019996942356612424)\n"
     ]
    },
    {
     "name": "stderr",
     "output_type": "stream",
     "text": [
      "/Library/Frameworks/Python.framework/Versions/3.11/lib/python3.11/site-packages/scipy/optimize/_optimize.py:353: RuntimeWarning: Values in x were outside bounds during a minimize step, clipping to bounds\n",
      "  warnings.warn(\"Values in x were outside bounds during a \"\n"
     ]
    },
    {
     "name": "stdout",
     "output_type": "stream",
     "text": [
      "negative range at column 0 (1.02, -0.02)\n",
      "negative range at column 6 (0.41274043496895574, 0.4032698671710486)\n",
      "negative range at column 9 (0.33841774997135593, 0.33424074449867275)\n"
     ]
    },
    {
     "name": "stderr",
     "output_type": "stream",
     "text": [
      "/Library/Frameworks/Python.framework/Versions/3.11/lib/python3.11/site-packages/scipy/optimize/_optimize.py:353: RuntimeWarning: Values in x were outside bounds during a minimize step, clipping to bounds\n",
      "  warnings.warn(\"Values in x were outside bounds during a \"\n"
     ]
    },
    {
     "name": "stdout",
     "output_type": "stream",
     "text": [
      "negative range at column 0 (1.0199999774535946, -0.02)\n",
      "negative range at column 6 (0.46061466106713084, 0.4028465973038776)\n"
     ]
    },
    {
     "name": "stderr",
     "output_type": "stream",
     "text": [
      "/Library/Frameworks/Python.framework/Versions/3.11/lib/python3.11/site-packages/scipy/optimize/_optimize.py:353: RuntimeWarning: Values in x were outside bounds during a minimize step, clipping to bounds\n",
      "  warnings.warn(\"Values in x were outside bounds during a \"\n"
     ]
    },
    {
     "name": "stdout",
     "output_type": "stream",
     "text": [
      "negative range at column 5 (1.02, 1.02)\n",
      "negative range at column 6 (0.41475393024689544, 0.39861813248680866)\n"
     ]
    },
    {
     "name": "stderr",
     "output_type": "stream",
     "text": [
      "/Library/Frameworks/Python.framework/Versions/3.11/lib/python3.11/site-packages/scipy/optimize/_optimize.py:353: RuntimeWarning: Values in x were outside bounds during a minimize step, clipping to bounds\n",
      "  warnings.warn(\"Values in x were outside bounds during a \"\n"
     ]
    },
    {
     "name": "stdout",
     "output_type": "stream",
     "text": [
      "negative range at column 0 (0.3606257436810879, -0.01999999718487855)\n",
      "negative range at column 6 (0.4515095774648108, 0.39443195087275634)\n"
     ]
    },
    {
     "name": "stderr",
     "output_type": "stream",
     "text": [
      "/Library/Frameworks/Python.framework/Versions/3.11/lib/python3.11/site-packages/scipy/optimize/_optimize.py:353: RuntimeWarning: Values in x were outside bounds during a minimize step, clipping to bounds\n",
      "  warnings.warn(\"Values in x were outside bounds during a \"\n"
     ]
    },
    {
     "name": "stdout",
     "output_type": "stream",
     "text": [
      "negative range at column 0 (1.02, -0.02)\n",
      "negative range at column 8 (0.3755333088637309, 0.3641884216987366)\n",
      "negative range at column 0 (0.3420338344470932, -0.01999996960945616)\n",
      "negative range at column 6 (0.4323473793564807, 0.3924202555040801)\n"
     ]
    },
    {
     "name": "stderr",
     "output_type": "stream",
     "text": [
      "/Library/Frameworks/Python.framework/Versions/3.11/lib/python3.11/site-packages/scipy/optimize/_optimize.py:353: RuntimeWarning: Values in x were outside bounds during a minimize step, clipping to bounds\n",
      "  warnings.warn(\"Values in x were outside bounds during a \"\n"
     ]
    },
    {
     "name": "stdout",
     "output_type": "stream",
     "text": [
      "negative range at column 0 (1.0199999882411344, -0.02)\n",
      "negative range at column 9 (0.3176936206827402, 0.3053715444610398)\n",
      "negative range at column 4 (0.022360081895520093, -0.01999999999999999)\n",
      "negative range at column 9 (0.3287871096777885, 0.30943276958722454)\n",
      "negative range at column 0 (0.5999977430873398, -0.019999986884541188)\n"
     ]
    },
    {
     "name": "stderr",
     "output_type": "stream",
     "text": [
      "/Library/Frameworks/Python.framework/Versions/3.11/lib/python3.11/site-packages/scipy/optimize/_optimize.py:353: RuntimeWarning: Values in x were outside bounds during a minimize step, clipping to bounds\n",
      "  warnings.warn(\"Values in x were outside bounds during a \"\n"
     ]
    },
    {
     "name": "stdout",
     "output_type": "stream",
     "text": [
      "negative range at column 4 (-0.01999999999999999, -0.01999999999999999)\n",
      "negative range at column 9 (0.33104378120922284, 0.3107144862052009)\n"
     ]
    },
    {
     "name": "stderr",
     "output_type": "stream",
     "text": [
      "/Library/Frameworks/Python.framework/Versions/3.11/lib/python3.11/site-packages/scipy/optimize/_optimize.py:353: RuntimeWarning: Values in x were outside bounds during a minimize step, clipping to bounds\n",
      "  warnings.warn(\"Values in x were outside bounds during a \"\n"
     ]
    },
    {
     "name": "stdout",
     "output_type": "stream",
     "text": [
      "negative range at column 4 (-0.01999919476806425, -0.019999276925053933)\n",
      "negative range at column 9 (0.32970490324046037, 0.3119799269455111)\n",
      "negative range at column 9 (0.326046610475425, 0.3249149539384039)\n"
     ]
    },
    {
     "name": "stderr",
     "output_type": "stream",
     "text": [
      "/Library/Frameworks/Python.framework/Versions/3.11/lib/python3.11/site-packages/scipy/optimize/_optimize.py:353: RuntimeWarning: Values in x were outside bounds during a minimize step, clipping to bounds\n",
      "  warnings.warn(\"Values in x were outside bounds during a \"\n"
     ]
    },
    {
     "name": "stdout",
     "output_type": "stream",
     "text": [
      "negative range at column 5 (-0.01999999542357056, -0.02)\n",
      "negative range at column 8 (0.44209215937877033, 0.4175630067704076)\n"
     ]
    },
    {
     "name": "stderr",
     "output_type": "stream",
     "text": [
      "/Library/Frameworks/Python.framework/Versions/3.11/lib/python3.11/site-packages/scipy/optimize/_optimize.py:353: RuntimeWarning: Values in x were outside bounds during a minimize step, clipping to bounds\n",
      "  warnings.warn(\"Values in x were outside bounds during a \"\n"
     ]
    },
    {
     "name": "stdout",
     "output_type": "stream",
     "text": [
      "negative range at column 5 (-0.02, -0.02)\n",
      "negative range at column 8 (0.44787123778498267, 0.4131873631313906)\n"
     ]
    },
    {
     "name": "stderr",
     "output_type": "stream",
     "text": [
      "/Library/Frameworks/Python.framework/Versions/3.11/lib/python3.11/site-packages/scipy/optimize/_optimize.py:353: RuntimeWarning: Values in x were outside bounds during a minimize step, clipping to bounds\n",
      "  warnings.warn(\"Values in x were outside bounds during a \"\n"
     ]
    },
    {
     "name": "stdout",
     "output_type": "stream",
     "text": [
      "negative range at column 5 (1.0199999924341865, 1.019999902311012)\n",
      "negative range at column 9 (0.33066258683872757, 0.3209530011646993)\n",
      "negative range at column 9 (0.3262846645637239, 0.3256705511515547)\n"
     ]
    },
    {
     "name": "stderr",
     "output_type": "stream",
     "text": [
      "/Library/Frameworks/Python.framework/Versions/3.11/lib/python3.11/site-packages/scipy/optimize/_optimize.py:353: RuntimeWarning: Values in x were outside bounds during a minimize step, clipping to bounds\n",
      "  warnings.warn(\"Values in x were outside bounds during a \"\n"
     ]
    },
    {
     "name": "stdout",
     "output_type": "stream",
     "text": [
      "negative range at column 4 (-0.01999998632882638, -0.019999987762184257)\n",
      "negative range at column 9 (0.3284717276495236, 0.32624006796195104)\n"
     ]
    },
    {
     "name": "stderr",
     "output_type": "stream",
     "text": [
      "/Library/Frameworks/Python.framework/Versions/3.11/lib/python3.11/site-packages/scipy/optimize/_optimize.py:353: RuntimeWarning: Values in x were outside bounds during a minimize step, clipping to bounds\n",
      "  warnings.warn(\"Values in x were outside bounds during a \"\n"
     ]
    },
    {
     "name": "stdout",
     "output_type": "stream",
     "text": [
      "negative range at column 7 (1.02, 1.02)\n",
      "negative range at column 9 (0.33032315164310405, 0.32455584659071984)\n",
      "negative range at column 9 (0.3265307372451086, 0.3259924587573422)\n",
      "negative range at column 9 (0.32615149580530906, 0.32613611997400443)\n"
     ]
    },
    {
     "name": "stderr",
     "output_type": "stream",
     "text": [
      "/Library/Frameworks/Python.framework/Versions/3.11/lib/python3.11/site-packages/scipy/optimize/_optimize.py:353: RuntimeWarning: Values in x were outside bounds during a minimize step, clipping to bounds\n",
      "  warnings.warn(\"Values in x were outside bounds during a \"\n"
     ]
    },
    {
     "name": "stdout",
     "output_type": "stream",
     "text": [
      "negative range at column 5 (-0.02, -0.02)\n",
      "negative range at column 7 (0.786995542662368, 0.7811659438186902)\n",
      "negative range at column 9 (0.32697008307545905, 0.32563619076281713)\n",
      "negative range at column 9 (0.32619922280274216, 0.3260990565623853)\n",
      "negative range at column 5 (1.02, -0.019999919065275207)\n",
      "negative range at column 9 (0.3271600066396592, 0.32646763878221563)\n",
      "negative range at column 9 (0.32622592376188936, 0.32617757270632947)\n"
     ]
    },
    {
     "name": "stderr",
     "output_type": "stream",
     "text": [
      "/Library/Frameworks/Python.framework/Versions/3.11/lib/python3.11/site-packages/scipy/optimize/_optimize.py:353: RuntimeWarning: Values in x were outside bounds during a minimize step, clipping to bounds\n",
      "  warnings.warn(\"Values in x were outside bounds during a \"\n"
     ]
    },
    {
     "name": "stdout",
     "output_type": "stream",
     "text": [
      "negative range at column 5 (1.019997025971545, -0.0199961171758547)\n",
      "negative range at column 8 (0.4509531749793243, 0.41484378125805316)\n"
     ]
    },
    {
     "name": "stderr",
     "output_type": "stream",
     "text": [
      "/Library/Frameworks/Python.framework/Versions/3.11/lib/python3.11/site-packages/scipy/optimize/_optimize.py:353: RuntimeWarning: Values in x were outside bounds during a minimize step, clipping to bounds\n",
      "  warnings.warn(\"Values in x were outside bounds during a \"\n"
     ]
    },
    {
     "name": "stdout",
     "output_type": "stream",
     "text": [
      "negative range at column 5 (-0.02, -0.02)\n"
     ]
    },
    {
     "name": "stderr",
     "output_type": "stream",
     "text": [
      "/Library/Frameworks/Python.framework/Versions/3.11/lib/python3.11/site-packages/scipy/optimize/_optimize.py:353: RuntimeWarning: Values in x were outside bounds during a minimize step, clipping to bounds\n",
      "  warnings.warn(\"Values in x were outside bounds during a \"\n"
     ]
    },
    {
     "name": "stdout",
     "output_type": "stream",
     "text": [
      "negative range at column 5 (1.019998494505685, -0.02)\n",
      "negative range at column 8 (0.4193795784131576, 0.3674458959364785)\n"
     ]
    },
    {
     "name": "stderr",
     "output_type": "stream",
     "text": [
      "/Library/Frameworks/Python.framework/Versions/3.11/lib/python3.11/site-packages/scipy/optimize/_optimize.py:353: RuntimeWarning: Values in x were outside bounds during a minimize step, clipping to bounds\n",
      "  warnings.warn(\"Values in x were outside bounds during a \"\n"
     ]
    },
    {
     "name": "stdout",
     "output_type": "stream",
     "text": [
      "negative range at column 4 (-0.02, -0.02)\n"
     ]
    },
    {
     "name": "stderr",
     "output_type": "stream",
     "text": [
      "/Library/Frameworks/Python.framework/Versions/3.11/lib/python3.11/site-packages/scipy/optimize/_optimize.py:353: RuntimeWarning: Values in x were outside bounds during a minimize step, clipping to bounds\n",
      "  warnings.warn(\"Values in x were outside bounds during a \"\n"
     ]
    },
    {
     "name": "stdout",
     "output_type": "stream",
     "text": [
      "negative range at column 4 (-0.02, -0.02)\n",
      "negative range at column 9 (0.3297749183972067, 0.32921290005051457)\n",
      "negative range at column 9 (0.3298104553142982, 0.32692363599051205)\n",
      "negative range at column 9 (0.3285904935408118, 0.3257691341130615)\n"
     ]
    },
    {
     "name": "stderr",
     "output_type": "stream",
     "text": [
      "/Library/Frameworks/Python.framework/Versions/3.11/lib/python3.11/site-packages/scipy/optimize/_optimize.py:353: RuntimeWarning: Values in x were outside bounds during a minimize step, clipping to bounds\n",
      "  warnings.warn(\"Values in x were outside bounds during a \"\n"
     ]
    },
    {
     "name": "stdout",
     "output_type": "stream",
     "text": [
      "negative range at column 0 (1.02, 1.02)\n"
     ]
    },
    {
     "name": "stderr",
     "output_type": "stream",
     "text": [
      "/var/folders/qb/5x7bjvl92hsf3fdzklmgtxm40000gn/T/ipykernel_22735/1401460667.py:79: RuntimeWarning: overflow encountered in power\n",
      "  z = 10 ** transformed_outputs\n",
      "/var/folders/qb/5x7bjvl92hsf3fdzklmgtxm40000gn/T/ipykernel_22735/3647229099.py:9: RuntimeWarning: overflow encountered in multiply\n",
      "  max_percent_change = 100.0 * (max_tumor_sizes - initial_tumor_sizes) / initial_tumor_sizes\n",
      "/var/folders/qb/5x7bjvl92hsf3fdzklmgtxm40000gn/T/ipykernel_22735/3647229099.py:9: RuntimeWarning: overflow encountered in divide\n",
      "  max_percent_change = 100.0 * (max_tumor_sizes - initial_tumor_sizes) / initial_tumor_sizes\n",
      "/var/folders/qb/5x7bjvl92hsf3fdzklmgtxm40000gn/T/ipykernel_22735/3647229099.py:10: RuntimeWarning: overflow encountered in multiply\n",
      "  percent_change = 100.0 * (final_tumor_sizes - initial_tumor_sizes) / initial_tumor_sizes\n",
      "/var/folders/qb/5x7bjvl92hsf3fdzklmgtxm40000gn/T/ipykernel_22735/3647229099.py:10: RuntimeWarning: overflow encountered in divide\n",
      "  percent_change = 100.0 * (final_tumor_sizes - initial_tumor_sizes) / initial_tumor_sizes\n",
      "/var/folders/qb/5x7bjvl92hsf3fdzklmgtxm40000gn/T/ipykernel_22735/1401460667.py:79: RuntimeWarning: overflow encountered in power\n",
      "  z = 10 ** transformed_outputs\n",
      "/var/folders/qb/5x7bjvl92hsf3fdzklmgtxm40000gn/T/ipykernel_22735/3647229099.py:9: RuntimeWarning: overflow encountered in multiply\n",
      "  max_percent_change = 100.0 * (max_tumor_sizes - initial_tumor_sizes) / initial_tumor_sizes\n",
      "/var/folders/qb/5x7bjvl92hsf3fdzklmgtxm40000gn/T/ipykernel_22735/3647229099.py:9: RuntimeWarning: overflow encountered in divide\n",
      "  max_percent_change = 100.0 * (max_tumor_sizes - initial_tumor_sizes) / initial_tumor_sizes\n",
      "/var/folders/qb/5x7bjvl92hsf3fdzklmgtxm40000gn/T/ipykernel_22735/3647229099.py:10: RuntimeWarning: overflow encountered in multiply\n",
      "  percent_change = 100.0 * (final_tumor_sizes - initial_tumor_sizes) / initial_tumor_sizes\n",
      "/var/folders/qb/5x7bjvl92hsf3fdzklmgtxm40000gn/T/ipykernel_22735/3647229099.py:10: RuntimeWarning: overflow encountered in divide\n",
      "  percent_change = 100.0 * (final_tumor_sizes - initial_tumor_sizes) / initial_tumor_sizes\n",
      "/var/folders/qb/5x7bjvl92hsf3fdzklmgtxm40000gn/T/ipykernel_22735/1401460667.py:79: RuntimeWarning: overflow encountered in power\n",
      "  z = 10 ** transformed_outputs\n",
      "/var/folders/qb/5x7bjvl92hsf3fdzklmgtxm40000gn/T/ipykernel_22735/3647229099.py:9: RuntimeWarning: overflow encountered in multiply\n",
      "  max_percent_change = 100.0 * (max_tumor_sizes - initial_tumor_sizes) / initial_tumor_sizes\n",
      "/var/folders/qb/5x7bjvl92hsf3fdzklmgtxm40000gn/T/ipykernel_22735/3647229099.py:9: RuntimeWarning: overflow encountered in divide\n",
      "  max_percent_change = 100.0 * (max_tumor_sizes - initial_tumor_sizes) / initial_tumor_sizes\n",
      "/var/folders/qb/5x7bjvl92hsf3fdzklmgtxm40000gn/T/ipykernel_22735/3647229099.py:10: RuntimeWarning: overflow encountered in multiply\n",
      "  percent_change = 100.0 * (final_tumor_sizes - initial_tumor_sizes) / initial_tumor_sizes\n",
      "/var/folders/qb/5x7bjvl92hsf3fdzklmgtxm40000gn/T/ipykernel_22735/3647229099.py:10: RuntimeWarning: overflow encountered in divide\n",
      "  percent_change = 100.0 * (final_tumor_sizes - initial_tumor_sizes) / initial_tumor_sizes\n",
      "/var/folders/qb/5x7bjvl92hsf3fdzklmgtxm40000gn/T/ipykernel_22735/1401460667.py:79: RuntimeWarning: overflow encountered in power\n",
      "  z = 10 ** transformed_outputs\n",
      "/var/folders/qb/5x7bjvl92hsf3fdzklmgtxm40000gn/T/ipykernel_22735/3647229099.py:9: RuntimeWarning: overflow encountered in multiply\n",
      "  max_percent_change = 100.0 * (max_tumor_sizes - initial_tumor_sizes) / initial_tumor_sizes\n",
      "/var/folders/qb/5x7bjvl92hsf3fdzklmgtxm40000gn/T/ipykernel_22735/3647229099.py:9: RuntimeWarning: overflow encountered in divide\n",
      "  max_percent_change = 100.0 * (max_tumor_sizes - initial_tumor_sizes) / initial_tumor_sizes\n",
      "/var/folders/qb/5x7bjvl92hsf3fdzklmgtxm40000gn/T/ipykernel_22735/3647229099.py:10: RuntimeWarning: overflow encountered in multiply\n",
      "  percent_change = 100.0 * (final_tumor_sizes - initial_tumor_sizes) / initial_tumor_sizes\n",
      "/var/folders/qb/5x7bjvl92hsf3fdzklmgtxm40000gn/T/ipykernel_22735/3647229099.py:10: RuntimeWarning: overflow encountered in divide\n",
      "  percent_change = 100.0 * (final_tumor_sizes - initial_tumor_sizes) / initial_tumor_sizes\n"
     ]
    },
    {
     "name": "stdout",
     "output_type": "stream",
     "text": [
      "negative range at column 3 (1.0199999120290035, 1.0199998497886313)\n"
     ]
    },
    {
     "name": "stderr",
     "output_type": "stream",
     "text": [
      "/var/folders/qb/5x7bjvl92hsf3fdzklmgtxm40000gn/T/ipykernel_22735/1401460667.py:79: RuntimeWarning: overflow encountered in power\n",
      "  z = 10 ** transformed_outputs\n",
      "/var/folders/qb/5x7bjvl92hsf3fdzklmgtxm40000gn/T/ipykernel_22735/3647229099.py:9: RuntimeWarning: overflow encountered in multiply\n",
      "  max_percent_change = 100.0 * (max_tumor_sizes - initial_tumor_sizes) / initial_tumor_sizes\n",
      "/var/folders/qb/5x7bjvl92hsf3fdzklmgtxm40000gn/T/ipykernel_22735/3647229099.py:9: RuntimeWarning: overflow encountered in divide\n",
      "  max_percent_change = 100.0 * (max_tumor_sizes - initial_tumor_sizes) / initial_tumor_sizes\n",
      "/var/folders/qb/5x7bjvl92hsf3fdzklmgtxm40000gn/T/ipykernel_22735/3647229099.py:10: RuntimeWarning: overflow encountered in multiply\n",
      "  percent_change = 100.0 * (final_tumor_sizes - initial_tumor_sizes) / initial_tumor_sizes\n",
      "/var/folders/qb/5x7bjvl92hsf3fdzklmgtxm40000gn/T/ipykernel_22735/3647229099.py:10: RuntimeWarning: overflow encountered in divide\n",
      "  percent_change = 100.0 * (final_tumor_sizes - initial_tumor_sizes) / initial_tumor_sizes\n"
     ]
    },
    {
     "name": "stdout",
     "output_type": "stream",
     "text": [
      "Dropped 93158 out of 100000 (93.16%) time profiles\n",
      "negative range at column 3 (-0.01999985976980241, -0.019999975661538882)\n"
     ]
    },
    {
     "name": "stderr",
     "output_type": "stream",
     "text": [
      "/var/folders/qb/5x7bjvl92hsf3fdzklmgtxm40000gn/T/ipykernel_22735/1401460667.py:79: RuntimeWarning: overflow encountered in power\n",
      "  z = 10 ** transformed_outputs\n",
      "/var/folders/qb/5x7bjvl92hsf3fdzklmgtxm40000gn/T/ipykernel_22735/3647229099.py:9: RuntimeWarning: overflow encountered in divide\n",
      "  max_percent_change = 100.0 * (max_tumor_sizes - initial_tumor_sizes) / initial_tumor_sizes\n",
      "/Library/Frameworks/Python.framework/Versions/3.11/lib/python3.11/site-packages/scipy/optimize/_optimize.py:353: RuntimeWarning: Values in x were outside bounds during a minimize step, clipping to bounds\n",
      "  warnings.warn(\"Values in x were outside bounds during a \"\n"
     ]
    },
    {
     "name": "stdout",
     "output_type": "stream",
     "text": [
      "negative range at column 0 (1.02, 1.02)\n"
     ]
    },
    {
     "name": "stderr",
     "output_type": "stream",
     "text": [
      "/var/folders/qb/5x7bjvl92hsf3fdzklmgtxm40000gn/T/ipykernel_22735/1401460667.py:79: RuntimeWarning: overflow encountered in power\n",
      "  z = 10 ** transformed_outputs\n",
      "/var/folders/qb/5x7bjvl92hsf3fdzklmgtxm40000gn/T/ipykernel_22735/3647229099.py:9: RuntimeWarning: overflow encountered in multiply\n",
      "  max_percent_change = 100.0 * (max_tumor_sizes - initial_tumor_sizes) / initial_tumor_sizes\n",
      "/var/folders/qb/5x7bjvl92hsf3fdzklmgtxm40000gn/T/ipykernel_22735/3647229099.py:9: RuntimeWarning: overflow encountered in divide\n",
      "  max_percent_change = 100.0 * (max_tumor_sizes - initial_tumor_sizes) / initial_tumor_sizes\n",
      "/var/folders/qb/5x7bjvl92hsf3fdzklmgtxm40000gn/T/ipykernel_22735/3647229099.py:10: RuntimeWarning: overflow encountered in multiply\n",
      "  percent_change = 100.0 * (final_tumor_sizes - initial_tumor_sizes) / initial_tumor_sizes\n",
      "/var/folders/qb/5x7bjvl92hsf3fdzklmgtxm40000gn/T/ipykernel_22735/3647229099.py:10: RuntimeWarning: overflow encountered in divide\n",
      "  percent_change = 100.0 * (final_tumor_sizes - initial_tumor_sizes) / initial_tumor_sizes\n"
     ]
    },
    {
     "name": "stdout",
     "output_type": "stream",
     "text": [
      "Dropped 80105 out of 100000 (80.11%) time profiles\n"
     ]
    },
    {
     "name": "stderr",
     "output_type": "stream",
     "text": [
      "/var/folders/qb/5x7bjvl92hsf3fdzklmgtxm40000gn/T/ipykernel_22735/1401460667.py:79: RuntimeWarning: overflow encountered in power\n",
      "  z = 10 ** transformed_outputs\n",
      "/var/folders/qb/5x7bjvl92hsf3fdzklmgtxm40000gn/T/ipykernel_22735/3647229099.py:10: RuntimeWarning: overflow encountered in divide\n",
      "  percent_change = 100.0 * (final_tumor_sizes - initial_tumor_sizes) / initial_tumor_sizes\n",
      "/Library/Frameworks/Python.framework/Versions/3.11/lib/python3.11/site-packages/scipy/optimize/_optimize.py:353: RuntimeWarning: Values in x were outside bounds during a minimize step, clipping to bounds\n",
      "  warnings.warn(\"Values in x were outside bounds during a \"\n"
     ]
    },
    {
     "name": "stdout",
     "output_type": "stream",
     "text": [
      "negative range at column 0 (1.02, 1.0199999923428507)\n",
      "negative range at column 6 (0.4253260366467513, 0.3719295369037789)\n"
     ]
    },
    {
     "name": "stderr",
     "output_type": "stream",
     "text": [
      "/Library/Frameworks/Python.framework/Versions/3.11/lib/python3.11/site-packages/scipy/optimize/_optimize.py:353: RuntimeWarning: Values in x were outside bounds during a minimize step, clipping to bounds\n",
      "  warnings.warn(\"Values in x were outside bounds during a \"\n"
     ]
    },
    {
     "name": "stdout",
     "output_type": "stream",
     "text": [
      "negative range at column 0 (1.02, 1.0199999909818858)\n"
     ]
    },
    {
     "name": "stderr",
     "output_type": "stream",
     "text": [
      "/var/folders/qb/5x7bjvl92hsf3fdzklmgtxm40000gn/T/ipykernel_22735/1401460667.py:79: RuntimeWarning: overflow encountered in power\n",
      "  z = 10 ** transformed_outputs\n",
      "/var/folders/qb/5x7bjvl92hsf3fdzklmgtxm40000gn/T/ipykernel_22735/3647229099.py:9: RuntimeWarning: overflow encountered in multiply\n",
      "  max_percent_change = 100.0 * (max_tumor_sizes - initial_tumor_sizes) / initial_tumor_sizes\n",
      "/var/folders/qb/5x7bjvl92hsf3fdzklmgtxm40000gn/T/ipykernel_22735/3647229099.py:9: RuntimeWarning: overflow encountered in divide\n",
      "  max_percent_change = 100.0 * (max_tumor_sizes - initial_tumor_sizes) / initial_tumor_sizes\n",
      "/var/folders/qb/5x7bjvl92hsf3fdzklmgtxm40000gn/T/ipykernel_22735/3647229099.py:10: RuntimeWarning: overflow encountered in multiply\n",
      "  percent_change = 100.0 * (final_tumor_sizes - initial_tumor_sizes) / initial_tumor_sizes\n",
      "/var/folders/qb/5x7bjvl92hsf3fdzklmgtxm40000gn/T/ipykernel_22735/3647229099.py:10: RuntimeWarning: overflow encountered in divide\n",
      "  percent_change = 100.0 * (final_tumor_sizes - initial_tumor_sizes) / initial_tumor_sizes\n",
      "/Library/Frameworks/Python.framework/Versions/3.11/lib/python3.11/site-packages/scipy/optimize/_optimize.py:353: RuntimeWarning: Values in x were outside bounds during a minimize step, clipping to bounds\n",
      "  warnings.warn(\"Values in x were outside bounds during a \"\n"
     ]
    },
    {
     "name": "stdout",
     "output_type": "stream",
     "text": [
      "negative range at column 0 (1.02, 1.02)\n"
     ]
    },
    {
     "name": "stderr",
     "output_type": "stream",
     "text": [
      "/var/folders/qb/5x7bjvl92hsf3fdzklmgtxm40000gn/T/ipykernel_22735/1401460667.py:79: RuntimeWarning: overflow encountered in power\n",
      "  z = 10 ** transformed_outputs\n",
      "/var/folders/qb/5x7bjvl92hsf3fdzklmgtxm40000gn/T/ipykernel_22735/3647229099.py:9: RuntimeWarning: overflow encountered in multiply\n",
      "  max_percent_change = 100.0 * (max_tumor_sizes - initial_tumor_sizes) / initial_tumor_sizes\n",
      "/var/folders/qb/5x7bjvl92hsf3fdzklmgtxm40000gn/T/ipykernel_22735/3647229099.py:9: RuntimeWarning: overflow encountered in divide\n",
      "  max_percent_change = 100.0 * (max_tumor_sizes - initial_tumor_sizes) / initial_tumor_sizes\n",
      "/var/folders/qb/5x7bjvl92hsf3fdzklmgtxm40000gn/T/ipykernel_22735/3647229099.py:10: RuntimeWarning: overflow encountered in multiply\n",
      "  percent_change = 100.0 * (final_tumor_sizes - initial_tumor_sizes) / initial_tumor_sizes\n",
      "/var/folders/qb/5x7bjvl92hsf3fdzklmgtxm40000gn/T/ipykernel_22735/3647229099.py:10: RuntimeWarning: overflow encountered in divide\n",
      "  percent_change = 100.0 * (final_tumor_sizes - initial_tumor_sizes) / initial_tumor_sizes\n",
      "/Library/Frameworks/Python.framework/Versions/3.11/lib/python3.11/site-packages/scipy/optimize/_optimize.py:353: RuntimeWarning: Values in x were outside bounds during a minimize step, clipping to bounds\n",
      "  warnings.warn(\"Values in x were outside bounds during a \"\n"
     ]
    },
    {
     "name": "stdout",
     "output_type": "stream",
     "text": [
      "negative range at column 0 (1.02, 1.02)\n"
     ]
    },
    {
     "name": "stderr",
     "output_type": "stream",
     "text": [
      "/var/folders/qb/5x7bjvl92hsf3fdzklmgtxm40000gn/T/ipykernel_22735/1401460667.py:79: RuntimeWarning: overflow encountered in power\n",
      "  z = 10 ** transformed_outputs\n",
      "/var/folders/qb/5x7bjvl92hsf3fdzklmgtxm40000gn/T/ipykernel_22735/3647229099.py:9: RuntimeWarning: overflow encountered in multiply\n",
      "  max_percent_change = 100.0 * (max_tumor_sizes - initial_tumor_sizes) / initial_tumor_sizes\n",
      "/var/folders/qb/5x7bjvl92hsf3fdzklmgtxm40000gn/T/ipykernel_22735/3647229099.py:9: RuntimeWarning: overflow encountered in divide\n",
      "  max_percent_change = 100.0 * (max_tumor_sizes - initial_tumor_sizes) / initial_tumor_sizes\n",
      "/var/folders/qb/5x7bjvl92hsf3fdzklmgtxm40000gn/T/ipykernel_22735/3647229099.py:10: RuntimeWarning: overflow encountered in multiply\n",
      "  percent_change = 100.0 * (final_tumor_sizes - initial_tumor_sizes) / initial_tumor_sizes\n",
      "/var/folders/qb/5x7bjvl92hsf3fdzklmgtxm40000gn/T/ipykernel_22735/3647229099.py:10: RuntimeWarning: overflow encountered in divide\n",
      "  percent_change = 100.0 * (final_tumor_sizes - initial_tumor_sizes) / initial_tumor_sizes\n",
      "/var/folders/qb/5x7bjvl92hsf3fdzklmgtxm40000gn/T/ipykernel_22735/1401460667.py:79: RuntimeWarning: overflow encountered in power\n",
      "  z = 10 ** transformed_outputs\n"
     ]
    },
    {
     "name": "stdout",
     "output_type": "stream",
     "text": [
      "Dropped 98772 out of 100000 (98.77%) time profiles\n"
     ]
    },
    {
     "name": "stderr",
     "output_type": "stream",
     "text": [
      "/var/folders/qb/5x7bjvl92hsf3fdzklmgtxm40000gn/T/ipykernel_22735/1401460667.py:79: RuntimeWarning: overflow encountered in power\n",
      "  z = 10 ** transformed_outputs\n",
      "/var/folders/qb/5x7bjvl92hsf3fdzklmgtxm40000gn/T/ipykernel_22735/3647229099.py:9: RuntimeWarning: overflow encountered in multiply\n",
      "  max_percent_change = 100.0 * (max_tumor_sizes - initial_tumor_sizes) / initial_tumor_sizes\n",
      "/var/folders/qb/5x7bjvl92hsf3fdzklmgtxm40000gn/T/ipykernel_22735/3647229099.py:9: RuntimeWarning: overflow encountered in divide\n",
      "  max_percent_change = 100.0 * (max_tumor_sizes - initial_tumor_sizes) / initial_tumor_sizes\n",
      "/var/folders/qb/5x7bjvl92hsf3fdzklmgtxm40000gn/T/ipykernel_22735/3647229099.py:10: RuntimeWarning: overflow encountered in multiply\n",
      "  percent_change = 100.0 * (final_tumor_sizes - initial_tumor_sizes) / initial_tumor_sizes\n",
      "/var/folders/qb/5x7bjvl92hsf3fdzklmgtxm40000gn/T/ipykernel_22735/3647229099.py:10: RuntimeWarning: overflow encountered in divide\n",
      "  percent_change = 100.0 * (final_tumor_sizes - initial_tumor_sizes) / initial_tumor_sizes\n",
      "/Library/Frameworks/Python.framework/Versions/3.11/lib/python3.11/site-packages/scipy/optimize/_optimize.py:353: RuntimeWarning: Values in x were outside bounds during a minimize step, clipping to bounds\n",
      "  warnings.warn(\"Values in x were outside bounds during a \"\n"
     ]
    },
    {
     "name": "stdout",
     "output_type": "stream",
     "text": [
      "negative range at column 0 (1.02, 1.02)\n"
     ]
    },
    {
     "name": "stderr",
     "output_type": "stream",
     "text": [
      "/var/folders/qb/5x7bjvl92hsf3fdzklmgtxm40000gn/T/ipykernel_22735/1401460667.py:79: RuntimeWarning: overflow encountered in power\n",
      "  z = 10 ** transformed_outputs\n",
      "/var/folders/qb/5x7bjvl92hsf3fdzklmgtxm40000gn/T/ipykernel_22735/3647229099.py:9: RuntimeWarning: overflow encountered in multiply\n",
      "  max_percent_change = 100.0 * (max_tumor_sizes - initial_tumor_sizes) / initial_tumor_sizes\n",
      "/var/folders/qb/5x7bjvl92hsf3fdzklmgtxm40000gn/T/ipykernel_22735/3647229099.py:9: RuntimeWarning: overflow encountered in divide\n",
      "  max_percent_change = 100.0 * (max_tumor_sizes - initial_tumor_sizes) / initial_tumor_sizes\n",
      "/var/folders/qb/5x7bjvl92hsf3fdzklmgtxm40000gn/T/ipykernel_22735/3647229099.py:10: RuntimeWarning: overflow encountered in multiply\n",
      "  percent_change = 100.0 * (final_tumor_sizes - initial_tumor_sizes) / initial_tumor_sizes\n",
      "/var/folders/qb/5x7bjvl92hsf3fdzklmgtxm40000gn/T/ipykernel_22735/3647229099.py:10: RuntimeWarning: overflow encountered in divide\n",
      "  percent_change = 100.0 * (final_tumor_sizes - initial_tumor_sizes) / initial_tumor_sizes\n"
     ]
    },
    {
     "name": "stdout",
     "output_type": "stream",
     "text": [
      "Dropped 96780 out of 100000 (96.78%) time profiles\n"
     ]
    },
    {
     "name": "stderr",
     "output_type": "stream",
     "text": [
      "/var/folders/qb/5x7bjvl92hsf3fdzklmgtxm40000gn/T/ipykernel_22735/1401460667.py:79: RuntimeWarning: overflow encountered in power\n",
      "  z = 10 ** transformed_outputs\n",
      "/var/folders/qb/5x7bjvl92hsf3fdzklmgtxm40000gn/T/ipykernel_22735/3647229099.py:9: RuntimeWarning: overflow encountered in multiply\n",
      "  max_percent_change = 100.0 * (max_tumor_sizes - initial_tumor_sizes) / initial_tumor_sizes\n",
      "/var/folders/qb/5x7bjvl92hsf3fdzklmgtxm40000gn/T/ipykernel_22735/3647229099.py:9: RuntimeWarning: overflow encountered in divide\n",
      "  max_percent_change = 100.0 * (max_tumor_sizes - initial_tumor_sizes) / initial_tumor_sizes\n",
      "/var/folders/qb/5x7bjvl92hsf3fdzklmgtxm40000gn/T/ipykernel_22735/3647229099.py:10: RuntimeWarning: overflow encountered in multiply\n",
      "  percent_change = 100.0 * (final_tumor_sizes - initial_tumor_sizes) / initial_tumor_sizes\n",
      "/var/folders/qb/5x7bjvl92hsf3fdzklmgtxm40000gn/T/ipykernel_22735/3647229099.py:10: RuntimeWarning: overflow encountered in divide\n",
      "  percent_change = 100.0 * (final_tumor_sizes - initial_tumor_sizes) / initial_tumor_sizes\n"
     ]
    },
    {
     "name": "stdout",
     "output_type": "stream",
     "text": [
      "negative range at column 0 (-0.019997517752740113, -0.019997657040709882)\n"
     ]
    },
    {
     "name": "stderr",
     "output_type": "stream",
     "text": [
      "/var/folders/qb/5x7bjvl92hsf3fdzklmgtxm40000gn/T/ipykernel_22735/1401460667.py:79: RuntimeWarning: overflow encountered in power\n",
      "  z = 10 ** transformed_outputs\n",
      "/var/folders/qb/5x7bjvl92hsf3fdzklmgtxm40000gn/T/ipykernel_22735/3647229099.py:9: RuntimeWarning: overflow encountered in multiply\n",
      "  max_percent_change = 100.0 * (max_tumor_sizes - initial_tumor_sizes) / initial_tumor_sizes\n",
      "/var/folders/qb/5x7bjvl92hsf3fdzklmgtxm40000gn/T/ipykernel_22735/3647229099.py:9: RuntimeWarning: overflow encountered in divide\n",
      "  max_percent_change = 100.0 * (max_tumor_sizes - initial_tumor_sizes) / initial_tumor_sizes\n",
      "/var/folders/qb/5x7bjvl92hsf3fdzklmgtxm40000gn/T/ipykernel_22735/3647229099.py:10: RuntimeWarning: overflow encountered in multiply\n",
      "  percent_change = 100.0 * (final_tumor_sizes - initial_tumor_sizes) / initial_tumor_sizes\n",
      "/var/folders/qb/5x7bjvl92hsf3fdzklmgtxm40000gn/T/ipykernel_22735/3647229099.py:10: RuntimeWarning: overflow encountered in divide\n",
      "  percent_change = 100.0 * (final_tumor_sizes - initial_tumor_sizes) / initial_tumor_sizes\n"
     ]
    },
    {
     "name": "stdout",
     "output_type": "stream",
     "text": [
      "Dropped 85495 out of 100000 (85.50%) time profiles\n"
     ]
    },
    {
     "name": "stderr",
     "output_type": "stream",
     "text": [
      "/Library/Frameworks/Python.framework/Versions/3.11/lib/python3.11/site-packages/scipy/optimize/_optimize.py:353: RuntimeWarning: Values in x were outside bounds during a minimize step, clipping to bounds\n",
      "  warnings.warn(\"Values in x were outside bounds during a \"\n"
     ]
    },
    {
     "name": "stdout",
     "output_type": "stream",
     "text": [
      "negative range at column 0 (-0.02, -0.02)\n"
     ]
    },
    {
     "name": "stderr",
     "output_type": "stream",
     "text": [
      "/var/folders/qb/5x7bjvl92hsf3fdzklmgtxm40000gn/T/ipykernel_22735/1401460667.py:79: RuntimeWarning: overflow encountered in power\n",
      "  z = 10 ** transformed_outputs\n",
      "/var/folders/qb/5x7bjvl92hsf3fdzklmgtxm40000gn/T/ipykernel_22735/3647229099.py:9: RuntimeWarning: overflow encountered in multiply\n",
      "  max_percent_change = 100.0 * (max_tumor_sizes - initial_tumor_sizes) / initial_tumor_sizes\n",
      "/var/folders/qb/5x7bjvl92hsf3fdzklmgtxm40000gn/T/ipykernel_22735/3647229099.py:9: RuntimeWarning: overflow encountered in divide\n",
      "  max_percent_change = 100.0 * (max_tumor_sizes - initial_tumor_sizes) / initial_tumor_sizes\n",
      "/var/folders/qb/5x7bjvl92hsf3fdzklmgtxm40000gn/T/ipykernel_22735/3647229099.py:10: RuntimeWarning: overflow encountered in multiply\n",
      "  percent_change = 100.0 * (final_tumor_sizes - initial_tumor_sizes) / initial_tumor_sizes\n",
      "/var/folders/qb/5x7bjvl92hsf3fdzklmgtxm40000gn/T/ipykernel_22735/3647229099.py:10: RuntimeWarning: overflow encountered in divide\n",
      "  percent_change = 100.0 * (final_tumor_sizes - initial_tumor_sizes) / initial_tumor_sizes\n"
     ]
    },
    {
     "name": "stdout",
     "output_type": "stream",
     "text": [
      "Dropped 82303 out of 100000 (82.30%) time profiles\n",
      "negative range at column 5 (-0.019999990459412975, -0.01999999092204635)\n"
     ]
    },
    {
     "name": "stderr",
     "output_type": "stream",
     "text": [
      "/Library/Frameworks/Python.framework/Versions/3.11/lib/python3.11/site-packages/scipy/optimize/_optimize.py:353: RuntimeWarning: Values in x were outside bounds during a minimize step, clipping to bounds\n",
      "  warnings.warn(\"Values in x were outside bounds during a \"\n"
     ]
    },
    {
     "name": "stdout",
     "output_type": "stream",
     "text": [
      "negative range at column 0 (-0.02, -0.02)\n"
     ]
    },
    {
     "name": "stderr",
     "output_type": "stream",
     "text": [
      "/var/folders/qb/5x7bjvl92hsf3fdzklmgtxm40000gn/T/ipykernel_22735/1401460667.py:79: RuntimeWarning: overflow encountered in power\n",
      "  z = 10 ** transformed_outputs\n",
      "/var/folders/qb/5x7bjvl92hsf3fdzklmgtxm40000gn/T/ipykernel_22735/3647229099.py:9: RuntimeWarning: overflow encountered in multiply\n",
      "  max_percent_change = 100.0 * (max_tumor_sizes - initial_tumor_sizes) / initial_tumor_sizes\n",
      "/var/folders/qb/5x7bjvl92hsf3fdzklmgtxm40000gn/T/ipykernel_22735/3647229099.py:10: RuntimeWarning: overflow encountered in multiply\n",
      "  percent_change = 100.0 * (final_tumor_sizes - initial_tumor_sizes) / initial_tumor_sizes\n",
      "/Library/Frameworks/Python.framework/Versions/3.11/lib/python3.11/site-packages/scipy/optimize/_optimize.py:353: RuntimeWarning: Values in x were outside bounds during a minimize step, clipping to bounds\n",
      "  warnings.warn(\"Values in x were outside bounds during a \"\n"
     ]
    },
    {
     "name": "stdout",
     "output_type": "stream",
     "text": [
      "negative range at column 9 (-0.01999988950238596, -0.019999889950084948)\n"
     ]
    },
    {
     "name": "stderr",
     "output_type": "stream",
     "text": [
      "/Library/Frameworks/Python.framework/Versions/3.11/lib/python3.11/site-packages/scipy/optimize/_optimize.py:353: RuntimeWarning: Values in x were outside bounds during a minimize step, clipping to bounds\n",
      "  warnings.warn(\"Values in x were outside bounds during a \"\n"
     ]
    },
    {
     "name": "stdout",
     "output_type": "stream",
     "text": [
      "negative range at column 0 (1.0128854107068412, 1.0097732197844953)\n",
      "negative range at column 9 (0.39202192804552316, 0.3423018159022957)\n",
      "negative range at column 9 (0.32985471099342467, 0.326489478772589)\n"
     ]
    },
    {
     "name": "stderr",
     "output_type": "stream",
     "text": [
      "/Library/Frameworks/Python.framework/Versions/3.11/lib/python3.11/site-packages/scipy/optimize/_optimize.py:353: RuntimeWarning: Values in x were outside bounds during a minimize step, clipping to bounds\n",
      "  warnings.warn(\"Values in x were outside bounds during a \"\n"
     ]
    },
    {
     "name": "stdout",
     "output_type": "stream",
     "text": [
      "negative range at column 0 (1.02, 1.02)\n",
      "negative range at column 6 (0.36728038487350617, 0.33852082427737384)\n",
      "negative range at column 9 (0.32514258833453913, 0.3213002790889827)\n"
     ]
    },
    {
     "name": "stderr",
     "output_type": "stream",
     "text": [
      "/Library/Frameworks/Python.framework/Versions/3.11/lib/python3.11/site-packages/scipy/optimize/_optimize.py:353: RuntimeWarning: Values in x were outside bounds during a minimize step, clipping to bounds\n",
      "  warnings.warn(\"Values in x were outside bounds during a \"\n"
     ]
    },
    {
     "name": "stdout",
     "output_type": "stream",
     "text": [
      "negative range at column 0 (0.2563278800099163, -0.02)\n",
      "negative range at column 6 (0.4293950921252655, 0.34846174715857675)\n"
     ]
    },
    {
     "name": "stderr",
     "output_type": "stream",
     "text": [
      "/Library/Frameworks/Python.framework/Versions/3.11/lib/python3.11/site-packages/scipy/optimize/_optimize.py:353: RuntimeWarning: Values in x were outside bounds during a minimize step, clipping to bounds\n",
      "  warnings.warn(\"Values in x were outside bounds during a \"\n"
     ]
    },
    {
     "name": "stdout",
     "output_type": "stream",
     "text": [
      "negative range at column 4 (-0.019999999999999997, -0.019999999999999997)\n",
      "negative range at column 6 (0.43219342683221473, 0.3385389230475455)\n",
      "negative range at column 6 (0.3765204838872343, 0.37136152265681327)\n"
     ]
    },
    {
     "name": "stderr",
     "output_type": "stream",
     "text": [
      "/Library/Frameworks/Python.framework/Versions/3.11/lib/python3.11/site-packages/scipy/optimize/_optimize.py:353: RuntimeWarning: Values in x were outside bounds during a minimize step, clipping to bounds\n",
      "  warnings.warn(\"Values in x were outside bounds during a \"\n"
     ]
    },
    {
     "name": "stdout",
     "output_type": "stream",
     "text": [
      "negative range at column 0 (0.9491477496062404, -0.01997074224157691)\n",
      "negative range at column 8 (0.5974551484940563, 0.5380222396373162)\n"
     ]
    },
    {
     "name": "stderr",
     "output_type": "stream",
     "text": [
      "/Library/Frameworks/Python.framework/Versions/3.11/lib/python3.11/site-packages/scipy/optimize/_optimize.py:353: RuntimeWarning: Values in x were outside bounds during a minimize step, clipping to bounds\n",
      "  warnings.warn(\"Values in x were outside bounds during a \"\n"
     ]
    },
    {
     "name": "stdout",
     "output_type": "stream",
     "text": [
      "negative range at column 0 (1.02, 1.0199932348558067)\n",
      "negative range at column 5 (0.2818039288640054, 0.2668965714757497)\n"
     ]
    },
    {
     "name": "stderr",
     "output_type": "stream",
     "text": [
      "/Library/Frameworks/Python.framework/Versions/3.11/lib/python3.11/site-packages/scipy/optimize/_optimize.py:353: RuntimeWarning: Values in x were outside bounds during a minimize step, clipping to bounds\n",
      "  warnings.warn(\"Values in x were outside bounds during a \"\n"
     ]
    },
    {
     "name": "stdout",
     "output_type": "stream",
     "text": [
      "negative range at column 6 (0.4240940770298396, 0.3023950457222401)\n",
      "negative range at column 6 (0.37702893421524597, 0.3696172387815063)\n"
     ]
    },
    {
     "name": "stderr",
     "output_type": "stream",
     "text": [
      "/Library/Frameworks/Python.framework/Versions/3.11/lib/python3.11/site-packages/scipy/optimize/_optimize.py:353: RuntimeWarning: Values in x were outside bounds during a minimize step, clipping to bounds\n",
      "  warnings.warn(\"Values in x were outside bounds during a \"\n"
     ]
    },
    {
     "name": "stdout",
     "output_type": "stream",
     "text": [
      "negative range at column 0 (1.02, 1.0199997497892577)\n",
      "negative range at column 8 (0.602311148052441, 0.5725239254664699)\n"
     ]
    },
    {
     "name": "stderr",
     "output_type": "stream",
     "text": [
      "/Library/Frameworks/Python.framework/Versions/3.11/lib/python3.11/site-packages/scipy/optimize/_optimize.py:353: RuntimeWarning: Values in x were outside bounds during a minimize step, clipping to bounds\n",
      "  warnings.warn(\"Values in x were outside bounds during a \"\n"
     ]
    },
    {
     "name": "stdout",
     "output_type": "stream",
     "text": [
      "negative range at column 4 (-0.019999999999999997, -0.02)\n",
      "negative range at column 9 (0.31846329704796955, 0.30233945988077493)\n",
      "negative range at column 0 (1.0198030077212188, 1.0197779997513776)\n"
     ]
    },
    {
     "name": "stderr",
     "output_type": "stream",
     "text": [
      "/Library/Frameworks/Python.framework/Versions/3.11/lib/python3.11/site-packages/scipy/optimize/_optimize.py:353: RuntimeWarning: Values in x were outside bounds during a minimize step, clipping to bounds\n",
      "  warnings.warn(\"Values in x were outside bounds during a \"\n"
     ]
    },
    {
     "name": "stdout",
     "output_type": "stream",
     "text": [
      "negative range at column 0 (0.9809551719535661, -0.02)\n",
      "negative range at column 5 (-0.019947457706339766, -0.019952979501861368)\n",
      "negative range at column 6 (0.3772073861307466, 0.3630412631059612)\n",
      "negative range at column 5 (-0.019844003897501683, -0.019859720699021477)\n",
      "negative range at column 0 (0.5879415446098162, 0.5761459255321877)\n",
      "negative range at column 6 (0.36906187064237655, 0.3671925417443284)\n"
     ]
    },
    {
     "name": "stderr",
     "output_type": "stream",
     "text": [
      "/Library/Frameworks/Python.framework/Versions/3.11/lib/python3.11/site-packages/scipy/optimize/_optimize.py:353: RuntimeWarning: Values in x were outside bounds during a minimize step, clipping to bounds\n",
      "  warnings.warn(\"Values in x were outside bounds during a \"\n"
     ]
    },
    {
     "name": "stdout",
     "output_type": "stream",
     "text": [
      "negative range at column 4 (-0.02, -0.02)\n"
     ]
    },
    {
     "name": "stderr",
     "output_type": "stream",
     "text": [
      "/Library/Frameworks/Python.framework/Versions/3.11/lib/python3.11/site-packages/scipy/optimize/_optimize.py:353: RuntimeWarning: Values in x were outside bounds during a minimize step, clipping to bounds\n",
      "  warnings.warn(\"Values in x were outside bounds during a \"\n"
     ]
    },
    {
     "name": "stdout",
     "output_type": "stream",
     "text": [
      "negative range at column 5 (-0.01999999999999999, -0.02)\n"
     ]
    },
    {
     "name": "stderr",
     "output_type": "stream",
     "text": [
      "/Library/Frameworks/Python.framework/Versions/3.11/lib/python3.11/site-packages/scipy/optimize/_optimize.py:353: RuntimeWarning: Values in x were outside bounds during a minimize step, clipping to bounds\n",
      "  warnings.warn(\"Values in x were outside bounds during a \"\n"
     ]
    },
    {
     "name": "stdout",
     "output_type": "stream",
     "text": [
      "negative range at column 7 (-0.02, -0.02)\n",
      "negative range at column 9 (0.3161273722854187, 0.29938596120356575)\n",
      "negative range at column 0 (0.629125573586197, 0.6252049855646318)\n"
     ]
    },
    {
     "name": "stderr",
     "output_type": "stream",
     "text": [
      "/Library/Frameworks/Python.framework/Versions/3.11/lib/python3.11/site-packages/scipy/optimize/_optimize.py:353: RuntimeWarning: Values in x were outside bounds during a minimize step, clipping to bounds\n",
      "  warnings.warn(\"Values in x were outside bounds during a \"\n"
     ]
    },
    {
     "name": "stdout",
     "output_type": "stream",
     "text": [
      "negative range at column 4 (-0.02, -0.02)\n",
      "negative range at column 0 (0.5847804503895303, 0.5635152358828465)\n",
      "negative range at column 0 (0.593048647799479, 0.5308503730612139)\n"
     ]
    },
    {
     "name": "stderr",
     "output_type": "stream",
     "text": [
      "/Library/Frameworks/Python.framework/Versions/3.11/lib/python3.11/site-packages/scipy/optimize/_optimize.py:353: RuntimeWarning: Values in x were outside bounds during a minimize step, clipping to bounds\n",
      "  warnings.warn(\"Values in x were outside bounds during a \"\n"
     ]
    },
    {
     "name": "stdout",
     "output_type": "stream",
     "text": [
      "negative range at column 0 (1.019937641277835, 0.4471742807340482)\n",
      "negative range at column 0 (0.5944361463367601, 0.5508907016926088)\n"
     ]
    },
    {
     "name": "stderr",
     "output_type": "stream",
     "text": [
      "/Library/Frameworks/Python.framework/Versions/3.11/lib/python3.11/site-packages/scipy/optimize/_optimize.py:353: RuntimeWarning: Values in x were outside bounds during a minimize step, clipping to bounds\n",
      "  warnings.warn(\"Values in x were outside bounds during a \"\n"
     ]
    },
    {
     "name": "stdout",
     "output_type": "stream",
     "text": [
      "negative range at column 0 (1.02, 0.43669463844042483)\n",
      "negative range at column 0 (0.5966177272505041, 0.5493124949030213)\n"
     ]
    },
    {
     "name": "stderr",
     "output_type": "stream",
     "text": [
      "/Library/Frameworks/Python.framework/Versions/3.11/lib/python3.11/site-packages/scipy/optimize/_optimize.py:353: RuntimeWarning: Values in x were outside bounds during a minimize step, clipping to bounds\n",
      "  warnings.warn(\"Values in x were outside bounds during a \"\n"
     ]
    },
    {
     "name": "stdout",
     "output_type": "stream",
     "text": [
      "negative range at column 7 (1.02, 0.2220115846467865)\n",
      "negative range at column 7 (0.9691631176854363, 0.9081777406703206)\n",
      "negative range at column 0 (0.6410023333410888, 0.5733881055277162)\n",
      "negative range at column 9 (0.30758586452914244, 0.3073071363736783)\n",
      "negative range at column 0 (0.6973631696993222, 0.6017154607475192)\n",
      "negative range at column 9 (0.3079119697030068, 0.30702384375835695)\n"
     ]
    },
    {
     "name": "stderr",
     "output_type": "stream",
     "text": [
      "/Library/Frameworks/Python.framework/Versions/3.11/lib/python3.11/site-packages/scipy/optimize/_optimize.py:353: RuntimeWarning: Values in x were outside bounds during a minimize step, clipping to bounds\n",
      "  warnings.warn(\"Values in x were outside bounds during a \"\n"
     ]
    },
    {
     "name": "stdout",
     "output_type": "stream",
     "text": [
      "negative range at column 0 (0.6344554556930101, 0.5624959979298462)\n"
     ]
    },
    {
     "name": "stderr",
     "output_type": "stream",
     "text": [
      "/Library/Frameworks/Python.framework/Versions/3.11/lib/python3.11/site-packages/scipy/optimize/_optimize.py:353: RuntimeWarning: Values in x were outside bounds during a minimize step, clipping to bounds\n",
      "  warnings.warn(\"Values in x were outside bounds during a \"\n"
     ]
    },
    {
     "name": "stdout",
     "output_type": "stream",
     "text": [
      "negative range at column 0 (0.869212855121688, 0.6213765446043935)\n",
      "negative range at column 0 (0.5907530159850075, 0.5683695669008301)\n"
     ]
    },
    {
     "name": "stderr",
     "output_type": "stream",
     "text": [
      "/Library/Frameworks/Python.framework/Versions/3.11/lib/python3.11/site-packages/scipy/optimize/_optimize.py:353: RuntimeWarning: Values in x were outside bounds during a minimize step, clipping to bounds\n",
      "  warnings.warn(\"Values in x were outside bounds during a \"\n"
     ]
    },
    {
     "name": "stdout",
     "output_type": "stream",
     "text": [
      "negative range at column 0 (1.0196445480175633, 0.7010545892646877)\n",
      "negative range at column 0 (0.6085807836659618, 0.5768674411438951)\n",
      "negative range at column 0 (0.5674744072308017, 0.5644487263318159)\n",
      "negative range at column 0 (0.5633637695872856, 0.563206854850608)\n"
     ]
    },
    {
     "name": "stderr",
     "output_type": "stream",
     "text": [
      "/Library/Frameworks/Python.framework/Versions/3.11/lib/python3.11/site-packages/scipy/optimize/_optimize.py:353: RuntimeWarning: Values in x were outside bounds during a minimize step, clipping to bounds\n",
      "  warnings.warn(\"Values in x were outside bounds during a \"\n"
     ]
    },
    {
     "name": "stdout",
     "output_type": "stream",
     "text": [
      "negative range at column 0 (0.5826113435598956, 0.5337236863645352)\n",
      "negative range at column 0 (0.5649185695966301, 0.5601467695686919)\n",
      "negative range at column 0 (0.5631492922003036, 0.5627890778891076)\n",
      "negative range at column 0 (0.5909890787351403, 0.5288457788910028)\n",
      "negative range at column 0 (0.5657740358881179, 0.5596325557381345)\n",
      "negative range at column 0 (0.5632525316034157, 0.5627112334228478)\n"
     ]
    },
    {
     "name": "stderr",
     "output_type": "stream",
     "text": [
      "/Library/Frameworks/Python.framework/Versions/3.11/lib/python3.11/site-packages/scipy/optimize/_optimize.py:353: RuntimeWarning: Values in x were outside bounds during a minimize step, clipping to bounds\n",
      "  warnings.warn(\"Values in x were outside bounds during a \"\n"
     ]
    },
    {
     "name": "stdout",
     "output_type": "stream",
     "text": [
      "negative range at column 0 (0.5757307553208156, 0.5372772971059695)\n",
      "negative range at column 0 (0.5642734185895325, 0.5604449207827841)\n",
      "negative range at column 0 (0.5631276849164042, 0.5627616831504656)\n",
      "negative range at column 0 (0.5630131115490913, 0.5629933593872337)\n",
      "negative range at column 0 (0.5930060523022138, 0.5027047369491214)\n",
      "negative range at column 0 (0.5660020940213454, 0.5569853480047317)\n",
      "negative range at column 0 (0.5633016981932586, 0.5624134091102927)\n",
      "negative range at column 0 (0.5630316586104499, 0.5629562152208487)\n"
     ]
    },
    {
     "name": "stderr",
     "output_type": "stream",
     "text": [
      "/Library/Frameworks/Python.framework/Versions/3.11/lib/python3.11/site-packages/scipy/optimize/_optimize.py:353: RuntimeWarning: Values in x were outside bounds during a minimize step, clipping to bounds\n",
      "  warnings.warn(\"Values in x were outside bounds during a \"\n"
     ]
    },
    {
     "name": "stdout",
     "output_type": "stream",
     "text": [
      "negative range at column 0 (0.5693828294731416, 0.5415691606779518)\n",
      "negative range at column 0 (0.5636424721342662, 0.5608663623165091)\n",
      "negative range at column 0 (0.5630684364003787, 0.5627960824803648)\n",
      "negative range at column 0 (0.5630110328269899, 0.5629890544967504)\n",
      "negative range at column 0 (0.6607712980862644, 0.4597692730348037)\n",
      "negative range at column 0 (0.5727818930313123, 0.5526844438320304)\n",
      "negative range at column 0 (0.5639829525258172, 0.5619759609117531)\n",
      "negative range at column 0 (0.5631030584752676, 0.5629051126197253)\n",
      "negative range at column 0 (0.5630150690702127, 0.5629980277905225)\n"
     ]
    },
    {
     "name": "stderr",
     "output_type": "stream",
     "text": [
      "/Library/Frameworks/Python.framework/Versions/3.11/lib/python3.11/site-packages/scipy/optimize/_optimize.py:353: RuntimeWarning: Values in x were outside bounds during a minimize step, clipping to bounds\n",
      "  warnings.warn(\"Values in x were outside bounds during a \"\n"
     ]
    },
    {
     "name": "stdout",
     "output_type": "stream",
     "text": [
      "negative range at column 0 (0.7195047733390891, 0.43082895571926744)\n",
      "negative range at column 0 (0.5786561204506454, 0.5497894829487688)\n",
      "negative range at column 0 (0.564571255161801, 0.561685535671719)\n",
      "negative range at column 0 (0.5631627686329166, 0.5628751409440139)\n",
      "negative range at column 0 (0.5630219199800282, 0.5629941014712434)\n",
      "negative range at column 0 (0.5630078351147393, 0.5630059975239664)\n"
     ]
    },
    {
     "name": "stderr",
     "output_type": "stream",
     "text": [
      "/Library/Frameworks/Python.framework/Versions/3.11/lib/python3.11/site-packages/scipy/optimize/_optimize.py:353: RuntimeWarning: Values in x were outside bounds during a minimize step, clipping to bounds\n",
      "  warnings.warn(\"Values in x were outside bounds during a \"\n"
     ]
    },
    {
     "name": "stdout",
     "output_type": "stream",
     "text": [
      "negative range at column 0 (0.9269760486886227, 0.3009549007044271)\n",
      "negative range at column 0 (0.5994033888342516, 0.5368019584867575)\n",
      "negative range at column 0 (0.5666461228488144, 0.5603866642649906)\n",
      "negative range at column 0 (0.5633703962502707, 0.5627451348428139)\n",
      "negative range at column 0 (0.5630428235904164, 0.5629809819005962)\n",
      "negative range at column 0 (0.563010066324431, 0.5630045666063744)\n",
      "negative range at column 0 (0.934676219498306, 0.23996982207710066)\n",
      "negative range at column 0 (0.6001737334878798, 0.5307032147769671)\n",
      "negative range at column 0 (0.5667234848868372, 0.5597765540469537)\n",
      "negative range at column 0 (0.5633784600267329, 0.5626838879739524)\n",
      "negative range at column 0 (0.5630439575407225, 0.5629746213666523)\n",
      "negative range at column 0 (0.5630105072921214, 0.5630036947059223)\n",
      "negative range at column 0 (0.5630071622672613, 0.5630066020398493)\n"
     ]
    }
   ],
   "source": [
    "for method_name, options_list in minimize_models:\n",
    "    method_name = f\"no_regularization_{method_name}\"\n",
    "    minimize_path = Path(f\"../final/minimize_{method_name}.json\")\n",
    "    if minimize_path.is_file():\n",
    "        with minimize_path.open(\"r\") as opened_file:\n",
    "            metadata = json.load(opened_file)\n",
    "            results[method_name] = metadata[\"minimize_history\"]\n",
    "        continue\n",
    "\n",
    "    minimize_history = []\n",
    "    start_time = time.time()\n",
    "    \n",
    "    params = initial_relative_params(0.95)\n",
    "    result = None\n",
    "    for options in options_list:\n",
    "        result = scipy.optimize.minimize(\n",
    "            minimize_objective_no_regularization,\n",
    "            params,\n",
    "            **options,\n",
    "        )\n",
    "        params = result.x\n",
    "    \n",
    "    results[method_name] = [(p.tolist(), v, v_r, v_d, int(t - start_time)) for p, v, v_r, v_d, t in minimize_history]\n",
    "    \n",
    "    with minimize_path.open(\"w\") as opened_file:\n",
    "        opened_file.write(json.dumps({\n",
    "            \"cpu_info\": {key: get_cpu_info()[key] for key in [\"arch\", \"bits\", \"brand_raw\", \"count\"]},\n",
    "            \"minimize_options\": [o[\"options\"] for o in options_list],\n",
    "            \"population_size\": POPULATION_SIZE,\n",
    "            \"minimize_history\": results[method_name],\n",
    "            \"model\": \"pca_models/MLPRegressor_600_100_40_11_-7_6.pickle\"\n",
    "        }, sort_keys=True, indent=4))"
   ]
  },
  {
   "cell_type": "code",
   "execution_count": 17,
   "id": "e9a37e2c",
   "metadata": {},
   "outputs": [
    {
     "data": {
      "image/png": "[encoded data removed]",
      "text/plain": [
       "<Figure size 640x480 with 1 Axes>"
      ]
     },
     "metadata": {},
     "output_type": "display_data"
    }
   ],
   "source": [
    "import itertools\n",
    "import operator\n",
    "\n",
    "plt.title(\"best waterfall distance by number of objective function evaluations\")\n",
    "plt.grid()\n",
    "for method_name in (\"Nelder-Mead\", \"Nelder-Mead_adaptive\", \"Nelder-Mead_restart\", \"Powell\", \"BFGS\", \"SLSQP\"):\n",
    "    plt.plot(list(itertools.accumulate((x[3] for x in results[\"no_regularization_\" + method_name]), min)), label=method_name)\n",
    "plt.legend()\n",
    "plt.xlim((0, 2000))\n",
    "plt.show()"
   ]
  },
  {
   "cell_type": "code",
   "execution_count": 12,
   "id": "217a0792",
   "metadata": {},
   "outputs": [
    {
     "data": {
      "text/plain": [
       "array([[1.00000000e+00, 4.22171083e-01, 5.79819062e-01, ...,\n",
       "        2.77518134e+02, 1.19490102e+00, 5.17042709e-03],\n",
       "       [1.00000000e+00, 4.97963711e-01, 2.02106260e+00, ...,\n",
       "        2.40043061e+02, 1.24387735e+00, 8.79055401e-03],\n",
       "       [1.00000000e+00, 4.69192219e-01, 2.87849290e-01, ...,\n",
       "        2.61802382e+02, 1.39445997e+00, 5.23267814e-03],\n",
       "       ...,\n",
       "       [1.00000000e+00, 4.61623070e-01, 3.87701315e-01, ...,\n",
       "        2.38901254e+02, 1.26328106e+00, 9.85370496e-03],\n",
       "       [1.00000000e+00, 4.38601947e-01, 7.23122835e-01, ...,\n",
       "        2.89684968e+02, 1.33374506e+00, 6.42820232e-03],\n",
       "       [1.00000000e+00, 4.24192710e-01, 7.06626872e-01, ...,\n",
       "        2.84310054e+02, 1.40970620e+00, 8.15104189e-03]])"
      ]
     },
     "execution_count": 12,
     "metadata": {},
     "output_type": "execute_result"
    }
   ],
   "source": [
    "indicators = np.copy(patient_indicators)\n",
    "best_params = results[\"SLSQP\"][0]\n",
    "for p in results[\"SLSQP\"]:\n",
    "    if best_params[1] > p[1]:\n",
    "        best_params = p\n",
    "        \n",
    "adjust_patient_indicators(indicators, best_params[0])"
   ]
  },
  {
   "cell_type": "code",
   "execution_count": 13,
   "id": "b6234be9",
   "metadata": {},
   "outputs": [
    {
     "name": "stderr",
     "output_type": "stream",
     "text": [
      "R[write to console]: Ładowanie wymaganego pakietu: deSolve\n",
      "\n",
      "using C compiler: ‘Apple clang version 14.0.3 (clang-1403.0.22.14.1)’\n",
      "using SDK: ‘MacOSX13.3.sdk’\n"
     ]
    },
    {
     "name": "stdout",
     "output_type": "stream",
     "text": [
      "make: Nothing to be done for `all'.\n",
      "[0.005170427090733827, 0.0034928894473846613, 0.002862229375618219, 0.0025258634547249805, 0.0023222605432602437, 0.0021907931140612447, 0.002102667998585049, 0.002042359239539407, 0.0020007463087386972, 0.0019721258112605985, 0.0019527592802873854, 0.001940106469294063, 0.0019323927514447274, 0.001928351710500665, 0.001927064496738559, 0.0019278559171131719, 0.0019302249417849444, 0.0019337969700210199, 0.001938290305687014, 0.0019434921780781163, 0.00194924133494849, 0.001955415254943809, 0.0019619206708593865, 0.0019686864605143336, 0.0019756583623760796, 0.0019827949282786, 0.0019900644870307544, 0.00199744283188114, 0.0020049114601871335, 0.0020124562313151356, 0.0020200663422184177, 0.002027733544519892, 0.0020354515494059714, 0.002043215555833024, 0.0020510219215022084, 0.0020588678798848987, 0.0020667513379983007, 0.0020746707194043085, 0.0020826248435604, 0.0020906128333971928, 0.0020986340445312583, 0.002106688011001638, 0.0021147744036972773, 0.002122893000743342, 0.002131043653666161, 0.00213922628367563, 0.00214744085651565, 0.002155687374499532, 0.002163965868086421, 0.0021722763894098797, 0.0021806190072982214, 0.002188993803508638, 0.0021974008698073, 0.002205840307628915, 0.002214312218572502, 0.0022228167151928913, 0.002231353911791154, 0.0022399239254663, 0.0022485268757831234, 0.0022571628842891016, 0.002265832074158229, 0.002274534569924247, 0.002283270497278342, 0.0022920399829166765, 0.0023008431559831738, 0.002309680141433609, 0.002318551070372597, 0.0023274560725116654, 0.0023363952782257972, 0.002345368818520746, 0.0023543768249990765, 0.002363419429829531, 0.002372496765738053, 0.0023816089659974703, 0.0023907561658824818, 0.0023999384966224744, 0.0024091560947607257, 0.0024184090958105004, 0.0024276976356544366, 0.0024370218507433713, 0.0024463818780711397, 0.0024557778551659998, 0.002465209920089105, 0.002474678211435116, 0.00248418286833358, 0.0024937240317586045, 0.0025033018390597976, 0.002512916432646897, 0.0025225679537481793, 0.0025322565441573516, 0.0025419823462359613, 0.0025517455029003657, 0.0025615461576163167, 0.002571384454402865, 0.0025812605378325933, 0.002591174554313805, 0.0026011266468057717, 0.0026111169630048917, 0.002621145649808066, 0.0026312128545353183, 0.0026413187251064603, 0.0026514634100214284, 0.0026616470583530737, 0.00267186981974937, 0.0026821318444326787, 0.002692433283203081, 0.00270277428862742, 0.002713155010080564, 0.0027235756016163494, 0.002734036216315076, 0.002744537007865193, 0.0027550781305664576, 0.0027656597393171988, 0.002776281989612483, 0.0027869450375454133, 0.0027976490398090954, 0.0028083941548894546, 0.0028191805381521193, 0.0028300083494499388, 0.0028408777479812727, 0.0028517888934244465, 0.0028627419461025863, 0.0028737370669656005, 0.0028847744175846714, 0.0028958541601527455, 0.0029069764574873613, 0.002918141473027017, 0.002929349371973554, 0.002940600316570929, 0.0029518944735838055, 0.0029632320089324894, 0.002974613089193624, 0.002986037881603607, 0.0029975065540467725, 0.003009019275054019, 0.0030205762138042725, 0.003032177540126687, 0.0030438234256523894, 0.003055514039073564, 0.003067249553482595, 0.003079030141414095, 0.003090855975938301, 0.0031027272308205628, 0.0031146440805042918, 0.0031266067001058714, 0.0031386152654153503, 0.003150669952898496, 0.00316277093969922, 0.0031749184047469856, 0.003187112524145966, 0.003199353478490139, 0.003211641447614402, 0.0032239766120629515, 0.00323635915309295, 0.0032487892526632464, 0.0032612670934332446, 0.0032737928587646356, 0.003286366732723845, 0.00329898890122223, 0.0033116595473245878, 0.0033243788585108625, 0.0033371470217721513, 0.0033499642246919118, 0.0033628306556041316, 0.003375746503576712, 0.0033887119584066587, 0.003401727210621016, 0.003414792451479161, 0.0034279078729754424, 0.0034410736689466405, 0.003454290030462737, 0.0034675571531387456, 0.0034808752318895163, 0.003494244462397054, 0.0035076650411144635, 0.0035211371652548932, 0.0035346610327906237, 0.0035482368424550625, 0.0035618647937453287, 0.003575545088071902, 0.0035892779240306832, 0.0036030635047201087, 0.0036169020328011355, 0.003630793711586246, 0.003644738745199075, 0.0036587373385578987, 0.003672789697371013, 0.0036868960281378456, 0.003701056538151518, 0.0037152714355016894, 0.003729540930199653, 0.003743865229497826, 0.0037582445453137026, 0.003772679088905515, 0.0037871690723616652, 0.003801714708604958, 0.0038163162113815942, 0.0038309737952604297, 0.003845687675635188, 0.00386045806872737]\n"
     ]
    },
    {
     "data": {
      "application/vnd.jupyter.widget-view+json": {
       "model_id": "47faa234222e477a98a8464afd1675b8",
       "version_major": 2,
       "version_minor": 0
      },
      "text/plain": [
       "  0%|          | 0/100000 [00:00<?, ?it/s]"
      ]
     },
     "metadata": {},
     "output_type": "display_data"
    },
    {
     "name": "stdout",
     "output_type": "stream",
     "text": [
      "calculating time profiles for 100000 patients indicators\n",
      "make: Nothing to be done for `all'.\n",
      "make: Nothing to be done for `all'.\n",
      "make: Nothing to be done for `all'.\n",
      "make: Nothing to be done for `all'.\n",
      "make: Nothing to be done for `all'.\n",
      "make: Nothing to be done for `all'.\n",
      "make: Nothing to be done for `all'.\n",
      "make: Nothing to be done for `all'.\n",
      "make: Nothing to be done for `all'.\n",
      "make: Nothing to be done for `all'.\n",
      "make: Nothing to be done for `all'.\n",
      "make: Nothing to be done for `all'.\n"
     ]
    },
    {
     "name": "stderr",
     "output_type": "stream",
     "text": [
      "using C compiler: ‘Apple clang version 14.0.3 (clang-1403.0.22.14.1)’\n",
      "using C compiler: ‘Apple clang version 14.0.3 (clang-1403.0.22.14.1)’\n",
      "using C compiler: ‘Apple clang version 14.0.3 (clang-1403.0.22.14.1)’\n",
      "using C compiler: ‘Apple clang version 14.0.3 (clang-1403.0.22.14.1)’\n",
      "using SDK: ‘MacOSX13.3.sdk’\n",
      "using C compiler: ‘Apple clang version 14.0.3 (clang-1403.0.22.14.1)’\n",
      "using C compiler: ‘Apple clang version 14.0.3 (clang-1403.0.22.14.1)’\n",
      "using C compiler: ‘Apple clang version 14.0.3 (clang-1403.0.22.14.1)’\n",
      "using C compiler: ‘Apple clang version 14.0.3 (clang-1403.0.22.14.1)’\n",
      "using SDK: ‘MacOSX13.3.sdk’\n",
      "using SDK: ‘MacOSX13.3.sdk’\n",
      "using SDK: ‘MacOSX13.3.sdk’\n",
      "using C compiler: ‘Apple clang version 14.0.3 (clang-1403.0.22.14.1)’\n",
      "using C compiler: ‘Apple clang version 14.0.3 (clang-1403.0.22.14.1)’\n",
      "using SDK: ‘MacOSX13.3.sdk’\n",
      "using SDK: ‘MacOSX13.3.sdk’\n",
      "using SDK: ‘MacOSX13.3.sdk’\n",
      "using C compiler: ‘Apple clang version 14.0.3 (clang-1403.0.22.14.1)’\n",
      "using SDK: ‘MacOSX13.3.sdk’\n",
      "using C compiler: ‘Apple clang version 14.0.3 (clang-1403.0.22.14.1)’\n",
      "using SDK: ‘MacOSX13.3.sdk’\n",
      "using SDK: ‘MacOSX13.3.sdk’\n",
      "using SDK: ‘MacOSX13.3.sdk’\n",
      "using SDK: ‘MacOSX13.3.sdk’\n"
     ]
    },
    {
     "name": "stdout",
     "output_type": "stream",
     "text": [
      "calculated (100000, 200)\n"
     ]
    }
   ],
   "source": [
    "from pathlib import Path\n",
    "\n",
    "MODEL_PATH = Path(\"../qspRPlusC/simulateQSP.R\").resolve()\n",
    "\n",
    "# importing model\n",
    "import os\n",
    "from contextlib import redirect_stderr, redirect_stdout\n",
    "from io import StringIO\n",
    "\n",
    "from multiprocess import Process, Queue, cpu_count\n",
    "\n",
    "from rpy2 import robjects\n",
    "from rpy2.rinterface_lib.embedded import RRuntimeError\n",
    "from rpy2.robjects.packages import SignatureTranslatedAnonymousPackage\n",
    "\n",
    "\n",
    "END_VALUE = \"end\"\n",
    "\n",
    "\n",
    "def load_r_model():\n",
    "    \"\"\"Loads R model from file and returns it as a python object.\"\"\"\n",
    "    model_path = MODEL_PATH\n",
    "    cur_dir = Path.cwd()\n",
    "    try:\n",
    "        os.chdir(model_path.parent)\n",
    "        with model_path.open(\"r\") as f_p:\n",
    "            model = SignatureTranslatedAnonymousPackage(f_p.read(), \"model\")\n",
    "    finally:\n",
    "        os.chdir(cur_dir)\n",
    "    return model\n",
    "\n",
    "r_model = load_r_model()\n",
    "\n",
    "def calc_model_point(coord):\n",
    "    global r_model\n",
    "    stream = StringIO()\n",
    "    err_stream = StringIO()\n",
    "    try:\n",
    "        with redirect_stdout(stream), redirect_stderr(err_stream):\n",
    "            res = r_model.simulateQSP(robjects.FloatVector(coord))[0]\n",
    "    except RRuntimeError as r_exception:\n",
    "        raise ValueError(f\"Error in simulation {r_exception.args[0]}\") from r_exception\n",
    "    stream.seek(0)\n",
    "    err_stream.seek(0)\n",
    "    if stream.read() or err_stream.read():\n",
    "        raise ValueError(\"Unstable simulation\")\n",
    "    index = list(res.names).index(\"Tumor_volume\")\n",
    "    return list(res[index])\n",
    "\n",
    "print(calc_model_point(indicators[0,:]))\n",
    "\n",
    "def calc_model_point_mp(in_queue: Queue, out_queue: Queue):\n",
    "    stream = StringIO()\n",
    "    err_stream = StringIO()\n",
    "    try:\n",
    "        with redirect_stdout(stream), redirect_stderr(err_stream):\n",
    "            r_model = load_r_model()\n",
    "    except (RRuntimeError, FileNotFoundError) as e:\n",
    "        out_queue.put((None, e))\n",
    "        raise\n",
    "\n",
    "    while True:\n",
    "        input_data = in_queue.get()\n",
    "        if input_data == END_VALUE:\n",
    "            return\n",
    "\n",
    "        i, coord = input_data\n",
    "        try:\n",
    "            res = calc_model_point(coord)\n",
    "            out_queue.put((i, res))\n",
    "        except ValueError as e:\n",
    "            print(f\"unstable {i}\")\n",
    "            res = [coord[10], *([100.0 * coord[10]] * 199)]\n",
    "            out_queue.put((i, res))\n",
    "\n",
    "\n",
    "def collect_result(\n",
    "    out_queue: Queue, tumor_time_profiles: np.ndarray, progress_bar=None\n",
    "):\n",
    "    ind, data_row = out_queue.get(timeout=60)\n",
    "    if ind is None:\n",
    "        raise RuntimeError(\"Loading model fails\") from data_row\n",
    "    tumor_time_profiles[ind, :] = data_row\n",
    "    if progress_bar is not None:\n",
    "        progress_bar.update(1)\n",
    "\n",
    "\n",
    "def model_predict_with_progress(input_data, progress_bar) -> np.array:\n",
    "    print(f\"calculating time profiles for {input_data.shape[0]} patients indicators\")\n",
    "    \n",
    "    in_queue = Queue()\n",
    "    out_queue = Queue()\n",
    "    process_list = []\n",
    "    process_num = cpu_count()\n",
    "\n",
    "    for _ in range(process_num):\n",
    "        proc = Process(target=calc_model_point_mp, args=(in_queue, out_queue))\n",
    "        proc.start()\n",
    "        process_list.append(proc)\n",
    "\n",
    "    res_time_profiles = np.empty((input_data.shape[0], 200))\n",
    "    calculated = 0\n",
    "\n",
    "    try:\n",
    "        for i, coord in enumerate(input_data):\n",
    "            in_queue.put((i, coord))\n",
    "\n",
    "            if i > 10 * process_num:\n",
    "                collect_result(out_queue, res_time_profiles, progress_bar)\n",
    "                calculated += 1\n",
    "\n",
    "        while calculated < input_data.shape[0]:\n",
    "            collect_result(out_queue, res_time_profiles, progress_bar)\n",
    "            calculated += 1\n",
    "    finally:\n",
    "        for _ in range(process_num):\n",
    "            in_queue.put(END_VALUE)\n",
    "\n",
    "        for i in range(process_num):\n",
    "            process_list[i].join()\n",
    "    \n",
    "    return res_time_profiles\n",
    "            \n",
    "from tqdm.notebook import tqdm\n",
    "\n",
    "real_time_profiles = None\n",
    "with tqdm(total=indicators.shape[0]) as pbar:\n",
    "    time_profiles = model_predict_with_progress(indicators, pbar)\n",
    "    real_time_profiles = time_profiles[time_profiles[:, 0] * 100.0 != time_profiles[:, 1], :]\n",
    "    \n",
    "print(f\"calculated {real_time_profiles.shape}\")"
   ]
  },
  {
   "cell_type": "code",
   "execution_count": 14,
   "id": "e97f37a9",
   "metadata": {},
   "outputs": [],
   "source": [
    "max_tumor_sizes =  real_time_profiles.max(axis=1)\n",
    "final_tumor_sizes = real_time_profiles[:, -1]\n",
    "final_tumor_sizes[final_tumor_sizes < 0] = 0\n",
    "initial_tumor_sizes = indicators[:, 10]\n",
    "r_percent_change = 100.0 * (final_tumor_sizes - initial_tumor_sizes) / initial_tumor_sizes\n",
    "max_percent_change = 100.0 * (max_tumor_sizes - initial_tumor_sizes) / initial_tumor_sizes\n",
    "r_percent_change = r_percent_change[max_percent_change <= 100.0]\n",
    "r_percent_change[::-1].sort()"
   ]
  },
  {
   "cell_type": "code",
   "execution_count": 20,
   "id": "9ddb465e",
   "metadata": {},
   "outputs": [
    {
     "data": {
      "image/png": "[encoded data removed]",
      "text/plain": [
       "<Figure size 640x480 with 1 Axes>"
      ]
     },
     "metadata": {},
     "output_type": "display_data"
    }
   ],
   "source": [
    "indicators = np.copy(patient_indicators)\n",
    "best_params = results[\"no_regularization_SLSQP\"][0]\n",
    "for p in results[\"no_regularization_SLSQP\"]:\n",
    "    if best_params[3] > p[3]:\n",
    "        best_params = p\n",
    "        \n",
    "adjust_patient_indicators(indicators, best_params[0])\n",
    "virtual_waterfall_plot = waterfall_plot(indicators)\n",
    "real_waterfall_plot = waterfall_plot_interpolation(np.arange(virtual_waterfall_plot.shape[0]) / (virtual_waterfall_plot.shape[0] - 1))\n",
    "\n",
    "plt.title(\"virtual vs clinical waterfall plot\")\n",
    "plt.grid()\n",
    "plt.xlim([0, virtual_waterfall_plot.shape[0] - 1])\n",
    "plt.ylim([-100, 100])\n",
    "\n",
    "plt.plot(real_waterfall_plot, label=\"clinical\")\n",
    "plt.plot(virtual_waterfall_plot, label=\"emulator\")\n",
    "\n",
    "\n",
    "r_percent_change_interpolation = interpolate.interp1d(\n",
    "    np.arange(0, len(r_percent_change)) / (len(r_percent_change) - 1), r_percent_change\n",
    ")\n",
    "\n",
    "plt.plot(r_percent_change_interpolation(np.arange(virtual_waterfall_plot.shape[0]) / (virtual_waterfall_plot.shape[0] - 1)) , label=\"R model\")\n",
    "\n",
    "plt.legend()\n",
    "\n",
    "plt.show()"
   ]
  },
  {
   "cell_type": "code",
   "execution_count": 19,
   "id": "ad5d9e0e",
   "metadata": {},
   "outputs": [
    {
     "name": "stdout",
     "output_type": "stream",
     "text": [
      "ks test: KstestResult(statistic=0.052452117204911226, pvalue=0.8848619574115602, statistic_location=-90.70567986, statistic_sign=1)\n",
      "ks test: KstestResult(statistic=0.07559605793493612, pvalue=0.48745397876567237, statistic_location=-18.761997192722095, statistic_sign=-1)\n"
     ]
    }
   ],
   "source": [
    "from scipy.stats import kstest\n",
    "\n",
    "print(f\"ks test: {kstest(population_data, virtual_waterfall_plot, method='exact')}\")\n",
    "print(f\"ks test: {kstest(population_data, r_percent_change, method='exact')}\")"
   ]
  },
  {
   "cell_type": "code",
   "execution_count": null,
   "id": "5166155c",
   "metadata": {},
   "outputs": [],
   "source": []
  }
 ],
 "metadata": {
  "kernelspec": {
   "display_name": "Python 3 (ipykernel)",
   "language": "python",
   "name": "python3"
  },
  "language_info": {
   "codemirror_mode": {
    "name": "ipython",
    "version": 3
   },
   "file_extension": ".py",
   "mimetype": "text/x-python",
   "name": "python",
   "nbconvert_exporter": "python",
   "pygments_lexer": "ipython3",
   "version": "3.11.3"
  }
 },
 "nbformat": 4,
 "nbformat_minor": 5
}
